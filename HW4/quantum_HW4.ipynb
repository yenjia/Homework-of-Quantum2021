{
  "nbformat": 4,
  "nbformat_minor": 0,
  "metadata": {
    "accelerator": "GPU",
    "colab": {
      "name": "quantum_HW4",
      "provenance": [],
      "collapsed_sections": [],
      "include_colab_link": true
    },
    "kernelspec": {
      "display_name": "Python 3",
      "name": "python3"
    },
    "language_info": {
      "name": "python"
    }
  },
  "cells": [
    {
      "cell_type": "markdown",
      "metadata": {
        "id": "view-in-github",
        "colab_type": "text"
      },
      "source": [
        "<a href=\"https://colab.research.google.com/github/yenjia/Homework-of-Quantum2021/blob/main/HW4/quantum_HW4.ipynb\" target=\"_parent\"><img src=\"https://colab.research.google.com/assets/colab-badge.svg\" alt=\"Open In Colab\"/></a>"
      ]
    },
    {
      "cell_type": "markdown",
      "metadata": {
        "id": "oC3JcCMSQ2TY"
      },
      "source": [
        "# More QNN Layer"
      ]
    },
    {
      "cell_type": "code",
      "metadata": {
        "colab": {
          "base_uri": "https://localhost:8080/"
        },
        "id": "lNEcJVOCQwss",
        "outputId": "acf5c938-d8e7-4aae-d2df-b4a068818dd9"
      },
      "source": [
        "!pip install tensorflow==2.4.1\n",
        "!pip install tensorflow-quantum "
      ],
      "execution_count": 2,
      "outputs": [
        {
          "output_type": "stream",
          "text": [
            "Requirement already satisfied: tensorflow==2.4.1 in /usr/local/lib/python3.7/dist-packages (2.4.1)\n",
            "Requirement already satisfied: opt-einsum~=3.3.0 in /usr/local/lib/python3.7/dist-packages (from tensorflow==2.4.1) (3.3.0)\n",
            "Requirement already satisfied: keras-preprocessing~=1.1.2 in /usr/local/lib/python3.7/dist-packages (from tensorflow==2.4.1) (1.1.2)\n",
            "Requirement already satisfied: h5py~=2.10.0 in /usr/local/lib/python3.7/dist-packages (from tensorflow==2.4.1) (2.10.0)\n",
            "Requirement already satisfied: protobuf>=3.9.2 in /usr/local/lib/python3.7/dist-packages (from tensorflow==2.4.1) (3.13.0)\n",
            "Requirement already satisfied: termcolor~=1.1.0 in /usr/local/lib/python3.7/dist-packages (from tensorflow==2.4.1) (1.1.0)\n",
            "Requirement already satisfied: astunparse~=1.6.3 in /usr/local/lib/python3.7/dist-packages (from tensorflow==2.4.1) (1.6.3)\n",
            "Requirement already satisfied: absl-py~=0.10 in /usr/local/lib/python3.7/dist-packages (from tensorflow==2.4.1) (0.12.0)\n",
            "Requirement already satisfied: numpy~=1.19.2 in /usr/local/lib/python3.7/dist-packages (from tensorflow==2.4.1) (1.19.5)\n",
            "Requirement already satisfied: typing-extensions~=3.7.4 in /usr/local/lib/python3.7/dist-packages (from tensorflow==2.4.1) (3.7.4.3)\n",
            "Requirement already satisfied: gast==0.3.3 in /usr/local/lib/python3.7/dist-packages (from tensorflow==2.4.1) (0.3.3)\n",
            "Requirement already satisfied: grpcio~=1.32.0 in /usr/local/lib/python3.7/dist-packages (from tensorflow==2.4.1) (1.32.0)\n",
            "Requirement already satisfied: google-pasta~=0.2 in /usr/local/lib/python3.7/dist-packages (from tensorflow==2.4.1) (0.2.0)\n",
            "Requirement already satisfied: wheel~=0.35 in /usr/local/lib/python3.7/dist-packages (from tensorflow==2.4.1) (0.36.2)\n",
            "Requirement already satisfied: flatbuffers~=1.12.0 in /usr/local/lib/python3.7/dist-packages (from tensorflow==2.4.1) (1.12)\n",
            "Requirement already satisfied: wrapt~=1.12.1 in /usr/local/lib/python3.7/dist-packages (from tensorflow==2.4.1) (1.12.1)\n",
            "Requirement already satisfied: tensorboard~=2.4 in /usr/local/lib/python3.7/dist-packages (from tensorflow==2.4.1) (2.5.0)\n",
            "Requirement already satisfied: tensorflow-estimator<2.5.0,>=2.4.0 in /usr/local/lib/python3.7/dist-packages (from tensorflow==2.4.1) (2.4.0)\n",
            "Requirement already satisfied: six~=1.15.0 in /usr/local/lib/python3.7/dist-packages (from tensorflow==2.4.1) (1.15.0)\n",
            "Requirement already satisfied: setuptools in /usr/local/lib/python3.7/dist-packages (from protobuf>=3.9.2->tensorflow==2.4.1) (57.0.0)\n",
            "Requirement already satisfied: google-auth<2,>=1.6.3 in /usr/local/lib/python3.7/dist-packages (from tensorboard~=2.4->tensorflow==2.4.1) (1.18.0)\n",
            "Requirement already satisfied: requests<3,>=2.21.0 in /usr/local/lib/python3.7/dist-packages (from tensorboard~=2.4->tensorflow==2.4.1) (2.23.0)\n",
            "Requirement already satisfied: markdown>=2.6.8 in /usr/local/lib/python3.7/dist-packages (from tensorboard~=2.4->tensorflow==2.4.1) (3.3.4)\n",
            "Requirement already satisfied: werkzeug>=0.11.15 in /usr/local/lib/python3.7/dist-packages (from tensorboard~=2.4->tensorflow==2.4.1) (1.0.1)\n",
            "Requirement already satisfied: tensorboard-plugin-wit>=1.6.0 in /usr/local/lib/python3.7/dist-packages (from tensorboard~=2.4->tensorflow==2.4.1) (1.8.0)\n",
            "Requirement already satisfied: google-auth-oauthlib<0.5,>=0.4.1 in /usr/local/lib/python3.7/dist-packages (from tensorboard~=2.4->tensorflow==2.4.1) (0.4.4)\n",
            "Requirement already satisfied: tensorboard-data-server<0.7.0,>=0.6.0 in /usr/local/lib/python3.7/dist-packages (from tensorboard~=2.4->tensorflow==2.4.1) (0.6.1)\n",
            "Requirement already satisfied: cachetools<5.0,>=2.0.0 in /usr/local/lib/python3.7/dist-packages (from google-auth<2,>=1.6.3->tensorboard~=2.4->tensorflow==2.4.1) (4.2.2)\n",
            "Requirement already satisfied: rsa<5,>=3.1.4; python_version >= \"3\" in /usr/local/lib/python3.7/dist-packages (from google-auth<2,>=1.6.3->tensorboard~=2.4->tensorflow==2.4.1) (4.7.2)\n",
            "Requirement already satisfied: pyasn1-modules>=0.2.1 in /usr/local/lib/python3.7/dist-packages (from google-auth<2,>=1.6.3->tensorboard~=2.4->tensorflow==2.4.1) (0.2.8)\n",
            "Requirement already satisfied: urllib3!=1.25.0,!=1.25.1,<1.26,>=1.21.1 in /usr/local/lib/python3.7/dist-packages (from requests<3,>=2.21.0->tensorboard~=2.4->tensorflow==2.4.1) (1.24.3)\n",
            "Requirement already satisfied: chardet<4,>=3.0.2 in /usr/local/lib/python3.7/dist-packages (from requests<3,>=2.21.0->tensorboard~=2.4->tensorflow==2.4.1) (3.0.4)\n",
            "Requirement already satisfied: certifi>=2017.4.17 in /usr/local/lib/python3.7/dist-packages (from requests<3,>=2.21.0->tensorboard~=2.4->tensorflow==2.4.1) (2021.5.30)\n",
            "Requirement already satisfied: idna<3,>=2.5 in /usr/local/lib/python3.7/dist-packages (from requests<3,>=2.21.0->tensorboard~=2.4->tensorflow==2.4.1) (2.10)\n",
            "Requirement already satisfied: importlib-metadata; python_version < \"3.8\" in /usr/local/lib/python3.7/dist-packages (from markdown>=2.6.8->tensorboard~=2.4->tensorflow==2.4.1) (4.5.0)\n",
            "Requirement already satisfied: requests-oauthlib>=0.7.0 in /usr/local/lib/python3.7/dist-packages (from google-auth-oauthlib<0.5,>=0.4.1->tensorboard~=2.4->tensorflow==2.4.1) (1.3.0)\n",
            "Requirement already satisfied: pyasn1>=0.1.3 in /usr/local/lib/python3.7/dist-packages (from rsa<5,>=3.1.4; python_version >= \"3\"->google-auth<2,>=1.6.3->tensorboard~=2.4->tensorflow==2.4.1) (0.4.8)\n",
            "Requirement already satisfied: zipp>=0.5 in /usr/local/lib/python3.7/dist-packages (from importlib-metadata; python_version < \"3.8\"->markdown>=2.6.8->tensorboard~=2.4->tensorflow==2.4.1) (3.4.1)\n",
            "Requirement already satisfied: oauthlib>=3.0.0 in /usr/local/lib/python3.7/dist-packages (from requests-oauthlib>=0.7.0->google-auth-oauthlib<0.5,>=0.4.1->tensorboard~=2.4->tensorflow==2.4.1) (3.1.1)\n",
            "Requirement already satisfied: tensorflow-quantum in /usr/local/lib/python3.7/dist-packages (0.5.1)\n",
            "Requirement already satisfied: google-api-core==1.21.0 in /usr/local/lib/python3.7/dist-packages (from tensorflow-quantum) (1.21.0)\n",
            "Requirement already satisfied: google-auth==1.18.0 in /usr/local/lib/python3.7/dist-packages (from tensorflow-quantum) (1.18.0)\n",
            "Requirement already satisfied: googleapis-common-protos==1.52.0 in /usr/local/lib/python3.7/dist-packages (from tensorflow-quantum) (1.52.0)\n",
            "Requirement already satisfied: cirq==0.11.0 in /usr/local/lib/python3.7/dist-packages (from tensorflow-quantum) (0.11.0)\n",
            "Requirement already satisfied: protobuf==3.13.0 in /usr/local/lib/python3.7/dist-packages (from tensorflow-quantum) (3.13.0)\n",
            "Requirement already satisfied: sympy==1.5 in /usr/local/lib/python3.7/dist-packages (from tensorflow-quantum) (1.5)\n",
            "Requirement already satisfied: requests<3.0.0dev,>=2.18.0 in /usr/local/lib/python3.7/dist-packages (from google-api-core==1.21.0->tensorflow-quantum) (2.23.0)\n",
            "Requirement already satisfied: six>=1.10.0 in /usr/local/lib/python3.7/dist-packages (from google-api-core==1.21.0->tensorflow-quantum) (1.15.0)\n",
            "Requirement already satisfied: pytz in /usr/local/lib/python3.7/dist-packages (from google-api-core==1.21.0->tensorflow-quantum) (2018.9)\n",
            "Requirement already satisfied: setuptools>=34.0.0 in /usr/local/lib/python3.7/dist-packages (from google-api-core==1.21.0->tensorflow-quantum) (57.0.0)\n",
            "Requirement already satisfied: cachetools<5.0,>=2.0.0 in /usr/local/lib/python3.7/dist-packages (from google-auth==1.18.0->tensorflow-quantum) (4.2.2)\n",
            "Requirement already satisfied: pyasn1-modules>=0.2.1 in /usr/local/lib/python3.7/dist-packages (from google-auth==1.18.0->tensorflow-quantum) (0.2.8)\n",
            "Requirement already satisfied: rsa<5,>=3.1.4; python_version >= \"3\" in /usr/local/lib/python3.7/dist-packages (from google-auth==1.18.0->tensorflow-quantum) (4.7.2)\n",
            "Requirement already satisfied: cirq-core==0.11.0 in /usr/local/lib/python3.7/dist-packages (from cirq==0.11.0->tensorflow-quantum) (0.11.0)\n",
            "Requirement already satisfied: cirq-google==0.11.0 in /usr/local/lib/python3.7/dist-packages (from cirq==0.11.0->tensorflow-quantum) (0.11.0)\n",
            "Requirement already satisfied: mpmath>=0.19 in /usr/local/lib/python3.7/dist-packages (from sympy==1.5->tensorflow-quantum) (1.2.1)\n",
            "Requirement already satisfied: idna<3,>=2.5 in /usr/local/lib/python3.7/dist-packages (from requests<3.0.0dev,>=2.18.0->google-api-core==1.21.0->tensorflow-quantum) (2.10)\n",
            "Requirement already satisfied: certifi>=2017.4.17 in /usr/local/lib/python3.7/dist-packages (from requests<3.0.0dev,>=2.18.0->google-api-core==1.21.0->tensorflow-quantum) (2021.5.30)\n",
            "Requirement already satisfied: urllib3!=1.25.0,!=1.25.1,<1.26,>=1.21.1 in /usr/local/lib/python3.7/dist-packages (from requests<3.0.0dev,>=2.18.0->google-api-core==1.21.0->tensorflow-quantum) (1.24.3)\n",
            "Requirement already satisfied: chardet<4,>=3.0.2 in /usr/local/lib/python3.7/dist-packages (from requests<3.0.0dev,>=2.18.0->google-api-core==1.21.0->tensorflow-quantum) (3.0.4)\n",
            "Requirement already satisfied: pyasn1<0.5.0,>=0.4.6 in /usr/local/lib/python3.7/dist-packages (from pyasn1-modules>=0.2.1->google-auth==1.18.0->tensorflow-quantum) (0.4.8)\n",
            "Requirement already satisfied: networkx~=2.4 in /usr/local/lib/python3.7/dist-packages (from cirq-core==0.11.0->cirq==0.11.0->tensorflow-quantum) (2.5.1)\n",
            "Requirement already satisfied: sortedcontainers~=2.0 in /usr/local/lib/python3.7/dist-packages (from cirq-core==0.11.0->cirq==0.11.0->tensorflow-quantum) (2.4.0)\n",
            "Requirement already satisfied: scipy in /usr/local/lib/python3.7/dist-packages (from cirq-core==0.11.0->cirq==0.11.0->tensorflow-quantum) (1.4.1)\n",
            "Requirement already satisfied: pandas in /usr/local/lib/python3.7/dist-packages (from cirq-core==0.11.0->cirq==0.11.0->tensorflow-quantum) (1.1.5)\n",
            "Requirement already satisfied: numpy~=1.16 in /usr/local/lib/python3.7/dist-packages (from cirq-core==0.11.0->cirq==0.11.0->tensorflow-quantum) (1.19.5)\n",
            "Requirement already satisfied: matplotlib~=3.0 in /usr/local/lib/python3.7/dist-packages (from cirq-core==0.11.0->cirq==0.11.0->tensorflow-quantum) (3.2.2)\n",
            "Requirement already satisfied: typing-extensions in /usr/local/lib/python3.7/dist-packages (from cirq-core==0.11.0->cirq==0.11.0->tensorflow-quantum) (3.7.4.3)\n",
            "Requirement already satisfied: tqdm in /usr/local/lib/python3.7/dist-packages (from cirq-core==0.11.0->cirq==0.11.0->tensorflow-quantum) (4.41.1)\n",
            "Requirement already satisfied: decorator<5,>=4.3 in /usr/local/lib/python3.7/dist-packages (from networkx~=2.4->cirq-core==0.11.0->cirq==0.11.0->tensorflow-quantum) (4.4.2)\n",
            "Requirement already satisfied: python-dateutil>=2.7.3 in /usr/local/lib/python3.7/dist-packages (from pandas->cirq-core==0.11.0->cirq==0.11.0->tensorflow-quantum) (2.8.1)\n",
            "Requirement already satisfied: kiwisolver>=1.0.1 in /usr/local/lib/python3.7/dist-packages (from matplotlib~=3.0->cirq-core==0.11.0->cirq==0.11.0->tensorflow-quantum) (1.3.1)\n",
            "Requirement already satisfied: pyparsing!=2.0.4,!=2.1.2,!=2.1.6,>=2.0.1 in /usr/local/lib/python3.7/dist-packages (from matplotlib~=3.0->cirq-core==0.11.0->cirq==0.11.0->tensorflow-quantum) (2.4.7)\n",
            "Requirement already satisfied: cycler>=0.10 in /usr/local/lib/python3.7/dist-packages (from matplotlib~=3.0->cirq-core==0.11.0->cirq==0.11.0->tensorflow-quantum) (0.10.0)\n"
          ],
          "name": "stdout"
        }
      ]
    },
    {
      "cell_type": "code",
      "metadata": {
        "id": "1NNxVJ-ZQ8ol"
      },
      "source": [
        "import tensorflow as tf\n",
        "import tensorflow_quantum as tfq\n",
        "\n",
        "import cirq\n",
        "import sympy\n",
        "import numpy as np\n",
        "\n",
        "# visualization tools\n",
        "%matplotlib inline\n",
        "import matplotlib.pyplot as plt\n",
        "from cirq.contrib.svg import SVGCircuit"
      ],
      "execution_count": 3,
      "outputs": []
    },
    {
      "cell_type": "code",
      "metadata": {
        "id": "3bNTMvWoRAos"
      },
      "source": [
        "import pandas as pd"
      ],
      "execution_count": 4,
      "outputs": []
    },
    {
      "cell_type": "code",
      "metadata": {
        "id": "P9wqueHSfDLb"
      },
      "source": [
        "tf.random.set_seed(0)"
      ],
      "execution_count": 5,
      "outputs": []
    },
    {
      "cell_type": "markdown",
      "metadata": {
        "id": "Vao1hcZaU9Yu"
      },
      "source": [
        "## Paper Dataset"
      ]
    },
    {
      "cell_type": "code",
      "metadata": {
        "colab": {
          "base_uri": "https://localhost:8080/"
        },
        "id": "U1LSfarCXCNV",
        "outputId": "1670d691-c7ba-4163-e947-2730d3b42a9e"
      },
      "source": [
        "df_ori = pd.read_excel(\"quantum_data_0609.xlsx\")\n",
        "df_ori = df_ori.values\n",
        "df_ori[:5]"
      ],
      "execution_count": 6,
      "outputs": [
        {
          "output_type": "execute_result",
          "data": {
            "text/plain": [
              "array([[3.4980695 , 0.76083467, 0.        ],\n",
              "       [2.37451737, 0.77046549, 0.        ],\n",
              "       [2.04440154, 0.78009631, 0.        ],\n",
              "       [3.63127413, 0.78009631, 0.        ],\n",
              "       [3.77027027, 0.78009631, 0.        ]])"
            ]
          },
          "metadata": {
            "tags": []
          },
          "execution_count": 6
        }
      ]
    },
    {
      "cell_type": "code",
      "metadata": {
        "id": "VXbCxraYXKJM",
        "colab": {
          "base_uri": "https://localhost:8080/"
        },
        "outputId": "95149193-7c17-4a7f-f670-9e7efe9d85ec"
      },
      "source": [
        "data = df_ori[:,[0,1]]\n",
        "data_label = df_ori[:,2]\n",
        "print(data[:5])\n",
        "print(data_label[:5])"
      ],
      "execution_count": 7,
      "outputs": [
        {
          "output_type": "stream",
          "text": [
            "[[3.4980695  0.76083467]\n",
            " [2.37451737 0.77046549]\n",
            " [2.04440154 0.78009631]\n",
            " [3.63127413 0.78009631]\n",
            " [3.77027027 0.78009631]]\n",
            "[0. 0. 0. 0. 0.]\n"
          ],
          "name": "stdout"
        }
      ]
    },
    {
      "cell_type": "markdown",
      "metadata": {
        "id": "Egz8ROrXU0y_"
      },
      "source": [
        "## Dataset distribution"
      ]
    },
    {
      "cell_type": "code",
      "metadata": {
        "colab": {
          "base_uri": "https://localhost:8080/",
          "height": 282
        },
        "id": "Sh5yp631SnHT",
        "outputId": "7ccfa79e-c5d6-4023-8f5f-0515c168997d"
      },
      "source": [
        "plt.scatter(data[data_label==0,0],data[data_label==0,1], marker='o')\n",
        "plt.scatter(data[data_label==1,0],data[data_label==1,1], marker='x')"
      ],
      "execution_count": 8,
      "outputs": [
        {
          "output_type": "execute_result",
          "data": {
            "text/plain": [
              "<matplotlib.collections.PathCollection at 0x7ff16a311390>"
            ]
          },
          "metadata": {
            "tags": []
          },
          "execution_count": 8
        },
        {
          "output_type": "display_data",
          "data": {
            "image/png": "[encoded data removed]",
            "text/plain": [
              "<Figure size 432x288 with 1 Axes>"
            ]
          },
          "metadata": {
            "tags": [],
            "needs_background": "light"
          }
        }
      ]
    },
    {
      "cell_type": "code",
      "metadata": {
        "colab": {
          "base_uri": "https://localhost:8080/"
        },
        "id": "hL6fJ53zSicz",
        "outputId": "60b68808-1af7-4f9b-df78-85eed184b174"
      },
      "source": [
        "input_data = (data[:,0]-data[:,1])**2\n",
        "input_data = input_data.flatten()\n",
        "label = data_label.flatten()\n",
        "\n",
        "idx = np.random.permutation(len(label))\n",
        "input_data,label = input_data[idx], label[idx]\n",
        "\n",
        "q0, q1 = cirq.GridQubit.rect(1, 2)\n",
        "q_data =[cirq.Circuit(\n",
        "        cirq.ry(i)(q0),\n",
        "        cirq.ry(i)(q1)) for i in input_data] \n",
        "print(q_data[:5])\n",
        "q_data = tfq.convert_to_tensor(q_data)\n",
        "\n",
        "n = label.shape[0]//5*4\n",
        "n1 = label.shape[0]//10*9\n",
        "print(n)\n",
        "\n",
        "x_train = q_data[:n]\n",
        "y_train = label[:n]\n",
        "x_val = q_data[n:n1]\n",
        "y_val = label[n:n1]\n",
        "x_test = q_data[n1:]\n",
        "y_test = label[n1:]"
      ],
      "execution_count": 9,
      "outputs": [
        {
          "output_type": "stream",
          "text": [
            "[cirq.Circuit([\n",
            "    cirq.Moment(\n",
            "        cirq.Ry(rads=5.515702170807092).on(cirq.GridQubit(0, 0)),\n",
            "        cirq.Ry(rads=5.515702170807092).on(cirq.GridQubit(0, 1)),\n",
            "    ),\n",
            "]), cirq.Circuit([\n",
            "    cirq.Moment(\n",
            "        cirq.Ry(rads=15.150368313425536).on(cirq.GridQubit(0, 0)),\n",
            "        cirq.Ry(rads=15.150368313425536).on(cirq.GridQubit(0, 1)),\n",
            "    ),\n",
            "]), cirq.Circuit([\n",
            "    cirq.Moment(\n",
            "        cirq.Ry(rads=3.161950774487126).on(cirq.GridQubit(0, 0)),\n",
            "        cirq.Ry(rads=3.161950774487126).on(cirq.GridQubit(0, 1)),\n",
            "    ),\n",
            "]), cirq.Circuit([\n",
            "    cirq.Moment(\n",
            "        cirq.Ry(rads=1.2724791327861404).on(cirq.GridQubit(0, 0)),\n",
            "        cirq.Ry(rads=1.2724791327861404).on(cirq.GridQubit(0, 1)),\n",
            "    ),\n",
            "]), cirq.Circuit([\n",
            "    cirq.Moment(\n",
            "        cirq.Ry(rads=1.6370364924423182).on(cirq.GridQubit(0, 0)),\n",
            "        cirq.Ry(rads=1.6370364924423182).on(cirq.GridQubit(0, 1)),\n",
            "    ),\n",
            "])]\n",
            "964\n"
          ],
          "name": "stdout"
        }
      ]
    },
    {
      "cell_type": "code",
      "metadata": {
        "colab": {
          "base_uri": "https://localhost:8080/",
          "height": 138
        },
        "id": "joYfniguSo6D",
        "outputId": "c8da3155-09cf-4a7c-febe-dfdcbfa05db6"
      },
      "source": [
        "theta1 = sympy.Symbol('theta1')\n",
        "theta2 = sympy.Symbol('theta2')\n",
        "theta3 = sympy.Symbol('theta3')\n",
        "theta4 = sympy.Symbol('theta4')\n",
        "circuit = cirq.Circuit(\n",
        "    cirq.rx(theta1).on(q0),\n",
        "    cirq.rx(theta2).on(q1), cirq.CZ(q0, q1),\n",
        "    cirq.rx(theta3).on(q0),\n",
        "    cirq.rx(theta4).on(q1), cirq.CZ(q0, q1))\n",
        "SVGCircuit(circuit)"
      ],
      "execution_count": 10,
      "outputs": [
        {
          "output_type": "stream",
          "text": [
            "findfont: Font family ['Arial'] not found. Falling back to DejaVu Sans.\n"
          ],
          "name": "stderr"
        },
        {
          "output_type": "execute_result",
          "data": {
            "text/plain": [
              "<cirq.contrib.svg.svg.SVGCircuit at 0x7ff16a26c610>"
            ],
            "image/svg+xml": "<svg xmlns=\"http://www.w3.org/2000/svg\" width=\"434.139921875\" height=\"100.0\"><line x1=\"34.7588671875\" x2=\"404.139921875\" y1=\"25.0\" y2=\"25.0\" stroke=\"#1967d2\" stroke-width=\"1\" /><line x1=\"34.7588671875\" x2=\"404.139921875\" y1=\"75.0\" y2=\"75.0\" stroke=\"#1967d2\" stroke-width=\"1\" /><line x1=\"201.82882812500003\" x2=\"201.82882812500003\" y1=\"25.0\" y2=\"75.0\" stroke=\"black\" stroke-width=\"3\" /><line x1=\"364.139921875\" x2=\"364.139921875\" y1=\"25.0\" y2=\"75.0\" stroke=\"black\" stroke-width=\"3\" /><rect x=\"10.0\" y=\"5.0\" width=\"49.517734375\" height=\"40\" stroke=\"black\" fill=\"white\" stroke-width=\"0\" /><text x=\"34.7588671875\" y=\"25.0\" dominant-baseline=\"middle\" text-anchor=\"middle\" font-size=\"14px\" font-family=\"Arial\">(0, 0): </text><rect x=\"10.0\" y=\"55.0\" width=\"49.517734375\" height=\"40\" stroke=\"black\" fill=\"white\" stroke-width=\"0\" /><text x=\"34.7588671875\" y=\"75.0\" dominant-baseline=\"middle\" text-anchor=\"middle\" font-size=\"14px\" font-family=\"Arial\">(0, 1): </text><rect x=\"79.517734375\" y=\"5.0\" width=\"82.31109375000001\" height=\"40\" stroke=\"black\" fill=\"white\" stroke-width=\"1\" /><text x=\"120.67328125\" y=\"25.0\" dominant-baseline=\"middle\" text-anchor=\"middle\" font-size=\"14px\" font-family=\"Arial\">Rx(theta1)</text><rect x=\"79.517734375\" y=\"55.0\" width=\"82.31109375000001\" height=\"40\" stroke=\"black\" fill=\"white\" stroke-width=\"1\" /><text x=\"120.67328125\" y=\"75.0\" dominant-baseline=\"middle\" text-anchor=\"middle\" font-size=\"14px\" font-family=\"Arial\">Rx(theta2)</text><circle cx=\"201.82882812500003\" cy=\"25.0\" r=\"10.0\" /><circle cx=\"201.82882812500003\" cy=\"75.0\" r=\"10.0\" /><rect x=\"241.82882812500006\" y=\"5.0\" width=\"82.31109375000001\" height=\"40\" stroke=\"black\" fill=\"white\" stroke-width=\"1\" /><text x=\"282.98437500000006\" y=\"25.0\" dominant-baseline=\"middle\" text-anchor=\"middle\" font-size=\"14px\" font-family=\"Arial\">Rx(theta3)</text><rect x=\"241.82882812500006\" y=\"55.0\" width=\"82.31109375000001\" height=\"40\" stroke=\"black\" fill=\"white\" stroke-width=\"1\" /><text x=\"282.98437500000006\" y=\"75.0\" dominant-baseline=\"middle\" text-anchor=\"middle\" font-size=\"14px\" font-family=\"Arial\">Rx(theta4)</text><circle cx=\"364.139921875\" cy=\"25.0\" r=\"10.0\" /><circle cx=\"364.139921875\" cy=\"75.0\" r=\"10.0\" /></svg>"
          },
          "metadata": {
            "tags": []
          },
          "execution_count": 10
        }
      ]
    },
    {
      "cell_type": "code",
      "metadata": {
        "colab": {
          "base_uri": "https://localhost:8080/"
        },
        "id": "335_l2DPS_CE",
        "outputId": "6ebf1bd2-5ecc-42e2-d91e-599d4063246c"
      },
      "source": [
        "# 建立量子層和經典全連接層\n",
        "q_layer = tfq.layers.PQC(circuit, [cirq.Z(q0), cirq.Z(q1)])\n",
        "dense_layer = tf.keras.layers.Dense(1, activation=\"sigmoid\")\n",
        "# 使用Keras建立訓練流程。量子資料首先通過PQC，然後通過經典的全連接模型\n",
        "q_data_input = tf.keras.Input(shape=() ,dtype=tf.dtypes.string)\n",
        "expectation_output = q_layer(q_data_input)\n",
        "classifier_output = dense_layer(expectation_output)\n",
        "\n",
        "model = tf.keras.Model(inputs=q_data_input, outputs=classifier_output)\n",
        "print(model.summary())\n",
        "# 編譯模型，指定優化器、損失函數和評估指標，並進行訓練\n",
        "model.compile(\n",
        "    optimizer = \"adam\",\n",
        "    loss = \"mse\",\n",
        "    metrics=['accuracy','AUC']\n",
        ")"
      ],
      "execution_count": 11,
      "outputs": [
        {
          "output_type": "stream",
          "text": [
            "Model: \"model\"\n",
            "_________________________________________________________________\n",
            "Layer (type)                 Output Shape              Param #   \n",
            "=================================================================\n",
            "input_1 (InputLayer)         [(None,)]                 0         \n",
            "_________________________________________________________________\n",
            "pqc (PQC)                    (None, 2)                 4         \n",
            "_________________________________________________________________\n",
            "dense (Dense)                (None, 1)                 3         \n",
            "=================================================================\n",
            "Total params: 7\n",
            "Trainable params: 7\n",
            "Non-trainable params: 0\n",
            "_________________________________________________________________\n",
            "None\n"
          ],
          "name": "stdout"
        }
      ]
    },
    {
      "cell_type": "code",
      "metadata": {
        "colab": {
          "base_uri": "https://localhost:8080/"
        },
        "id": "ojTbMWXXTDrt",
        "outputId": "e42f7fc1-92f4-44df-8f86-0e4b2b4b7e69"
      },
      "source": [
        "model.fit(x=x_train, y=y_train, epochs=100,validation_data=(x_val,y_val))\n",
        "\n",
        "# 輸出量子層參數（即theta）的訓練結果\n",
        "print(q_layer.get_weights())"
      ],
      "execution_count": 12,
      "outputs": [
        {
          "output_type": "stream",
          "text": [
            "Epoch 1/100\n",
            "31/31 [==============================] - 4s 32ms/step - loss: 0.2233 - accuracy: 0.8343 - auc: 0.9942 - val_loss: 0.2145 - val_accuracy: 0.8621 - val_auc: 1.0000\n",
            "Epoch 2/100\n",
            "31/31 [==============================] - 0s 11ms/step - loss: 0.2119 - accuracy: 0.8652 - auc: 0.9937 - val_loss: 0.2053 - val_accuracy: 0.8793 - val_auc: 1.0000\n",
            "Epoch 3/100\n",
            "31/31 [==============================] - 0s 11ms/step - loss: 0.2042 - accuracy: 0.8630 - auc: 0.9953 - val_loss: 0.1958 - val_accuracy: 0.8966 - val_auc: 1.0000\n",
            "Epoch 4/100\n",
            "31/31 [==============================] - 0s 11ms/step - loss: 0.1924 - accuracy: 0.8837 - auc: 0.9966 - val_loss: 0.1863 - val_accuracy: 0.9138 - val_auc: 1.0000\n",
            "Epoch 5/100\n",
            "31/31 [==============================] - 0s 11ms/step - loss: 0.1830 - accuracy: 0.8979 - auc: 0.9947 - val_loss: 0.1769 - val_accuracy: 0.9224 - val_auc: 1.0000\n",
            "Epoch 6/100\n",
            "31/31 [==============================] - 0s 11ms/step - loss: 0.1741 - accuracy: 0.8934 - auc: 0.9950 - val_loss: 0.1676 - val_accuracy: 0.9310 - val_auc: 1.0000\n",
            "Epoch 7/100\n",
            "31/31 [==============================] - 0s 11ms/step - loss: 0.1628 - accuracy: 0.9093 - auc: 0.9950 - val_loss: 0.1587 - val_accuracy: 0.9310 - val_auc: 1.0000\n",
            "Epoch 8/100\n",
            "31/31 [==============================] - 0s 11ms/step - loss: 0.1527 - accuracy: 0.9072 - auc: 0.9937 - val_loss: 0.1503 - val_accuracy: 0.9310 - val_auc: 1.0000\n",
            "Epoch 9/100\n",
            "31/31 [==============================] - 0s 11ms/step - loss: 0.1477 - accuracy: 0.8969 - auc: 0.9951 - val_loss: 0.1426 - val_accuracy: 0.9310 - val_auc: 1.0000\n",
            "Epoch 10/100\n",
            "31/31 [==============================] - 0s 11ms/step - loss: 0.1397 - accuracy: 0.9115 - auc: 0.9937 - val_loss: 0.1354 - val_accuracy: 0.9310 - val_auc: 1.0000\n",
            "Epoch 11/100\n",
            "31/31 [==============================] - 0s 11ms/step - loss: 0.1305 - accuracy: 0.9047 - auc: 0.9952 - val_loss: 0.1289 - val_accuracy: 0.9310 - val_auc: 1.0000\n",
            "Epoch 12/100\n",
            "31/31 [==============================] - 0s 11ms/step - loss: 0.1247 - accuracy: 0.9200 - auc: 0.9953 - val_loss: 0.1230 - val_accuracy: 0.9310 - val_auc: 1.0000\n",
            "Epoch 13/100\n",
            "31/31 [==============================] - 0s 11ms/step - loss: 0.1172 - accuracy: 0.9187 - auc: 0.9953 - val_loss: 0.1177 - val_accuracy: 0.9397 - val_auc: 1.0000\n",
            "Epoch 14/100\n",
            "31/31 [==============================] - 0s 11ms/step - loss: 0.1106 - accuracy: 0.9120 - auc: 0.9941 - val_loss: 0.1129 - val_accuracy: 0.9397 - val_auc: 1.0000\n",
            "Epoch 15/100\n",
            "31/31 [==============================] - 0s 11ms/step - loss: 0.1079 - accuracy: 0.9222 - auc: 0.9965 - val_loss: 0.1087 - val_accuracy: 0.9397 - val_auc: 1.0000\n",
            "Epoch 16/100\n",
            "31/31 [==============================] - 0s 12ms/step - loss: 0.1032 - accuracy: 0.9130 - auc: 0.9949 - val_loss: 0.1047 - val_accuracy: 0.9397 - val_auc: 1.0000\n",
            "Epoch 17/100\n",
            "31/31 [==============================] - 0s 11ms/step - loss: 0.0999 - accuracy: 0.9165 - auc: 0.9960 - val_loss: 0.1011 - val_accuracy: 0.9397 - val_auc: 1.0000\n",
            "Epoch 18/100\n",
            "31/31 [==============================] - 0s 11ms/step - loss: 0.0965 - accuracy: 0.9156 - auc: 0.9960 - val_loss: 0.0977 - val_accuracy: 0.9397 - val_auc: 1.0000\n",
            "Epoch 19/100\n",
            "31/31 [==============================] - 0s 11ms/step - loss: 0.0935 - accuracy: 0.9181 - auc: 0.9949 - val_loss: 0.0946 - val_accuracy: 0.9397 - val_auc: 1.0000\n",
            "Epoch 20/100\n",
            "31/31 [==============================] - 0s 11ms/step - loss: 0.0902 - accuracy: 0.9184 - auc: 0.9955 - val_loss: 0.0918 - val_accuracy: 0.9397 - val_auc: 1.0000\n",
            "Epoch 21/100\n",
            "31/31 [==============================] - 0s 11ms/step - loss: 0.0862 - accuracy: 0.9183 - auc: 0.9946 - val_loss: 0.0893 - val_accuracy: 0.9397 - val_auc: 1.0000\n",
            "Epoch 22/100\n",
            "31/31 [==============================] - 0s 11ms/step - loss: 0.0876 - accuracy: 0.9102 - auc: 0.9951 - val_loss: 0.0869 - val_accuracy: 0.9397 - val_auc: 1.0000\n",
            "Epoch 23/100\n",
            "31/31 [==============================] - 0s 11ms/step - loss: 0.0854 - accuracy: 0.9203 - auc: 0.9928 - val_loss: 0.0846 - val_accuracy: 0.9397 - val_auc: 1.0000\n",
            "Epoch 24/100\n",
            "31/31 [==============================] - 0s 11ms/step - loss: 0.0838 - accuracy: 0.9214 - auc: 0.9956 - val_loss: 0.0825 - val_accuracy: 0.9397 - val_auc: 1.0000\n",
            "Epoch 25/100\n",
            "31/31 [==============================] - 0s 11ms/step - loss: 0.0755 - accuracy: 0.9290 - auc: 0.9959 - val_loss: 0.0806 - val_accuracy: 0.9397 - val_auc: 1.0000\n",
            "Epoch 26/100\n",
            "31/31 [==============================] - 0s 11ms/step - loss: 0.0787 - accuracy: 0.9161 - auc: 0.9948 - val_loss: 0.0787 - val_accuracy: 0.9397 - val_auc: 1.0000\n",
            "Epoch 27/100\n",
            "31/31 [==============================] - 0s 12ms/step - loss: 0.0791 - accuracy: 0.9089 - auc: 0.9958 - val_loss: 0.0771 - val_accuracy: 0.9397 - val_auc: 1.0000\n",
            "Epoch 28/100\n",
            "31/31 [==============================] - 0s 11ms/step - loss: 0.0746 - accuracy: 0.9092 - auc: 0.9962 - val_loss: 0.0755 - val_accuracy: 0.9397 - val_auc: 1.0000\n",
            "Epoch 29/100\n",
            "31/31 [==============================] - 0s 11ms/step - loss: 0.0753 - accuracy: 0.9251 - auc: 0.9948 - val_loss: 0.0740 - val_accuracy: 0.9397 - val_auc: 1.0000\n",
            "Epoch 30/100\n",
            "31/31 [==============================] - 0s 11ms/step - loss: 0.0743 - accuracy: 0.9118 - auc: 0.9946 - val_loss: 0.0725 - val_accuracy: 0.9397 - val_auc: 1.0000\n",
            "Epoch 31/100\n",
            "31/31 [==============================] - 0s 11ms/step - loss: 0.0715 - accuracy: 0.9264 - auc: 0.9945 - val_loss: 0.0711 - val_accuracy: 0.9397 - val_auc: 1.0000\n",
            "Epoch 32/100\n",
            "31/31 [==============================] - 0s 11ms/step - loss: 0.0715 - accuracy: 0.9186 - auc: 0.9959 - val_loss: 0.0698 - val_accuracy: 0.9397 - val_auc: 1.0000\n",
            "Epoch 33/100\n",
            "31/31 [==============================] - 0s 12ms/step - loss: 0.0678 - accuracy: 0.9264 - auc: 0.9953 - val_loss: 0.0686 - val_accuracy: 0.9397 - val_auc: 1.0000\n",
            "Epoch 34/100\n",
            "31/31 [==============================] - 0s 11ms/step - loss: 0.0705 - accuracy: 0.9179 - auc: 0.9948 - val_loss: 0.0674 - val_accuracy: 0.9397 - val_auc: 1.0000\n",
            "Epoch 35/100\n",
            "31/31 [==============================] - 0s 12ms/step - loss: 0.0685 - accuracy: 0.9295 - auc: 0.9946 - val_loss: 0.0663 - val_accuracy: 0.9397 - val_auc: 1.0000\n",
            "Epoch 36/100\n",
            "31/31 [==============================] - 0s 12ms/step - loss: 0.0644 - accuracy: 0.9280 - auc: 0.9959 - val_loss: 0.0652 - val_accuracy: 0.9397 - val_auc: 1.0000\n",
            "Epoch 37/100\n",
            "31/31 [==============================] - 0s 11ms/step - loss: 0.0674 - accuracy: 0.9200 - auc: 0.9962 - val_loss: 0.0641 - val_accuracy: 0.9397 - val_auc: 1.0000\n",
            "Epoch 38/100\n",
            "31/31 [==============================] - 0s 12ms/step - loss: 0.0638 - accuracy: 0.9354 - auc: 0.9950 - val_loss: 0.0631 - val_accuracy: 0.9397 - val_auc: 1.0000\n",
            "Epoch 39/100\n",
            "31/31 [==============================] - 0s 12ms/step - loss: 0.0672 - accuracy: 0.9269 - auc: 0.9918 - val_loss: 0.0621 - val_accuracy: 0.9483 - val_auc: 1.0000\n",
            "Epoch 40/100\n",
            "31/31 [==============================] - 0s 11ms/step - loss: 0.0631 - accuracy: 0.9345 - auc: 0.9962 - val_loss: 0.0612 - val_accuracy: 0.9483 - val_auc: 1.0000\n",
            "Epoch 41/100\n",
            "31/31 [==============================] - 0s 11ms/step - loss: 0.0652 - accuracy: 0.9243 - auc: 0.9947 - val_loss: 0.0603 - val_accuracy: 0.9483 - val_auc: 1.0000\n",
            "Epoch 42/100\n",
            "31/31 [==============================] - 0s 12ms/step - loss: 0.0617 - accuracy: 0.9285 - auc: 0.9937 - val_loss: 0.0594 - val_accuracy: 0.9483 - val_auc: 1.0000\n",
            "Epoch 43/100\n",
            "31/31 [==============================] - 0s 11ms/step - loss: 0.0597 - accuracy: 0.9379 - auc: 0.9952 - val_loss: 0.0586 - val_accuracy: 0.9483 - val_auc: 1.0000\n",
            "Epoch 44/100\n",
            "31/31 [==============================] - 0s 12ms/step - loss: 0.0635 - accuracy: 0.9320 - auc: 0.9929 - val_loss: 0.0577 - val_accuracy: 0.9483 - val_auc: 1.0000\n",
            "Epoch 45/100\n",
            "31/31 [==============================] - 0s 12ms/step - loss: 0.0606 - accuracy: 0.9253 - auc: 0.9931 - val_loss: 0.0569 - val_accuracy: 0.9483 - val_auc: 1.0000\n",
            "Epoch 46/100\n",
            "31/31 [==============================] - 0s 11ms/step - loss: 0.0592 - accuracy: 0.9342 - auc: 0.9926 - val_loss: 0.0561 - val_accuracy: 0.9483 - val_auc: 1.0000\n",
            "Epoch 47/100\n",
            "31/31 [==============================] - 0s 11ms/step - loss: 0.0614 - accuracy: 0.9348 - auc: 0.9932 - val_loss: 0.0554 - val_accuracy: 0.9483 - val_auc: 1.0000\n",
            "Epoch 48/100\n",
            "31/31 [==============================] - 0s 11ms/step - loss: 0.0632 - accuracy: 0.9272 - auc: 0.9943 - val_loss: 0.0547 - val_accuracy: 0.9483 - val_auc: 1.0000\n",
            "Epoch 49/100\n",
            "31/31 [==============================] - 0s 11ms/step - loss: 0.0559 - accuracy: 0.9403 - auc: 0.9962 - val_loss: 0.0539 - val_accuracy: 0.9483 - val_auc: 1.0000\n",
            "Epoch 50/100\n",
            "31/31 [==============================] - 0s 11ms/step - loss: 0.0595 - accuracy: 0.9340 - auc: 0.9954 - val_loss: 0.0533 - val_accuracy: 0.9483 - val_auc: 1.0000\n",
            "Epoch 51/100\n",
            "31/31 [==============================] - 0s 11ms/step - loss: 0.0533 - accuracy: 0.9464 - auc: 0.9953 - val_loss: 0.0526 - val_accuracy: 0.9483 - val_auc: 1.0000\n",
            "Epoch 52/100\n",
            "31/31 [==============================] - 0s 11ms/step - loss: 0.0603 - accuracy: 0.9211 - auc: 0.9952 - val_loss: 0.0519 - val_accuracy: 0.9483 - val_auc: 1.0000\n",
            "Epoch 53/100\n",
            "31/31 [==============================] - 0s 11ms/step - loss: 0.0497 - accuracy: 0.9536 - auc: 0.9956 - val_loss: 0.0513 - val_accuracy: 0.9483 - val_auc: 1.0000\n",
            "Epoch 54/100\n",
            "31/31 [==============================] - 0s 11ms/step - loss: 0.0534 - accuracy: 0.9399 - auc: 0.9957 - val_loss: 0.0506 - val_accuracy: 0.9483 - val_auc: 1.0000\n",
            "Epoch 55/100\n",
            "31/31 [==============================] - 0s 11ms/step - loss: 0.0543 - accuracy: 0.9327 - auc: 0.9951 - val_loss: 0.0500 - val_accuracy: 0.9483 - val_auc: 1.0000\n",
            "Epoch 56/100\n",
            "31/31 [==============================] - 0s 11ms/step - loss: 0.0544 - accuracy: 0.9351 - auc: 0.9936 - val_loss: 0.0494 - val_accuracy: 0.9483 - val_auc: 1.0000\n",
            "Epoch 57/100\n",
            "31/31 [==============================] - 0s 11ms/step - loss: 0.0498 - accuracy: 0.9451 - auc: 0.9955 - val_loss: 0.0488 - val_accuracy: 0.9483 - val_auc: 1.0000\n",
            "Epoch 58/100\n",
            "31/31 [==============================] - 0s 11ms/step - loss: 0.0539 - accuracy: 0.9420 - auc: 0.9944 - val_loss: 0.0483 - val_accuracy: 0.9569 - val_auc: 1.0000\n",
            "Epoch 59/100\n",
            "31/31 [==============================] - 0s 11ms/step - loss: 0.0506 - accuracy: 0.9523 - auc: 0.9953 - val_loss: 0.0477 - val_accuracy: 0.9569 - val_auc: 1.0000\n",
            "Epoch 60/100\n",
            "31/31 [==============================] - 0s 11ms/step - loss: 0.0488 - accuracy: 0.9542 - auc: 0.9960 - val_loss: 0.0472 - val_accuracy: 0.9569 - val_auc: 1.0000\n",
            "Epoch 61/100\n",
            "31/31 [==============================] - 0s 11ms/step - loss: 0.0494 - accuracy: 0.9429 - auc: 0.9945 - val_loss: 0.0466 - val_accuracy: 0.9569 - val_auc: 1.0000\n",
            "Epoch 62/100\n",
            "31/31 [==============================] - 0s 12ms/step - loss: 0.0531 - accuracy: 0.9468 - auc: 0.9945 - val_loss: 0.0461 - val_accuracy: 0.9655 - val_auc: 1.0000\n",
            "Epoch 63/100\n",
            "31/31 [==============================] - 0s 11ms/step - loss: 0.0481 - accuracy: 0.9554 - auc: 0.9958 - val_loss: 0.0456 - val_accuracy: 0.9655 - val_auc: 1.0000\n",
            "Epoch 64/100\n",
            "31/31 [==============================] - 0s 12ms/step - loss: 0.0498 - accuracy: 0.9408 - auc: 0.9941 - val_loss: 0.0451 - val_accuracy: 0.9655 - val_auc: 1.0000\n",
            "Epoch 65/100\n",
            "31/31 [==============================] - 0s 11ms/step - loss: 0.0487 - accuracy: 0.9506 - auc: 0.9948 - val_loss: 0.0446 - val_accuracy: 0.9655 - val_auc: 1.0000\n",
            "Epoch 66/100\n",
            "31/31 [==============================] - 0s 12ms/step - loss: 0.0477 - accuracy: 0.9501 - auc: 0.9962 - val_loss: 0.0441 - val_accuracy: 0.9741 - val_auc: 1.0000\n",
            "Epoch 67/100\n",
            "31/31 [==============================] - 0s 11ms/step - loss: 0.0486 - accuracy: 0.9369 - auc: 0.9936 - val_loss: 0.0437 - val_accuracy: 0.9741 - val_auc: 1.0000\n",
            "Epoch 68/100\n",
            "31/31 [==============================] - 0s 11ms/step - loss: 0.0463 - accuracy: 0.9545 - auc: 0.9949 - val_loss: 0.0432 - val_accuracy: 0.9741 - val_auc: 1.0000\n",
            "Epoch 69/100\n",
            "31/31 [==============================] - 0s 11ms/step - loss: 0.0435 - accuracy: 0.9560 - auc: 0.9966 - val_loss: 0.0428 - val_accuracy: 0.9741 - val_auc: 1.0000\n",
            "Epoch 70/100\n",
            "31/31 [==============================] - 0s 11ms/step - loss: 0.0491 - accuracy: 0.9533 - auc: 0.9935 - val_loss: 0.0423 - val_accuracy: 0.9828 - val_auc: 1.0000\n",
            "Epoch 71/100\n",
            "31/31 [==============================] - 0s 12ms/step - loss: 0.0450 - accuracy: 0.9587 - auc: 0.9967 - val_loss: 0.0419 - val_accuracy: 0.9828 - val_auc: 1.0000\n",
            "Epoch 72/100\n",
            "31/31 [==============================] - 0s 11ms/step - loss: 0.0447 - accuracy: 0.9633 - auc: 0.9967 - val_loss: 0.0415 - val_accuracy: 0.9828 - val_auc: 1.0000\n",
            "Epoch 73/100\n",
            "31/31 [==============================] - 0s 11ms/step - loss: 0.0457 - accuracy: 0.9550 - auc: 0.9961 - val_loss: 0.0411 - val_accuracy: 0.9828 - val_auc: 1.0000\n",
            "Epoch 74/100\n",
            "31/31 [==============================] - 0s 12ms/step - loss: 0.0468 - accuracy: 0.9562 - auc: 0.9945 - val_loss: 0.0407 - val_accuracy: 0.9828 - val_auc: 1.0000\n",
            "Epoch 75/100\n",
            "31/31 [==============================] - 0s 13ms/step - loss: 0.0450 - accuracy: 0.9617 - auc: 0.9943 - val_loss: 0.0402 - val_accuracy: 0.9828 - val_auc: 1.0000\n",
            "Epoch 76/100\n",
            "31/31 [==============================] - 0s 12ms/step - loss: 0.0442 - accuracy: 0.9564 - auc: 0.9959 - val_loss: 0.0399 - val_accuracy: 0.9828 - val_auc: 1.0000\n",
            "Epoch 77/100\n",
            "31/31 [==============================] - 0s 12ms/step - loss: 0.0438 - accuracy: 0.9627 - auc: 0.9970 - val_loss: 0.0395 - val_accuracy: 0.9828 - val_auc: 1.0000\n",
            "Epoch 78/100\n",
            "31/31 [==============================] - 0s 13ms/step - loss: 0.0426 - accuracy: 0.9665 - auc: 0.9951 - val_loss: 0.0391 - val_accuracy: 0.9828 - val_auc: 1.0000\n",
            "Epoch 79/100\n",
            "31/31 [==============================] - 0s 11ms/step - loss: 0.0437 - accuracy: 0.9595 - auc: 0.9939 - val_loss: 0.0387 - val_accuracy: 0.9828 - val_auc: 1.0000\n",
            "Epoch 80/100\n",
            "31/31 [==============================] - 0s 11ms/step - loss: 0.0454 - accuracy: 0.9539 - auc: 0.9945 - val_loss: 0.0384 - val_accuracy: 0.9828 - val_auc: 1.0000\n",
            "Epoch 81/100\n",
            "31/31 [==============================] - 0s 11ms/step - loss: 0.0423 - accuracy: 0.9682 - auc: 0.9964 - val_loss: 0.0380 - val_accuracy: 0.9828 - val_auc: 1.0000\n",
            "Epoch 82/100\n",
            "31/31 [==============================] - 0s 11ms/step - loss: 0.0433 - accuracy: 0.9610 - auc: 0.9940 - val_loss: 0.0377 - val_accuracy: 0.9828 - val_auc: 1.0000\n",
            "Epoch 83/100\n",
            "31/31 [==============================] - 0s 11ms/step - loss: 0.0454 - accuracy: 0.9554 - auc: 0.9944 - val_loss: 0.0373 - val_accuracy: 0.9828 - val_auc: 1.0000\n",
            "Epoch 84/100\n",
            "31/31 [==============================] - 0s 11ms/step - loss: 0.0406 - accuracy: 0.9679 - auc: 0.9964 - val_loss: 0.0370 - val_accuracy: 0.9828 - val_auc: 1.0000\n",
            "Epoch 85/100\n",
            "31/31 [==============================] - 0s 12ms/step - loss: 0.0426 - accuracy: 0.9578 - auc: 0.9951 - val_loss: 0.0367 - val_accuracy: 0.9828 - val_auc: 1.0000\n",
            "Epoch 86/100\n",
            "31/31 [==============================] - 0s 11ms/step - loss: 0.0445 - accuracy: 0.9490 - auc: 0.9918 - val_loss: 0.0364 - val_accuracy: 0.9828 - val_auc: 1.0000\n",
            "Epoch 87/100\n",
            "31/31 [==============================] - 0s 12ms/step - loss: 0.0446 - accuracy: 0.9541 - auc: 0.9952 - val_loss: 0.0360 - val_accuracy: 0.9828 - val_auc: 1.0000\n",
            "Epoch 88/100\n",
            "31/31 [==============================] - 0s 11ms/step - loss: 0.0419 - accuracy: 0.9573 - auc: 0.9947 - val_loss: 0.0357 - val_accuracy: 0.9828 - val_auc: 1.0000\n",
            "Epoch 89/100\n",
            "31/31 [==============================] - 0s 11ms/step - loss: 0.0414 - accuracy: 0.9632 - auc: 0.9963 - val_loss: 0.0354 - val_accuracy: 0.9828 - val_auc: 1.0000\n",
            "Epoch 90/100\n",
            "31/31 [==============================] - 0s 11ms/step - loss: 0.0415 - accuracy: 0.9653 - auc: 0.9950 - val_loss: 0.0351 - val_accuracy: 0.9828 - val_auc: 1.0000\n",
            "Epoch 91/100\n",
            "31/31 [==============================] - 0s 12ms/step - loss: 0.0453 - accuracy: 0.9525 - auc: 0.9920 - val_loss: 0.0349 - val_accuracy: 0.9828 - val_auc: 1.0000\n",
            "Epoch 92/100\n",
            "31/31 [==============================] - 0s 12ms/step - loss: 0.0419 - accuracy: 0.9594 - auc: 0.9943 - val_loss: 0.0346 - val_accuracy: 0.9828 - val_auc: 1.0000\n",
            "Epoch 93/100\n",
            "31/31 [==============================] - 0s 11ms/step - loss: 0.0391 - accuracy: 0.9698 - auc: 0.9954 - val_loss: 0.0343 - val_accuracy: 0.9828 - val_auc: 1.0000\n",
            "Epoch 94/100\n",
            "31/31 [==============================] - 0s 11ms/step - loss: 0.0432 - accuracy: 0.9656 - auc: 0.9937 - val_loss: 0.0340 - val_accuracy: 0.9828 - val_auc: 1.0000\n",
            "Epoch 95/100\n",
            "31/31 [==============================] - 0s 12ms/step - loss: 0.0420 - accuracy: 0.9571 - auc: 0.9950 - val_loss: 0.0337 - val_accuracy: 0.9828 - val_auc: 1.0000\n",
            "Epoch 96/100\n",
            "31/31 [==============================] - 0s 11ms/step - loss: 0.0386 - accuracy: 0.9640 - auc: 0.9941 - val_loss: 0.0334 - val_accuracy: 0.9828 - val_auc: 1.0000\n",
            "Epoch 97/100\n",
            "31/31 [==============================] - 0s 11ms/step - loss: 0.0390 - accuracy: 0.9708 - auc: 0.9957 - val_loss: 0.0332 - val_accuracy: 0.9828 - val_auc: 1.0000\n",
            "Epoch 98/100\n",
            "31/31 [==============================] - 0s 12ms/step - loss: 0.0411 - accuracy: 0.9594 - auc: 0.9944 - val_loss: 0.0329 - val_accuracy: 0.9828 - val_auc: 1.0000\n",
            "Epoch 99/100\n",
            "31/31 [==============================] - 0s 12ms/step - loss: 0.0404 - accuracy: 0.9661 - auc: 0.9934 - val_loss: 0.0326 - val_accuracy: 0.9828 - val_auc: 1.0000\n",
            "Epoch 100/100\n",
            "31/31 [==============================] - 0s 12ms/step - loss: 0.0389 - accuracy: 0.9613 - auc: 0.9933 - val_loss: 0.0324 - val_accuracy: 0.9828 - val_auc: 1.0000\n",
            "[array([2.8699744, 0.5139531, 3.4473646, 3.6430256], dtype=float32)]\n"
          ],
          "name": "stdout"
        }
      ]
    },
    {
      "cell_type": "code",
      "metadata": {
        "colab": {
          "base_uri": "https://localhost:8080/"
        },
        "id": "K73dtMJ2THGE",
        "outputId": "71103f71-2b12-4b04-9ab7-2f8fde46b99c"
      },
      "source": [
        "print(\"Evaluate on test data\")\n",
        "results = model.evaluate(x_test, y_test)\n",
        "print(\"test loss, test acc, test AUC:\", results)"
      ],
      "execution_count": 13,
      "outputs": [
        {
          "output_type": "stream",
          "text": [
            "Evaluate on test data\n",
            "5/5 [==============================] - 0s 6ms/step - loss: 0.0291 - accuracy: 1.0000 - auc: 1.0000\n",
            "test loss, test acc, test AUC: [0.029142633080482483, 1.0, 1.0]\n"
          ],
          "name": "stdout"
        }
      ]
    },
    {
      "cell_type": "code",
      "metadata": {
        "id": "Wb7yP50CTQN1",
        "colab": {
          "base_uri": "https://localhost:8080/"
        },
        "outputId": "b61d0b67-95e6-4412-e06c-89d48a98c9e9"
      },
      "source": [
        "grid = 30\n",
        "x_cor = 0\n",
        "y_cor = 6\n",
        "x_axis = np.linspace(x_cor,y_cor,grid)\n",
        "y_axis = np.linspace(x_cor,y_cor,grid)\n",
        "tmp = np.zeros((grid**2,3))\n",
        "count = 0\n",
        "for i in x_axis:\n",
        "  for j in y_axis:\n",
        "    z = (i-j)**2\n",
        "    label_z = int(model.predict(tfq.convert_to_tensor([cirq.Circuit(cirq.ry(z)(q0),cirq.ry(z)(q1))])) > 0.5)\n",
        "    tmp[count,:] = np.array([i,j,label_z])\n",
        "    count += 1\n",
        "    if count % 100 == 0:\n",
        "      print(count)"
      ],
      "execution_count": 14,
      "outputs": [
        {
          "output_type": "stream",
          "text": [
            "100\n",
            "200\n",
            "300\n",
            "400\n",
            "500\n",
            "600\n",
            "700\n",
            "800\n",
            "900\n"
          ],
          "name": "stdout"
        }
      ]
    },
    {
      "cell_type": "code",
      "metadata": {
        "colab": {
          "base_uri": "https://localhost:8080/",
          "height": 305
        },
        "id": "966IM-hxD23W",
        "outputId": "262b08aa-4ce6-4ab6-eb00-24342a9eb9ca"
      },
      "source": [
        "plt.figure(figsize = (10,5))\n",
        "plt.subplot(121)\n",
        "plt.scatter(data[data_label==0,0],data[data_label==0,1], marker='o')\n",
        "plt.scatter(data[data_label==1,0],data[data_label==1,1], marker='x')\n",
        "plt.gca().set_aspect('equal', adjustable='box')\n",
        "plt.xlim(x_cor, y_cor)\n",
        "plt.ylim(x_cor, y_cor)\n",
        "plt.subplot(122)\n",
        "plt.scatter(tmp[tmp[:,2]==0,0],tmp[tmp[:,2]==0,1], marker='o')\n",
        "plt.scatter(tmp[tmp[:,2]==1,0],tmp[tmp[:,2]==1,1], marker='x')\n",
        "plt.xlim(x_cor, y_cor)\n",
        "plt.ylim(x_cor, y_cor)\n",
        "plt.gca().set_aspect('equal', adjustable='box')"
      ],
      "execution_count": 15,
      "outputs": [
        {
          "output_type": "display_data",
          "data": {
            "image/png": "[encoded data removed]",
            "text/plain": [
              "<Figure size 720x360 with 2 Axes>"
            ]
          },
          "metadata": {
            "tags": [],
            "needs_background": "light"
          }
        }
      ]
    },
    {
      "cell_type": "code",
      "metadata": {
        "colab": {
          "base_uri": "https://localhost:8080/"
        },
        "id": "S1VFk2n_OOdy",
        "outputId": "399c8771-afc1-4fae-ec18-293da860ec5d"
      },
      "source": [
        "y_pred = (model.predict(x_test) > 0.5).astype(np.int)\n",
        "# print(y_pred)\n",
        "tf.math.confusion_matrix(y_pred,y_test)"
      ],
      "execution_count": 16,
      "outputs": [
        {
          "output_type": "execute_result",
          "data": {
            "text/plain": [
              "<tf.Tensor: shape=(2, 2), dtype=int32, numpy=\n",
              "array([[103,   0],\n",
              "       [  0,  26]], dtype=int32)>"
            ]
          },
          "metadata": {
            "tags": []
          },
          "execution_count": 16
        }
      ]
    }
  ]
}