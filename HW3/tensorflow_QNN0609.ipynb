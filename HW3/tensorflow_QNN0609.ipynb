{
  "nbformat": 4,
  "nbformat_minor": 0,
  "metadata": {
    "accelerator": "GPU",
    "colab": {
      "name": "tensorflow_QNN0609.ipynb",
      "provenance": [],
      "collapsed_sections": [],
      "include_colab_link": true
    },
    "kernelspec": {
      "display_name": "Python 3",
      "name": "python3"
    },
    "language_info": {
      "name": "python"
    }
  },
  "cells": [
    {
      "cell_type": "markdown",
      "metadata": {
        "id": "view-in-github",
        "colab_type": "text"
      },
      "source": [
        "<a href=\"https://colab.research.google.com/github/yenjia/Homework-of-Quantum2021/blob/main/HW3/tensorflow_QNN0609.ipynb\" target=\"_parent\"><img src=\"https://colab.research.google.com/assets/colab-badge.svg\" alt=\"Open In Colab\"/></a>"
      ]
    },
    {
      "cell_type": "markdown",
      "metadata": {
        "id": "oC3JcCMSQ2TY"
      },
      "source": [
        "# More QNN Layer"
      ]
    },
    {
      "cell_type": "code",
      "metadata": {
        "colab": {
          "base_uri": "https://localhost:8080/",
          "height": 1000
        },
        "id": "lNEcJVOCQwss",
        "outputId": "9289b4fa-2145-41ef-b18f-948360fc65a3"
      },
      "source": [
        "!pip install tensorflow==2.4.1\n",
        "!pip install tensorflow-quantum "
      ],
      "execution_count": null,
      "outputs": [
        {
          "output_type": "stream",
          "text": [
            "Collecting tensorflow==2.4.1\n",
            "\u001b[?25l  Downloading https://files.pythonhosted.org/packages/70/dc/e8c5e7983866fa4ef3fd619faa35f660b95b01a2ab62b3884f038ccab542/tensorflow-2.4.1-cp37-cp37m-manylinux2010_x86_64.whl (394.3MB)\n",
            "\u001b[K     |████████████████████████████████| 394.3MB 45kB/s \n",
            "\u001b[?25hRequirement already satisfied: absl-py~=0.10 in /usr/local/lib/python3.7/dist-packages (from tensorflow==2.4.1) (0.12.0)\n",
            "Requirement already satisfied: google-pasta~=0.2 in /usr/local/lib/python3.7/dist-packages (from tensorflow==2.4.1) (0.2.0)\n",
            "Requirement already satisfied: protobuf>=3.9.2 in /usr/local/lib/python3.7/dist-packages (from tensorflow==2.4.1) (3.12.4)\n",
            "Requirement already satisfied: wheel~=0.35 in /usr/local/lib/python3.7/dist-packages (from tensorflow==2.4.1) (0.36.2)\n",
            "Requirement already satisfied: flatbuffers~=1.12.0 in /usr/local/lib/python3.7/dist-packages (from tensorflow==2.4.1) (1.12)\n",
            "Requirement already satisfied: tensorboard~=2.4 in /usr/local/lib/python3.7/dist-packages (from tensorflow==2.4.1) (2.5.0)\n",
            "Requirement already satisfied: numpy~=1.19.2 in /usr/local/lib/python3.7/dist-packages (from tensorflow==2.4.1) (1.19.5)\n",
            "Collecting tensorflow-estimator<2.5.0,>=2.4.0\n",
            "\u001b[?25l  Downloading https://files.pythonhosted.org/packages/74/7e/622d9849abf3afb81e482ffc170758742e392ee129ce1540611199a59237/tensorflow_estimator-2.4.0-py2.py3-none-any.whl (462kB)\n",
            "\u001b[K     |████████████████████████████████| 471kB 30.1MB/s \n",
            "\u001b[?25hRequirement already satisfied: astunparse~=1.6.3 in /usr/local/lib/python3.7/dist-packages (from tensorflow==2.4.1) (1.6.3)\n",
            "Requirement already satisfied: termcolor~=1.1.0 in /usr/local/lib/python3.7/dist-packages (from tensorflow==2.4.1) (1.1.0)\n",
            "Requirement already satisfied: opt-einsum~=3.3.0 in /usr/local/lib/python3.7/dist-packages (from tensorflow==2.4.1) (3.3.0)\n",
            "Requirement already satisfied: six~=1.15.0 in /usr/local/lib/python3.7/dist-packages (from tensorflow==2.4.1) (1.15.0)\n",
            "Collecting h5py~=2.10.0\n",
            "\u001b[?25l  Downloading https://files.pythonhosted.org/packages/3f/c0/abde58b837e066bca19a3f7332d9d0493521d7dd6b48248451a9e3fe2214/h5py-2.10.0-cp37-cp37m-manylinux1_x86_64.whl (2.9MB)\n",
            "\u001b[K     |████████████████████████████████| 2.9MB 26.0MB/s \n",
            "\u001b[?25hCollecting gast==0.3.3\n",
            "  Downloading https://files.pythonhosted.org/packages/d6/84/759f5dd23fec8ba71952d97bcc7e2c9d7d63bdc582421f3cd4be845f0c98/gast-0.3.3-py2.py3-none-any.whl\n",
            "Collecting grpcio~=1.32.0\n",
            "\u001b[?25l  Downloading https://files.pythonhosted.org/packages/06/54/1c8be62beafe7fb1548d2968e518ca040556b46b0275399d4f3186c56d79/grpcio-1.32.0-cp37-cp37m-manylinux2014_x86_64.whl (3.8MB)\n",
            "\u001b[K     |████████████████████████████████| 3.8MB 27.8MB/s \n",
            "\u001b[?25hRequirement already satisfied: keras-preprocessing~=1.1.2 in /usr/local/lib/python3.7/dist-packages (from tensorflow==2.4.1) (1.1.2)\n",
            "Requirement already satisfied: typing-extensions~=3.7.4 in /usr/local/lib/python3.7/dist-packages (from tensorflow==2.4.1) (3.7.4.3)\n",
            "Requirement already satisfied: wrapt~=1.12.1 in /usr/local/lib/python3.7/dist-packages (from tensorflow==2.4.1) (1.12.1)\n",
            "Requirement already satisfied: setuptools in /usr/local/lib/python3.7/dist-packages (from protobuf>=3.9.2->tensorflow==2.4.1) (57.0.0)\n",
            "Requirement already satisfied: google-auth<2,>=1.6.3 in /usr/local/lib/python3.7/dist-packages (from tensorboard~=2.4->tensorflow==2.4.1) (1.30.0)\n",
            "Requirement already satisfied: tensorboard-data-server<0.7.0,>=0.6.0 in /usr/local/lib/python3.7/dist-packages (from tensorboard~=2.4->tensorflow==2.4.1) (0.6.1)\n",
            "Requirement already satisfied: tensorboard-plugin-wit>=1.6.0 in /usr/local/lib/python3.7/dist-packages (from tensorboard~=2.4->tensorflow==2.4.1) (1.8.0)\n",
            "Requirement already satisfied: markdown>=2.6.8 in /usr/local/lib/python3.7/dist-packages (from tensorboard~=2.4->tensorflow==2.4.1) (3.3.4)\n",
            "Requirement already satisfied: requests<3,>=2.21.0 in /usr/local/lib/python3.7/dist-packages (from tensorboard~=2.4->tensorflow==2.4.1) (2.23.0)\n",
            "Requirement already satisfied: werkzeug>=0.11.15 in /usr/local/lib/python3.7/dist-packages (from tensorboard~=2.4->tensorflow==2.4.1) (1.0.1)\n",
            "Requirement already satisfied: google-auth-oauthlib<0.5,>=0.4.1 in /usr/local/lib/python3.7/dist-packages (from tensorboard~=2.4->tensorflow==2.4.1) (0.4.4)\n",
            "Requirement already satisfied: rsa<5,>=3.1.4; python_version >= \"3.6\" in /usr/local/lib/python3.7/dist-packages (from google-auth<2,>=1.6.3->tensorboard~=2.4->tensorflow==2.4.1) (4.7.2)\n",
            "Requirement already satisfied: cachetools<5.0,>=2.0.0 in /usr/local/lib/python3.7/dist-packages (from google-auth<2,>=1.6.3->tensorboard~=2.4->tensorflow==2.4.1) (4.2.2)\n",
            "Requirement already satisfied: pyasn1-modules>=0.2.1 in /usr/local/lib/python3.7/dist-packages (from google-auth<2,>=1.6.3->tensorboard~=2.4->tensorflow==2.4.1) (0.2.8)\n",
            "Requirement already satisfied: importlib-metadata; python_version < \"3.8\" in /usr/local/lib/python3.7/dist-packages (from markdown>=2.6.8->tensorboard~=2.4->tensorflow==2.4.1) (4.0.1)\n",
            "Requirement already satisfied: certifi>=2017.4.17 in /usr/local/lib/python3.7/dist-packages (from requests<3,>=2.21.0->tensorboard~=2.4->tensorflow==2.4.1) (2020.12.5)\n",
            "Requirement already satisfied: urllib3!=1.25.0,!=1.25.1,<1.26,>=1.21.1 in /usr/local/lib/python3.7/dist-packages (from requests<3,>=2.21.0->tensorboard~=2.4->tensorflow==2.4.1) (1.24.3)\n",
            "Requirement already satisfied: chardet<4,>=3.0.2 in /usr/local/lib/python3.7/dist-packages (from requests<3,>=2.21.0->tensorboard~=2.4->tensorflow==2.4.1) (3.0.4)\n",
            "Requirement already satisfied: idna<3,>=2.5 in /usr/local/lib/python3.7/dist-packages (from requests<3,>=2.21.0->tensorboard~=2.4->tensorflow==2.4.1) (2.10)\n",
            "Requirement already satisfied: requests-oauthlib>=0.7.0 in /usr/local/lib/python3.7/dist-packages (from google-auth-oauthlib<0.5,>=0.4.1->tensorboard~=2.4->tensorflow==2.4.1) (1.3.0)\n",
            "Requirement already satisfied: pyasn1>=0.1.3 in /usr/local/lib/python3.7/dist-packages (from rsa<5,>=3.1.4; python_version >= \"3.6\"->google-auth<2,>=1.6.3->tensorboard~=2.4->tensorflow==2.4.1) (0.4.8)\n",
            "Requirement already satisfied: zipp>=0.5 in /usr/local/lib/python3.7/dist-packages (from importlib-metadata; python_version < \"3.8\"->markdown>=2.6.8->tensorboard~=2.4->tensorflow==2.4.1) (3.4.1)\n",
            "Requirement already satisfied: oauthlib>=3.0.0 in /usr/local/lib/python3.7/dist-packages (from requests-oauthlib>=0.7.0->google-auth-oauthlib<0.5,>=0.4.1->tensorboard~=2.4->tensorflow==2.4.1) (3.1.0)\n",
            "Installing collected packages: tensorflow-estimator, h5py, gast, grpcio, tensorflow\n",
            "  Found existing installation: tensorflow-estimator 2.5.0\n",
            "    Uninstalling tensorflow-estimator-2.5.0:\n",
            "      Successfully uninstalled tensorflow-estimator-2.5.0\n",
            "  Found existing installation: h5py 3.1.0\n",
            "    Uninstalling h5py-3.1.0:\n",
            "      Successfully uninstalled h5py-3.1.0\n",
            "  Found existing installation: gast 0.4.0\n",
            "    Uninstalling gast-0.4.0:\n",
            "      Successfully uninstalled gast-0.4.0\n",
            "  Found existing installation: grpcio 1.34.1\n",
            "    Uninstalling grpcio-1.34.1:\n",
            "      Successfully uninstalled grpcio-1.34.1\n",
            "  Found existing installation: tensorflow 2.5.0\n",
            "    Uninstalling tensorflow-2.5.0:\n",
            "      Successfully uninstalled tensorflow-2.5.0\n",
            "Successfully installed gast-0.3.3 grpcio-1.32.0 h5py-2.10.0 tensorflow-2.4.1 tensorflow-estimator-2.4.0\n",
            "Collecting tensorflow-quantum\n",
            "\u001b[?25l  Downloading https://files.pythonhosted.org/packages/67/24/43c21d3af4c68198fe1d9cdd3233b94210e384e4861c69aab24d89015336/tensorflow_quantum-0.5.1-cp37-cp37m-manylinux_2_12_x86_64.manylinux2010_x86_64.whl (7.8MB)\n",
            "\u001b[K     |████████████████████████████████| 7.8MB 3.6MB/s \n",
            "\u001b[?25hCollecting cirq==0.11.0\n",
            "  Downloading https://files.pythonhosted.org/packages/eb/a1/3458cb4981e648e0167ea160f536d6a0f32d95e9340c7b1a081b9ef79189/cirq-0.11.0-py3-none-any.whl\n",
            "Collecting google-api-core==1.21.0\n",
            "\u001b[?25l  Downloading https://files.pythonhosted.org/packages/48/76/bd5e3ebd571b9f688ae123a2bd84b2dc9f75e1214a83b8a759bc16e2fc35/google_api_core-1.21.0-py2.py3-none-any.whl (90kB)\n",
            "\u001b[K     |████████████████████████████████| 92kB 9.6MB/s \n",
            "\u001b[?25hCollecting google-auth==1.18.0\n",
            "\u001b[?25l  Downloading https://files.pythonhosted.org/packages/21/57/d706964a7e4056f3f2244e16705388c11631fbb53d3e2d2a2d0fbc24d470/google_auth-1.18.0-py2.py3-none-any.whl (90kB)\n",
            "\u001b[K     |████████████████████████████████| 92kB 9.4MB/s \n",
            "\u001b[?25hCollecting googleapis-common-protos==1.52.0\n",
            "\u001b[?25l  Downloading https://files.pythonhosted.org/packages/03/74/3956721ea1eb4bcf7502a311fdaa60b85bd751de4e57d1943afe9b334141/googleapis_common_protos-1.52.0-py2.py3-none-any.whl (100kB)\n",
            "\u001b[K     |████████████████████████████████| 102kB 10.2MB/s \n",
            "\u001b[?25hCollecting sympy==1.5\n",
            "\u001b[?25l  Downloading https://files.pythonhosted.org/packages/4d/a7/25d5d6b3295537ab90bdbcd21e464633fb4a0684dd9a065da404487625bb/sympy-1.5-py2.py3-none-any.whl (5.6MB)\n",
            "\u001b[K     |████████████████████████████████| 5.6MB 32.8MB/s \n",
            "\u001b[?25hCollecting protobuf==3.13.0\n",
            "\u001b[?25l  Downloading https://files.pythonhosted.org/packages/71/dc/5ba56eab7440c62c5f808b4267e2a1d6c136e90293b43fefb1b493c6d704/protobuf-3.13.0-cp37-cp37m-manylinux1_x86_64.whl (1.3MB)\n",
            "\u001b[K     |████████████████████████████████| 1.3MB 32.6MB/s \n",
            "\u001b[?25hCollecting cirq-core==0.11.0\n",
            "\u001b[?25l  Downloading https://files.pythonhosted.org/packages/2f/e1/e1d174f037b3019979114155dcd9257883316bfc105a5fab360e3349d9e7/cirq_core-0.11.0-py3-none-any.whl (1.5MB)\n",
            "\u001b[K     |████████████████████████████████| 1.5MB 27.1MB/s \n",
            "\u001b[?25hCollecting cirq-google==0.11.0\n",
            "\u001b[?25l  Downloading https://files.pythonhosted.org/packages/1e/e5/72b14d2ab702184335884f05e0726f7d824483ebee2d9055b01d1f69841f/cirq_google-0.11.0-py3-none-any.whl (380kB)\n",
            "\u001b[K     |████████████████████████████████| 389kB 34.6MB/s \n",
            "\u001b[?25hRequirement already satisfied: setuptools>=34.0.0 in /usr/local/lib/python3.7/dist-packages (from google-api-core==1.21.0->tensorflow-quantum) (57.0.0)\n",
            "Requirement already satisfied: pytz in /usr/local/lib/python3.7/dist-packages (from google-api-core==1.21.0->tensorflow-quantum) (2018.9)\n",
            "Requirement already satisfied: six>=1.10.0 in /usr/local/lib/python3.7/dist-packages (from google-api-core==1.21.0->tensorflow-quantum) (1.15.0)\n",
            "Requirement already satisfied: requests<3.0.0dev,>=2.18.0 in /usr/local/lib/python3.7/dist-packages (from google-api-core==1.21.0->tensorflow-quantum) (2.23.0)\n",
            "Requirement already satisfied: pyasn1-modules>=0.2.1 in /usr/local/lib/python3.7/dist-packages (from google-auth==1.18.0->tensorflow-quantum) (0.2.8)\n",
            "Requirement already satisfied: cachetools<5.0,>=2.0.0 in /usr/local/lib/python3.7/dist-packages (from google-auth==1.18.0->tensorflow-quantum) (4.2.2)\n",
            "Requirement already satisfied: rsa<5,>=3.1.4; python_version >= \"3\" in /usr/local/lib/python3.7/dist-packages (from google-auth==1.18.0->tensorflow-quantum) (4.7.2)\n",
            "Requirement already satisfied: mpmath>=0.19 in /usr/local/lib/python3.7/dist-packages (from sympy==1.5->tensorflow-quantum) (1.2.1)\n",
            "Requirement already satisfied: matplotlib~=3.0 in /usr/local/lib/python3.7/dist-packages (from cirq-core==0.11.0->cirq==0.11.0->tensorflow-quantum) (3.2.2)\n",
            "Requirement already satisfied: tqdm in /usr/local/lib/python3.7/dist-packages (from cirq-core==0.11.0->cirq==0.11.0->tensorflow-quantum) (4.41.1)\n",
            "Requirement already satisfied: numpy~=1.16 in /usr/local/lib/python3.7/dist-packages (from cirq-core==0.11.0->cirq==0.11.0->tensorflow-quantum) (1.19.5)\n",
            "Requirement already satisfied: pandas in /usr/local/lib/python3.7/dist-packages (from cirq-core==0.11.0->cirq==0.11.0->tensorflow-quantum) (1.1.5)\n",
            "Requirement already satisfied: typing-extensions in /usr/local/lib/python3.7/dist-packages (from cirq-core==0.11.0->cirq==0.11.0->tensorflow-quantum) (3.7.4.3)\n",
            "Requirement already satisfied: sortedcontainers~=2.0 in /usr/local/lib/python3.7/dist-packages (from cirq-core==0.11.0->cirq==0.11.0->tensorflow-quantum) (2.4.0)\n",
            "Requirement already satisfied: networkx~=2.4 in /usr/local/lib/python3.7/dist-packages (from cirq-core==0.11.0->cirq==0.11.0->tensorflow-quantum) (2.5.1)\n",
            "Requirement already satisfied: scipy in /usr/local/lib/python3.7/dist-packages (from cirq-core==0.11.0->cirq==0.11.0->tensorflow-quantum) (1.4.1)\n",
            "Requirement already satisfied: chardet<4,>=3.0.2 in /usr/local/lib/python3.7/dist-packages (from requests<3.0.0dev,>=2.18.0->google-api-core==1.21.0->tensorflow-quantum) (3.0.4)\n",
            "Requirement already satisfied: certifi>=2017.4.17 in /usr/local/lib/python3.7/dist-packages (from requests<3.0.0dev,>=2.18.0->google-api-core==1.21.0->tensorflow-quantum) (2020.12.5)\n",
            "Requirement already satisfied: idna<3,>=2.5 in /usr/local/lib/python3.7/dist-packages (from requests<3.0.0dev,>=2.18.0->google-api-core==1.21.0->tensorflow-quantum) (2.10)\n",
            "Requirement already satisfied: urllib3!=1.25.0,!=1.25.1,<1.26,>=1.21.1 in /usr/local/lib/python3.7/dist-packages (from requests<3.0.0dev,>=2.18.0->google-api-core==1.21.0->tensorflow-quantum) (1.24.3)\n",
            "Requirement already satisfied: pyasn1<0.5.0,>=0.4.6 in /usr/local/lib/python3.7/dist-packages (from pyasn1-modules>=0.2.1->google-auth==1.18.0->tensorflow-quantum) (0.4.8)\n",
            "Requirement already satisfied: pyparsing!=2.0.4,!=2.1.2,!=2.1.6,>=2.0.1 in /usr/local/lib/python3.7/dist-packages (from matplotlib~=3.0->cirq-core==0.11.0->cirq==0.11.0->tensorflow-quantum) (2.4.7)\n",
            "Requirement already satisfied: python-dateutil>=2.1 in /usr/local/lib/python3.7/dist-packages (from matplotlib~=3.0->cirq-core==0.11.0->cirq==0.11.0->tensorflow-quantum) (2.8.1)\n",
            "Requirement already satisfied: cycler>=0.10 in /usr/local/lib/python3.7/dist-packages (from matplotlib~=3.0->cirq-core==0.11.0->cirq==0.11.0->tensorflow-quantum) (0.10.0)\n",
            "Requirement already satisfied: kiwisolver>=1.0.1 in /usr/local/lib/python3.7/dist-packages (from matplotlib~=3.0->cirq-core==0.11.0->cirq==0.11.0->tensorflow-quantum) (1.3.1)\n",
            "Requirement already satisfied: decorator<5,>=4.3 in /usr/local/lib/python3.7/dist-packages (from networkx~=2.4->cirq-core==0.11.0->cirq==0.11.0->tensorflow-quantum) (4.4.2)\n",
            "Installing collected packages: sympy, cirq-core, protobuf, google-auth, googleapis-common-protos, google-api-core, cirq-google, cirq, tensorflow-quantum\n",
            "  Found existing installation: sympy 1.7.1\n",
            "    Uninstalling sympy-1.7.1:\n",
            "      Successfully uninstalled sympy-1.7.1\n",
            "  Found existing installation: protobuf 3.12.4\n",
            "    Uninstalling protobuf-3.12.4:\n",
            "      Successfully uninstalled protobuf-3.12.4\n",
            "  Found existing installation: google-auth 1.30.0\n",
            "    Uninstalling google-auth-1.30.0:\n",
            "      Successfully uninstalled google-auth-1.30.0\n",
            "  Found existing installation: googleapis-common-protos 1.53.0\n",
            "    Uninstalling googleapis-common-protos-1.53.0:\n",
            "      Successfully uninstalled googleapis-common-protos-1.53.0\n",
            "  Found existing installation: google-api-core 1.26.3\n",
            "    Uninstalling google-api-core-1.26.3:\n",
            "      Successfully uninstalled google-api-core-1.26.3\n",
            "Successfully installed cirq-0.11.0 cirq-core-0.11.0 cirq-google-0.11.0 google-api-core-1.21.0 google-auth-1.18.0 googleapis-common-protos-1.52.0 protobuf-3.13.0 sympy-1.5 tensorflow-quantum-0.5.1\n"
          ],
          "name": "stdout"
        },
        {
          "output_type": "display_data",
          "data": {
            "application/vnd.colab-display-data+json": {
              "pip_warning": {
                "packages": [
                  "google"
                ]
              }
            }
          },
          "metadata": {
            "tags": []
          }
        }
      ]
    },
    {
      "cell_type": "code",
      "metadata": {
        "id": "1NNxVJ-ZQ8ol"
      },
      "source": [
        "import tensorflow as tf\n",
        "import tensorflow_quantum as tfq\n",
        "\n",
        "import cirq\n",
        "import sympy\n",
        "import numpy as np\n",
        "\n",
        "# visualization tools\n",
        "%matplotlib inline\n",
        "import matplotlib.pyplot as plt\n",
        "from cirq.contrib.svg import SVGCircuit"
      ],
      "execution_count": null,
      "outputs": []
    },
    {
      "cell_type": "code",
      "metadata": {
        "id": "3bNTMvWoRAos"
      },
      "source": [
        "import pandas as pd"
      ],
      "execution_count": null,
      "outputs": []
    },
    {
      "cell_type": "code",
      "metadata": {
        "id": "P9wqueHSfDLb"
      },
      "source": [
        "tf.random.set_seed(0)"
      ],
      "execution_count": null,
      "outputs": []
    },
    {
      "cell_type": "markdown",
      "metadata": {
        "id": "1YnurNe8SyPG"
      },
      "source": [
        "## Nature Dataset"
      ]
    },
    {
      "cell_type": "code",
      "metadata": {
        "colab": {
          "base_uri": "https://localhost:8080/"
        },
        "id": "iWF3B_w3S2iA",
        "outputId": "e14c1f2a-e2b9-4ec6-8503-58989a5847ae"
      },
      "source": [
        "df_ori = pd.read_csv(\"Direct_Kernel_Set_II_Classifications.csv\")\n",
        "# df_ori = pd.read_csv(\"Direct_Kernel_Set_III_Training.csv\")\n",
        "df_ori = df_ori.values\n",
        "df_ori[:5]"
      ],
      "execution_count": null,
      "outputs": [
        {
          "output_type": "execute_result",
          "data": {
            "text/plain": [
              "array([[0.        , 5.34070751, 4.20973416, 1.        , 2.1733763 ],\n",
              "       [1.        , 0.25132741, 0.43982297, 1.        , 1.03404742],\n",
              "       [2.        , 1.0681415 , 1.63362818, 1.        , 1.83327043],\n",
              "       [3.        , 1.44513262, 4.90088454, 1.        , 2.63771939],\n",
              "       [4.        , 5.90619419, 0.18849556, 1.        , 2.0147052 ]])"
            ]
          },
          "metadata": {
            "tags": []
          },
          "execution_count": 20
        }
      ]
    },
    {
      "cell_type": "code",
      "metadata": {
        "colab": {
          "base_uri": "https://localhost:8080/"
        },
        "id": "VTYM_F-JUFcy",
        "outputId": "6cf3ad73-a8ad-4c1b-a6b6-740da8c83f2c"
      },
      "source": [
        "data = df_ori[:,[1,2]]\n",
        "data_label = df_ori[:,3]\n",
        "data_label = (data_label == 1).astype(np.int)\n",
        "print(data[:10])\n",
        "print(data_label[:10])"
      ],
      "execution_count": null,
      "outputs": [
        {
          "output_type": "stream",
          "text": [
            "[[5.34070751 4.20973416]\n",
            " [0.25132741 0.43982297]\n",
            " [1.0681415  1.63362818]\n",
            " [1.44513262 4.90088454]\n",
            " [5.90619419 0.18849556]\n",
            " [3.39292007 0.25132741]\n",
            " [5.15221195 4.71238898]\n",
            " [4.71238898 4.83805269]\n",
            " [5.96902604 3.70707933]\n",
            " [5.02654825 4.96371639]]\n",
            "[1 1 1 1 1 1 1 1 1 1]\n"
          ],
          "name": "stdout"
        }
      ]
    },
    {
      "cell_type": "markdown",
      "metadata": {
        "id": "Vao1hcZaU9Yu"
      },
      "source": [
        "## Paper Dataset"
      ]
    },
    {
      "cell_type": "code",
      "metadata": {
        "colab": {
          "base_uri": "https://localhost:8080/",
          "height": 371
        },
        "id": "U1LSfarCXCNV",
        "outputId": "fcb0aefc-6b23-49f2-a764-0a60c0ea2ff7"
      },
      "source": [
        "df_ori = pd.read_excel(\"quantum_data_0609.xlsx\")\n",
        "df_ori = df_ori.values\n",
        "df_ori[:5]"
      ],
      "execution_count": null,
      "outputs": [
        {
          "output_type": "error",
          "ename": "FileNotFoundError",
          "evalue": "ignored",
          "traceback": [
            "\u001b[0;31m---------------------------------------------------------------------------\u001b[0m",
            "\u001b[0;31mFileNotFoundError\u001b[0m                         Traceback (most recent call last)",
            "\u001b[0;32m<ipython-input-5-7409a930ea25>\u001b[0m in \u001b[0;36m<module>\u001b[0;34m()\u001b[0m\n\u001b[0;32m----> 1\u001b[0;31m \u001b[0mdf_ori\u001b[0m \u001b[0;34m=\u001b[0m \u001b[0mpd\u001b[0m\u001b[0;34m.\u001b[0m\u001b[0mread_excel\u001b[0m\u001b[0;34m(\u001b[0m\u001b[0;34m\"quantum_data_0609.xlsx\"\u001b[0m\u001b[0;34m)\u001b[0m\u001b[0;34m\u001b[0m\u001b[0;34m\u001b[0m\u001b[0m\n\u001b[0m\u001b[1;32m      2\u001b[0m \u001b[0mdf_ori\u001b[0m \u001b[0;34m=\u001b[0m \u001b[0mdf_ori\u001b[0m\u001b[0;34m.\u001b[0m\u001b[0mvalues\u001b[0m\u001b[0;34m\u001b[0m\u001b[0;34m\u001b[0m\u001b[0m\n\u001b[1;32m      3\u001b[0m \u001b[0mdf_ori\u001b[0m\u001b[0;34m[\u001b[0m\u001b[0;34m:\u001b[0m\u001b[0;36m5\u001b[0m\u001b[0;34m]\u001b[0m\u001b[0;34m\u001b[0m\u001b[0;34m\u001b[0m\u001b[0m\n",
            "\u001b[0;32m/usr/local/lib/python3.7/dist-packages/pandas/util/_decorators.py\u001b[0m in \u001b[0;36mwrapper\u001b[0;34m(*args, **kwargs)\u001b[0m\n\u001b[1;32m    294\u001b[0m                 )\n\u001b[1;32m    295\u001b[0m                 \u001b[0mwarnings\u001b[0m\u001b[0;34m.\u001b[0m\u001b[0mwarn\u001b[0m\u001b[0;34m(\u001b[0m\u001b[0mmsg\u001b[0m\u001b[0;34m,\u001b[0m \u001b[0mFutureWarning\u001b[0m\u001b[0;34m,\u001b[0m \u001b[0mstacklevel\u001b[0m\u001b[0;34m=\u001b[0m\u001b[0mstacklevel\u001b[0m\u001b[0;34m)\u001b[0m\u001b[0;34m\u001b[0m\u001b[0;34m\u001b[0m\u001b[0m\n\u001b[0;32m--> 296\u001b[0;31m             \u001b[0;32mreturn\u001b[0m \u001b[0mfunc\u001b[0m\u001b[0;34m(\u001b[0m\u001b[0;34m*\u001b[0m\u001b[0margs\u001b[0m\u001b[0;34m,\u001b[0m \u001b[0;34m**\u001b[0m\u001b[0mkwargs\u001b[0m\u001b[0;34m)\u001b[0m\u001b[0;34m\u001b[0m\u001b[0;34m\u001b[0m\u001b[0m\n\u001b[0m\u001b[1;32m    297\u001b[0m \u001b[0;34m\u001b[0m\u001b[0m\n\u001b[1;32m    298\u001b[0m         \u001b[0;32mreturn\u001b[0m \u001b[0mwrapper\u001b[0m\u001b[0;34m\u001b[0m\u001b[0;34m\u001b[0m\u001b[0m\n",
            "\u001b[0;32m/usr/local/lib/python3.7/dist-packages/pandas/io/excel/_base.py\u001b[0m in \u001b[0;36mread_excel\u001b[0;34m(io, sheet_name, header, names, index_col, usecols, squeeze, dtype, engine, converters, true_values, false_values, skiprows, nrows, na_values, keep_default_na, na_filter, verbose, parse_dates, date_parser, thousands, comment, skipfooter, convert_float, mangle_dupe_cols)\u001b[0m\n\u001b[1;32m    302\u001b[0m \u001b[0;34m\u001b[0m\u001b[0m\n\u001b[1;32m    303\u001b[0m     \u001b[0;32mif\u001b[0m \u001b[0;32mnot\u001b[0m \u001b[0misinstance\u001b[0m\u001b[0;34m(\u001b[0m\u001b[0mio\u001b[0m\u001b[0;34m,\u001b[0m \u001b[0mExcelFile\u001b[0m\u001b[0;34m)\u001b[0m\u001b[0;34m:\u001b[0m\u001b[0;34m\u001b[0m\u001b[0;34m\u001b[0m\u001b[0m\n\u001b[0;32m--> 304\u001b[0;31m         \u001b[0mio\u001b[0m \u001b[0;34m=\u001b[0m \u001b[0mExcelFile\u001b[0m\u001b[0;34m(\u001b[0m\u001b[0mio\u001b[0m\u001b[0;34m,\u001b[0m \u001b[0mengine\u001b[0m\u001b[0;34m=\u001b[0m\u001b[0mengine\u001b[0m\u001b[0;34m)\u001b[0m\u001b[0;34m\u001b[0m\u001b[0;34m\u001b[0m\u001b[0m\n\u001b[0m\u001b[1;32m    305\u001b[0m     \u001b[0;32melif\u001b[0m \u001b[0mengine\u001b[0m \u001b[0;32mand\u001b[0m \u001b[0mengine\u001b[0m \u001b[0;34m!=\u001b[0m \u001b[0mio\u001b[0m\u001b[0;34m.\u001b[0m\u001b[0mengine\u001b[0m\u001b[0;34m:\u001b[0m\u001b[0;34m\u001b[0m\u001b[0;34m\u001b[0m\u001b[0m\n\u001b[1;32m    306\u001b[0m         raise ValueError(\n",
            "\u001b[0;32m/usr/local/lib/python3.7/dist-packages/pandas/io/excel/_base.py\u001b[0m in \u001b[0;36m__init__\u001b[0;34m(self, path_or_buffer, engine)\u001b[0m\n\u001b[1;32m    865\u001b[0m         \u001b[0mself\u001b[0m\u001b[0;34m.\u001b[0m\u001b[0m_io\u001b[0m \u001b[0;34m=\u001b[0m \u001b[0mstringify_path\u001b[0m\u001b[0;34m(\u001b[0m\u001b[0mpath_or_buffer\u001b[0m\u001b[0;34m)\u001b[0m\u001b[0;34m\u001b[0m\u001b[0;34m\u001b[0m\u001b[0m\n\u001b[1;32m    866\u001b[0m \u001b[0;34m\u001b[0m\u001b[0m\n\u001b[0;32m--> 867\u001b[0;31m         \u001b[0mself\u001b[0m\u001b[0;34m.\u001b[0m\u001b[0m_reader\u001b[0m \u001b[0;34m=\u001b[0m \u001b[0mself\u001b[0m\u001b[0;34m.\u001b[0m\u001b[0m_engines\u001b[0m\u001b[0;34m[\u001b[0m\u001b[0mengine\u001b[0m\u001b[0;34m]\u001b[0m\u001b[0;34m(\u001b[0m\u001b[0mself\u001b[0m\u001b[0;34m.\u001b[0m\u001b[0m_io\u001b[0m\u001b[0;34m)\u001b[0m\u001b[0;34m\u001b[0m\u001b[0;34m\u001b[0m\u001b[0m\n\u001b[0m\u001b[1;32m    868\u001b[0m \u001b[0;34m\u001b[0m\u001b[0m\n\u001b[1;32m    869\u001b[0m     \u001b[0;32mdef\u001b[0m \u001b[0m__fspath__\u001b[0m\u001b[0;34m(\u001b[0m\u001b[0mself\u001b[0m\u001b[0;34m)\u001b[0m\u001b[0;34m:\u001b[0m\u001b[0;34m\u001b[0m\u001b[0;34m\u001b[0m\u001b[0m\n",
            "\u001b[0;32m/usr/local/lib/python3.7/dist-packages/pandas/io/excel/_xlrd.py\u001b[0m in \u001b[0;36m__init__\u001b[0;34m(self, filepath_or_buffer)\u001b[0m\n\u001b[1;32m     20\u001b[0m         \u001b[0merr_msg\u001b[0m \u001b[0;34m=\u001b[0m \u001b[0;34m\"Install xlrd >= 1.0.0 for Excel support\"\u001b[0m\u001b[0;34m\u001b[0m\u001b[0;34m\u001b[0m\u001b[0m\n\u001b[1;32m     21\u001b[0m         \u001b[0mimport_optional_dependency\u001b[0m\u001b[0;34m(\u001b[0m\u001b[0;34m\"xlrd\"\u001b[0m\u001b[0;34m,\u001b[0m \u001b[0mextra\u001b[0m\u001b[0;34m=\u001b[0m\u001b[0merr_msg\u001b[0m\u001b[0;34m)\u001b[0m\u001b[0;34m\u001b[0m\u001b[0;34m\u001b[0m\u001b[0m\n\u001b[0;32m---> 22\u001b[0;31m         \u001b[0msuper\u001b[0m\u001b[0;34m(\u001b[0m\u001b[0;34m)\u001b[0m\u001b[0;34m.\u001b[0m\u001b[0m__init__\u001b[0m\u001b[0;34m(\u001b[0m\u001b[0mfilepath_or_buffer\u001b[0m\u001b[0;34m)\u001b[0m\u001b[0;34m\u001b[0m\u001b[0;34m\u001b[0m\u001b[0m\n\u001b[0m\u001b[1;32m     23\u001b[0m \u001b[0;34m\u001b[0m\u001b[0m\n\u001b[1;32m     24\u001b[0m     \u001b[0;34m@\u001b[0m\u001b[0mproperty\u001b[0m\u001b[0;34m\u001b[0m\u001b[0;34m\u001b[0m\u001b[0m\n",
            "\u001b[0;32m/usr/local/lib/python3.7/dist-packages/pandas/io/excel/_base.py\u001b[0m in \u001b[0;36m__init__\u001b[0;34m(self, filepath_or_buffer)\u001b[0m\n\u001b[1;32m    351\u001b[0m             \u001b[0mself\u001b[0m\u001b[0;34m.\u001b[0m\u001b[0mbook\u001b[0m \u001b[0;34m=\u001b[0m \u001b[0mself\u001b[0m\u001b[0;34m.\u001b[0m\u001b[0mload_workbook\u001b[0m\u001b[0;34m(\u001b[0m\u001b[0mfilepath_or_buffer\u001b[0m\u001b[0;34m)\u001b[0m\u001b[0;34m\u001b[0m\u001b[0;34m\u001b[0m\u001b[0m\n\u001b[1;32m    352\u001b[0m         \u001b[0;32melif\u001b[0m \u001b[0misinstance\u001b[0m\u001b[0;34m(\u001b[0m\u001b[0mfilepath_or_buffer\u001b[0m\u001b[0;34m,\u001b[0m \u001b[0mstr\u001b[0m\u001b[0;34m)\u001b[0m\u001b[0;34m:\u001b[0m\u001b[0;34m\u001b[0m\u001b[0;34m\u001b[0m\u001b[0m\n\u001b[0;32m--> 353\u001b[0;31m             \u001b[0mself\u001b[0m\u001b[0;34m.\u001b[0m\u001b[0mbook\u001b[0m \u001b[0;34m=\u001b[0m \u001b[0mself\u001b[0m\u001b[0;34m.\u001b[0m\u001b[0mload_workbook\u001b[0m\u001b[0;34m(\u001b[0m\u001b[0mfilepath_or_buffer\u001b[0m\u001b[0;34m)\u001b[0m\u001b[0;34m\u001b[0m\u001b[0;34m\u001b[0m\u001b[0m\n\u001b[0m\u001b[1;32m    354\u001b[0m         \u001b[0;32melif\u001b[0m \u001b[0misinstance\u001b[0m\u001b[0;34m(\u001b[0m\u001b[0mfilepath_or_buffer\u001b[0m\u001b[0;34m,\u001b[0m \u001b[0mbytes\u001b[0m\u001b[0;34m)\u001b[0m\u001b[0;34m:\u001b[0m\u001b[0;34m\u001b[0m\u001b[0;34m\u001b[0m\u001b[0m\n\u001b[1;32m    355\u001b[0m             \u001b[0mself\u001b[0m\u001b[0;34m.\u001b[0m\u001b[0mbook\u001b[0m \u001b[0;34m=\u001b[0m \u001b[0mself\u001b[0m\u001b[0;34m.\u001b[0m\u001b[0mload_workbook\u001b[0m\u001b[0;34m(\u001b[0m\u001b[0mBytesIO\u001b[0m\u001b[0;34m(\u001b[0m\u001b[0mfilepath_or_buffer\u001b[0m\u001b[0;34m)\u001b[0m\u001b[0;34m)\u001b[0m\u001b[0;34m\u001b[0m\u001b[0;34m\u001b[0m\u001b[0m\n",
            "\u001b[0;32m/usr/local/lib/python3.7/dist-packages/pandas/io/excel/_xlrd.py\u001b[0m in \u001b[0;36mload_workbook\u001b[0;34m(self, filepath_or_buffer)\u001b[0m\n\u001b[1;32m     35\u001b[0m             \u001b[0;32mreturn\u001b[0m \u001b[0mopen_workbook\u001b[0m\u001b[0;34m(\u001b[0m\u001b[0mfile_contents\u001b[0m\u001b[0;34m=\u001b[0m\u001b[0mdata\u001b[0m\u001b[0;34m)\u001b[0m\u001b[0;34m\u001b[0m\u001b[0;34m\u001b[0m\u001b[0m\n\u001b[1;32m     36\u001b[0m         \u001b[0;32melse\u001b[0m\u001b[0;34m:\u001b[0m\u001b[0;34m\u001b[0m\u001b[0;34m\u001b[0m\u001b[0m\n\u001b[0;32m---> 37\u001b[0;31m             \u001b[0;32mreturn\u001b[0m \u001b[0mopen_workbook\u001b[0m\u001b[0;34m(\u001b[0m\u001b[0mfilepath_or_buffer\u001b[0m\u001b[0;34m)\u001b[0m\u001b[0;34m\u001b[0m\u001b[0;34m\u001b[0m\u001b[0m\n\u001b[0m\u001b[1;32m     38\u001b[0m \u001b[0;34m\u001b[0m\u001b[0m\n\u001b[1;32m     39\u001b[0m     \u001b[0;34m@\u001b[0m\u001b[0mproperty\u001b[0m\u001b[0;34m\u001b[0m\u001b[0;34m\u001b[0m\u001b[0m\n",
            "\u001b[0;32m/usr/local/lib/python3.7/dist-packages/xlrd/__init__.py\u001b[0m in \u001b[0;36mopen_workbook\u001b[0;34m(filename, logfile, verbosity, use_mmap, file_contents, encoding_override, formatting_info, on_demand, ragged_rows)\u001b[0m\n\u001b[1;32m    114\u001b[0m         \u001b[0mpeek\u001b[0m \u001b[0;34m=\u001b[0m \u001b[0mfile_contents\u001b[0m\u001b[0;34m[\u001b[0m\u001b[0;34m:\u001b[0m\u001b[0mpeeksz\u001b[0m\u001b[0;34m]\u001b[0m\u001b[0;34m\u001b[0m\u001b[0;34m\u001b[0m\u001b[0m\n\u001b[1;32m    115\u001b[0m     \u001b[0;32melse\u001b[0m\u001b[0;34m:\u001b[0m\u001b[0;34m\u001b[0m\u001b[0;34m\u001b[0m\u001b[0m\n\u001b[0;32m--> 116\u001b[0;31m         \u001b[0;32mwith\u001b[0m \u001b[0mopen\u001b[0m\u001b[0;34m(\u001b[0m\u001b[0mfilename\u001b[0m\u001b[0;34m,\u001b[0m \u001b[0;34m\"rb\"\u001b[0m\u001b[0;34m)\u001b[0m \u001b[0;32mas\u001b[0m \u001b[0mf\u001b[0m\u001b[0;34m:\u001b[0m\u001b[0;34m\u001b[0m\u001b[0;34m\u001b[0m\u001b[0m\n\u001b[0m\u001b[1;32m    117\u001b[0m             \u001b[0mpeek\u001b[0m \u001b[0;34m=\u001b[0m \u001b[0mf\u001b[0m\u001b[0;34m.\u001b[0m\u001b[0mread\u001b[0m\u001b[0;34m(\u001b[0m\u001b[0mpeeksz\u001b[0m\u001b[0;34m)\u001b[0m\u001b[0;34m\u001b[0m\u001b[0;34m\u001b[0m\u001b[0m\n\u001b[1;32m    118\u001b[0m     \u001b[0;32mif\u001b[0m \u001b[0mpeek\u001b[0m \u001b[0;34m==\u001b[0m \u001b[0;34mb\"PK\\x03\\x04\"\u001b[0m\u001b[0;34m:\u001b[0m \u001b[0;31m# a ZIP file\u001b[0m\u001b[0;34m\u001b[0m\u001b[0;34m\u001b[0m\u001b[0m\n",
            "\u001b[0;31mFileNotFoundError\u001b[0m: [Errno 2] No such file or directory: 'quantum_data_0609.xlsx'"
          ]
        }
      ]
    },
    {
      "cell_type": "code",
      "metadata": {
        "id": "VXbCxraYXKJM"
      },
      "source": [
        "data = df_ori[:,[0,1]]\n",
        "data_label = df_ori[:,2]\n",
        "print(data[:5])\n",
        "print(data_label[:5])"
      ],
      "execution_count": null,
      "outputs": []
    },
    {
      "cell_type": "markdown",
      "metadata": {
        "id": "b4j4GhL0UROw"
      },
      "source": [
        "## Other Data"
      ]
    },
    {
      "cell_type": "code",
      "metadata": {
        "colab": {
          "base_uri": "https://localhost:8080/"
        },
        "id": "7MaFUZAfUP34",
        "outputId": "04aff488-369f-4f73-ff62-c23d57e2ecc7"
      },
      "source": [
        "# filename = \"input_spiral.txt\"\n",
        "filename = \"input_spiral.txt\"\n",
        "f=open(filename,\"r\")\n",
        "lines=f.readlines()\n",
        "result=[]\n",
        "for x in lines:\n",
        "    result.append(x.split('\\t'))\n",
        "f.close()\n",
        "\n",
        "data = np.zeros((200,2))\n",
        "data_label = np.zeros((200))\n",
        "for i in range(200):\n",
        "  data[i,0] = float(result[i+1][1])\n",
        "  data[i,1] = float(result[i+1][2])\n",
        "  data_label[i] = int((result[i+1][8]).replace('\\n',\"\"))\n",
        "data_label = (data_label==1).astype(np.int)\n",
        "print(data[:5])\n",
        "print(data_label[:5])"
      ],
      "execution_count": null,
      "outputs": [
        {
          "output_type": "stream",
          "text": [
            "[[ 1.53765443 -3.60292843]\n",
            " [ 0.58596151 -0.280281  ]\n",
            " [-0.25330696 -0.38548696]\n",
            " [-0.76327072  0.2826243 ]\n",
            " [ 0.47342952 -2.543543  ]]\n",
            "[1 1 0 0 0]\n"
          ],
          "name": "stdout"
        }
      ]
    },
    {
      "cell_type": "markdown",
      "metadata": {
        "id": "Egz8ROrXU0y_"
      },
      "source": [
        "## Dataset distribution"
      ]
    },
    {
      "cell_type": "code",
      "metadata": {
        "colab": {
          "base_uri": "https://localhost:8080/",
          "height": 282
        },
        "id": "Sh5yp631SnHT",
        "outputId": "71b06181-8b51-4c09-c390-fc88c3bd9359"
      },
      "source": [
        "plt.scatter(data[data_label==0,0],data[data_label==0,1], marker='o')\n",
        "plt.scatter(data[data_label==1,0],data[data_label==1,1], marker='x')"
      ],
      "execution_count": null,
      "outputs": [
        {
          "output_type": "execute_result",
          "data": {
            "text/plain": [
              "<matplotlib.collections.PathCollection at 0x7fee44add050>"
            ]
          },
          "metadata": {
            "tags": []
          },
          "execution_count": 22
        },
        {
          "output_type": "display_data",
          "data": {
            "image/png": "[encoded data removed]",
            "text/plain": [
              "<Figure size 432x288 with 1 Axes>"
            ]
          },
          "metadata": {
            "tags": [],
            "needs_background": "light"
          }
        }
      ]
    },
    {
      "cell_type": "code",
      "metadata": {
        "colab": {
          "base_uri": "https://localhost:8080/"
        },
        "id": "hL6fJ53zSicz",
        "outputId": "5a11edbb-0420-4608-dc17-ae23a41013de"
      },
      "source": [
        "input_data = (data[:,0]**2+data[:,1]**2)\n",
        "input_data = input_data.flatten()\n",
        "label = data_label.flatten()\n",
        "\n",
        "idx = np.random.permutation(len(label))\n",
        "input_data,label = input_data[idx], label[idx]\n",
        "\n",
        "q0, q1 = cirq.GridQubit.rect(1, 2)\n",
        "q_data =[cirq.Circuit(\n",
        "        cirq.ry(i)(q0),\n",
        "        cirq.ry(i)(q1)) for i in input_data] \n",
        "print(q_data[:5])\n",
        "q_data = tfq.convert_to_tensor(q_data)\n",
        "\n",
        "n = label.shape[0]//5*4\n",
        "n1 = label.shape[0]//10*9\n",
        "print(n)\n",
        "\n",
        "x_train = q_data[:n]\n",
        "y_train = label[:n]\n",
        "x_val = q_data[n:n1]\n",
        "y_val = label[n:n1]\n",
        "x_test = q_data[n1:]\n",
        "y_test = label[n1:]"
      ],
      "execution_count": null,
      "outputs": [
        {
          "output_type": "stream",
          "text": [
            "[cirq.Circuit([\n",
            "    cirq.Moment(\n",
            "        cirq.Ry(rads=0.006598461919992754).on(cirq.GridQubit(0, 0)),\n",
            "        cirq.Ry(rads=0.006598461919992754).on(cirq.GridQubit(0, 1)),\n",
            "    ),\n",
            "]), cirq.Circuit([\n",
            "    cirq.Moment(\n",
            "        cirq.Ry(rads=9.533525453348142).on(cirq.GridQubit(0, 0)),\n",
            "        cirq.Ry(rads=9.533525453348142).on(cirq.GridQubit(0, 1)),\n",
            "    ),\n",
            "]), cirq.Circuit([\n",
            "    cirq.Moment(\n",
            "        cirq.Ry(rads=10.25705381914498).on(cirq.GridQubit(0, 0)),\n",
            "        cirq.Ry(rads=10.25705381914498).on(cirq.GridQubit(0, 1)),\n",
            "    ),\n",
            "]), cirq.Circuit([\n",
            "    cirq.Moment(\n",
            "        cirq.Ry(rads=0.6294073200626558).on(cirq.GridQubit(0, 0)),\n",
            "        cirq.Ry(rads=0.6294073200626558).on(cirq.GridQubit(0, 1)),\n",
            "    ),\n",
            "]), cirq.Circuit([\n",
            "    cirq.Moment(\n",
            "        cirq.Ry(rads=0.21276461127386506).on(cirq.GridQubit(0, 0)),\n",
            "        cirq.Ry(rads=0.21276461127386506).on(cirq.GridQubit(0, 1)),\n",
            "    ),\n",
            "])]\n",
            "160\n"
          ],
          "name": "stdout"
        }
      ]
    },
    {
      "cell_type": "code",
      "metadata": {
        "colab": {
          "base_uri": "https://localhost:8080/",
          "height": 121
        },
        "id": "joYfniguSo6D",
        "outputId": "e2afab2c-363a-4023-8431-5e2001172f3d"
      },
      "source": [
        "theta1 = sympy.Symbol('theta1')\n",
        "theta2 = sympy.Symbol('theta2')\n",
        "theta3 = sympy.Symbol('theta3')\n",
        "theta4 = sympy.Symbol('theta4')\n",
        "theta5 = sympy.Symbol('theta5')\n",
        "theta6 = sympy.Symbol('theta6')\n",
        "theta7 = sympy.Symbol('theta7')\n",
        "theta8 = sympy.Symbol('theta8')\n",
        "circuit = cirq.Circuit(\n",
        "    cirq.ry(theta1).on(q0),\n",
        "    cirq.ry(theta2).on(q1), cirq.CZ(q0, q1),\n",
        "    cirq.ry(theta3).on(q0),\n",
        "    cirq.ry(theta4).on(q1), cirq.CZ(q0, q1),\n",
        "    cirq.ry(theta5).on(q0),\n",
        "    cirq.ry(theta6).on(q1), cirq.CZ(q0, q1),\n",
        "    cirq.ry(theta7).on(q0),\n",
        "    cirq.ry(theta8).on(q1), cirq.CZ(q0, q1))\n",
        "SVGCircuit(circuit)"
      ],
      "execution_count": null,
      "outputs": [
        {
          "output_type": "execute_result",
          "data": {
            "text/plain": [
              "<cirq.contrib.svg.svg.SVGCircuit at 0x7f8ca82a75d0>"
            ],
            "image/svg+xml": "<svg xmlns=\"http://www.w3.org/2000/svg\" width=\"755.682109375\" height=\"100.0\"><line x1=\"34.7588671875\" x2=\"725.682109375\" y1=\"25.0\" y2=\"25.0\" stroke=\"#1967d2\" stroke-width=\"1\" /><line x1=\"34.7588671875\" x2=\"725.682109375\" y1=\"75.0\" y2=\"75.0\" stroke=\"#1967d2\" stroke-width=\"1\" /><line x1=\"201.058828125\" x2=\"201.058828125\" y1=\"25.0\" y2=\"75.0\" stroke=\"black\" stroke-width=\"3\" /><line x1=\"362.599921875\" x2=\"362.599921875\" y1=\"25.0\" y2=\"75.0\" stroke=\"black\" stroke-width=\"3\" /><line x1=\"524.141015625\" x2=\"524.141015625\" y1=\"25.0\" y2=\"75.0\" stroke=\"black\" stroke-width=\"3\" /><line x1=\"685.682109375\" x2=\"685.682109375\" y1=\"25.0\" y2=\"75.0\" stroke=\"black\" stroke-width=\"3\" /><rect x=\"10.0\" y=\"5.0\" width=\"49.517734375\" height=\"40\" stroke=\"black\" fill=\"white\" stroke-width=\"0\" /><text x=\"34.7588671875\" y=\"25.0\" dominant-baseline=\"middle\" text-anchor=\"middle\" font-size=\"14px\" font-family=\"Arial\">(0, 0): </text><rect x=\"10.0\" y=\"55.0\" width=\"49.517734375\" height=\"40\" stroke=\"black\" fill=\"white\" stroke-width=\"0\" /><text x=\"34.7588671875\" y=\"75.0\" dominant-baseline=\"middle\" text-anchor=\"middle\" font-size=\"14px\" font-family=\"Arial\">(0, 1): </text><rect x=\"79.517734375\" y=\"5.0\" width=\"81.54109375\" height=\"40\" stroke=\"black\" fill=\"white\" stroke-width=\"1\" /><text x=\"120.28828125000001\" y=\"25.0\" dominant-baseline=\"middle\" text-anchor=\"middle\" font-size=\"14px\" font-family=\"Arial\">Ry(theta1)</text><rect x=\"79.517734375\" y=\"55.0\" width=\"81.54109375\" height=\"40\" stroke=\"black\" fill=\"white\" stroke-width=\"1\" /><text x=\"120.28828125000001\" y=\"75.0\" dominant-baseline=\"middle\" text-anchor=\"middle\" font-size=\"14px\" font-family=\"Arial\">Ry(theta2)</text><circle cx=\"201.058828125\" cy=\"25.0\" r=\"10.0\" /><circle cx=\"201.058828125\" cy=\"75.0\" r=\"10.0\" /><rect x=\"241.05882812499996\" y=\"5.0\" width=\"81.54109375\" height=\"40\" stroke=\"black\" fill=\"white\" stroke-width=\"1\" /><text x=\"281.82937499999997\" y=\"25.0\" dominant-baseline=\"middle\" text-anchor=\"middle\" font-size=\"14px\" font-family=\"Arial\">Ry(theta3)</text><rect x=\"241.05882812499996\" y=\"55.0\" width=\"81.54109375\" height=\"40\" stroke=\"black\" fill=\"white\" stroke-width=\"1\" /><text x=\"281.82937499999997\" y=\"75.0\" dominant-baseline=\"middle\" text-anchor=\"middle\" font-size=\"14px\" font-family=\"Arial\">Ry(theta4)</text><circle cx=\"362.599921875\" cy=\"25.0\" r=\"10.0\" /><circle cx=\"362.599921875\" cy=\"75.0\" r=\"10.0\" /><rect x=\"402.599921875\" y=\"5.0\" width=\"81.54109375\" height=\"40\" stroke=\"black\" fill=\"white\" stroke-width=\"1\" /><text x=\"443.37046875\" y=\"25.0\" dominant-baseline=\"middle\" text-anchor=\"middle\" font-size=\"14px\" font-family=\"Arial\">Ry(theta5)</text><rect x=\"402.599921875\" y=\"55.0\" width=\"81.54109375\" height=\"40\" stroke=\"black\" fill=\"white\" stroke-width=\"1\" /><text x=\"443.37046875\" y=\"75.0\" dominant-baseline=\"middle\" text-anchor=\"middle\" font-size=\"14px\" font-family=\"Arial\">Ry(theta6)</text><circle cx=\"524.141015625\" cy=\"25.0\" r=\"10.0\" /><circle cx=\"524.141015625\" cy=\"75.0\" r=\"10.0\" /><rect x=\"564.141015625\" y=\"5.0\" width=\"81.54109375\" height=\"40\" stroke=\"black\" fill=\"white\" stroke-width=\"1\" /><text x=\"604.9115625000001\" y=\"25.0\" dominant-baseline=\"middle\" text-anchor=\"middle\" font-size=\"14px\" font-family=\"Arial\">Ry(theta7)</text><rect x=\"564.141015625\" y=\"55.0\" width=\"81.54109375\" height=\"40\" stroke=\"black\" fill=\"white\" stroke-width=\"1\" /><text x=\"604.9115625000001\" y=\"75.0\" dominant-baseline=\"middle\" text-anchor=\"middle\" font-size=\"14px\" font-family=\"Arial\">Ry(theta8)</text><circle cx=\"685.682109375\" cy=\"25.0\" r=\"10.0\" /><circle cx=\"685.682109375\" cy=\"75.0\" r=\"10.0\" /></svg>"
          },
          "metadata": {
            "tags": []
          },
          "execution_count": 25
        }
      ]
    },
    {
      "cell_type": "code",
      "metadata": {
        "colab": {
          "base_uri": "https://localhost:8080/"
        },
        "id": "335_l2DPS_CE",
        "outputId": "899c4409-edfc-47d1-f7c3-84eb2ca5b214"
      },
      "source": [
        "# 建立量子層和經典全連接層\n",
        "q_layer = tfq.layers.PQC(circuit, [cirq.Z(q0), cirq.Z(q1)])\n",
        "dense_layer = tf.keras.layers.Dense(1, activation=\"sigmoid\")\n",
        "# 使用Keras建立訓練流程。量子資料首先通過PQC，然後通過經典的全連接模型\n",
        "q_data_input = tf.keras.Input(shape=() ,dtype=tf.dtypes.string)\n",
        "expectation_output = q_layer(q_data_input)\n",
        "classifier_output = dense_layer(expectation_output)\n",
        "\n",
        "model = tf.keras.Model(inputs=q_data_input, outputs=classifier_output)\n",
        "print(model.summary())\n",
        "# 編譯模型，指定優化器、損失函數和評估指標，並進行訓練\n",
        "model.compile(\n",
        "    optimizer = \"adam\",\n",
        "    loss = \"mse\",\n",
        "    metrics=['accuracy','AUC']\n",
        ")"
      ],
      "execution_count": null,
      "outputs": [
        {
          "output_type": "stream",
          "text": [
            "Model: \"model_2\"\n",
            "_________________________________________________________________\n",
            "Layer (type)                 Output Shape              Param #   \n",
            "=================================================================\n",
            "input_3 (InputLayer)         [(None,)]                 0         \n",
            "_________________________________________________________________\n",
            "pqc_2 (PQC)                  (None, 2)                 8         \n",
            "_________________________________________________________________\n",
            "dense_2 (Dense)              (None, 1)                 3         \n",
            "=================================================================\n",
            "Total params: 11\n",
            "Trainable params: 11\n",
            "Non-trainable params: 0\n",
            "_________________________________________________________________\n",
            "None\n"
          ],
          "name": "stdout"
        }
      ]
    },
    {
      "cell_type": "code",
      "metadata": {
        "colab": {
          "base_uri": "https://localhost:8080/"
        },
        "id": "ojTbMWXXTDrt",
        "outputId": "5791ecc9-5639-4142-9505-b88471654e31"
      },
      "source": [
        "model.fit(x=x_train, y=y_train, epochs=100,validation_data=(x_val,y_val))\n",
        "\n",
        "# 輸出量子層參數（即theta）的訓練結果\n",
        "print(q_layer.get_weights())"
      ],
      "execution_count": null,
      "outputs": [
        {
          "output_type": "stream",
          "text": [
            "Epoch 1/100\n",
            "5/5 [==============================] - 1s 85ms/step - loss: 0.2656 - accuracy: 0.4385 - auc: 0.4185 - val_loss: 0.2786 - val_accuracy: 0.4000 - val_auc: 0.3250\n",
            "Epoch 2/100\n",
            "5/5 [==============================] - 0s 23ms/step - loss: 0.2632 - accuracy: 0.4655 - auc: 0.4404 - val_loss: 0.2782 - val_accuracy: 0.4000 - val_auc: 0.3300\n",
            "Epoch 3/100\n",
            "5/5 [==============================] - 0s 28ms/step - loss: 0.2634 - accuracy: 0.4563 - auc: 0.4447 - val_loss: 0.2778 - val_accuracy: 0.4000 - val_auc: 0.3450\n",
            "Epoch 4/100\n",
            "5/5 [==============================] - 0s 23ms/step - loss: 0.2649 - accuracy: 0.4511 - auc: 0.4311 - val_loss: 0.2774 - val_accuracy: 0.4000 - val_auc: 0.3500\n",
            "Epoch 5/100\n",
            "5/5 [==============================] - 0s 21ms/step - loss: 0.2668 - accuracy: 0.4228 - auc: 0.3873 - val_loss: 0.2770 - val_accuracy: 0.4000 - val_auc: 0.3500\n",
            "Epoch 6/100\n",
            "5/5 [==============================] - 0s 21ms/step - loss: 0.2606 - accuracy: 0.4662 - auc: 0.4443 - val_loss: 0.2766 - val_accuracy: 0.4000 - val_auc: 0.3500\n",
            "Epoch 7/100\n",
            "5/5 [==============================] - 0s 25ms/step - loss: 0.2540 - accuracy: 0.5031 - auc: 0.5053 - val_loss: 0.2763 - val_accuracy: 0.4000 - val_auc: 0.3400\n",
            "Epoch 8/100\n",
            "5/5 [==============================] - 0s 28ms/step - loss: 0.2616 - accuracy: 0.4619 - auc: 0.4275 - val_loss: 0.2759 - val_accuracy: 0.4000 - val_auc: 0.3400\n",
            "Epoch 9/100\n",
            "5/5 [==============================] - 0s 22ms/step - loss: 0.2603 - accuracy: 0.4559 - auc: 0.4346 - val_loss: 0.2755 - val_accuracy: 0.4000 - val_auc: 0.3400\n",
            "Epoch 10/100\n",
            "5/5 [==============================] - 0s 23ms/step - loss: 0.2580 - accuracy: 0.4602 - auc: 0.4624 - val_loss: 0.2752 - val_accuracy: 0.4000 - val_auc: 0.3400\n",
            "Epoch 11/100\n",
            "5/5 [==============================] - 0s 25ms/step - loss: 0.2611 - accuracy: 0.4572 - auc: 0.4225 - val_loss: 0.2749 - val_accuracy: 0.4000 - val_auc: 0.3400\n",
            "Epoch 12/100\n",
            "5/5 [==============================] - 0s 26ms/step - loss: 0.2590 - accuracy: 0.4585 - auc: 0.4481 - val_loss: 0.2745 - val_accuracy: 0.4000 - val_auc: 0.3300\n",
            "Epoch 13/100\n",
            "5/5 [==============================] - 0s 21ms/step - loss: 0.2643 - accuracy: 0.4164 - auc: 0.4028 - val_loss: 0.2742 - val_accuracy: 0.4000 - val_auc: 0.3500\n",
            "Epoch 14/100\n",
            "5/5 [==============================] - 0s 21ms/step - loss: 0.2540 - accuracy: 0.4906 - auc: 0.5016 - val_loss: 0.2739 - val_accuracy: 0.4000 - val_auc: 0.3500\n",
            "Epoch 15/100\n",
            "5/5 [==============================] - 0s 22ms/step - loss: 0.2549 - accuracy: 0.4720 - auc: 0.5030 - val_loss: 0.2736 - val_accuracy: 0.4000 - val_auc: 0.3500\n",
            "Epoch 16/100\n",
            "5/5 [==============================] - 0s 26ms/step - loss: 0.2592 - accuracy: 0.4425 - auc: 0.4470 - val_loss: 0.2732 - val_accuracy: 0.4000 - val_auc: 0.3400\n",
            "Epoch 17/100\n",
            "5/5 [==============================] - 0s 23ms/step - loss: 0.2610 - accuracy: 0.4603 - auc: 0.4339 - val_loss: 0.2729 - val_accuracy: 0.4000 - val_auc: 0.3600\n",
            "Epoch 18/100\n",
            "5/5 [==============================] - 0s 23ms/step - loss: 0.2600 - accuracy: 0.4347 - auc: 0.4297 - val_loss: 0.2726 - val_accuracy: 0.4000 - val_auc: 0.3500\n",
            "Epoch 19/100\n",
            "5/5 [==============================] - 0s 24ms/step - loss: 0.2570 - accuracy: 0.4595 - auc: 0.4706 - val_loss: 0.2723 - val_accuracy: 0.4000 - val_auc: 0.3500\n",
            "Epoch 20/100\n",
            "5/5 [==============================] - 0s 22ms/step - loss: 0.2603 - accuracy: 0.4573 - auc: 0.4305 - val_loss: 0.2719 - val_accuracy: 0.4000 - val_auc: 0.3550\n",
            "Epoch 21/100\n",
            "5/5 [==============================] - 0s 23ms/step - loss: 0.2569 - accuracy: 0.4839 - auc: 0.4612 - val_loss: 0.2716 - val_accuracy: 0.4000 - val_auc: 0.3450\n",
            "Epoch 22/100\n",
            "5/5 [==============================] - 0s 23ms/step - loss: 0.2575 - accuracy: 0.4734 - auc: 0.4561 - val_loss: 0.2713 - val_accuracy: 0.4000 - val_auc: 0.3400\n",
            "Epoch 23/100\n",
            "5/5 [==============================] - 0s 22ms/step - loss: 0.2547 - accuracy: 0.4653 - auc: 0.4727 - val_loss: 0.2710 - val_accuracy: 0.4000 - val_auc: 0.3400\n",
            "Epoch 24/100\n",
            "5/5 [==============================] - 0s 24ms/step - loss: 0.2573 - accuracy: 0.4337 - auc: 0.4447 - val_loss: 0.2707 - val_accuracy: 0.4000 - val_auc: 0.3400\n",
            "Epoch 25/100\n",
            "5/5 [==============================] - 0s 23ms/step - loss: 0.2586 - accuracy: 0.4315 - auc: 0.4320 - val_loss: 0.2704 - val_accuracy: 0.4000 - val_auc: 0.3500\n",
            "Epoch 26/100\n",
            "5/5 [==============================] - 0s 23ms/step - loss: 0.2617 - accuracy: 0.3904 - auc: 0.3934 - val_loss: 0.2701 - val_accuracy: 0.4000 - val_auc: 0.3350\n",
            "Epoch 27/100\n",
            "5/5 [==============================] - 0s 21ms/step - loss: 0.2570 - accuracy: 0.4442 - auc: 0.4445 - val_loss: 0.2698 - val_accuracy: 0.4000 - val_auc: 0.3250\n",
            "Epoch 28/100\n",
            "5/5 [==============================] - 0s 22ms/step - loss: 0.2574 - accuracy: 0.4385 - auc: 0.4311 - val_loss: 0.2695 - val_accuracy: 0.4000 - val_auc: 0.3550\n",
            "Epoch 29/100\n",
            "5/5 [==============================] - 0s 23ms/step - loss: 0.2566 - accuracy: 0.4319 - auc: 0.4238 - val_loss: 0.2693 - val_accuracy: 0.4000 - val_auc: 0.3450\n",
            "Epoch 30/100\n",
            "5/5 [==============================] - 0s 24ms/step - loss: 0.2559 - accuracy: 0.4519 - auc: 0.4617 - val_loss: 0.2690 - val_accuracy: 0.4000 - val_auc: 0.3450\n",
            "Epoch 31/100\n",
            "5/5 [==============================] - 0s 25ms/step - loss: 0.2559 - accuracy: 0.4480 - auc: 0.4533 - val_loss: 0.2687 - val_accuracy: 0.4000 - val_auc: 0.3550\n",
            "Epoch 32/100\n",
            "5/5 [==============================] - 0s 23ms/step - loss: 0.2566 - accuracy: 0.4450 - auc: 0.4415 - val_loss: 0.2684 - val_accuracy: 0.4000 - val_auc: 0.3400\n",
            "Epoch 33/100\n",
            "5/5 [==============================] - 0s 25ms/step - loss: 0.2553 - accuracy: 0.4675 - auc: 0.4439 - val_loss: 0.2681 - val_accuracy: 0.4000 - val_auc: 0.3350\n",
            "Epoch 34/100\n",
            "5/5 [==============================] - 0s 25ms/step - loss: 0.2575 - accuracy: 0.4366 - auc: 0.4213 - val_loss: 0.2679 - val_accuracy: 0.4500 - val_auc: 0.3400\n",
            "Epoch 35/100\n",
            "5/5 [==============================] - 0s 23ms/step - loss: 0.2570 - accuracy: 0.4392 - auc: 0.4384 - val_loss: 0.2676 - val_accuracy: 0.4500 - val_auc: 0.3300\n",
            "Epoch 36/100\n",
            "5/5 [==============================] - 0s 24ms/step - loss: 0.2523 - accuracy: 0.4692 - auc: 0.4944 - val_loss: 0.2673 - val_accuracy: 0.4500 - val_auc: 0.3300\n",
            "Epoch 37/100\n",
            "5/5 [==============================] - 0s 23ms/step - loss: 0.2572 - accuracy: 0.4241 - auc: 0.4274 - val_loss: 0.2671 - val_accuracy: 0.4500 - val_auc: 0.3400\n",
            "Epoch 38/100\n",
            "5/5 [==============================] - 0s 22ms/step - loss: 0.2516 - accuracy: 0.4771 - auc: 0.4923 - val_loss: 0.2668 - val_accuracy: 0.4000 - val_auc: 0.3300\n",
            "Epoch 39/100\n",
            "5/5 [==============================] - 0s 24ms/step - loss: 0.2529 - accuracy: 0.4793 - auc: 0.4681 - val_loss: 0.2666 - val_accuracy: 0.4000 - val_auc: 0.3200\n",
            "Epoch 40/100\n",
            "5/5 [==============================] - 0s 24ms/step - loss: 0.2563 - accuracy: 0.4172 - auc: 0.4237 - val_loss: 0.2663 - val_accuracy: 0.4000 - val_auc: 0.3250\n",
            "Epoch 41/100\n",
            "5/5 [==============================] - 0s 22ms/step - loss: 0.2545 - accuracy: 0.4441 - auc: 0.4485 - val_loss: 0.2660 - val_accuracy: 0.4000 - val_auc: 0.3100\n",
            "Epoch 42/100\n",
            "5/5 [==============================] - 0s 22ms/step - loss: 0.2579 - accuracy: 0.4120 - auc: 0.4142 - val_loss: 0.2658 - val_accuracy: 0.4000 - val_auc: 0.3200\n",
            "Epoch 43/100\n",
            "5/5 [==============================] - 0s 25ms/step - loss: 0.2561 - accuracy: 0.4189 - auc: 0.4139 - val_loss: 0.2655 - val_accuracy: 0.4000 - val_auc: 0.3200\n",
            "Epoch 44/100\n",
            "5/5 [==============================] - 0s 25ms/step - loss: 0.2562 - accuracy: 0.4241 - auc: 0.4405 - val_loss: 0.2652 - val_accuracy: 0.4000 - val_auc: 0.3450\n",
            "Epoch 45/100\n",
            "5/5 [==============================] - 0s 23ms/step - loss: 0.2596 - accuracy: 0.3894 - auc: 0.3913 - val_loss: 0.2650 - val_accuracy: 0.4000 - val_auc: 0.3400\n",
            "Epoch 46/100\n",
            "5/5 [==============================] - 0s 24ms/step - loss: 0.2586 - accuracy: 0.3946 - auc: 0.3970 - val_loss: 0.2647 - val_accuracy: 0.4000 - val_auc: 0.3400\n",
            "Epoch 47/100\n",
            "5/5 [==============================] - 0s 24ms/step - loss: 0.2541 - accuracy: 0.4293 - auc: 0.4554 - val_loss: 0.2645 - val_accuracy: 0.4000 - val_auc: 0.3300\n",
            "Epoch 48/100\n",
            "5/5 [==============================] - 0s 24ms/step - loss: 0.2551 - accuracy: 0.4285 - auc: 0.4076 - val_loss: 0.2642 - val_accuracy: 0.4000 - val_auc: 0.3250\n",
            "Epoch 49/100\n",
            "5/5 [==============================] - 0s 23ms/step - loss: 0.2561 - accuracy: 0.4175 - auc: 0.4049 - val_loss: 0.2640 - val_accuracy: 0.4000 - val_auc: 0.3200\n",
            "Epoch 50/100\n",
            "5/5 [==============================] - 0s 23ms/step - loss: 0.2552 - accuracy: 0.4197 - auc: 0.4456 - val_loss: 0.2638 - val_accuracy: 0.4000 - val_auc: 0.3250\n",
            "Epoch 51/100\n",
            "5/5 [==============================] - 0s 28ms/step - loss: 0.2538 - accuracy: 0.4340 - auc: 0.4411 - val_loss: 0.2635 - val_accuracy: 0.4000 - val_auc: 0.3250\n",
            "Epoch 52/100\n",
            "5/5 [==============================] - 0s 25ms/step - loss: 0.2543 - accuracy: 0.4518 - auc: 0.4451 - val_loss: 0.2633 - val_accuracy: 0.4000 - val_auc: 0.3200\n",
            "Epoch 53/100\n",
            "5/5 [==============================] - 0s 23ms/step - loss: 0.2505 - accuracy: 0.4714 - auc: 0.5308 - val_loss: 0.2631 - val_accuracy: 0.4000 - val_auc: 0.3200\n",
            "Epoch 54/100\n",
            "5/5 [==============================] - 0s 24ms/step - loss: 0.2537 - accuracy: 0.4349 - auc: 0.4364 - val_loss: 0.2629 - val_accuracy: 0.4000 - val_auc: 0.3300\n",
            "Epoch 55/100\n",
            "5/5 [==============================] - 0s 22ms/step - loss: 0.2537 - accuracy: 0.4401 - auc: 0.4417 - val_loss: 0.2626 - val_accuracy: 0.4000 - val_auc: 0.3300\n",
            "Epoch 56/100\n",
            "5/5 [==============================] - 0s 23ms/step - loss: 0.2533 - accuracy: 0.4609 - auc: 0.4355 - val_loss: 0.2624 - val_accuracy: 0.4000 - val_auc: 0.3300\n",
            "Epoch 57/100\n",
            "5/5 [==============================] - 0s 27ms/step - loss: 0.2528 - accuracy: 0.4540 - auc: 0.4594 - val_loss: 0.2622 - val_accuracy: 0.4000 - val_auc: 0.3350\n",
            "Epoch 58/100\n",
            "5/5 [==============================] - 0s 23ms/step - loss: 0.2524 - accuracy: 0.4562 - auc: 0.4406 - val_loss: 0.2620 - val_accuracy: 0.4000 - val_auc: 0.3100\n",
            "Epoch 59/100\n",
            "5/5 [==============================] - 0s 25ms/step - loss: 0.2547 - accuracy: 0.4358 - auc: 0.4356 - val_loss: 0.2617 - val_accuracy: 0.3500 - val_auc: 0.3100\n",
            "Epoch 60/100\n",
            "5/5 [==============================] - 0s 24ms/step - loss: 0.2549 - accuracy: 0.4306 - auc: 0.4524 - val_loss: 0.2615 - val_accuracy: 0.3500 - val_auc: 0.3000\n",
            "Epoch 61/100\n",
            "5/5 [==============================] - 0s 23ms/step - loss: 0.2496 - accuracy: 0.4717 - auc: 0.4894 - val_loss: 0.2613 - val_accuracy: 0.3500 - val_auc: 0.3000\n",
            "Epoch 62/100\n",
            "5/5 [==============================] - 0s 23ms/step - loss: 0.2559 - accuracy: 0.3697 - auc: 0.4262 - val_loss: 0.2611 - val_accuracy: 0.3500 - val_auc: 0.3100\n",
            "Epoch 63/100\n",
            "5/5 [==============================] - 0s 25ms/step - loss: 0.2555 - accuracy: 0.3882 - auc: 0.3885 - val_loss: 0.2608 - val_accuracy: 0.3500 - val_auc: 0.3400\n",
            "Epoch 64/100\n",
            "5/5 [==============================] - 0s 23ms/step - loss: 0.2521 - accuracy: 0.4442 - auc: 0.4663 - val_loss: 0.2606 - val_accuracy: 0.3500 - val_auc: 0.3300\n",
            "Epoch 65/100\n",
            "5/5 [==============================] - 0s 25ms/step - loss: 0.2547 - accuracy: 0.4124 - auc: 0.4285 - val_loss: 0.2604 - val_accuracy: 0.3500 - val_auc: 0.3200\n",
            "Epoch 66/100\n",
            "5/5 [==============================] - 0s 24ms/step - loss: 0.2513 - accuracy: 0.4220 - auc: 0.4578 - val_loss: 0.2602 - val_accuracy: 0.3500 - val_auc: 0.3100\n",
            "Epoch 67/100\n",
            "5/5 [==============================] - 0s 23ms/step - loss: 0.2534 - accuracy: 0.4328 - auc: 0.4483 - val_loss: 0.2600 - val_accuracy: 0.3500 - val_auc: 0.3150\n",
            "Epoch 68/100\n",
            "5/5 [==============================] - 0s 23ms/step - loss: 0.2530 - accuracy: 0.4591 - auc: 0.4534 - val_loss: 0.2598 - val_accuracy: 0.3500 - val_auc: 0.3250\n",
            "Epoch 69/100\n",
            "5/5 [==============================] - 0s 23ms/step - loss: 0.2508 - accuracy: 0.4626 - auc: 0.4800 - val_loss: 0.2596 - val_accuracy: 0.3500 - val_auc: 0.3250\n",
            "Epoch 70/100\n",
            "5/5 [==============================] - 0s 25ms/step - loss: 0.2517 - accuracy: 0.4468 - auc: 0.4590 - val_loss: 0.2594 - val_accuracy: 0.3500 - val_auc: 0.3300\n",
            "Epoch 71/100\n",
            "5/5 [==============================] - 0s 23ms/step - loss: 0.2531 - accuracy: 0.4502 - auc: 0.4377 - val_loss: 0.2592 - val_accuracy: 0.3500 - val_auc: 0.3300\n",
            "Epoch 72/100\n",
            "5/5 [==============================] - 0s 24ms/step - loss: 0.2497 - accuracy: 0.4997 - auc: 0.5158 - val_loss: 0.2591 - val_accuracy: 0.3500 - val_auc: 0.3300\n",
            "Epoch 73/100\n",
            "5/5 [==============================] - 0s 23ms/step - loss: 0.2521 - accuracy: 0.4636 - auc: 0.4464 - val_loss: 0.2588 - val_accuracy: 0.3500 - val_auc: 0.3150\n",
            "Epoch 74/100\n",
            "5/5 [==============================] - 0s 24ms/step - loss: 0.2515 - accuracy: 0.5004 - auc: 0.4593 - val_loss: 0.2587 - val_accuracy: 0.3500 - val_auc: 0.3400\n",
            "Epoch 75/100\n",
            "5/5 [==============================] - 0s 23ms/step - loss: 0.2524 - accuracy: 0.4588 - auc: 0.4335 - val_loss: 0.2585 - val_accuracy: 0.3500 - val_auc: 0.3300\n",
            "Epoch 76/100\n",
            "5/5 [==============================] - 0s 23ms/step - loss: 0.2554 - accuracy: 0.4301 - auc: 0.3790 - val_loss: 0.2582 - val_accuracy: 0.3500 - val_auc: 0.3300\n",
            "Epoch 77/100\n",
            "5/5 [==============================] - 0s 23ms/step - loss: 0.2503 - accuracy: 0.4883 - auc: 0.4726 - val_loss: 0.2581 - val_accuracy: 0.4000 - val_auc: 0.3300\n",
            "Epoch 78/100\n",
            "5/5 [==============================] - 0s 24ms/step - loss: 0.2507 - accuracy: 0.4956 - auc: 0.4724 - val_loss: 0.2579 - val_accuracy: 0.4000 - val_auc: 0.3100\n",
            "Epoch 79/100\n",
            "5/5 [==============================] - 0s 24ms/step - loss: 0.2528 - accuracy: 0.4714 - auc: 0.4317 - val_loss: 0.2577 - val_accuracy: 0.4000 - val_auc: 0.3050\n",
            "Epoch 80/100\n",
            "5/5 [==============================] - 0s 24ms/step - loss: 0.2526 - accuracy: 0.4531 - auc: 0.4396 - val_loss: 0.2575 - val_accuracy: 0.4000 - val_auc: 0.3250\n",
            "Epoch 81/100\n",
            "5/5 [==============================] - 0s 21ms/step - loss: 0.2518 - accuracy: 0.5030 - auc: 0.4369 - val_loss: 0.2574 - val_accuracy: 0.4000 - val_auc: 0.3250\n",
            "Epoch 82/100\n",
            "5/5 [==============================] - 0s 23ms/step - loss: 0.2535 - accuracy: 0.4332 - auc: 0.4201 - val_loss: 0.2572 - val_accuracy: 0.4000 - val_auc: 0.3150\n",
            "Epoch 83/100\n",
            "5/5 [==============================] - 0s 25ms/step - loss: 0.2525 - accuracy: 0.4665 - auc: 0.4369 - val_loss: 0.2570 - val_accuracy: 0.4000 - val_auc: 0.2950\n",
            "Epoch 84/100\n",
            "5/5 [==============================] - 0s 23ms/step - loss: 0.2507 - accuracy: 0.4835 - auc: 0.4566 - val_loss: 0.2569 - val_accuracy: 0.4000 - val_auc: 0.2950\n",
            "Epoch 85/100\n",
            "5/5 [==============================] - 0s 24ms/step - loss: 0.2527 - accuracy: 0.4747 - auc: 0.4489 - val_loss: 0.2567 - val_accuracy: 0.4000 - val_auc: 0.3050\n",
            "Epoch 86/100\n",
            "5/5 [==============================] - 0s 24ms/step - loss: 0.2528 - accuracy: 0.4622 - auc: 0.4343 - val_loss: 0.2565 - val_accuracy: 0.4000 - val_auc: 0.3350\n",
            "Epoch 87/100\n",
            "5/5 [==============================] - 0s 23ms/step - loss: 0.2516 - accuracy: 0.4776 - auc: 0.4324 - val_loss: 0.2563 - val_accuracy: 0.4000 - val_auc: 0.3400\n",
            "Epoch 88/100\n",
            "5/5 [==============================] - 0s 24ms/step - loss: 0.2530 - accuracy: 0.4537 - auc: 0.4317 - val_loss: 0.2562 - val_accuracy: 0.4500 - val_auc: 0.3350\n",
            "Epoch 89/100\n",
            "5/5 [==============================] - 0s 25ms/step - loss: 0.2516 - accuracy: 0.4778 - auc: 0.4326 - val_loss: 0.2560 - val_accuracy: 0.4500 - val_auc: 0.3100\n",
            "Epoch 90/100\n",
            "5/5 [==============================] - 0s 23ms/step - loss: 0.2516 - accuracy: 0.4722 - auc: 0.4286 - val_loss: 0.2558 - val_accuracy: 0.5000 - val_auc: 0.3200\n",
            "Epoch 91/100\n",
            "5/5 [==============================] - 0s 21ms/step - loss: 0.2518 - accuracy: 0.4674 - auc: 0.4799 - val_loss: 0.2557 - val_accuracy: 0.4500 - val_auc: 0.3100\n",
            "Epoch 92/100\n",
            "5/5 [==============================] - 0s 25ms/step - loss: 0.2522 - accuracy: 0.4569 - auc: 0.4111 - val_loss: 0.2555 - val_accuracy: 0.4500 - val_auc: 0.3100\n",
            "Epoch 93/100\n",
            "5/5 [==============================] - 0s 25ms/step - loss: 0.2516 - accuracy: 0.4686 - auc: 0.4794 - val_loss: 0.2554 - val_accuracy: 0.5000 - val_auc: 0.3150\n",
            "Epoch 94/100\n",
            "5/5 [==============================] - 0s 24ms/step - loss: 0.2495 - accuracy: 0.5013 - auc: 0.5271 - val_loss: 0.2552 - val_accuracy: 0.5000 - val_auc: 0.3150\n",
            "Epoch 95/100\n",
            "5/5 [==============================] - 0s 24ms/step - loss: 0.2518 - accuracy: 0.4896 - auc: 0.4465 - val_loss: 0.2551 - val_accuracy: 0.5000 - val_auc: 0.3000\n",
            "Epoch 96/100\n",
            "5/5 [==============================] - 0s 23ms/step - loss: 0.2523 - accuracy: 0.5026 - auc: 0.3993 - val_loss: 0.2549 - val_accuracy: 0.5000 - val_auc: 0.3200\n",
            "Epoch 97/100\n",
            "5/5 [==============================] - 0s 24ms/step - loss: 0.2516 - accuracy: 0.4939 - auc: 0.4469 - val_loss: 0.2547 - val_accuracy: 0.5000 - val_auc: 0.3200\n",
            "Epoch 98/100\n",
            "5/5 [==============================] - 0s 31ms/step - loss: 0.2514 - accuracy: 0.4757 - auc: 0.4274 - val_loss: 0.2546 - val_accuracy: 0.5000 - val_auc: 0.3250\n",
            "Epoch 99/100\n",
            "5/5 [==============================] - 0s 24ms/step - loss: 0.2516 - accuracy: 0.4818 - auc: 0.4076 - val_loss: 0.2545 - val_accuracy: 0.5000 - val_auc: 0.3250\n",
            "Epoch 100/100\n",
            "5/5 [==============================] - 0s 24ms/step - loss: 0.2514 - accuracy: 0.4831 - auc: 0.4218 - val_loss: 0.2543 - val_accuracy: 0.5000 - val_auc: 0.3250\n",
            "[array([-0.01701695,  0.6237063 ,  3.0766764 ,  4.266394  ,  2.1465523 ,\n",
            "        3.4376292 ,  4.413243  ,  2.8304389 ], dtype=float32)]\n"
          ],
          "name": "stdout"
        }
      ]
    },
    {
      "cell_type": "code",
      "metadata": {
        "colab": {
          "base_uri": "https://localhost:8080/"
        },
        "id": "K73dtMJ2THGE",
        "outputId": "d4dfec65-a5b8-4c04-abd7-37a5b2a7fdaa"
      },
      "source": [
        "print(\"Evaluate on test data\")\n",
        "results = model.evaluate(x_test, y_test)\n",
        "print(\"test loss, test acc, test AUC:\", results)"
      ],
      "execution_count": null,
      "outputs": [
        {
          "output_type": "stream",
          "text": [
            "Evaluate on test data\n",
            "1/1 [==============================] - 0s 20ms/step - loss: 0.2541 - accuracy: 0.3500 - auc: 0.5655\n",
            "test loss, test acc, test AUC: [0.2541077136993408, 0.3499999940395355, 0.5654762387275696]\n"
          ],
          "name": "stdout"
        }
      ]
    },
    {
      "cell_type": "code",
      "metadata": {
        "id": "Wb7yP50CTQN1",
        "colab": {
          "base_uri": "https://localhost:8080/"
        },
        "outputId": "1afa2491-456c-4ea2-b38b-92ea77579e0e"
      },
      "source": [
        "grid = 30\n",
        "x_cor = -5\n",
        "y_cor = 5\n",
        "x_axis = np.linspace(x_cor,y_cor,grid)\n",
        "y_axis = np.linspace(x_cor,y_cor,grid)\n",
        "tmp = np.zeros((grid**2,3))\n",
        "count = 0\n",
        "for i in x_axis:\n",
        "  for j in y_axis:\n",
        "    z = (i**2+j**2)\n",
        "    label_z = int(model.predict(tfq.convert_to_tensor([cirq.Circuit(cirq.ry(z)(q0),cirq.ry(z)(q1))])) > 0.5)\n",
        "    tmp[count,:] = np.array([i,j,label_z])\n",
        "    count += 1\n",
        "    if count % 100 == 0:\n",
        "      print(count)"
      ],
      "execution_count": null,
      "outputs": [
        {
          "output_type": "stream",
          "text": [
            "100\n",
            "200\n",
            "300\n",
            "400\n",
            "500\n",
            "600\n",
            "700\n",
            "800\n",
            "900\n"
          ],
          "name": "stdout"
        }
      ]
    },
    {
      "cell_type": "code",
      "metadata": {
        "colab": {
          "base_uri": "https://localhost:8080/",
          "height": 302
        },
        "id": "966IM-hxD23W",
        "outputId": "53c5a9ba-89ee-4365-abeb-3639d9aa489d"
      },
      "source": [
        "plt.figure(figsize = (10,5))\n",
        "plt.subplot(121)\n",
        "plt.scatter(data[data_label==0,0],data[data_label==0,1], marker='o')\n",
        "plt.scatter(data[data_label==1,0],data[data_label==1,1], marker='x')\n",
        "plt.gca().set_aspect('equal', adjustable='box')\n",
        "plt.xlim(x_cor, y_cor)\n",
        "plt.ylim(x_cor, y_cor)\n",
        "plt.subplot(122)\n",
        "plt.scatter(tmp[tmp[:,2]==0,0],tmp[tmp[:,2]==0,1], marker='o')\n",
        "plt.scatter(tmp[tmp[:,2]==1,0],tmp[tmp[:,2]==1,1], marker='x')\n",
        "plt.xlim(x_cor, y_cor)\n",
        "plt.ylim(x_cor, y_cor)\n",
        "plt.gca().set_aspect('equal', adjustable='box')"
      ],
      "execution_count": null,
      "outputs": [
        {
          "output_type": "display_data",
          "data": {
            "image/png": "[encoded data removed]",
            "text/plain": [
              "<Figure size 720x360 with 2 Axes>"
            ]
          },
          "metadata": {
            "tags": [],
            "needs_background": "light"
          }
        }
      ]
    },
    {
      "cell_type": "code",
      "metadata": {
        "colab": {
          "base_uri": "https://localhost:8080/"
        },
        "id": "S1VFk2n_OOdy",
        "outputId": "de606e84-f760-4051-e2a9-3d2d7a0d93bc"
      },
      "source": [
        "y_pred = (model.predict(x_test) > 0.5).astype(np.int)\n",
        "# print(y_pred)\n",
        "tf.math.confusion_matrix(y_pred,y_test)"
      ],
      "execution_count": null,
      "outputs": [
        {
          "output_type": "execute_result",
          "data": {
            "text/plain": [
              "<tf.Tensor: shape=(2, 2), dtype=int32, numpy=\n",
              "array([[ 3,  2],\n",
              "       [11,  4]], dtype=int32)>"
            ]
          },
          "metadata": {
            "tags": []
          },
          "execution_count": 31
        }
      ]
    },
    {
      "cell_type": "markdown",
      "metadata": {
        "id": "9L5l5Kd5_chI"
      },
      "source": [
        "# 分開"
      ]
    },
    {
      "cell_type": "code",
      "metadata": {
        "id": "-VWrg9Re_sKL"
      },
      "source": [
        "tf.random.set_seed(0)"
      ],
      "execution_count": null,
      "outputs": []
    },
    {
      "cell_type": "code",
      "metadata": {
        "colab": {
          "base_uri": "https://localhost:8080/"
        },
        "id": "I3JHSvf__sKL",
        "outputId": "faedbc25-a243-4b1b-87cb-91ff25c03052"
      },
      "source": [
        "df_ori = pd.read_excel(\"quantum_data_0609.xlsx\")\n",
        "df_ori = df_ori.values\n",
        "df_ori[:5]"
      ],
      "execution_count": null,
      "outputs": [
        {
          "output_type": "execute_result",
          "data": {
            "text/plain": [
              "array([[3.4980695 , 0.76083467, 0.        ],\n",
              "       [2.37451737, 0.77046549, 0.        ],\n",
              "       [2.04440154, 0.78009631, 0.        ],\n",
              "       [3.63127413, 0.78009631, 0.        ],\n",
              "       [3.77027027, 0.78009631, 0.        ]])"
            ]
          },
          "metadata": {
            "tags": []
          },
          "execution_count": 65
        }
      ]
    },
    {
      "cell_type": "code",
      "metadata": {
        "colab": {
          "base_uri": "https://localhost:8080/"
        },
        "id": "DPCMh9ex_sKM",
        "outputId": "0eb24356-0351-4ce0-9070-8046331991b2"
      },
      "source": [
        "data = df_ori[:,[0,1]]\n",
        "data_label = df_ori[:,2]\n",
        "print(data[:5])\n",
        "print(data_label[:5])"
      ],
      "execution_count": null,
      "outputs": [
        {
          "output_type": "stream",
          "text": [
            "[[3.4980695  0.76083467]\n",
            " [2.37451737 0.77046549]\n",
            " [2.04440154 0.78009631]\n",
            " [3.63127413 0.78009631]\n",
            " [3.77027027 0.78009631]]\n",
            "[0. 0. 0. 0. 0.]\n"
          ],
          "name": "stdout"
        }
      ]
    },
    {
      "cell_type": "code",
      "metadata": {
        "colab": {
          "base_uri": "https://localhost:8080/"
        },
        "id": "7PZ_CsZR_sKN",
        "outputId": "94dc2bdd-becd-4076-91bc-e4653641caf3"
      },
      "source": [
        "# filename = \"input_spiral.txt\"\n",
        "filename = \"input_circle.txt\"\n",
        "f=open(filename,\"r\")\n",
        "lines=f.readlines()\n",
        "result=[]\n",
        "for x in lines:\n",
        "    result.append(x.split('\\t'))\n",
        "f.close()\n",
        "\n",
        "data = np.zeros((200,2))\n",
        "data_label = np.zeros((200))\n",
        "for i in range(200):\n",
        "  data[i,0] = float(result[i+1][1])\n",
        "  data[i,1] = float(result[i+1][2])\n",
        "  data_label[i] = int((result[i+1][8]).replace('\\n',\"\"))\n",
        "data_label = (data_label==1).astype(np.int)\n",
        "print(data[:5])\n",
        "print(data_label[:5])"
      ],
      "execution_count": null,
      "outputs": [
        {
          "output_type": "stream",
          "text": [
            "[[ 4.39817517  0.50672631]\n",
            " [ 0.35736117  0.5471098 ]\n",
            " [ 1.4188799  -0.96954257]\n",
            " [ 0.85898972 -4.19314655]\n",
            " [-0.25158604  4.57988368]]\n",
            "[0 1 1 0 0]\n"
          ],
          "name": "stdout"
        }
      ]
    },
    {
      "cell_type": "code",
      "metadata": {
        "colab": {
          "base_uri": "https://localhost:8080/",
          "height": 282
        },
        "id": "Oi9twbDL_sKN",
        "outputId": "e001327a-d94b-4a61-f561-efa6fe37ac2d"
      },
      "source": [
        "plt.scatter(data[data_label==0,0],data[data_label==0,1], marker='o')\n",
        "plt.scatter(data[data_label==1,0],data[data_label==1,1], marker='x')"
      ],
      "execution_count": null,
      "outputs": [
        {
          "output_type": "execute_result",
          "data": {
            "text/plain": [
              "<matplotlib.collections.PathCollection at 0x7f953dea8710>"
            ]
          },
          "metadata": {
            "tags": []
          },
          "execution_count": 68
        },
        {
          "output_type": "display_data",
          "data": {
            "image/png": "[encoded data removed]",
            "text/plain": [
              "<Figure size 432x288 with 1 Axes>"
            ]
          },
          "metadata": {
            "tags": [],
            "needs_background": "light"
          }
        }
      ]
    },
    {
      "cell_type": "code",
      "metadata": {
        "colab": {
          "base_uri": "https://localhost:8080/"
        },
        "id": "abJJOEWI_sKN",
        "outputId": "f34222e8-0028-4cf4-ee64-aa3153d92ca0"
      },
      "source": [
        "# input_data = (data[:,0]**2+data[:,1]**2)\n",
        "# input_data = input_data.flatten()\n",
        "input_data = data\n",
        "label = data_label.flatten()\n",
        "\n",
        "idx = np.random.permutation(len(label))\n",
        "input_data,label = input_data[idx], label[idx]\n",
        "\n",
        "q0, q1 = cirq.GridQubit.rect(1, 2)\n",
        "q_data =[cirq.Circuit(\n",
        "        cirq.ry(i[0])(q0),\n",
        "        cirq.ry(i[1])(q1)) for i in input_data] \n",
        "print(q_data[:5])\n",
        "q_data = tfq.convert_to_tensor(q_data)\n",
        "\n",
        "n = label.shape[0]//5*4\n",
        "n1 = label.shape[0]//10*9\n",
        "print(n)\n",
        "\n",
        "x_train = q_data[:n]\n",
        "y_train = label[:n]\n",
        "x_val = q_data[n:n1]\n",
        "y_val = label[n:n1]\n",
        "x_test = q_data[n1:]\n",
        "y_test = label[n1:]"
      ],
      "execution_count": null,
      "outputs": [
        {
          "output_type": "stream",
          "text": [
            "[cirq.Circuit([\n",
            "    cirq.Moment(\n",
            "        cirq.Ry(rads=3.8327430369999997).on(cirq.GridQubit(0, 0)),\n",
            "        cirq.Ry(rads=0.81681409).on(cirq.GridQubit(0, 1)),\n",
            "    ),\n",
            "]), cirq.Circuit([\n",
            "    cirq.Moment(\n",
            "        cirq.Ry(rads=2.513274123).on(cirq.GridQubit(0, 0)),\n",
            "        cirq.Ry(rads=6.0946897479999995).on(cirq.GridQubit(0, 1)),\n",
            "    ),\n",
            "]), cirq.Circuit([\n",
            "    cirq.Moment(\n",
            "        cirq.Ry(rads=4.523893421).on(cirq.GridQubit(0, 0)),\n",
            "        cirq.Ry(rads=5.277875658).on(cirq.GridQubit(0, 1)),\n",
            "    ),\n",
            "]), cirq.Circuit([\n",
            "    cirq.Moment(\n",
            "        cirq.Ry(rads=2.45044227).on(cirq.GridQubit(0, 0)),\n",
            "        cirq.Ry(rads=5.215043805).on(cirq.GridQubit(0, 1)),\n",
            "    ),\n",
            "]), cirq.Circuit([\n",
            "    cirq.Moment(\n",
            "        cirq.Ry(rads=0.125663706).on(cirq.GridQubit(0, 0)),\n",
            "        cirq.Ry(rads=3.3929200660000003).on(cirq.GridQubit(0, 1)),\n",
            "    ),\n",
            "])]\n",
            "320\n"
          ],
          "name": "stdout"
        }
      ]
    },
    {
      "cell_type": "code",
      "metadata": {
        "colab": {
          "base_uri": "https://localhost:8080/",
          "height": 158
        },
        "id": "9j6GzRJB_sKO",
        "outputId": "031b5575-252d-4eab-caab-c8adb6c5ac5e"
      },
      "source": [
        "theta1 = sympy.Symbol('theta1')\n",
        "theta2 = sympy.Symbol('theta2')\n",
        "theta3 = sympy.Symbol('theta3')\n",
        "theta4 = sympy.Symbol('theta4')\n",
        "theta5 = sympy.Symbol('theta5')\n",
        "theta6 = sympy.Symbol('theta6')\n",
        "theta7 = sympy.Symbol('theta7')\n",
        "theta8 = sympy.Symbol('theta8')\n",
        "theta9 = sympy.Symbol('theta9')\n",
        "theta10 = sympy.Symbol('theta10')\n",
        "theta11 = sympy.Symbol('theta11')\n",
        "theta12 = sympy.Symbol('theta12')\n",
        "theta13 = sympy.Symbol('theta13')\n",
        "theta14 = sympy.Symbol('theta14')\n",
        "theta15 = sympy.Symbol('theta15')\n",
        "theta16 = sympy.Symbol('theta16')\n",
        "circuit = cirq.Circuit(\n",
        "    cirq.ry(theta1).on(q0),\n",
        "    cirq.ry(theta2).on(q1), cirq.CZ(q0, q1),\n",
        "    cirq.ry(theta3).on(q0),\n",
        "    cirq.ry(theta4).on(q1), cirq.CZ(q0, q1),\n",
        "    cirq.ry(theta5).on(q0),\n",
        "    cirq.ry(theta6).on(q1), cirq.CZ(q0, q1),\n",
        "    cirq.ry(theta7).on(q0),\n",
        "    cirq.ry(theta8).on(q1), cirq.CZ(q0, q1),\n",
        "    cirq.ry(theta9).on(q0),\n",
        "    cirq.ry(theta10).on(q1), cirq.CZ(q0, q1),\n",
        "    cirq.ry(theta11).on(q0),\n",
        "    cirq.ry(theta12).on(q1), cirq.CZ(q0, q1),\n",
        "    cirq.ry(theta13).on(q0),\n",
        "    cirq.ry(theta14).on(q1), cirq.CZ(q0, q1),\n",
        "    cirq.ry(theta15).on(q0),\n",
        "    cirq.ry(theta16).on(q1), cirq.CZ(q0, q1))\n",
        "SVGCircuit(circuit)"
      ],
      "execution_count": null,
      "outputs": [
        {
          "output_type": "stream",
          "text": [
            "findfont: Font family ['Arial'] not found. Falling back to DejaVu Sans.\n"
          ],
          "name": "stderr"
        },
        {
          "output_type": "execute_result",
          "data": {
            "text/plain": [
              "<cirq.contrib.svg.svg.SVGCircuit at 0x7fee44ab8cd0>"
            ],
            "image/svg+xml": "<svg xmlns=\"http://www.w3.org/2000/svg\" width=\"1437.475390625\" height=\"100.0\"><line x1=\"34.7588671875\" x2=\"1407.475390625\" y1=\"25.0\" y2=\"25.0\" stroke=\"#1967d2\" stroke-width=\"1\" /><line x1=\"34.7588671875\" x2=\"1407.475390625\" y1=\"75.0\" y2=\"75.0\" stroke=\"#1967d2\" stroke-width=\"1\" /><line x1=\"201.058828125\" x2=\"201.058828125\" y1=\"25.0\" y2=\"75.0\" stroke=\"black\" stroke-width=\"3\" /><line x1=\"362.599921875\" x2=\"362.599921875\" y1=\"25.0\" y2=\"75.0\" stroke=\"black\" stroke-width=\"3\" /><line x1=\"524.141015625\" x2=\"524.141015625\" y1=\"25.0\" y2=\"75.0\" stroke=\"black\" stroke-width=\"3\" /><line x1=\"685.682109375\" x2=\"685.682109375\" y1=\"25.0\" y2=\"75.0\" stroke=\"black\" stroke-width=\"3\" /><line x1=\"856.1304296874999\" x2=\"856.1304296874999\" y1=\"25.0\" y2=\"75.0\" stroke=\"black\" stroke-width=\"3\" /><line x1=\"1026.57875\" x2=\"1026.57875\" y1=\"25.0\" y2=\"75.0\" stroke=\"black\" stroke-width=\"3\" /><line x1=\"1197.0270703125\" x2=\"1197.0270703125\" y1=\"25.0\" y2=\"75.0\" stroke=\"black\" stroke-width=\"3\" /><line x1=\"1367.475390625\" x2=\"1367.475390625\" y1=\"25.0\" y2=\"75.0\" stroke=\"black\" stroke-width=\"3\" /><rect x=\"10.0\" y=\"5.0\" width=\"49.517734375\" height=\"40\" stroke=\"black\" fill=\"white\" stroke-width=\"0\" /><text x=\"34.7588671875\" y=\"25.0\" dominant-baseline=\"middle\" text-anchor=\"middle\" font-size=\"14px\" font-family=\"Arial\">(0, 0): </text><rect x=\"10.0\" y=\"55.0\" width=\"49.517734375\" height=\"40\" stroke=\"black\" fill=\"white\" stroke-width=\"0\" /><text x=\"34.7588671875\" y=\"75.0\" dominant-baseline=\"middle\" text-anchor=\"middle\" font-size=\"14px\" font-family=\"Arial\">(0, 1): </text><rect x=\"79.517734375\" y=\"5.0\" width=\"81.54109375\" height=\"40\" stroke=\"black\" fill=\"white\" stroke-width=\"1\" /><text x=\"120.28828125000001\" y=\"25.0\" dominant-baseline=\"middle\" text-anchor=\"middle\" font-size=\"14px\" font-family=\"Arial\">Ry(theta1)</text><rect x=\"79.517734375\" y=\"55.0\" width=\"81.54109375\" height=\"40\" stroke=\"black\" fill=\"white\" stroke-width=\"1\" /><text x=\"120.28828125000001\" y=\"75.0\" dominant-baseline=\"middle\" text-anchor=\"middle\" font-size=\"14px\" font-family=\"Arial\">Ry(theta2)</text><circle cx=\"201.058828125\" cy=\"25.0\" r=\"10.0\" /><circle cx=\"201.058828125\" cy=\"75.0\" r=\"10.0\" /><rect x=\"241.05882812499996\" y=\"5.0\" width=\"81.54109375\" height=\"40\" stroke=\"black\" fill=\"white\" stroke-width=\"1\" /><text x=\"281.82937499999997\" y=\"25.0\" dominant-baseline=\"middle\" text-anchor=\"middle\" font-size=\"14px\" font-family=\"Arial\">Ry(theta3)</text><rect x=\"241.05882812499996\" y=\"55.0\" width=\"81.54109375\" height=\"40\" stroke=\"black\" fill=\"white\" stroke-width=\"1\" /><text x=\"281.82937499999997\" y=\"75.0\" dominant-baseline=\"middle\" text-anchor=\"middle\" font-size=\"14px\" font-family=\"Arial\">Ry(theta4)</text><circle cx=\"362.599921875\" cy=\"25.0\" r=\"10.0\" /><circle cx=\"362.599921875\" cy=\"75.0\" r=\"10.0\" /><rect x=\"402.599921875\" y=\"5.0\" width=\"81.54109375\" height=\"40\" stroke=\"black\" fill=\"white\" stroke-width=\"1\" /><text x=\"443.37046875\" y=\"25.0\" dominant-baseline=\"middle\" text-anchor=\"middle\" font-size=\"14px\" font-family=\"Arial\">Ry(theta5)</text><rect x=\"402.599921875\" y=\"55.0\" width=\"81.54109375\" height=\"40\" stroke=\"black\" fill=\"white\" stroke-width=\"1\" /><text x=\"443.37046875\" y=\"75.0\" dominant-baseline=\"middle\" text-anchor=\"middle\" font-size=\"14px\" font-family=\"Arial\">Ry(theta6)</text><circle cx=\"524.141015625\" cy=\"25.0\" r=\"10.0\" /><circle cx=\"524.141015625\" cy=\"75.0\" r=\"10.0\" /><rect x=\"564.141015625\" y=\"5.0\" width=\"81.54109375\" height=\"40\" stroke=\"black\" fill=\"white\" stroke-width=\"1\" /><text x=\"604.9115625000001\" y=\"25.0\" dominant-baseline=\"middle\" text-anchor=\"middle\" font-size=\"14px\" font-family=\"Arial\">Ry(theta7)</text><rect x=\"564.141015625\" y=\"55.0\" width=\"81.54109375\" height=\"40\" stroke=\"black\" fill=\"white\" stroke-width=\"1\" /><text x=\"604.9115625000001\" y=\"75.0\" dominant-baseline=\"middle\" text-anchor=\"middle\" font-size=\"14px\" font-family=\"Arial\">Ry(theta8)</text><circle cx=\"685.682109375\" cy=\"25.0\" r=\"10.0\" /><circle cx=\"685.682109375\" cy=\"75.0\" r=\"10.0\" /><rect x=\"725.682109375\" y=\"5.0\" width=\"90.4483203125\" height=\"40\" stroke=\"black\" fill=\"white\" stroke-width=\"1\" /><text x=\"770.90626953125\" y=\"25.0\" dominant-baseline=\"middle\" text-anchor=\"middle\" font-size=\"14px\" font-family=\"Arial\">Ry(theta9)</text><rect x=\"725.682109375\" y=\"55.0\" width=\"90.4483203125\" height=\"40\" stroke=\"black\" fill=\"white\" stroke-width=\"1\" /><text x=\"770.90626953125\" y=\"75.0\" dominant-baseline=\"middle\" text-anchor=\"middle\" font-size=\"14px\" font-family=\"Arial\">Ry(theta10)</text><circle cx=\"856.1304296874999\" cy=\"25.0\" r=\"10.0\" /><circle cx=\"856.1304296874999\" cy=\"75.0\" r=\"10.0\" /><rect x=\"896.1304296874999\" y=\"5.0\" width=\"90.4483203125\" height=\"40\" stroke=\"black\" fill=\"white\" stroke-width=\"1\" /><text x=\"941.35458984375\" y=\"25.0\" dominant-baseline=\"middle\" text-anchor=\"middle\" font-size=\"14px\" font-family=\"Arial\">Ry(theta11)</text><rect x=\"896.1304296874999\" y=\"55.0\" width=\"90.4483203125\" height=\"40\" stroke=\"black\" fill=\"white\" stroke-width=\"1\" /><text x=\"941.35458984375\" y=\"75.0\" dominant-baseline=\"middle\" text-anchor=\"middle\" font-size=\"14px\" font-family=\"Arial\">Ry(theta12)</text><circle cx=\"1026.57875\" cy=\"25.0\" r=\"10.0\" /><circle cx=\"1026.57875\" cy=\"75.0\" r=\"10.0\" /><rect x=\"1066.57875\" y=\"5.0\" width=\"90.4483203125\" height=\"40\" stroke=\"black\" fill=\"white\" stroke-width=\"1\" /><text x=\"1111.80291015625\" y=\"25.0\" dominant-baseline=\"middle\" text-anchor=\"middle\" font-size=\"14px\" font-family=\"Arial\">Ry(theta13)</text><rect x=\"1066.57875\" y=\"55.0\" width=\"90.4483203125\" height=\"40\" stroke=\"black\" fill=\"white\" stroke-width=\"1\" /><text x=\"1111.80291015625\" y=\"75.0\" dominant-baseline=\"middle\" text-anchor=\"middle\" font-size=\"14px\" font-family=\"Arial\">Ry(theta14)</text><circle cx=\"1197.0270703125\" cy=\"25.0\" r=\"10.0\" /><circle cx=\"1197.0270703125\" cy=\"75.0\" r=\"10.0\" /><rect x=\"1237.0270703125\" y=\"5.0\" width=\"90.4483203125\" height=\"40\" stroke=\"black\" fill=\"white\" stroke-width=\"1\" /><text x=\"1282.25123046875\" y=\"25.0\" dominant-baseline=\"middle\" text-anchor=\"middle\" font-size=\"14px\" font-family=\"Arial\">Ry(theta15)</text><rect x=\"1237.0270703125\" y=\"55.0\" width=\"90.4483203125\" height=\"40\" stroke=\"black\" fill=\"white\" stroke-width=\"1\" /><text x=\"1282.25123046875\" y=\"75.0\" dominant-baseline=\"middle\" text-anchor=\"middle\" font-size=\"14px\" font-family=\"Arial\">Ry(theta16)</text><circle cx=\"1367.475390625\" cy=\"25.0\" r=\"10.0\" /><circle cx=\"1367.475390625\" cy=\"75.0\" r=\"10.0\" /></svg>"
          },
          "metadata": {
            "tags": []
          },
          "execution_count": 24
        }
      ]
    },
    {
      "cell_type": "code",
      "metadata": {
        "colab": {
          "base_uri": "https://localhost:8080/"
        },
        "id": "khel603W_sKP",
        "outputId": "72271a64-f422-4e11-9dc5-bf052cf5c05d"
      },
      "source": [
        "# 建立量子層和經典全連接層\n",
        "q_layer = tfq.layers.PQC(circuit, [cirq.Z(q0), cirq.Z(q1)])\n",
        "dense_layer = tf.keras.layers.Dense(1, activation=\"sigmoid\")\n",
        "# 使用Keras建立訓練流程。量子資料首先通過PQC，然後通過經典的全連接模型\n",
        "q_data_input = tf.keras.Input(shape=() ,dtype=tf.dtypes.string)\n",
        "expectation_output = q_layer(q_data_input)\n",
        "classifier_output = dense_layer(expectation_output)\n",
        "\n",
        "model = tf.keras.Model(inputs=q_data_input, outputs=classifier_output)\n",
        "print(model.summary())\n",
        "# 編譯模型，指定優化器、損失函數和評估指標，並進行訓練\n",
        "model.compile(\n",
        "    optimizer = \"adam\",\n",
        "    loss = \"mse\",\n",
        "    metrics=['accuracy','AUC']\n",
        ")"
      ],
      "execution_count": null,
      "outputs": [
        {
          "output_type": "stream",
          "text": [
            "Model: \"model\"\n",
            "_________________________________________________________________\n",
            "Layer (type)                 Output Shape              Param #   \n",
            "=================================================================\n",
            "input_1 (InputLayer)         [(None,)]                 0         \n",
            "_________________________________________________________________\n",
            "pqc (PQC)                    (None, 2)                 16        \n",
            "_________________________________________________________________\n",
            "dense (Dense)                (None, 1)                 3         \n",
            "=================================================================\n",
            "Total params: 19\n",
            "Trainable params: 19\n",
            "Non-trainable params: 0\n",
            "_________________________________________________________________\n",
            "None\n"
          ],
          "name": "stdout"
        }
      ]
    },
    {
      "cell_type": "code",
      "metadata": {
        "colab": {
          "base_uri": "https://localhost:8080/"
        },
        "id": "ZwbNDBie_sKP",
        "outputId": "a5b795be-6a0e-4144-b20b-66261c2e886b"
      },
      "source": [
        "model.fit(x=x_train, y=y_train, epochs=500,validation_data=(x_val,y_val))\n",
        "\n",
        "# 輸出量子層參數（即theta）的訓練結果\n",
        "print(q_layer.get_weights())"
      ],
      "execution_count": null,
      "outputs": [
        {
          "output_type": "stream",
          "text": [
            "Epoch 1/500\n",
            "10/10 [==============================] - 4s 111ms/step - loss: 0.2522 - accuracy: 0.5542 - auc: 0.5507 - val_loss: 0.2343 - val_accuracy: 0.6250 - val_auc: 0.6279\n",
            "Epoch 2/500\n",
            "10/10 [==============================] - 0s 36ms/step - loss: 0.2500 - accuracy: 0.5651 - auc: 0.5771 - val_loss: 0.2340 - val_accuracy: 0.6250 - val_auc: 0.6330\n",
            "Epoch 3/500\n",
            "10/10 [==============================] - 0s 37ms/step - loss: 0.2539 - accuracy: 0.5632 - auc: 0.5481 - val_loss: 0.2338 - val_accuracy: 0.6250 - val_auc: 0.6381\n",
            "Epoch 4/500\n",
            "10/10 [==============================] - 0s 36ms/step - loss: 0.2529 - accuracy: 0.5432 - auc: 0.5452 - val_loss: 0.2336 - val_accuracy: 0.6500 - val_auc: 0.6394\n",
            "Epoch 5/500\n",
            "10/10 [==============================] - 0s 36ms/step - loss: 0.2438 - accuracy: 0.5920 - auc: 0.5936 - val_loss: 0.2333 - val_accuracy: 0.6500 - val_auc: 0.6432\n",
            "Epoch 6/500\n",
            "10/10 [==============================] - 0s 39ms/step - loss: 0.2432 - accuracy: 0.5856 - auc: 0.6015 - val_loss: 0.2331 - val_accuracy: 0.6500 - val_auc: 0.6458\n",
            "Epoch 7/500\n",
            "10/10 [==============================] - 0s 36ms/step - loss: 0.2462 - accuracy: 0.5848 - auc: 0.5834 - val_loss: 0.2329 - val_accuracy: 0.6500 - val_auc: 0.6496\n",
            "Epoch 8/500\n",
            "10/10 [==============================] - 0s 38ms/step - loss: 0.2467 - accuracy: 0.5855 - auc: 0.5842 - val_loss: 0.2327 - val_accuracy: 0.6500 - val_auc: 0.6509\n",
            "Epoch 9/500\n",
            "10/10 [==============================] - 0s 35ms/step - loss: 0.2553 - accuracy: 0.5383 - auc: 0.5392 - val_loss: 0.2325 - val_accuracy: 0.6500 - val_auc: 0.6483\n",
            "Epoch 10/500\n",
            "10/10 [==============================] - 0s 37ms/step - loss: 0.2470 - accuracy: 0.5635 - auc: 0.5877 - val_loss: 0.2322 - val_accuracy: 0.6250 - val_auc: 0.6445\n",
            "Epoch 11/500\n",
            "10/10 [==============================] - 0s 37ms/step - loss: 0.2446 - accuracy: 0.5941 - auc: 0.5927 - val_loss: 0.2320 - val_accuracy: 0.6250 - val_auc: 0.6445\n",
            "Epoch 12/500\n",
            "10/10 [==============================] - 0s 39ms/step - loss: 0.2426 - accuracy: 0.5891 - auc: 0.6021 - val_loss: 0.2318 - val_accuracy: 0.6250 - val_auc: 0.6432\n",
            "Epoch 13/500\n",
            "10/10 [==============================] - 0s 38ms/step - loss: 0.2481 - accuracy: 0.5834 - auc: 0.5724 - val_loss: 0.2315 - val_accuracy: 0.6250 - val_auc: 0.6471\n",
            "Epoch 14/500\n",
            "10/10 [==============================] - 0s 40ms/step - loss: 0.2375 - accuracy: 0.6222 - auc: 0.6306 - val_loss: 0.2313 - val_accuracy: 0.6250 - val_auc: 0.6471\n",
            "Epoch 15/500\n",
            "10/10 [==============================] - 0s 38ms/step - loss: 0.2480 - accuracy: 0.6039 - auc: 0.5692 - val_loss: 0.2311 - val_accuracy: 0.6250 - val_auc: 0.6535\n",
            "Epoch 16/500\n",
            "10/10 [==============================] - 0s 37ms/step - loss: 0.2501 - accuracy: 0.5847 - auc: 0.5631 - val_loss: 0.2309 - val_accuracy: 0.6250 - val_auc: 0.6611\n",
            "Epoch 17/500\n",
            "10/10 [==============================] - 0s 37ms/step - loss: 0.2498 - accuracy: 0.5896 - auc: 0.5579 - val_loss: 0.2307 - val_accuracy: 0.6500 - val_auc: 0.6637\n",
            "Epoch 18/500\n",
            "10/10 [==============================] - 0s 36ms/step - loss: 0.2392 - accuracy: 0.6381 - auc: 0.6246 - val_loss: 0.2305 - val_accuracy: 0.6500 - val_auc: 0.6598\n",
            "Epoch 19/500\n",
            "10/10 [==============================] - 0s 37ms/step - loss: 0.2426 - accuracy: 0.6163 - auc: 0.6118 - val_loss: 0.2303 - val_accuracy: 0.6500 - val_auc: 0.6624\n",
            "Epoch 20/500\n",
            "10/10 [==============================] - 0s 37ms/step - loss: 0.2391 - accuracy: 0.6246 - auc: 0.6384 - val_loss: 0.2301 - val_accuracy: 0.6500 - val_auc: 0.6637\n",
            "Epoch 21/500\n",
            "10/10 [==============================] - 0s 40ms/step - loss: 0.2405 - accuracy: 0.6406 - auc: 0.6149 - val_loss: 0.2298 - val_accuracy: 0.6500 - val_auc: 0.6624\n",
            "Epoch 22/500\n",
            "10/10 [==============================] - 0s 37ms/step - loss: 0.2450 - accuracy: 0.5993 - auc: 0.5945 - val_loss: 0.2296 - val_accuracy: 0.6500 - val_auc: 0.6650\n",
            "Epoch 23/500\n",
            "10/10 [==============================] - 0s 39ms/step - loss: 0.2316 - accuracy: 0.6860 - auc: 0.6727 - val_loss: 0.2294 - val_accuracy: 0.6500 - val_auc: 0.6662\n",
            "Epoch 24/500\n",
            "10/10 [==============================] - 0s 40ms/step - loss: 0.2365 - accuracy: 0.6429 - auc: 0.6448 - val_loss: 0.2292 - val_accuracy: 0.6750 - val_auc: 0.6637\n",
            "Epoch 25/500\n",
            "10/10 [==============================] - 0s 37ms/step - loss: 0.2406 - accuracy: 0.6368 - auc: 0.6138 - val_loss: 0.2290 - val_accuracy: 0.6750 - val_auc: 0.6675\n",
            "Epoch 26/500\n",
            "10/10 [==============================] - 0s 38ms/step - loss: 0.2363 - accuracy: 0.6297 - auc: 0.6428 - val_loss: 0.2288 - val_accuracy: 0.6750 - val_auc: 0.6662\n",
            "Epoch 27/500\n",
            "10/10 [==============================] - 0s 38ms/step - loss: 0.2368 - accuracy: 0.6278 - auc: 0.6351 - val_loss: 0.2286 - val_accuracy: 0.6750 - val_auc: 0.6701\n",
            "Epoch 28/500\n",
            "10/10 [==============================] - 0s 38ms/step - loss: 0.2354 - accuracy: 0.6526 - auc: 0.6463 - val_loss: 0.2284 - val_accuracy: 0.6750 - val_auc: 0.6739\n",
            "Epoch 29/500\n",
            "10/10 [==============================] - 0s 38ms/step - loss: 0.2375 - accuracy: 0.6395 - auc: 0.6348 - val_loss: 0.2282 - val_accuracy: 0.6750 - val_auc: 0.6726\n",
            "Epoch 30/500\n",
            "10/10 [==============================] - 0s 39ms/step - loss: 0.2331 - accuracy: 0.6510 - auc: 0.6593 - val_loss: 0.2280 - val_accuracy: 0.6500 - val_auc: 0.6816\n",
            "Epoch 31/500\n",
            "10/10 [==============================] - 0s 39ms/step - loss: 0.2395 - accuracy: 0.6296 - auc: 0.6267 - val_loss: 0.2279 - val_accuracy: 0.6500 - val_auc: 0.6790\n",
            "Epoch 32/500\n",
            "10/10 [==============================] - 0s 39ms/step - loss: 0.2346 - accuracy: 0.6836 - auc: 0.6531 - val_loss: 0.2277 - val_accuracy: 0.6500 - val_auc: 0.6739\n",
            "Epoch 33/500\n",
            "10/10 [==============================] - 0s 37ms/step - loss: 0.2351 - accuracy: 0.6661 - auc: 0.6512 - val_loss: 0.2275 - val_accuracy: 0.6500 - val_auc: 0.6765\n",
            "Epoch 34/500\n",
            "10/10 [==============================] - 0s 39ms/step - loss: 0.2378 - accuracy: 0.6561 - auc: 0.6485 - val_loss: 0.2273 - val_accuracy: 0.6750 - val_auc: 0.6726\n",
            "Epoch 35/500\n",
            "10/10 [==============================] - 0s 40ms/step - loss: 0.2396 - accuracy: 0.6443 - auc: 0.6236 - val_loss: 0.2272 - val_accuracy: 0.6750 - val_auc: 0.6752\n",
            "Epoch 36/500\n",
            "10/10 [==============================] - 0s 39ms/step - loss: 0.2340 - accuracy: 0.6739 - auc: 0.6530 - val_loss: 0.2270 - val_accuracy: 0.6750 - val_auc: 0.6777\n",
            "Epoch 37/500\n",
            "10/10 [==============================] - 0s 40ms/step - loss: 0.2344 - accuracy: 0.6717 - auc: 0.6537 - val_loss: 0.2269 - val_accuracy: 0.6750 - val_auc: 0.6765\n",
            "Epoch 38/500\n",
            "10/10 [==============================] - 0s 38ms/step - loss: 0.2365 - accuracy: 0.6597 - auc: 0.6391 - val_loss: 0.2267 - val_accuracy: 0.6750 - val_auc: 0.6841\n",
            "Epoch 39/500\n",
            "10/10 [==============================] - 0s 37ms/step - loss: 0.2364 - accuracy: 0.6659 - auc: 0.6466 - val_loss: 0.2266 - val_accuracy: 0.6750 - val_auc: 0.6777\n",
            "Epoch 40/500\n",
            "10/10 [==============================] - 0s 39ms/step - loss: 0.2323 - accuracy: 0.6693 - auc: 0.6768 - val_loss: 0.2264 - val_accuracy: 0.6750 - val_auc: 0.6752\n",
            "Epoch 41/500\n",
            "10/10 [==============================] - 0s 38ms/step - loss: 0.2316 - accuracy: 0.6575 - auc: 0.6776 - val_loss: 0.2263 - val_accuracy: 0.6750 - val_auc: 0.6829\n",
            "Epoch 42/500\n",
            "10/10 [==============================] - 0s 39ms/step - loss: 0.2302 - accuracy: 0.6724 - auc: 0.6831 - val_loss: 0.2262 - val_accuracy: 0.6750 - val_auc: 0.6803\n",
            "Epoch 43/500\n",
            "10/10 [==============================] - 0s 37ms/step - loss: 0.2308 - accuracy: 0.6858 - auc: 0.6773 - val_loss: 0.2261 - val_accuracy: 0.6750 - val_auc: 0.6829\n",
            "Epoch 44/500\n",
            "10/10 [==============================] - 0s 38ms/step - loss: 0.2320 - accuracy: 0.6676 - auc: 0.6766 - val_loss: 0.2260 - val_accuracy: 0.6750 - val_auc: 0.6944\n",
            "Epoch 45/500\n",
            "10/10 [==============================] - 0s 40ms/step - loss: 0.2287 - accuracy: 0.7019 - auc: 0.6912 - val_loss: 0.2259 - val_accuracy: 0.6750 - val_auc: 0.6982\n",
            "Epoch 46/500\n",
            "10/10 [==============================] - 0s 39ms/step - loss: 0.2310 - accuracy: 0.6796 - auc: 0.6767 - val_loss: 0.2258 - val_accuracy: 0.7000 - val_auc: 0.6944\n",
            "Epoch 47/500\n",
            "10/10 [==============================] - 0s 39ms/step - loss: 0.2320 - accuracy: 0.6754 - auc: 0.6745 - val_loss: 0.2257 - val_accuracy: 0.7000 - val_auc: 0.6931\n",
            "Epoch 48/500\n",
            "10/10 [==============================] - 0s 39ms/step - loss: 0.2268 - accuracy: 0.7049 - auc: 0.6884 - val_loss: 0.2256 - val_accuracy: 0.7000 - val_auc: 0.7020\n",
            "Epoch 49/500\n",
            "10/10 [==============================] - 0s 39ms/step - loss: 0.2256 - accuracy: 0.7015 - auc: 0.7092 - val_loss: 0.2255 - val_accuracy: 0.7000 - val_auc: 0.7008\n",
            "Epoch 50/500\n",
            "10/10 [==============================] - 0s 38ms/step - loss: 0.2270 - accuracy: 0.6961 - auc: 0.7005 - val_loss: 0.2254 - val_accuracy: 0.7000 - val_auc: 0.6982\n",
            "Epoch 51/500\n",
            "10/10 [==============================] - 0s 38ms/step - loss: 0.2395 - accuracy: 0.6599 - auc: 0.6401 - val_loss: 0.2254 - val_accuracy: 0.7250 - val_auc: 0.6982\n",
            "Epoch 52/500\n",
            "10/10 [==============================] - 0s 40ms/step - loss: 0.2354 - accuracy: 0.6399 - auc: 0.6455 - val_loss: 0.2253 - val_accuracy: 0.7250 - val_auc: 0.7008\n",
            "Epoch 53/500\n",
            "10/10 [==============================] - 0s 38ms/step - loss: 0.2353 - accuracy: 0.6574 - auc: 0.6526 - val_loss: 0.2252 - val_accuracy: 0.7250 - val_auc: 0.6969\n",
            "Epoch 54/500\n",
            "10/10 [==============================] - 0s 40ms/step - loss: 0.2376 - accuracy: 0.6437 - auc: 0.6473 - val_loss: 0.2252 - val_accuracy: 0.7250 - val_auc: 0.6944\n",
            "Epoch 55/500\n",
            "10/10 [==============================] - 0s 41ms/step - loss: 0.2254 - accuracy: 0.6938 - auc: 0.7017 - val_loss: 0.2251 - val_accuracy: 0.7250 - val_auc: 0.6969\n",
            "Epoch 56/500\n",
            "10/10 [==============================] - 0s 37ms/step - loss: 0.2242 - accuracy: 0.6839 - auc: 0.7095 - val_loss: 0.2250 - val_accuracy: 0.7250 - val_auc: 0.6995\n",
            "Epoch 57/500\n",
            "10/10 [==============================] - 0s 37ms/step - loss: 0.2237 - accuracy: 0.7138 - auc: 0.7136 - val_loss: 0.2250 - val_accuracy: 0.7250 - val_auc: 0.7008\n",
            "Epoch 58/500\n",
            "10/10 [==============================] - 0s 39ms/step - loss: 0.2311 - accuracy: 0.6783 - auc: 0.6694 - val_loss: 0.2249 - val_accuracy: 0.7250 - val_auc: 0.7020\n",
            "Epoch 59/500\n",
            "10/10 [==============================] - 0s 37ms/step - loss: 0.2315 - accuracy: 0.6626 - auc: 0.6780 - val_loss: 0.2249 - val_accuracy: 0.7250 - val_auc: 0.7020\n",
            "Epoch 60/500\n",
            "10/10 [==============================] - 0s 39ms/step - loss: 0.2301 - accuracy: 0.6797 - auc: 0.6809 - val_loss: 0.2248 - val_accuracy: 0.7250 - val_auc: 0.7020\n",
            "Epoch 61/500\n",
            "10/10 [==============================] - 0s 40ms/step - loss: 0.2281 - accuracy: 0.6867 - auc: 0.6918 - val_loss: 0.2247 - val_accuracy: 0.7250 - val_auc: 0.6995\n",
            "Epoch 62/500\n",
            "10/10 [==============================] - 0s 39ms/step - loss: 0.2297 - accuracy: 0.6874 - auc: 0.6871 - val_loss: 0.2247 - val_accuracy: 0.7500 - val_auc: 0.7020\n",
            "Epoch 63/500\n",
            "10/10 [==============================] - 0s 39ms/step - loss: 0.2285 - accuracy: 0.6946 - auc: 0.6941 - val_loss: 0.2246 - val_accuracy: 0.7500 - val_auc: 0.7020\n",
            "Epoch 64/500\n",
            "10/10 [==============================] - 0s 39ms/step - loss: 0.2297 - accuracy: 0.6855 - auc: 0.6798 - val_loss: 0.2246 - val_accuracy: 0.7500 - val_auc: 0.7020\n",
            "Epoch 65/500\n",
            "10/10 [==============================] - 0s 38ms/step - loss: 0.2298 - accuracy: 0.6668 - auc: 0.6745 - val_loss: 0.2245 - val_accuracy: 0.7500 - val_auc: 0.7033\n",
            "Epoch 66/500\n",
            "10/10 [==============================] - 0s 38ms/step - loss: 0.2312 - accuracy: 0.6904 - auc: 0.6710 - val_loss: 0.2245 - val_accuracy: 0.7500 - val_auc: 0.7020\n",
            "Epoch 67/500\n",
            "10/10 [==============================] - 0s 39ms/step - loss: 0.2327 - accuracy: 0.6678 - auc: 0.6569 - val_loss: 0.2245 - val_accuracy: 0.7500 - val_auc: 0.7020\n",
            "Epoch 68/500\n",
            "10/10 [==============================] - 0s 39ms/step - loss: 0.2263 - accuracy: 0.7084 - auc: 0.6803 - val_loss: 0.2244 - val_accuracy: 0.7500 - val_auc: 0.7033\n",
            "Epoch 69/500\n",
            "10/10 [==============================] - 0s 37ms/step - loss: 0.2383 - accuracy: 0.6677 - auc: 0.6385 - val_loss: 0.2244 - val_accuracy: 0.7500 - val_auc: 0.7046\n",
            "Epoch 70/500\n",
            "10/10 [==============================] - 0s 39ms/step - loss: 0.2239 - accuracy: 0.6970 - auc: 0.7047 - val_loss: 0.2243 - val_accuracy: 0.7500 - val_auc: 0.7033\n",
            "Epoch 71/500\n",
            "10/10 [==============================] - 0s 40ms/step - loss: 0.2228 - accuracy: 0.7237 - auc: 0.7020 - val_loss: 0.2243 - val_accuracy: 0.7500 - val_auc: 0.7033\n",
            "Epoch 72/500\n",
            "10/10 [==============================] - 0s 38ms/step - loss: 0.2415 - accuracy: 0.6476 - auc: 0.6288 - val_loss: 0.2242 - val_accuracy: 0.7500 - val_auc: 0.7046\n",
            "Epoch 73/500\n",
            "10/10 [==============================] - 0s 39ms/step - loss: 0.2261 - accuracy: 0.6970 - auc: 0.6990 - val_loss: 0.2242 - val_accuracy: 0.7500 - val_auc: 0.6995\n",
            "Epoch 74/500\n",
            "10/10 [==============================] - 0s 38ms/step - loss: 0.2304 - accuracy: 0.6964 - auc: 0.6705 - val_loss: 0.2242 - val_accuracy: 0.7500 - val_auc: 0.6995\n",
            "Epoch 75/500\n",
            "10/10 [==============================] - 0s 38ms/step - loss: 0.2301 - accuracy: 0.6728 - auc: 0.6794 - val_loss: 0.2241 - val_accuracy: 0.7500 - val_auc: 0.7033\n",
            "Epoch 76/500\n",
            "10/10 [==============================] - 0s 38ms/step - loss: 0.2301 - accuracy: 0.6800 - auc: 0.6734 - val_loss: 0.2241 - val_accuracy: 0.7500 - val_auc: 0.7008\n",
            "Epoch 77/500\n",
            "10/10 [==============================] - 0s 37ms/step - loss: 0.2254 - accuracy: 0.7052 - auc: 0.6974 - val_loss: 0.2240 - val_accuracy: 0.7500 - val_auc: 0.6982\n",
            "Epoch 78/500\n",
            "10/10 [==============================] - 0s 37ms/step - loss: 0.2256 - accuracy: 0.6962 - auc: 0.6903 - val_loss: 0.2240 - val_accuracy: 0.7500 - val_auc: 0.6995\n",
            "Epoch 79/500\n",
            "10/10 [==============================] - 0s 37ms/step - loss: 0.2252 - accuracy: 0.6973 - auc: 0.6944 - val_loss: 0.2240 - val_accuracy: 0.7500 - val_auc: 0.6995\n",
            "Epoch 80/500\n",
            "10/10 [==============================] - 0s 39ms/step - loss: 0.2287 - accuracy: 0.6838 - auc: 0.6826 - val_loss: 0.2239 - val_accuracy: 0.7500 - val_auc: 0.6995\n",
            "Epoch 81/500\n",
            "10/10 [==============================] - 0s 38ms/step - loss: 0.2365 - accuracy: 0.6605 - auc: 0.6292 - val_loss: 0.2239 - val_accuracy: 0.7500 - val_auc: 0.6982\n",
            "Epoch 82/500\n",
            "10/10 [==============================] - 0s 39ms/step - loss: 0.2226 - accuracy: 0.7150 - auc: 0.7073 - val_loss: 0.2238 - val_accuracy: 0.7500 - val_auc: 0.6995\n",
            "Epoch 83/500\n",
            "10/10 [==============================] - 0s 39ms/step - loss: 0.2338 - accuracy: 0.6781 - auc: 0.6650 - val_loss: 0.2238 - val_accuracy: 0.7500 - val_auc: 0.7008\n",
            "Epoch 84/500\n",
            "10/10 [==============================] - 0s 39ms/step - loss: 0.2275 - accuracy: 0.6879 - auc: 0.6861 - val_loss: 0.2238 - val_accuracy: 0.7500 - val_auc: 0.7008\n",
            "Epoch 85/500\n",
            "10/10 [==============================] - 0s 37ms/step - loss: 0.2296 - accuracy: 0.6803 - auc: 0.6789 - val_loss: 0.2237 - val_accuracy: 0.7500 - val_auc: 0.7020\n",
            "Epoch 86/500\n",
            "10/10 [==============================] - 0s 37ms/step - loss: 0.2274 - accuracy: 0.6968 - auc: 0.6908 - val_loss: 0.2237 - val_accuracy: 0.7500 - val_auc: 0.7033\n",
            "Epoch 87/500\n",
            "10/10 [==============================] - 0s 39ms/step - loss: 0.2349 - accuracy: 0.6742 - auc: 0.6679 - val_loss: 0.2236 - val_accuracy: 0.7500 - val_auc: 0.6982\n",
            "Epoch 88/500\n",
            "10/10 [==============================] - 0s 39ms/step - loss: 0.2230 - accuracy: 0.7020 - auc: 0.7114 - val_loss: 0.2236 - val_accuracy: 0.7500 - val_auc: 0.7033\n",
            "Epoch 89/500\n",
            "10/10 [==============================] - 0s 37ms/step - loss: 0.2306 - accuracy: 0.6878 - auc: 0.6712 - val_loss: 0.2236 - val_accuracy: 0.7500 - val_auc: 0.7046\n",
            "Epoch 90/500\n",
            "10/10 [==============================] - 0s 41ms/step - loss: 0.2348 - accuracy: 0.6530 - auc: 0.6497 - val_loss: 0.2236 - val_accuracy: 0.7500 - val_auc: 0.7033\n",
            "Epoch 91/500\n",
            "10/10 [==============================] - 0s 40ms/step - loss: 0.2257 - accuracy: 0.7080 - auc: 0.6890 - val_loss: 0.2235 - val_accuracy: 0.7500 - val_auc: 0.7020\n",
            "Epoch 92/500\n",
            "10/10 [==============================] - 0s 39ms/step - loss: 0.2319 - accuracy: 0.6863 - auc: 0.6660 - val_loss: 0.2235 - val_accuracy: 0.7500 - val_auc: 0.7020\n",
            "Epoch 93/500\n",
            "10/10 [==============================] - 0s 40ms/step - loss: 0.2270 - accuracy: 0.7015 - auc: 0.6890 - val_loss: 0.2235 - val_accuracy: 0.7500 - val_auc: 0.7046\n",
            "Epoch 94/500\n",
            "10/10 [==============================] - 0s 39ms/step - loss: 0.2267 - accuracy: 0.7009 - auc: 0.6929 - val_loss: 0.2234 - val_accuracy: 0.7750 - val_auc: 0.7046\n",
            "Epoch 95/500\n",
            "10/10 [==============================] - 0s 38ms/step - loss: 0.2303 - accuracy: 0.6871 - auc: 0.6708 - val_loss: 0.2234 - val_accuracy: 0.7750 - val_auc: 0.7046\n",
            "Epoch 96/500\n",
            "10/10 [==============================] - 0s 39ms/step - loss: 0.2277 - accuracy: 0.6973 - auc: 0.6893 - val_loss: 0.2234 - val_accuracy: 0.7750 - val_auc: 0.7046\n",
            "Epoch 97/500\n",
            "10/10 [==============================] - 0s 39ms/step - loss: 0.2195 - accuracy: 0.6886 - auc: 0.7148 - val_loss: 0.2233 - val_accuracy: 0.7750 - val_auc: 0.7046\n",
            "Epoch 98/500\n",
            "10/10 [==============================] - 0s 39ms/step - loss: 0.2293 - accuracy: 0.6950 - auc: 0.6859 - val_loss: 0.2233 - val_accuracy: 0.7750 - val_auc: 0.7046\n",
            "Epoch 99/500\n",
            "10/10 [==============================] - 0s 41ms/step - loss: 0.2275 - accuracy: 0.7072 - auc: 0.6716 - val_loss: 0.2232 - val_accuracy: 0.7750 - val_auc: 0.7046\n",
            "Epoch 100/500\n",
            "10/10 [==============================] - 0s 38ms/step - loss: 0.2338 - accuracy: 0.6635 - auc: 0.6617 - val_loss: 0.2232 - val_accuracy: 0.7750 - val_auc: 0.7046\n",
            "Epoch 101/500\n",
            "10/10 [==============================] - 0s 41ms/step - loss: 0.2295 - accuracy: 0.7016 - auc: 0.6758 - val_loss: 0.2232 - val_accuracy: 0.7750 - val_auc: 0.7046\n",
            "Epoch 102/500\n",
            "10/10 [==============================] - 0s 38ms/step - loss: 0.2247 - accuracy: 0.6842 - auc: 0.7018 - val_loss: 0.2231 - val_accuracy: 0.7750 - val_auc: 0.7033\n",
            "Epoch 103/500\n",
            "10/10 [==============================] - 0s 39ms/step - loss: 0.2153 - accuracy: 0.7267 - auc: 0.7340 - val_loss: 0.2231 - val_accuracy: 0.7750 - val_auc: 0.7033\n",
            "Epoch 104/500\n",
            "10/10 [==============================] - 0s 39ms/step - loss: 0.2314 - accuracy: 0.6709 - auc: 0.6650 - val_loss: 0.2231 - val_accuracy: 0.7750 - val_auc: 0.7020\n",
            "Epoch 105/500\n",
            "10/10 [==============================] - 0s 38ms/step - loss: 0.2232 - accuracy: 0.7052 - auc: 0.7063 - val_loss: 0.2231 - val_accuracy: 0.7750 - val_auc: 0.7046\n",
            "Epoch 106/500\n",
            "10/10 [==============================] - 0s 39ms/step - loss: 0.2293 - accuracy: 0.6867 - auc: 0.6753 - val_loss: 0.2230 - val_accuracy: 0.7750 - val_auc: 0.7046\n",
            "Epoch 107/500\n",
            "10/10 [==============================] - 0s 38ms/step - loss: 0.2280 - accuracy: 0.6782 - auc: 0.6660 - val_loss: 0.2230 - val_accuracy: 0.7750 - val_auc: 0.7046\n",
            "Epoch 108/500\n",
            "10/10 [==============================] - 0s 40ms/step - loss: 0.2210 - accuracy: 0.6983 - auc: 0.7126 - val_loss: 0.2230 - val_accuracy: 0.7750 - val_auc: 0.7046\n",
            "Epoch 109/500\n",
            "10/10 [==============================] - 0s 38ms/step - loss: 0.2285 - accuracy: 0.6918 - auc: 0.6851 - val_loss: 0.2230 - val_accuracy: 0.7750 - val_auc: 0.7033\n",
            "Epoch 110/500\n",
            "10/10 [==============================] - 0s 40ms/step - loss: 0.2180 - accuracy: 0.7236 - auc: 0.7275 - val_loss: 0.2229 - val_accuracy: 0.7750 - val_auc: 0.7033\n",
            "Epoch 111/500\n",
            "10/10 [==============================] - 0s 38ms/step - loss: 0.2224 - accuracy: 0.7103 - auc: 0.6968 - val_loss: 0.2228 - val_accuracy: 0.7750 - val_auc: 0.7033\n",
            "Epoch 112/500\n",
            "10/10 [==============================] - 0s 41ms/step - loss: 0.2346 - accuracy: 0.6722 - auc: 0.6500 - val_loss: 0.2229 - val_accuracy: 0.7750 - val_auc: 0.7033\n",
            "Epoch 113/500\n",
            "10/10 [==============================] - 0s 42ms/step - loss: 0.2151 - accuracy: 0.7164 - auc: 0.7402 - val_loss: 0.2228 - val_accuracy: 0.7750 - val_auc: 0.7033\n",
            "Epoch 114/500\n",
            "10/10 [==============================] - 0s 41ms/step - loss: 0.2343 - accuracy: 0.6673 - auc: 0.6494 - val_loss: 0.2227 - val_accuracy: 0.7750 - val_auc: 0.6982\n",
            "Epoch 115/500\n",
            "10/10 [==============================] - 0s 43ms/step - loss: 0.2287 - accuracy: 0.6947 - auc: 0.6835 - val_loss: 0.2227 - val_accuracy: 0.7750 - val_auc: 0.6995\n",
            "Epoch 116/500\n",
            "10/10 [==============================] - 0s 44ms/step - loss: 0.2216 - accuracy: 0.7057 - auc: 0.7026 - val_loss: 0.2227 - val_accuracy: 0.7750 - val_auc: 0.6995\n",
            "Epoch 117/500\n",
            "10/10 [==============================] - 0s 40ms/step - loss: 0.2346 - accuracy: 0.6752 - auc: 0.6527 - val_loss: 0.2227 - val_accuracy: 0.7750 - val_auc: 0.6995\n",
            "Epoch 118/500\n",
            "10/10 [==============================] - 0s 42ms/step - loss: 0.2301 - accuracy: 0.6622 - auc: 0.6729 - val_loss: 0.2226 - val_accuracy: 0.7750 - val_auc: 0.6995\n",
            "Epoch 119/500\n",
            "10/10 [==============================] - 0s 39ms/step - loss: 0.2242 - accuracy: 0.7012 - auc: 0.6991 - val_loss: 0.2226 - val_accuracy: 0.7750 - val_auc: 0.6995\n",
            "Epoch 120/500\n",
            "10/10 [==============================] - 0s 40ms/step - loss: 0.2236 - accuracy: 0.7057 - auc: 0.6946 - val_loss: 0.2226 - val_accuracy: 0.7750 - val_auc: 0.6995\n",
            "Epoch 121/500\n",
            "10/10 [==============================] - 0s 39ms/step - loss: 0.2279 - accuracy: 0.7023 - auc: 0.6774 - val_loss: 0.2225 - val_accuracy: 0.7750 - val_auc: 0.6995\n",
            "Epoch 122/500\n",
            "10/10 [==============================] - 0s 39ms/step - loss: 0.2340 - accuracy: 0.6656 - auc: 0.6492 - val_loss: 0.2225 - val_accuracy: 0.7750 - val_auc: 0.7020\n",
            "Epoch 123/500\n",
            "10/10 [==============================] - 0s 40ms/step - loss: 0.2168 - accuracy: 0.7178 - auc: 0.7252 - val_loss: 0.2225 - val_accuracy: 0.7750 - val_auc: 0.6982\n",
            "Epoch 124/500\n",
            "10/10 [==============================] - 0s 38ms/step - loss: 0.2361 - accuracy: 0.6527 - auc: 0.6391 - val_loss: 0.2224 - val_accuracy: 0.7750 - val_auc: 0.6982\n",
            "Epoch 125/500\n",
            "10/10 [==============================] - 0s 42ms/step - loss: 0.2272 - accuracy: 0.6672 - auc: 0.6926 - val_loss: 0.2224 - val_accuracy: 0.7750 - val_auc: 0.6969\n",
            "Epoch 126/500\n",
            "10/10 [==============================] - 0s 40ms/step - loss: 0.2254 - accuracy: 0.6968 - auc: 0.6954 - val_loss: 0.2224 - val_accuracy: 0.7750 - val_auc: 0.6982\n",
            "Epoch 127/500\n",
            "10/10 [==============================] - 0s 41ms/step - loss: 0.2326 - accuracy: 0.6593 - auc: 0.6615 - val_loss: 0.2223 - val_accuracy: 0.7750 - val_auc: 0.6969\n",
            "Epoch 128/500\n",
            "10/10 [==============================] - 0s 40ms/step - loss: 0.2360 - accuracy: 0.6606 - auc: 0.6425 - val_loss: 0.2223 - val_accuracy: 0.7750 - val_auc: 0.6969\n",
            "Epoch 129/500\n",
            "10/10 [==============================] - 0s 38ms/step - loss: 0.2318 - accuracy: 0.6624 - auc: 0.6584 - val_loss: 0.2223 - val_accuracy: 0.7750 - val_auc: 0.6982\n",
            "Epoch 130/500\n",
            "10/10 [==============================] - 0s 39ms/step - loss: 0.2161 - accuracy: 0.7183 - auc: 0.7298 - val_loss: 0.2222 - val_accuracy: 0.7750 - val_auc: 0.6969\n",
            "Epoch 131/500\n",
            "10/10 [==============================] - 0s 39ms/step - loss: 0.2296 - accuracy: 0.6753 - auc: 0.6760 - val_loss: 0.2222 - val_accuracy: 0.7750 - val_auc: 0.6982\n",
            "Epoch 132/500\n",
            "10/10 [==============================] - 0s 39ms/step - loss: 0.2162 - accuracy: 0.7241 - auc: 0.7394 - val_loss: 0.2221 - val_accuracy: 0.7750 - val_auc: 0.7008\n",
            "Epoch 133/500\n",
            "10/10 [==============================] - 0s 39ms/step - loss: 0.2351 - accuracy: 0.6821 - auc: 0.6517 - val_loss: 0.2221 - val_accuracy: 0.7750 - val_auc: 0.6995\n",
            "Epoch 134/500\n",
            "10/10 [==============================] - 0s 39ms/step - loss: 0.2336 - accuracy: 0.6685 - auc: 0.6567 - val_loss: 0.2221 - val_accuracy: 0.7750 - val_auc: 0.6982\n",
            "Epoch 135/500\n",
            "10/10 [==============================] - 0s 39ms/step - loss: 0.2314 - accuracy: 0.6702 - auc: 0.6697 - val_loss: 0.2221 - val_accuracy: 0.7750 - val_auc: 0.6982\n",
            "Epoch 136/500\n",
            "10/10 [==============================] - 0s 39ms/step - loss: 0.2362 - accuracy: 0.6586 - auc: 0.6461 - val_loss: 0.2220 - val_accuracy: 0.7750 - val_auc: 0.6995\n",
            "Epoch 137/500\n",
            "10/10 [==============================] - 0s 41ms/step - loss: 0.2266 - accuracy: 0.7126 - auc: 0.6882 - val_loss: 0.2220 - val_accuracy: 0.7750 - val_auc: 0.6995\n",
            "Epoch 138/500\n",
            "10/10 [==============================] - 0s 38ms/step - loss: 0.2346 - accuracy: 0.6669 - auc: 0.6518 - val_loss: 0.2219 - val_accuracy: 0.7750 - val_auc: 0.6995\n",
            "Epoch 139/500\n",
            "10/10 [==============================] - 0s 42ms/step - loss: 0.2276 - accuracy: 0.6635 - auc: 0.6744 - val_loss: 0.2219 - val_accuracy: 0.7750 - val_auc: 0.7008\n",
            "Epoch 140/500\n",
            "10/10 [==============================] - 0s 40ms/step - loss: 0.2257 - accuracy: 0.6999 - auc: 0.7022 - val_loss: 0.2219 - val_accuracy: 0.7750 - val_auc: 0.7008\n",
            "Epoch 141/500\n",
            "10/10 [==============================] - 0s 36ms/step - loss: 0.2243 - accuracy: 0.6832 - auc: 0.7029 - val_loss: 0.2218 - val_accuracy: 0.7750 - val_auc: 0.7008\n",
            "Epoch 142/500\n",
            "10/10 [==============================] - 0s 38ms/step - loss: 0.2236 - accuracy: 0.7003 - auc: 0.6970 - val_loss: 0.2218 - val_accuracy: 0.7750 - val_auc: 0.6982\n",
            "Epoch 143/500\n",
            "10/10 [==============================] - 0s 40ms/step - loss: 0.2268 - accuracy: 0.6919 - auc: 0.6873 - val_loss: 0.2218 - val_accuracy: 0.7750 - val_auc: 0.6995\n",
            "Epoch 144/500\n",
            "10/10 [==============================] - 0s 40ms/step - loss: 0.2198 - accuracy: 0.7083 - auc: 0.7086 - val_loss: 0.2217 - val_accuracy: 0.7750 - val_auc: 0.6982\n",
            "Epoch 145/500\n",
            "10/10 [==============================] - 0s 41ms/step - loss: 0.2239 - accuracy: 0.6981 - auc: 0.6926 - val_loss: 0.2217 - val_accuracy: 0.7750 - val_auc: 0.6982\n",
            "Epoch 146/500\n",
            "10/10 [==============================] - 0s 38ms/step - loss: 0.2232 - accuracy: 0.6991 - auc: 0.6999 - val_loss: 0.2217 - val_accuracy: 0.7750 - val_auc: 0.6982\n",
            "Epoch 147/500\n",
            "10/10 [==============================] - 0s 38ms/step - loss: 0.2259 - accuracy: 0.6774 - auc: 0.6874 - val_loss: 0.2216 - val_accuracy: 0.7750 - val_auc: 0.6982\n",
            "Epoch 148/500\n",
            "10/10 [==============================] - 0s 41ms/step - loss: 0.2302 - accuracy: 0.6702 - auc: 0.6514 - val_loss: 0.2216 - val_accuracy: 0.7750 - val_auc: 0.6982\n",
            "Epoch 149/500\n",
            "10/10 [==============================] - 0s 39ms/step - loss: 0.2273 - accuracy: 0.7045 - auc: 0.6895 - val_loss: 0.2215 - val_accuracy: 0.7750 - val_auc: 0.6995\n",
            "Epoch 150/500\n",
            "10/10 [==============================] - 0s 42ms/step - loss: 0.2271 - accuracy: 0.6940 - auc: 0.6833 - val_loss: 0.2215 - val_accuracy: 0.7750 - val_auc: 0.6982\n",
            "Epoch 151/500\n",
            "10/10 [==============================] - 0s 40ms/step - loss: 0.2358 - accuracy: 0.6661 - auc: 0.6422 - val_loss: 0.2215 - val_accuracy: 0.7750 - val_auc: 0.6982\n",
            "Epoch 152/500\n",
            "10/10 [==============================] - 0s 43ms/step - loss: 0.2197 - accuracy: 0.7294 - auc: 0.7115 - val_loss: 0.2215 - val_accuracy: 0.7750 - val_auc: 0.6982\n",
            "Epoch 153/500\n",
            "10/10 [==============================] - 0s 41ms/step - loss: 0.2326 - accuracy: 0.6537 - auc: 0.6586 - val_loss: 0.2215 - val_accuracy: 0.7750 - val_auc: 0.6995\n",
            "Epoch 154/500\n",
            "10/10 [==============================] - 0s 41ms/step - loss: 0.2218 - accuracy: 0.7055 - auc: 0.7048 - val_loss: 0.2214 - val_accuracy: 0.7750 - val_auc: 0.6995\n",
            "Epoch 155/500\n",
            "10/10 [==============================] - 0s 46ms/step - loss: 0.2419 - accuracy: 0.6369 - auc: 0.6222 - val_loss: 0.2213 - val_accuracy: 0.7750 - val_auc: 0.7008\n",
            "Epoch 156/500\n",
            "10/10 [==============================] - 0s 39ms/step - loss: 0.2341 - accuracy: 0.6785 - auc: 0.6589 - val_loss: 0.2213 - val_accuracy: 0.7750 - val_auc: 0.7020\n",
            "Epoch 157/500\n",
            "10/10 [==============================] - 0s 40ms/step - loss: 0.2293 - accuracy: 0.6794 - auc: 0.6742 - val_loss: 0.2213 - val_accuracy: 0.7750 - val_auc: 0.7020\n",
            "Epoch 158/500\n",
            "10/10 [==============================] - 0s 41ms/step - loss: 0.2354 - accuracy: 0.6759 - auc: 0.6379 - val_loss: 0.2213 - val_accuracy: 0.7750 - val_auc: 0.7020\n",
            "Epoch 159/500\n",
            "10/10 [==============================] - 0s 41ms/step - loss: 0.2303 - accuracy: 0.6765 - auc: 0.6782 - val_loss: 0.2212 - val_accuracy: 0.7750 - val_auc: 0.7020\n",
            "Epoch 160/500\n",
            "10/10 [==============================] - 0s 40ms/step - loss: 0.2236 - accuracy: 0.6991 - auc: 0.6975 - val_loss: 0.2211 - val_accuracy: 0.7750 - val_auc: 0.7046\n",
            "Epoch 161/500\n",
            "10/10 [==============================] - 0s 39ms/step - loss: 0.2341 - accuracy: 0.6670 - auc: 0.6559 - val_loss: 0.2211 - val_accuracy: 0.7750 - val_auc: 0.7046\n",
            "Epoch 162/500\n",
            "10/10 [==============================] - 0s 43ms/step - loss: 0.2272 - accuracy: 0.6796 - auc: 0.6859 - val_loss: 0.2211 - val_accuracy: 0.7750 - val_auc: 0.7046\n",
            "Epoch 163/500\n",
            "10/10 [==============================] - 0s 41ms/step - loss: 0.2184 - accuracy: 0.6872 - auc: 0.7193 - val_loss: 0.2211 - val_accuracy: 0.7750 - val_auc: 0.7046\n",
            "Epoch 164/500\n",
            "10/10 [==============================] - 0s 38ms/step - loss: 0.2285 - accuracy: 0.6787 - auc: 0.6761 - val_loss: 0.2211 - val_accuracy: 0.7750 - val_auc: 0.7046\n",
            "Epoch 165/500\n",
            "10/10 [==============================] - 0s 41ms/step - loss: 0.2285 - accuracy: 0.6824 - auc: 0.6727 - val_loss: 0.2210 - val_accuracy: 0.7750 - val_auc: 0.7046\n",
            "Epoch 166/500\n",
            "10/10 [==============================] - 0s 39ms/step - loss: 0.2333 - accuracy: 0.6630 - auc: 0.6534 - val_loss: 0.2210 - val_accuracy: 0.7750 - val_auc: 0.7072\n",
            "Epoch 167/500\n",
            "10/10 [==============================] - 0s 41ms/step - loss: 0.2265 - accuracy: 0.6492 - auc: 0.6817 - val_loss: 0.2210 - val_accuracy: 0.7750 - val_auc: 0.7097\n",
            "Epoch 168/500\n",
            "10/10 [==============================] - 0s 38ms/step - loss: 0.2284 - accuracy: 0.6658 - auc: 0.6768 - val_loss: 0.2210 - val_accuracy: 0.7750 - val_auc: 0.7097\n",
            "Epoch 169/500\n",
            "10/10 [==============================] - 0s 39ms/step - loss: 0.2255 - accuracy: 0.6814 - auc: 0.6893 - val_loss: 0.2209 - val_accuracy: 0.7750 - val_auc: 0.7072\n",
            "Epoch 170/500\n",
            "10/10 [==============================] - 0s 41ms/step - loss: 0.2274 - accuracy: 0.6871 - auc: 0.6834 - val_loss: 0.2209 - val_accuracy: 0.7750 - val_auc: 0.7097\n",
            "Epoch 171/500\n",
            "10/10 [==============================] - 0s 39ms/step - loss: 0.2373 - accuracy: 0.6436 - auc: 0.6333 - val_loss: 0.2209 - val_accuracy: 0.7750 - val_auc: 0.7123\n",
            "Epoch 172/500\n",
            "10/10 [==============================] - 0s 39ms/step - loss: 0.2338 - accuracy: 0.6418 - auc: 0.6500 - val_loss: 0.2208 - val_accuracy: 0.7750 - val_auc: 0.7123\n",
            "Epoch 173/500\n",
            "10/10 [==============================] - 0s 42ms/step - loss: 0.2223 - accuracy: 0.6901 - auc: 0.6881 - val_loss: 0.2208 - val_accuracy: 0.7750 - val_auc: 0.7123\n",
            "Epoch 174/500\n",
            "10/10 [==============================] - 0s 40ms/step - loss: 0.2229 - accuracy: 0.6901 - auc: 0.6935 - val_loss: 0.2207 - val_accuracy: 0.7750 - val_auc: 0.7123\n",
            "Epoch 175/500\n",
            "10/10 [==============================] - 0s 40ms/step - loss: 0.2323 - accuracy: 0.6603 - auc: 0.6552 - val_loss: 0.2207 - val_accuracy: 0.7750 - val_auc: 0.7123\n",
            "Epoch 176/500\n",
            "10/10 [==============================] - 0s 39ms/step - loss: 0.2288 - accuracy: 0.6728 - auc: 0.6772 - val_loss: 0.2207 - val_accuracy: 0.7750 - val_auc: 0.7123\n",
            "Epoch 177/500\n",
            "10/10 [==============================] - 0s 39ms/step - loss: 0.2273 - accuracy: 0.6819 - auc: 0.6844 - val_loss: 0.2206 - val_accuracy: 0.7750 - val_auc: 0.7123\n",
            "Epoch 178/500\n",
            "10/10 [==============================] - 0s 40ms/step - loss: 0.2331 - accuracy: 0.6670 - auc: 0.6419 - val_loss: 0.2206 - val_accuracy: 0.7750 - val_auc: 0.7136\n",
            "Epoch 179/500\n",
            "10/10 [==============================] - 0s 40ms/step - loss: 0.2224 - accuracy: 0.6922 - auc: 0.6976 - val_loss: 0.2206 - val_accuracy: 0.7750 - val_auc: 0.7136\n",
            "Epoch 180/500\n",
            "10/10 [==============================] - 0s 41ms/step - loss: 0.2244 - accuracy: 0.6855 - auc: 0.6905 - val_loss: 0.2205 - val_accuracy: 0.7750 - val_auc: 0.7136\n",
            "Epoch 181/500\n",
            "10/10 [==============================] - 0s 39ms/step - loss: 0.2277 - accuracy: 0.6738 - auc: 0.6834 - val_loss: 0.2205 - val_accuracy: 0.7750 - val_auc: 0.7136\n",
            "Epoch 182/500\n",
            "10/10 [==============================] - 0s 40ms/step - loss: 0.2226 - accuracy: 0.6922 - auc: 0.6965 - val_loss: 0.2205 - val_accuracy: 0.7750 - val_auc: 0.7136\n",
            "Epoch 183/500\n",
            "10/10 [==============================] - 0s 40ms/step - loss: 0.2264 - accuracy: 0.6692 - auc: 0.6670 - val_loss: 0.2204 - val_accuracy: 0.7750 - val_auc: 0.7136\n",
            "Epoch 184/500\n",
            "10/10 [==============================] - 0s 41ms/step - loss: 0.2316 - accuracy: 0.6676 - auc: 0.6623 - val_loss: 0.2204 - val_accuracy: 0.7750 - val_auc: 0.7136\n",
            "Epoch 185/500\n",
            "10/10 [==============================] - 0s 39ms/step - loss: 0.2254 - accuracy: 0.6751 - auc: 0.6835 - val_loss: 0.2204 - val_accuracy: 0.7750 - val_auc: 0.7136\n",
            "Epoch 186/500\n",
            "10/10 [==============================] - 0s 39ms/step - loss: 0.2236 - accuracy: 0.6808 - auc: 0.6957 - val_loss: 0.2204 - val_accuracy: 0.7750 - val_auc: 0.7136\n",
            "Epoch 187/500\n",
            "10/10 [==============================] - 0s 41ms/step - loss: 0.2182 - accuracy: 0.6992 - auc: 0.7141 - val_loss: 0.2203 - val_accuracy: 0.7750 - val_auc: 0.7136\n",
            "Epoch 188/500\n",
            "10/10 [==============================] - 0s 42ms/step - loss: 0.2246 - accuracy: 0.6893 - auc: 0.6947 - val_loss: 0.2203 - val_accuracy: 0.7750 - val_auc: 0.7136\n",
            "Epoch 189/500\n",
            "10/10 [==============================] - 0s 40ms/step - loss: 0.2346 - accuracy: 0.6474 - auc: 0.6394 - val_loss: 0.2203 - val_accuracy: 0.7750 - val_auc: 0.7136\n",
            "Epoch 190/500\n",
            "10/10 [==============================] - 0s 41ms/step - loss: 0.2253 - accuracy: 0.6745 - auc: 0.6923 - val_loss: 0.2203 - val_accuracy: 0.7750 - val_auc: 0.7136\n",
            "Epoch 191/500\n",
            "10/10 [==============================] - 0s 40ms/step - loss: 0.2219 - accuracy: 0.6743 - auc: 0.6990 - val_loss: 0.2202 - val_accuracy: 0.7750 - val_auc: 0.7136\n",
            "Epoch 192/500\n",
            "10/10 [==============================] - 0s 39ms/step - loss: 0.2317 - accuracy: 0.6789 - auc: 0.6528 - val_loss: 0.2202 - val_accuracy: 0.7750 - val_auc: 0.7136\n",
            "Epoch 193/500\n",
            "10/10 [==============================] - 0s 39ms/step - loss: 0.2271 - accuracy: 0.6771 - auc: 0.6757 - val_loss: 0.2202 - val_accuracy: 0.7750 - val_auc: 0.7136\n",
            "Epoch 194/500\n",
            "10/10 [==============================] - 0s 40ms/step - loss: 0.2219 - accuracy: 0.6945 - auc: 0.6939 - val_loss: 0.2201 - val_accuracy: 0.7750 - val_auc: 0.7136\n",
            "Epoch 195/500\n",
            "10/10 [==============================] - 0s 40ms/step - loss: 0.2203 - accuracy: 0.6982 - auc: 0.7066 - val_loss: 0.2200 - val_accuracy: 0.7750 - val_auc: 0.7136\n",
            "Epoch 196/500\n",
            "10/10 [==============================] - 0s 39ms/step - loss: 0.2272 - accuracy: 0.6689 - auc: 0.6721 - val_loss: 0.2201 - val_accuracy: 0.7750 - val_auc: 0.7136\n",
            "Epoch 197/500\n",
            "10/10 [==============================] - 0s 39ms/step - loss: 0.2240 - accuracy: 0.6850 - auc: 0.6891 - val_loss: 0.2200 - val_accuracy: 0.7750 - val_auc: 0.7136\n",
            "Epoch 198/500\n",
            "10/10 [==============================] - 0s 42ms/step - loss: 0.2292 - accuracy: 0.6659 - auc: 0.6727 - val_loss: 0.2200 - val_accuracy: 0.7750 - val_auc: 0.7136\n",
            "Epoch 199/500\n",
            "10/10 [==============================] - 0s 39ms/step - loss: 0.2329 - accuracy: 0.6482 - auc: 0.6493 - val_loss: 0.2200 - val_accuracy: 0.7750 - val_auc: 0.7136\n",
            "Epoch 200/500\n",
            "10/10 [==============================] - 0s 40ms/step - loss: 0.2246 - accuracy: 0.6824 - auc: 0.6879 - val_loss: 0.2199 - val_accuracy: 0.7750 - val_auc: 0.7136\n",
            "Epoch 201/500\n",
            "10/10 [==============================] - 0s 38ms/step - loss: 0.2222 - accuracy: 0.6893 - auc: 0.6987 - val_loss: 0.2199 - val_accuracy: 0.7750 - val_auc: 0.7136\n",
            "Epoch 202/500\n",
            "10/10 [==============================] - 0s 40ms/step - loss: 0.2301 - accuracy: 0.6595 - auc: 0.6658 - val_loss: 0.2199 - val_accuracy: 0.7750 - val_auc: 0.7136\n",
            "Epoch 203/500\n",
            "10/10 [==============================] - 0s 40ms/step - loss: 0.2323 - accuracy: 0.6522 - auc: 0.6485 - val_loss: 0.2199 - val_accuracy: 0.7750 - val_auc: 0.7136\n",
            "Epoch 204/500\n",
            "10/10 [==============================] - 0s 40ms/step - loss: 0.2275 - accuracy: 0.6550 - auc: 0.6682 - val_loss: 0.2198 - val_accuracy: 0.7750 - val_auc: 0.7136\n",
            "Epoch 205/500\n",
            "10/10 [==============================] - 0s 41ms/step - loss: 0.2392 - accuracy: 0.6198 - auc: 0.6285 - val_loss: 0.2198 - val_accuracy: 0.7750 - val_auc: 0.7110\n",
            "Epoch 206/500\n",
            "10/10 [==============================] - 0s 40ms/step - loss: 0.2323 - accuracy: 0.6454 - auc: 0.6500 - val_loss: 0.2198 - val_accuracy: 0.7750 - val_auc: 0.7110\n",
            "Epoch 207/500\n",
            "10/10 [==============================] - 0s 40ms/step - loss: 0.2308 - accuracy: 0.6504 - auc: 0.6569 - val_loss: 0.2198 - val_accuracy: 0.7750 - val_auc: 0.7136\n",
            "Epoch 208/500\n",
            "10/10 [==============================] - 0s 41ms/step - loss: 0.2264 - accuracy: 0.6845 - auc: 0.6824 - val_loss: 0.2197 - val_accuracy: 0.7750 - val_auc: 0.7136\n",
            "Epoch 209/500\n",
            "10/10 [==============================] - 0s 40ms/step - loss: 0.2240 - accuracy: 0.6550 - auc: 0.6835 - val_loss: 0.2197 - val_accuracy: 0.7750 - val_auc: 0.7136\n",
            "Epoch 210/500\n",
            "10/10 [==============================] - 0s 41ms/step - loss: 0.2245 - accuracy: 0.6886 - auc: 0.6817 - val_loss: 0.2196 - val_accuracy: 0.7750 - val_auc: 0.7136\n",
            "Epoch 211/500\n",
            "10/10 [==============================] - 0s 39ms/step - loss: 0.2341 - accuracy: 0.6572 - auc: 0.6572 - val_loss: 0.2196 - val_accuracy: 0.7750 - val_auc: 0.7110\n",
            "Epoch 212/500\n",
            "10/10 [==============================] - 0s 40ms/step - loss: 0.2300 - accuracy: 0.6685 - auc: 0.6625 - val_loss: 0.2196 - val_accuracy: 0.7750 - val_auc: 0.7110\n",
            "Epoch 213/500\n",
            "10/10 [==============================] - 1s 73ms/step - loss: 0.2258 - accuracy: 0.6697 - auc: 0.6864 - val_loss: 0.2196 - val_accuracy: 0.7750 - val_auc: 0.7110\n",
            "Epoch 214/500\n",
            "10/10 [==============================] - 0s 42ms/step - loss: 0.2235 - accuracy: 0.6891 - auc: 0.6941 - val_loss: 0.2195 - val_accuracy: 0.7750 - val_auc: 0.7110\n",
            "Epoch 215/500\n",
            "10/10 [==============================] - 0s 40ms/step - loss: 0.2315 - accuracy: 0.6501 - auc: 0.6575 - val_loss: 0.2195 - val_accuracy: 0.7750 - val_auc: 0.7110\n",
            "Epoch 216/500\n",
            "10/10 [==============================] - 0s 40ms/step - loss: 0.2257 - accuracy: 0.6873 - auc: 0.6858 - val_loss: 0.2194 - val_accuracy: 0.7750 - val_auc: 0.7084\n",
            "Epoch 217/500\n",
            "10/10 [==============================] - 0s 42ms/step - loss: 0.2267 - accuracy: 0.6711 - auc: 0.6706 - val_loss: 0.2195 - val_accuracy: 0.7750 - val_auc: 0.7084\n",
            "Epoch 218/500\n",
            "10/10 [==============================] - 0s 42ms/step - loss: 0.2221 - accuracy: 0.6903 - auc: 0.6934 - val_loss: 0.2194 - val_accuracy: 0.7750 - val_auc: 0.7059\n",
            "Epoch 219/500\n",
            "10/10 [==============================] - 0s 42ms/step - loss: 0.2236 - accuracy: 0.6840 - auc: 0.6951 - val_loss: 0.2194 - val_accuracy: 0.7750 - val_auc: 0.7059\n",
            "Epoch 220/500\n",
            "10/10 [==============================] - 0s 40ms/step - loss: 0.2370 - accuracy: 0.6557 - auc: 0.6364 - val_loss: 0.2193 - val_accuracy: 0.7750 - val_auc: 0.7059\n",
            "Epoch 221/500\n",
            "10/10 [==============================] - 0s 40ms/step - loss: 0.2267 - accuracy: 0.6659 - auc: 0.6649 - val_loss: 0.2194 - val_accuracy: 0.7750 - val_auc: 0.7059\n",
            "Epoch 222/500\n",
            "10/10 [==============================] - 0s 41ms/step - loss: 0.2354 - accuracy: 0.6050 - auc: 0.6340 - val_loss: 0.2194 - val_accuracy: 0.7750 - val_auc: 0.7059\n",
            "Epoch 223/500\n",
            "10/10 [==============================] - 0s 41ms/step - loss: 0.2356 - accuracy: 0.6391 - auc: 0.6406 - val_loss: 0.2193 - val_accuracy: 0.7750 - val_auc: 0.7059\n",
            "Epoch 224/500\n",
            "10/10 [==============================] - 0s 40ms/step - loss: 0.2226 - accuracy: 0.6738 - auc: 0.6926 - val_loss: 0.2192 - val_accuracy: 0.7750 - val_auc: 0.7072\n",
            "Epoch 225/500\n",
            "10/10 [==============================] - 0s 41ms/step - loss: 0.2303 - accuracy: 0.6544 - auc: 0.6646 - val_loss: 0.2192 - val_accuracy: 0.7750 - val_auc: 0.7072\n",
            "Epoch 226/500\n",
            "10/10 [==============================] - 0s 43ms/step - loss: 0.2256 - accuracy: 0.6760 - auc: 0.6772 - val_loss: 0.2192 - val_accuracy: 0.7750 - val_auc: 0.7072\n",
            "Epoch 227/500\n",
            "10/10 [==============================] - 0s 42ms/step - loss: 0.2354 - accuracy: 0.6419 - auc: 0.6283 - val_loss: 0.2192 - val_accuracy: 0.7750 - val_auc: 0.7072\n",
            "Epoch 228/500\n",
            "10/10 [==============================] - 0s 41ms/step - loss: 0.2282 - accuracy: 0.6399 - auc: 0.6707 - val_loss: 0.2192 - val_accuracy: 0.7750 - val_auc: 0.7072\n",
            "Epoch 229/500\n",
            "10/10 [==============================] - 0s 44ms/step - loss: 0.2276 - accuracy: 0.6700 - auc: 0.6719 - val_loss: 0.2191 - val_accuracy: 0.7750 - val_auc: 0.7072\n",
            "Epoch 230/500\n",
            "10/10 [==============================] - 0s 42ms/step - loss: 0.2268 - accuracy: 0.6639 - auc: 0.6654 - val_loss: 0.2191 - val_accuracy: 0.7750 - val_auc: 0.7046\n",
            "Epoch 231/500\n",
            "10/10 [==============================] - 0s 42ms/step - loss: 0.2256 - accuracy: 0.6722 - auc: 0.6768 - val_loss: 0.2190 - val_accuracy: 0.7750 - val_auc: 0.7046\n",
            "Epoch 232/500\n",
            "10/10 [==============================] - 0s 40ms/step - loss: 0.2276 - accuracy: 0.6833 - auc: 0.6643 - val_loss: 0.2190 - val_accuracy: 0.7750 - val_auc: 0.7046\n",
            "Epoch 233/500\n",
            "10/10 [==============================] - 0s 41ms/step - loss: 0.2399 - accuracy: 0.6190 - auc: 0.6233 - val_loss: 0.2190 - val_accuracy: 0.7750 - val_auc: 0.7046\n",
            "Epoch 234/500\n",
            "10/10 [==============================] - 0s 41ms/step - loss: 0.2340 - accuracy: 0.6574 - auc: 0.6419 - val_loss: 0.2190 - val_accuracy: 0.7500 - val_auc: 0.7046\n",
            "Epoch 235/500\n",
            "10/10 [==============================] - 0s 41ms/step - loss: 0.2218 - accuracy: 0.6900 - auc: 0.6960 - val_loss: 0.2189 - val_accuracy: 0.7500 - val_auc: 0.7046\n",
            "Epoch 236/500\n",
            "10/10 [==============================] - 0s 42ms/step - loss: 0.2244 - accuracy: 0.6918 - auc: 0.6905 - val_loss: 0.2188 - val_accuracy: 0.7500 - val_auc: 0.7059\n",
            "Epoch 237/500\n",
            "10/10 [==============================] - 0s 42ms/step - loss: 0.2222 - accuracy: 0.6727 - auc: 0.7030 - val_loss: 0.2188 - val_accuracy: 0.7500 - val_auc: 0.7059\n",
            "Epoch 238/500\n",
            "10/10 [==============================] - 0s 42ms/step - loss: 0.2369 - accuracy: 0.6561 - auc: 0.6217 - val_loss: 0.2188 - val_accuracy: 0.7500 - val_auc: 0.7059\n",
            "Epoch 239/500\n",
            "10/10 [==============================] - 0s 42ms/step - loss: 0.2256 - accuracy: 0.6581 - auc: 0.6740 - val_loss: 0.2188 - val_accuracy: 0.7500 - val_auc: 0.7059\n",
            "Epoch 240/500\n",
            "10/10 [==============================] - 0s 42ms/step - loss: 0.2266 - accuracy: 0.6727 - auc: 0.6691 - val_loss: 0.2188 - val_accuracy: 0.7250 - val_auc: 0.7033\n",
            "Epoch 241/500\n",
            "10/10 [==============================] - 0s 40ms/step - loss: 0.2231 - accuracy: 0.7040 - auc: 0.6811 - val_loss: 0.2187 - val_accuracy: 0.7250 - val_auc: 0.7046\n",
            "Epoch 242/500\n",
            "10/10 [==============================] - 0s 41ms/step - loss: 0.2246 - accuracy: 0.6779 - auc: 0.6784 - val_loss: 0.2188 - val_accuracy: 0.7250 - val_auc: 0.7008\n",
            "Epoch 243/500\n",
            "10/10 [==============================] - 0s 41ms/step - loss: 0.2194 - accuracy: 0.6867 - auc: 0.7025 - val_loss: 0.2187 - val_accuracy: 0.7250 - val_auc: 0.7008\n",
            "Epoch 244/500\n",
            "10/10 [==============================] - 0s 41ms/step - loss: 0.2304 - accuracy: 0.6721 - auc: 0.6549 - val_loss: 0.2186 - val_accuracy: 0.7250 - val_auc: 0.7033\n",
            "Epoch 245/500\n",
            "10/10 [==============================] - 0s 41ms/step - loss: 0.2240 - accuracy: 0.6648 - auc: 0.6854 - val_loss: 0.2186 - val_accuracy: 0.7250 - val_auc: 0.7008\n",
            "Epoch 246/500\n",
            "10/10 [==============================] - 0s 43ms/step - loss: 0.2273 - accuracy: 0.6718 - auc: 0.6670 - val_loss: 0.2186 - val_accuracy: 0.7250 - val_auc: 0.6995\n",
            "Epoch 247/500\n",
            "10/10 [==============================] - 0s 42ms/step - loss: 0.2234 - accuracy: 0.6661 - auc: 0.6824 - val_loss: 0.2186 - val_accuracy: 0.7250 - val_auc: 0.7020\n",
            "Epoch 248/500\n",
            "10/10 [==============================] - 0s 44ms/step - loss: 0.2165 - accuracy: 0.7094 - auc: 0.7030 - val_loss: 0.2185 - val_accuracy: 0.7250 - val_auc: 0.7020\n",
            "Epoch 249/500\n",
            "10/10 [==============================] - 0s 40ms/step - loss: 0.2205 - accuracy: 0.6924 - auc: 0.7133 - val_loss: 0.2185 - val_accuracy: 0.7250 - val_auc: 0.6995\n",
            "Epoch 250/500\n",
            "10/10 [==============================] - 0s 41ms/step - loss: 0.2185 - accuracy: 0.6900 - auc: 0.7127 - val_loss: 0.2185 - val_accuracy: 0.7250 - val_auc: 0.7020\n",
            "Epoch 251/500\n",
            "10/10 [==============================] - 0s 41ms/step - loss: 0.2357 - accuracy: 0.6384 - auc: 0.6392 - val_loss: 0.2185 - val_accuracy: 0.7250 - val_auc: 0.7020\n",
            "Epoch 252/500\n",
            "10/10 [==============================] - 0s 42ms/step - loss: 0.2259 - accuracy: 0.6639 - auc: 0.6724 - val_loss: 0.2184 - val_accuracy: 0.7250 - val_auc: 0.7020\n",
            "Epoch 253/500\n",
            "10/10 [==============================] - 0s 42ms/step - loss: 0.2312 - accuracy: 0.6488 - auc: 0.6546 - val_loss: 0.2184 - val_accuracy: 0.7250 - val_auc: 0.7020\n",
            "Epoch 254/500\n",
            "10/10 [==============================] - 0s 42ms/step - loss: 0.2239 - accuracy: 0.6830 - auc: 0.6801 - val_loss: 0.2184 - val_accuracy: 0.7250 - val_auc: 0.7008\n",
            "Epoch 255/500\n",
            "10/10 [==============================] - 0s 41ms/step - loss: 0.2235 - accuracy: 0.6718 - auc: 0.6925 - val_loss: 0.2183 - val_accuracy: 0.7250 - val_auc: 0.6995\n",
            "Epoch 256/500\n",
            "10/10 [==============================] - 0s 42ms/step - loss: 0.2198 - accuracy: 0.6756 - auc: 0.6906 - val_loss: 0.2183 - val_accuracy: 0.7250 - val_auc: 0.6995\n",
            "Epoch 257/500\n",
            "10/10 [==============================] - 0s 43ms/step - loss: 0.2268 - accuracy: 0.6775 - auc: 0.6760 - val_loss: 0.2183 - val_accuracy: 0.7250 - val_auc: 0.7008\n",
            "Epoch 258/500\n",
            "10/10 [==============================] - 0s 44ms/step - loss: 0.2275 - accuracy: 0.6810 - auc: 0.6694 - val_loss: 0.2182 - val_accuracy: 0.7250 - val_auc: 0.6982\n",
            "Epoch 259/500\n",
            "10/10 [==============================] - 0s 44ms/step - loss: 0.2190 - accuracy: 0.6957 - auc: 0.7099 - val_loss: 0.2182 - val_accuracy: 0.7250 - val_auc: 0.7020\n",
            "Epoch 260/500\n",
            "10/10 [==============================] - 0s 44ms/step - loss: 0.2275 - accuracy: 0.6741 - auc: 0.6611 - val_loss: 0.2182 - val_accuracy: 0.7250 - val_auc: 0.6982\n",
            "Epoch 261/500\n",
            "10/10 [==============================] - 0s 44ms/step - loss: 0.2249 - accuracy: 0.6608 - auc: 0.6804 - val_loss: 0.2182 - val_accuracy: 0.7250 - val_auc: 0.6982\n",
            "Epoch 262/500\n",
            "10/10 [==============================] - 0s 43ms/step - loss: 0.2342 - accuracy: 0.6507 - auc: 0.6408 - val_loss: 0.2181 - val_accuracy: 0.7250 - val_auc: 0.6982\n",
            "Epoch 263/500\n",
            "10/10 [==============================] - 0s 43ms/step - loss: 0.2197 - accuracy: 0.6822 - auc: 0.7034 - val_loss: 0.2180 - val_accuracy: 0.7250 - val_auc: 0.6995\n",
            "Epoch 264/500\n",
            "10/10 [==============================] - 0s 42ms/step - loss: 0.2189 - accuracy: 0.6979 - auc: 0.7067 - val_loss: 0.2180 - val_accuracy: 0.7250 - val_auc: 0.6982\n",
            "Epoch 265/500\n",
            "10/10 [==============================] - 0s 45ms/step - loss: 0.2341 - accuracy: 0.6405 - auc: 0.6259 - val_loss: 0.2181 - val_accuracy: 0.7250 - val_auc: 0.7008\n",
            "Epoch 266/500\n",
            "10/10 [==============================] - 0s 42ms/step - loss: 0.2302 - accuracy: 0.6549 - auc: 0.6668 - val_loss: 0.2180 - val_accuracy: 0.7250 - val_auc: 0.7020\n",
            "Epoch 267/500\n",
            "10/10 [==============================] - 0s 43ms/step - loss: 0.2291 - accuracy: 0.6555 - auc: 0.6543 - val_loss: 0.2180 - val_accuracy: 0.7250 - val_auc: 0.7008\n",
            "Epoch 268/500\n",
            "10/10 [==============================] - 0s 43ms/step - loss: 0.2185 - accuracy: 0.7056 - auc: 0.6982 - val_loss: 0.2180 - val_accuracy: 0.7250 - val_auc: 0.7033\n",
            "Epoch 269/500\n",
            "10/10 [==============================] - 0s 44ms/step - loss: 0.2290 - accuracy: 0.6615 - auc: 0.6702 - val_loss: 0.2179 - val_accuracy: 0.7250 - val_auc: 0.7033\n",
            "Epoch 270/500\n",
            "10/10 [==============================] - 0s 44ms/step - loss: 0.2369 - accuracy: 0.6317 - auc: 0.6189 - val_loss: 0.2179 - val_accuracy: 0.7250 - val_auc: 0.7033\n",
            "Epoch 271/500\n",
            "10/10 [==============================] - 0s 42ms/step - loss: 0.2342 - accuracy: 0.6397 - auc: 0.6480 - val_loss: 0.2179 - val_accuracy: 0.7250 - val_auc: 0.7033\n",
            "Epoch 272/500\n",
            "10/10 [==============================] - 0s 43ms/step - loss: 0.2280 - accuracy: 0.6648 - auc: 0.6580 - val_loss: 0.2179 - val_accuracy: 0.7250 - val_auc: 0.7008\n",
            "Epoch 273/500\n",
            "10/10 [==============================] - 0s 42ms/step - loss: 0.2242 - accuracy: 0.6633 - auc: 0.6794 - val_loss: 0.2178 - val_accuracy: 0.7250 - val_auc: 0.7020\n",
            "Epoch 274/500\n",
            "10/10 [==============================] - 0s 43ms/step - loss: 0.2291 - accuracy: 0.6660 - auc: 0.6586 - val_loss: 0.2178 - val_accuracy: 0.7250 - val_auc: 0.7008\n",
            "Epoch 275/500\n",
            "10/10 [==============================] - 0s 43ms/step - loss: 0.2347 - accuracy: 0.6338 - auc: 0.6349 - val_loss: 0.2178 - val_accuracy: 0.7250 - val_auc: 0.7033\n",
            "Epoch 276/500\n",
            "10/10 [==============================] - 0s 44ms/step - loss: 0.2264 - accuracy: 0.6767 - auc: 0.6786 - val_loss: 0.2177 - val_accuracy: 0.7250 - val_auc: 0.7033\n",
            "Epoch 277/500\n",
            "10/10 [==============================] - 0s 42ms/step - loss: 0.2236 - accuracy: 0.6710 - auc: 0.6788 - val_loss: 0.2177 - val_accuracy: 0.7250 - val_auc: 0.7020\n",
            "Epoch 278/500\n",
            "10/10 [==============================] - 0s 41ms/step - loss: 0.2196 - accuracy: 0.6824 - auc: 0.6924 - val_loss: 0.2176 - val_accuracy: 0.7250 - val_auc: 0.7020\n",
            "Epoch 279/500\n",
            "10/10 [==============================] - 0s 44ms/step - loss: 0.2254 - accuracy: 0.6651 - auc: 0.6761 - val_loss: 0.2176 - val_accuracy: 0.7250 - val_auc: 0.7020\n",
            "Epoch 280/500\n",
            "10/10 [==============================] - 0s 42ms/step - loss: 0.2256 - accuracy: 0.6886 - auc: 0.6817 - val_loss: 0.2175 - val_accuracy: 0.7250 - val_auc: 0.7020\n",
            "Epoch 281/500\n",
            "10/10 [==============================] - 0s 44ms/step - loss: 0.2240 - accuracy: 0.6639 - auc: 0.6755 - val_loss: 0.2176 - val_accuracy: 0.7250 - val_auc: 0.7020\n",
            "Epoch 282/500\n",
            "10/10 [==============================] - 0s 41ms/step - loss: 0.2241 - accuracy: 0.6591 - auc: 0.6803 - val_loss: 0.2175 - val_accuracy: 0.7250 - val_auc: 0.7033\n",
            "Epoch 283/500\n",
            "10/10 [==============================] - 0s 43ms/step - loss: 0.2254 - accuracy: 0.6806 - auc: 0.6750 - val_loss: 0.2175 - val_accuracy: 0.7250 - val_auc: 0.7033\n",
            "Epoch 284/500\n",
            "10/10 [==============================] - 0s 44ms/step - loss: 0.2283 - accuracy: 0.6726 - auc: 0.6668 - val_loss: 0.2175 - val_accuracy: 0.7250 - val_auc: 0.7008\n",
            "Epoch 285/500\n",
            "10/10 [==============================] - 0s 42ms/step - loss: 0.2197 - accuracy: 0.6867 - auc: 0.6982 - val_loss: 0.2175 - val_accuracy: 0.7250 - val_auc: 0.7033\n",
            "Epoch 286/500\n",
            "10/10 [==============================] - 0s 46ms/step - loss: 0.2305 - accuracy: 0.6454 - auc: 0.6458 - val_loss: 0.2175 - val_accuracy: 0.7250 - val_auc: 0.7020\n",
            "Epoch 287/500\n",
            "10/10 [==============================] - 0s 44ms/step - loss: 0.2266 - accuracy: 0.6486 - auc: 0.6679 - val_loss: 0.2175 - val_accuracy: 0.7250 - val_auc: 0.7020\n",
            "Epoch 288/500\n",
            "10/10 [==============================] - 0s 44ms/step - loss: 0.2213 - accuracy: 0.6795 - auc: 0.6902 - val_loss: 0.2174 - val_accuracy: 0.7250 - val_auc: 0.7008\n",
            "Epoch 289/500\n",
            "10/10 [==============================] - 0s 42ms/step - loss: 0.2129 - accuracy: 0.7092 - auc: 0.7188 - val_loss: 0.2174 - val_accuracy: 0.7250 - val_auc: 0.7008\n",
            "Epoch 290/500\n",
            "10/10 [==============================] - 0s 42ms/step - loss: 0.2313 - accuracy: 0.6517 - auc: 0.6493 - val_loss: 0.2174 - val_accuracy: 0.7250 - val_auc: 0.7008\n",
            "Epoch 291/500\n",
            "10/10 [==============================] - 0s 44ms/step - loss: 0.2240 - accuracy: 0.6674 - auc: 0.6809 - val_loss: 0.2173 - val_accuracy: 0.7250 - val_auc: 0.7033\n",
            "Epoch 292/500\n",
            "10/10 [==============================] - 0s 43ms/step - loss: 0.2234 - accuracy: 0.6733 - auc: 0.6851 - val_loss: 0.2173 - val_accuracy: 0.7250 - val_auc: 0.7033\n",
            "Epoch 293/500\n",
            "10/10 [==============================] - 0s 43ms/step - loss: 0.2196 - accuracy: 0.6876 - auc: 0.7072 - val_loss: 0.2172 - val_accuracy: 0.7250 - val_auc: 0.7046\n",
            "Epoch 294/500\n",
            "10/10 [==============================] - 0s 41ms/step - loss: 0.2239 - accuracy: 0.6770 - auc: 0.6927 - val_loss: 0.2172 - val_accuracy: 0.7250 - val_auc: 0.7020\n",
            "Epoch 295/500\n",
            "10/10 [==============================] - 0s 44ms/step - loss: 0.2345 - accuracy: 0.6141 - auc: 0.6317 - val_loss: 0.2173 - val_accuracy: 0.7250 - val_auc: 0.7033\n",
            "Epoch 296/500\n",
            "10/10 [==============================] - 0s 42ms/step - loss: 0.2255 - accuracy: 0.6501 - auc: 0.6749 - val_loss: 0.2172 - val_accuracy: 0.7250 - val_auc: 0.7033\n",
            "Epoch 297/500\n",
            "10/10 [==============================] - 0s 44ms/step - loss: 0.2153 - accuracy: 0.6957 - auc: 0.7275 - val_loss: 0.2171 - val_accuracy: 0.7250 - val_auc: 0.7020\n",
            "Epoch 298/500\n",
            "10/10 [==============================] - 0s 44ms/step - loss: 0.2287 - accuracy: 0.6562 - auc: 0.6694 - val_loss: 0.2171 - val_accuracy: 0.7250 - val_auc: 0.7020\n",
            "Epoch 299/500\n",
            "10/10 [==============================] - 0s 43ms/step - loss: 0.2257 - accuracy: 0.6693 - auc: 0.6590 - val_loss: 0.2171 - val_accuracy: 0.7250 - val_auc: 0.6995\n",
            "Epoch 300/500\n",
            "10/10 [==============================] - 0s 45ms/step - loss: 0.2353 - accuracy: 0.6350 - auc: 0.6281 - val_loss: 0.2171 - val_accuracy: 0.7250 - val_auc: 0.7008\n",
            "Epoch 301/500\n",
            "10/10 [==============================] - 0s 42ms/step - loss: 0.2282 - accuracy: 0.6623 - auc: 0.6516 - val_loss: 0.2171 - val_accuracy: 0.7250 - val_auc: 0.7008\n",
            "Epoch 302/500\n",
            "10/10 [==============================] - 0s 43ms/step - loss: 0.2181 - accuracy: 0.6842 - auc: 0.6967 - val_loss: 0.2171 - val_accuracy: 0.7250 - val_auc: 0.7008\n",
            "Epoch 303/500\n",
            "10/10 [==============================] - 0s 45ms/step - loss: 0.2204 - accuracy: 0.6742 - auc: 0.7036 - val_loss: 0.2171 - val_accuracy: 0.7250 - val_auc: 0.6995\n",
            "Epoch 304/500\n",
            "10/10 [==============================] - 0s 41ms/step - loss: 0.2213 - accuracy: 0.6706 - auc: 0.6890 - val_loss: 0.2170 - val_accuracy: 0.7250 - val_auc: 0.6995\n",
            "Epoch 305/500\n",
            "10/10 [==============================] - 0s 46ms/step - loss: 0.2190 - accuracy: 0.6834 - auc: 0.6968 - val_loss: 0.2170 - val_accuracy: 0.7250 - val_auc: 0.6995\n",
            "Epoch 306/500\n",
            "10/10 [==============================] - 0s 45ms/step - loss: 0.2249 - accuracy: 0.6788 - auc: 0.6698 - val_loss: 0.2170 - val_accuracy: 0.7250 - val_auc: 0.6995\n",
            "Epoch 307/500\n",
            "10/10 [==============================] - 0s 44ms/step - loss: 0.2271 - accuracy: 0.6638 - auc: 0.6588 - val_loss: 0.2170 - val_accuracy: 0.7250 - val_auc: 0.6995\n",
            "Epoch 308/500\n",
            "10/10 [==============================] - 0s 42ms/step - loss: 0.2280 - accuracy: 0.6597 - auc: 0.6643 - val_loss: 0.2169 - val_accuracy: 0.7250 - val_auc: 0.7008\n",
            "Epoch 309/500\n",
            "10/10 [==============================] - 0s 43ms/step - loss: 0.2315 - accuracy: 0.6422 - auc: 0.6440 - val_loss: 0.2169 - val_accuracy: 0.7250 - val_auc: 0.6982\n",
            "Epoch 310/500\n",
            "10/10 [==============================] - 0s 43ms/step - loss: 0.2208 - accuracy: 0.6668 - auc: 0.7067 - val_loss: 0.2169 - val_accuracy: 0.7250 - val_auc: 0.7008\n",
            "Epoch 311/500\n",
            "10/10 [==============================] - 0s 44ms/step - loss: 0.2251 - accuracy: 0.6654 - auc: 0.6812 - val_loss: 0.2168 - val_accuracy: 0.7250 - val_auc: 0.6982\n",
            "Epoch 312/500\n",
            "10/10 [==============================] - 0s 41ms/step - loss: 0.2271 - accuracy: 0.6537 - auc: 0.6575 - val_loss: 0.2168 - val_accuracy: 0.7250 - val_auc: 0.6995\n",
            "Epoch 313/500\n",
            "10/10 [==============================] - 0s 46ms/step - loss: 0.2285 - accuracy: 0.6664 - auc: 0.6525 - val_loss: 0.2168 - val_accuracy: 0.7250 - val_auc: 0.6995\n",
            "Epoch 314/500\n",
            "10/10 [==============================] - 0s 43ms/step - loss: 0.2247 - accuracy: 0.6722 - auc: 0.6751 - val_loss: 0.2168 - val_accuracy: 0.7250 - val_auc: 0.7008\n",
            "Epoch 315/500\n",
            "10/10 [==============================] - 0s 43ms/step - loss: 0.2300 - accuracy: 0.6549 - auc: 0.6486 - val_loss: 0.2167 - val_accuracy: 0.7250 - val_auc: 0.6995\n",
            "Epoch 316/500\n",
            "10/10 [==============================] - 0s 45ms/step - loss: 0.2197 - accuracy: 0.6886 - auc: 0.6901 - val_loss: 0.2167 - val_accuracy: 0.7250 - val_auc: 0.6995\n",
            "Epoch 317/500\n",
            "10/10 [==============================] - 0s 43ms/step - loss: 0.2364 - accuracy: 0.6346 - auc: 0.6092 - val_loss: 0.2167 - val_accuracy: 0.7250 - val_auc: 0.6982\n",
            "Epoch 318/500\n",
            "10/10 [==============================] - 0s 43ms/step - loss: 0.2228 - accuracy: 0.6761 - auc: 0.6775 - val_loss: 0.2167 - val_accuracy: 0.7250 - val_auc: 0.6982\n",
            "Epoch 319/500\n",
            "10/10 [==============================] - 0s 41ms/step - loss: 0.2251 - accuracy: 0.6394 - auc: 0.6701 - val_loss: 0.2167 - val_accuracy: 0.7250 - val_auc: 0.6969\n",
            "Epoch 320/500\n",
            "10/10 [==============================] - 0s 44ms/step - loss: 0.2218 - accuracy: 0.6911 - auc: 0.6862 - val_loss: 0.2166 - val_accuracy: 0.7250 - val_auc: 0.6969\n",
            "Epoch 321/500\n",
            "10/10 [==============================] - 0s 42ms/step - loss: 0.2302 - accuracy: 0.6591 - auc: 0.6412 - val_loss: 0.2167 - val_accuracy: 0.7250 - val_auc: 0.6969\n",
            "Epoch 322/500\n",
            "10/10 [==============================] - 0s 43ms/step - loss: 0.2251 - accuracy: 0.6654 - auc: 0.6750 - val_loss: 0.2166 - val_accuracy: 0.7250 - val_auc: 0.6969\n",
            "Epoch 323/500\n",
            "10/10 [==============================] - 0s 43ms/step - loss: 0.2170 - accuracy: 0.6910 - auc: 0.6940 - val_loss: 0.2166 - val_accuracy: 0.7250 - val_auc: 0.6982\n",
            "Epoch 324/500\n",
            "10/10 [==============================] - 0s 42ms/step - loss: 0.2262 - accuracy: 0.6481 - auc: 0.6722 - val_loss: 0.2166 - val_accuracy: 0.7250 - val_auc: 0.6995\n",
            "Epoch 325/500\n",
            "10/10 [==============================] - 0s 44ms/step - loss: 0.2273 - accuracy: 0.6378 - auc: 0.6655 - val_loss: 0.2166 - val_accuracy: 0.7250 - val_auc: 0.6931\n",
            "Epoch 326/500\n",
            "10/10 [==============================] - 0s 42ms/step - loss: 0.2285 - accuracy: 0.6462 - auc: 0.6534 - val_loss: 0.2165 - val_accuracy: 0.7250 - val_auc: 0.6969\n",
            "Epoch 327/500\n",
            "10/10 [==============================] - 0s 44ms/step - loss: 0.2222 - accuracy: 0.6772 - auc: 0.6670 - val_loss: 0.2165 - val_accuracy: 0.7250 - val_auc: 0.6995\n",
            "Epoch 328/500\n",
            "10/10 [==============================] - 0s 41ms/step - loss: 0.2299 - accuracy: 0.6362 - auc: 0.6478 - val_loss: 0.2165 - val_accuracy: 0.7250 - val_auc: 0.6995\n",
            "Epoch 329/500\n",
            "10/10 [==============================] - 0s 43ms/step - loss: 0.2263 - accuracy: 0.6635 - auc: 0.6613 - val_loss: 0.2164 - val_accuracy: 0.7250 - val_auc: 0.6969\n",
            "Epoch 330/500\n",
            "10/10 [==============================] - 0s 44ms/step - loss: 0.2229 - accuracy: 0.6661 - auc: 0.6591 - val_loss: 0.2164 - val_accuracy: 0.7250 - val_auc: 0.6969\n",
            "Epoch 331/500\n",
            "10/10 [==============================] - 0s 43ms/step - loss: 0.2220 - accuracy: 0.7023 - auc: 0.6883 - val_loss: 0.2164 - val_accuracy: 0.7250 - val_auc: 0.6957\n",
            "Epoch 332/500\n",
            "10/10 [==============================] - 0s 43ms/step - loss: 0.2224 - accuracy: 0.6877 - auc: 0.6805 - val_loss: 0.2164 - val_accuracy: 0.7250 - val_auc: 0.6957\n",
            "Epoch 333/500\n",
            "10/10 [==============================] - 0s 44ms/step - loss: 0.2293 - accuracy: 0.6425 - auc: 0.6476 - val_loss: 0.2164 - val_accuracy: 0.7250 - val_auc: 0.6944\n",
            "Epoch 334/500\n",
            "10/10 [==============================] - 0s 44ms/step - loss: 0.2354 - accuracy: 0.6417 - auc: 0.6343 - val_loss: 0.2164 - val_accuracy: 0.7250 - val_auc: 0.6918\n",
            "Epoch 335/500\n",
            "10/10 [==============================] - 0s 43ms/step - loss: 0.2194 - accuracy: 0.6816 - auc: 0.7005 - val_loss: 0.2164 - val_accuracy: 0.7250 - val_auc: 0.6918\n",
            "Epoch 336/500\n",
            "10/10 [==============================] - 0s 44ms/step - loss: 0.2205 - accuracy: 0.6776 - auc: 0.6931 - val_loss: 0.2164 - val_accuracy: 0.7250 - val_auc: 0.6918\n",
            "Epoch 337/500\n",
            "10/10 [==============================] - 0s 44ms/step - loss: 0.2195 - accuracy: 0.6826 - auc: 0.6850 - val_loss: 0.2163 - val_accuracy: 0.7250 - val_auc: 0.6931\n",
            "Epoch 338/500\n",
            "10/10 [==============================] - 0s 46ms/step - loss: 0.2210 - accuracy: 0.6738 - auc: 0.6820 - val_loss: 0.2163 - val_accuracy: 0.7250 - val_auc: 0.6918\n",
            "Epoch 339/500\n",
            "10/10 [==============================] - 0s 43ms/step - loss: 0.2282 - accuracy: 0.6561 - auc: 0.6513 - val_loss: 0.2163 - val_accuracy: 0.7250 - val_auc: 0.6918\n",
            "Epoch 340/500\n",
            "10/10 [==============================] - 0s 44ms/step - loss: 0.2189 - accuracy: 0.6855 - auc: 0.6864 - val_loss: 0.2163 - val_accuracy: 0.7250 - val_auc: 0.6918\n",
            "Epoch 341/500\n",
            "10/10 [==============================] - 0s 44ms/step - loss: 0.2338 - accuracy: 0.6404 - auc: 0.6300 - val_loss: 0.2162 - val_accuracy: 0.7250 - val_auc: 0.6918\n",
            "Epoch 342/500\n",
            "10/10 [==============================] - 0s 46ms/step - loss: 0.2281 - accuracy: 0.6494 - auc: 0.6506 - val_loss: 0.2162 - val_accuracy: 0.7250 - val_auc: 0.6905\n",
            "Epoch 343/500\n",
            "10/10 [==============================] - 0s 43ms/step - loss: 0.2245 - accuracy: 0.6782 - auc: 0.6721 - val_loss: 0.2162 - val_accuracy: 0.7250 - val_auc: 0.6905\n",
            "Epoch 344/500\n",
            "10/10 [==============================] - 0s 44ms/step - loss: 0.2309 - accuracy: 0.6296 - auc: 0.6433 - val_loss: 0.2163 - val_accuracy: 0.7250 - val_auc: 0.6918\n",
            "Epoch 345/500\n",
            "10/10 [==============================] - 0s 43ms/step - loss: 0.2309 - accuracy: 0.6491 - auc: 0.6511 - val_loss: 0.2162 - val_accuracy: 0.7250 - val_auc: 0.6918\n",
            "Epoch 346/500\n",
            "10/10 [==============================] - 0s 42ms/step - loss: 0.2222 - accuracy: 0.6758 - auc: 0.6697 - val_loss: 0.2162 - val_accuracy: 0.7250 - val_auc: 0.6893\n",
            "Epoch 347/500\n",
            "10/10 [==============================] - 0s 45ms/step - loss: 0.2238 - accuracy: 0.6818 - auc: 0.6735 - val_loss: 0.2161 - val_accuracy: 0.7250 - val_auc: 0.6918\n",
            "Epoch 348/500\n",
            "10/10 [==============================] - 0s 42ms/step - loss: 0.2218 - accuracy: 0.6891 - auc: 0.6707 - val_loss: 0.2160 - val_accuracy: 0.7250 - val_auc: 0.6918\n",
            "Epoch 349/500\n",
            "10/10 [==============================] - 0s 42ms/step - loss: 0.2262 - accuracy: 0.6572 - auc: 0.6604 - val_loss: 0.2161 - val_accuracy: 0.7250 - val_auc: 0.6905\n",
            "Epoch 350/500\n",
            "10/10 [==============================] - 0s 45ms/step - loss: 0.2336 - accuracy: 0.6426 - auc: 0.6412 - val_loss: 0.2161 - val_accuracy: 0.7250 - val_auc: 0.6905\n",
            "Epoch 351/500\n",
            "10/10 [==============================] - 0s 40ms/step - loss: 0.2225 - accuracy: 0.6831 - auc: 0.6779 - val_loss: 0.2161 - val_accuracy: 0.7250 - val_auc: 0.6893\n",
            "Epoch 352/500\n",
            "10/10 [==============================] - 0s 42ms/step - loss: 0.2332 - accuracy: 0.6451 - auc: 0.6311 - val_loss: 0.2161 - val_accuracy: 0.7250 - val_auc: 0.6918\n",
            "Epoch 353/500\n",
            "10/10 [==============================] - 0s 45ms/step - loss: 0.2353 - accuracy: 0.6367 - auc: 0.6219 - val_loss: 0.2161 - val_accuracy: 0.7250 - val_auc: 0.6905\n",
            "Epoch 354/500\n",
            "10/10 [==============================] - 0s 43ms/step - loss: 0.2345 - accuracy: 0.6406 - auc: 0.6279 - val_loss: 0.2160 - val_accuracy: 0.7250 - val_auc: 0.6918\n",
            "Epoch 355/500\n",
            "10/10 [==============================] - 0s 43ms/step - loss: 0.2293 - accuracy: 0.6598 - auc: 0.6468 - val_loss: 0.2160 - val_accuracy: 0.7250 - val_auc: 0.6918\n",
            "Epoch 356/500\n",
            "10/10 [==============================] - 0s 40ms/step - loss: 0.2275 - accuracy: 0.6680 - auc: 0.6647 - val_loss: 0.2160 - val_accuracy: 0.7250 - val_auc: 0.6918\n",
            "Epoch 357/500\n",
            "10/10 [==============================] - 0s 42ms/step - loss: 0.2342 - accuracy: 0.6572 - auc: 0.6386 - val_loss: 0.2160 - val_accuracy: 0.7250 - val_auc: 0.6905\n",
            "Epoch 358/500\n",
            "10/10 [==============================] - 0s 43ms/step - loss: 0.2211 - accuracy: 0.6727 - auc: 0.6820 - val_loss: 0.2159 - val_accuracy: 0.7250 - val_auc: 0.6893\n",
            "Epoch 359/500\n",
            "10/10 [==============================] - 0s 42ms/step - loss: 0.2273 - accuracy: 0.6525 - auc: 0.6600 - val_loss: 0.2159 - val_accuracy: 0.7250 - val_auc: 0.6893\n",
            "Epoch 360/500\n",
            "10/10 [==============================] - 0s 42ms/step - loss: 0.2372 - accuracy: 0.6434 - auc: 0.6127 - val_loss: 0.2159 - val_accuracy: 0.7250 - val_auc: 0.6893\n",
            "Epoch 361/500\n",
            "10/10 [==============================] - 0s 41ms/step - loss: 0.2248 - accuracy: 0.6651 - auc: 0.6704 - val_loss: 0.2159 - val_accuracy: 0.7250 - val_auc: 0.6905\n",
            "Epoch 362/500\n",
            "10/10 [==============================] - 0s 43ms/step - loss: 0.2266 - accuracy: 0.6791 - auc: 0.6629 - val_loss: 0.2159 - val_accuracy: 0.7250 - val_auc: 0.6905\n",
            "Epoch 363/500\n",
            "10/10 [==============================] - 0s 40ms/step - loss: 0.2279 - accuracy: 0.6505 - auc: 0.6472 - val_loss: 0.2159 - val_accuracy: 0.7250 - val_auc: 0.6918\n",
            "Epoch 364/500\n",
            "10/10 [==============================] - 0s 42ms/step - loss: 0.2251 - accuracy: 0.6742 - auc: 0.6701 - val_loss: 0.2158 - val_accuracy: 0.7250 - val_auc: 0.6918\n",
            "Epoch 365/500\n",
            "10/10 [==============================] - 0s 42ms/step - loss: 0.2250 - accuracy: 0.6682 - auc: 0.6654 - val_loss: 0.2158 - val_accuracy: 0.7250 - val_auc: 0.6905\n",
            "Epoch 366/500\n",
            "10/10 [==============================] - 0s 43ms/step - loss: 0.2188 - accuracy: 0.6736 - auc: 0.7059 - val_loss: 0.2158 - val_accuracy: 0.7250 - val_auc: 0.6918\n",
            "Epoch 367/500\n",
            "10/10 [==============================] - 0s 43ms/step - loss: 0.2195 - accuracy: 0.6724 - auc: 0.6890 - val_loss: 0.2158 - val_accuracy: 0.7250 - val_auc: 0.6918\n",
            "Epoch 368/500\n",
            "10/10 [==============================] - 0s 42ms/step - loss: 0.2240 - accuracy: 0.6888 - auc: 0.6754 - val_loss: 0.2158 - val_accuracy: 0.7250 - val_auc: 0.6918\n",
            "Epoch 369/500\n",
            "10/10 [==============================] - 0s 45ms/step - loss: 0.2264 - accuracy: 0.6567 - auc: 0.6703 - val_loss: 0.2158 - val_accuracy: 0.7250 - val_auc: 0.6918\n",
            "Epoch 370/500\n",
            "10/10 [==============================] - 0s 41ms/step - loss: 0.2229 - accuracy: 0.6879 - auc: 0.6741 - val_loss: 0.2158 - val_accuracy: 0.7250 - val_auc: 0.6905\n",
            "Epoch 371/500\n",
            "10/10 [==============================] - 0s 42ms/step - loss: 0.2163 - accuracy: 0.7043 - auc: 0.7032 - val_loss: 0.2157 - val_accuracy: 0.7250 - val_auc: 0.6905\n",
            "Epoch 372/500\n",
            "10/10 [==============================] - 0s 41ms/step - loss: 0.2188 - accuracy: 0.6888 - auc: 0.6965 - val_loss: 0.2157 - val_accuracy: 0.7250 - val_auc: 0.6905\n",
            "Epoch 373/500\n",
            "10/10 [==============================] - 0s 42ms/step - loss: 0.2297 - accuracy: 0.6613 - auc: 0.6448 - val_loss: 0.2157 - val_accuracy: 0.7250 - val_auc: 0.6918\n",
            "Epoch 374/500\n",
            "10/10 [==============================] - 0s 43ms/step - loss: 0.2237 - accuracy: 0.6702 - auc: 0.6664 - val_loss: 0.2157 - val_accuracy: 0.7250 - val_auc: 0.6931\n",
            "Epoch 375/500\n",
            "10/10 [==============================] - 0s 43ms/step - loss: 0.2284 - accuracy: 0.6708 - auc: 0.6536 - val_loss: 0.2157 - val_accuracy: 0.7250 - val_auc: 0.6944\n",
            "Epoch 376/500\n",
            "10/10 [==============================] - 0s 42ms/step - loss: 0.2290 - accuracy: 0.6440 - auc: 0.6518 - val_loss: 0.2157 - val_accuracy: 0.7250 - val_auc: 0.6905\n",
            "Epoch 377/500\n",
            "10/10 [==============================] - 0s 43ms/step - loss: 0.2367 - accuracy: 0.6261 - auc: 0.6078 - val_loss: 0.2157 - val_accuracy: 0.7250 - val_auc: 0.6944\n",
            "Epoch 378/500\n",
            "10/10 [==============================] - 0s 44ms/step - loss: 0.2262 - accuracy: 0.6755 - auc: 0.6551 - val_loss: 0.2157 - val_accuracy: 0.7250 - val_auc: 0.6918\n",
            "Epoch 379/500\n",
            "10/10 [==============================] - 0s 42ms/step - loss: 0.2197 - accuracy: 0.6766 - auc: 0.6813 - val_loss: 0.2157 - val_accuracy: 0.7250 - val_auc: 0.6918\n",
            "Epoch 380/500\n",
            "10/10 [==============================] - 0s 42ms/step - loss: 0.2279 - accuracy: 0.6519 - auc: 0.6444 - val_loss: 0.2157 - val_accuracy: 0.7250 - val_auc: 0.6905\n",
            "Epoch 381/500\n",
            "10/10 [==============================] - 0s 43ms/step - loss: 0.2129 - accuracy: 0.6978 - auc: 0.7170 - val_loss: 0.2156 - val_accuracy: 0.7250 - val_auc: 0.6905\n",
            "Epoch 382/500\n",
            "10/10 [==============================] - 0s 43ms/step - loss: 0.2276 - accuracy: 0.6445 - auc: 0.6451 - val_loss: 0.2156 - val_accuracy: 0.7250 - val_auc: 0.6893\n",
            "Epoch 383/500\n",
            "10/10 [==============================] - 0s 42ms/step - loss: 0.2288 - accuracy: 0.6494 - auc: 0.6416 - val_loss: 0.2156 - val_accuracy: 0.7250 - val_auc: 0.6905\n",
            "Epoch 384/500\n",
            "10/10 [==============================] - 0s 43ms/step - loss: 0.2211 - accuracy: 0.6812 - auc: 0.6940 - val_loss: 0.2156 - val_accuracy: 0.7250 - val_auc: 0.6893\n",
            "Epoch 385/500\n",
            "10/10 [==============================] - 0s 42ms/step - loss: 0.2360 - accuracy: 0.6344 - auc: 0.6244 - val_loss: 0.2155 - val_accuracy: 0.7250 - val_auc: 0.6905\n",
            "Epoch 386/500\n",
            "10/10 [==============================] - 0s 41ms/step - loss: 0.2243 - accuracy: 0.6590 - auc: 0.6560 - val_loss: 0.2156 - val_accuracy: 0.7250 - val_auc: 0.6905\n",
            "Epoch 387/500\n",
            "10/10 [==============================] - 0s 42ms/step - loss: 0.2237 - accuracy: 0.6629 - auc: 0.6702 - val_loss: 0.2156 - val_accuracy: 0.7250 - val_auc: 0.6905\n",
            "Epoch 388/500\n",
            "10/10 [==============================] - 0s 42ms/step - loss: 0.2201 - accuracy: 0.6901 - auc: 0.6953 - val_loss: 0.2155 - val_accuracy: 0.7250 - val_auc: 0.6893\n",
            "Epoch 389/500\n",
            "10/10 [==============================] - 0s 45ms/step - loss: 0.2244 - accuracy: 0.6783 - auc: 0.6692 - val_loss: 0.2155 - val_accuracy: 0.7250 - val_auc: 0.6880\n",
            "Epoch 390/500\n",
            "10/10 [==============================] - 0s 44ms/step - loss: 0.2287 - accuracy: 0.6599 - auc: 0.6531 - val_loss: 0.2155 - val_accuracy: 0.7250 - val_auc: 0.6880\n",
            "Epoch 391/500\n",
            "10/10 [==============================] - 0s 44ms/step - loss: 0.2327 - accuracy: 0.6411 - auc: 0.6379 - val_loss: 0.2155 - val_accuracy: 0.7250 - val_auc: 0.6931\n",
            "Epoch 392/500\n",
            "10/10 [==============================] - 0s 41ms/step - loss: 0.2146 - accuracy: 0.6959 - auc: 0.7071 - val_loss: 0.2154 - val_accuracy: 0.7250 - val_auc: 0.6918\n",
            "Epoch 393/500\n",
            "10/10 [==============================] - 0s 43ms/step - loss: 0.2246 - accuracy: 0.6662 - auc: 0.6653 - val_loss: 0.2155 - val_accuracy: 0.7250 - val_auc: 0.6905\n",
            "Epoch 394/500\n",
            "10/10 [==============================] - 0s 46ms/step - loss: 0.2275 - accuracy: 0.6572 - auc: 0.6434 - val_loss: 0.2155 - val_accuracy: 0.7250 - val_auc: 0.6931\n",
            "Epoch 395/500\n",
            "10/10 [==============================] - 0s 43ms/step - loss: 0.2267 - accuracy: 0.6717 - auc: 0.6559 - val_loss: 0.2154 - val_accuracy: 0.7250 - val_auc: 0.6867\n",
            "Epoch 396/500\n",
            "10/10 [==============================] - 0s 46ms/step - loss: 0.2251 - accuracy: 0.6676 - auc: 0.6752 - val_loss: 0.2154 - val_accuracy: 0.7250 - val_auc: 0.6880\n",
            "Epoch 397/500\n",
            "10/10 [==============================] - 0s 47ms/step - loss: 0.2322 - accuracy: 0.6594 - auc: 0.6138 - val_loss: 0.2154 - val_accuracy: 0.7250 - val_auc: 0.6905\n",
            "Epoch 398/500\n",
            "10/10 [==============================] - 0s 46ms/step - loss: 0.2176 - accuracy: 0.6952 - auc: 0.6951 - val_loss: 0.2154 - val_accuracy: 0.7250 - val_auc: 0.6893\n",
            "Epoch 399/500\n",
            "10/10 [==============================] - 0s 44ms/step - loss: 0.2311 - accuracy: 0.6464 - auc: 0.6457 - val_loss: 0.2154 - val_accuracy: 0.7250 - val_auc: 0.6893\n",
            "Epoch 400/500\n",
            "10/10 [==============================] - 0s 42ms/step - loss: 0.2238 - accuracy: 0.6704 - auc: 0.6722 - val_loss: 0.2154 - val_accuracy: 0.7250 - val_auc: 0.6893\n",
            "Epoch 401/500\n",
            "10/10 [==============================] - 0s 43ms/step - loss: 0.2324 - accuracy: 0.6415 - auc: 0.6253 - val_loss: 0.2155 - val_accuracy: 0.7250 - val_auc: 0.6893\n",
            "Epoch 402/500\n",
            "10/10 [==============================] - 0s 41ms/step - loss: 0.2219 - accuracy: 0.6675 - auc: 0.6716 - val_loss: 0.2154 - val_accuracy: 0.7250 - val_auc: 0.6905\n",
            "Epoch 403/500\n",
            "10/10 [==============================] - 0s 44ms/step - loss: 0.2258 - accuracy: 0.6675 - auc: 0.6567 - val_loss: 0.2153 - val_accuracy: 0.7250 - val_auc: 0.6893\n",
            "Epoch 404/500\n",
            "10/10 [==============================] - 0s 44ms/step - loss: 0.2328 - accuracy: 0.6410 - auc: 0.6266 - val_loss: 0.2154 - val_accuracy: 0.7250 - val_auc: 0.6816\n",
            "Epoch 405/500\n",
            "10/10 [==============================] - 0s 41ms/step - loss: 0.2276 - accuracy: 0.6770 - auc: 0.6597 - val_loss: 0.2154 - val_accuracy: 0.7250 - val_auc: 0.6854\n",
            "Epoch 406/500\n",
            "10/10 [==============================] - 0s 43ms/step - loss: 0.2299 - accuracy: 0.6644 - auc: 0.6415 - val_loss: 0.2154 - val_accuracy: 0.7500 - val_auc: 0.6880\n",
            "Epoch 407/500\n",
            "10/10 [==============================] - 0s 43ms/step - loss: 0.2243 - accuracy: 0.6844 - auc: 0.6675 - val_loss: 0.2153 - val_accuracy: 0.7500 - val_auc: 0.6880\n",
            "Epoch 408/500\n",
            "10/10 [==============================] - 0s 42ms/step - loss: 0.2294 - accuracy: 0.6670 - auc: 0.6482 - val_loss: 0.2153 - val_accuracy: 0.7500 - val_auc: 0.6880\n",
            "Epoch 409/500\n",
            "10/10 [==============================] - 0s 41ms/step - loss: 0.2194 - accuracy: 0.6985 - auc: 0.6759 - val_loss: 0.2153 - val_accuracy: 0.7500 - val_auc: 0.6841\n",
            "Epoch 410/500\n",
            "10/10 [==============================] - 0s 43ms/step - loss: 0.2256 - accuracy: 0.6688 - auc: 0.6646 - val_loss: 0.2153 - val_accuracy: 0.7500 - val_auc: 0.6841\n",
            "Epoch 411/500\n",
            "10/10 [==============================] - 0s 44ms/step - loss: 0.2247 - accuracy: 0.6795 - auc: 0.6652 - val_loss: 0.2153 - val_accuracy: 0.7500 - val_auc: 0.6854\n",
            "Epoch 412/500\n",
            "10/10 [==============================] - 0s 43ms/step - loss: 0.2211 - accuracy: 0.6725 - auc: 0.6886 - val_loss: 0.2152 - val_accuracy: 0.7500 - val_auc: 0.6829\n",
            "Epoch 413/500\n",
            "10/10 [==============================] - 0s 45ms/step - loss: 0.2313 - accuracy: 0.6669 - auc: 0.6281 - val_loss: 0.2152 - val_accuracy: 0.7500 - val_auc: 0.6816\n",
            "Epoch 414/500\n",
            "10/10 [==============================] - 0s 42ms/step - loss: 0.2262 - accuracy: 0.6689 - auc: 0.6504 - val_loss: 0.2153 - val_accuracy: 0.7500 - val_auc: 0.6816\n",
            "Epoch 415/500\n",
            "10/10 [==============================] - 0s 45ms/step - loss: 0.2258 - accuracy: 0.6764 - auc: 0.6680 - val_loss: 0.2153 - val_accuracy: 0.7500 - val_auc: 0.6816\n",
            "Epoch 416/500\n",
            "10/10 [==============================] - 0s 43ms/step - loss: 0.2178 - accuracy: 0.7061 - auc: 0.6965 - val_loss: 0.2153 - val_accuracy: 0.7500 - val_auc: 0.6816\n",
            "Epoch 417/500\n",
            "10/10 [==============================] - 0s 45ms/step - loss: 0.2158 - accuracy: 0.7280 - auc: 0.7185 - val_loss: 0.2152 - val_accuracy: 0.7500 - val_auc: 0.6841\n",
            "Epoch 418/500\n",
            "10/10 [==============================] - 0s 43ms/step - loss: 0.2187 - accuracy: 0.6953 - auc: 0.6849 - val_loss: 0.2152 - val_accuracy: 0.7500 - val_auc: 0.6816\n",
            "Epoch 419/500\n",
            "10/10 [==============================] - 0s 43ms/step - loss: 0.2247 - accuracy: 0.6650 - auc: 0.6678 - val_loss: 0.2152 - val_accuracy: 0.7500 - val_auc: 0.6803\n",
            "Epoch 420/500\n",
            "10/10 [==============================] - 0s 47ms/step - loss: 0.2268 - accuracy: 0.6711 - auc: 0.6596 - val_loss: 0.2152 - val_accuracy: 0.7500 - val_auc: 0.6880\n",
            "Epoch 421/500\n",
            "10/10 [==============================] - 0s 44ms/step - loss: 0.2301 - accuracy: 0.6549 - auc: 0.6413 - val_loss: 0.2152 - val_accuracy: 0.7500 - val_auc: 0.6829\n",
            "Epoch 422/500\n",
            "10/10 [==============================] - 0s 42ms/step - loss: 0.2374 - accuracy: 0.6265 - auc: 0.6100 - val_loss: 0.2152 - val_accuracy: 0.7500 - val_auc: 0.6893\n",
            "Epoch 423/500\n",
            "10/10 [==============================] - 0s 45ms/step - loss: 0.2236 - accuracy: 0.6919 - auc: 0.6714 - val_loss: 0.2151 - val_accuracy: 0.7500 - val_auc: 0.6854\n",
            "Epoch 424/500\n",
            "10/10 [==============================] - 0s 43ms/step - loss: 0.2259 - accuracy: 0.6864 - auc: 0.6622 - val_loss: 0.2151 - val_accuracy: 0.7500 - val_auc: 0.6841\n",
            "Epoch 425/500\n",
            "10/10 [==============================] - 0s 43ms/step - loss: 0.2264 - accuracy: 0.6827 - auc: 0.6605 - val_loss: 0.2151 - val_accuracy: 0.7500 - val_auc: 0.6867\n",
            "Epoch 426/500\n",
            "10/10 [==============================] - 0s 43ms/step - loss: 0.2300 - accuracy: 0.6668 - auc: 0.6351 - val_loss: 0.2151 - val_accuracy: 0.7500 - val_auc: 0.6816\n",
            "Epoch 427/500\n",
            "10/10 [==============================] - 0s 45ms/step - loss: 0.2236 - accuracy: 0.6768 - auc: 0.6744 - val_loss: 0.2151 - val_accuracy: 0.7500 - val_auc: 0.6829\n",
            "Epoch 428/500\n",
            "10/10 [==============================] - 0s 44ms/step - loss: 0.2304 - accuracy: 0.6624 - auc: 0.6466 - val_loss: 0.2151 - val_accuracy: 0.7500 - val_auc: 0.6867\n",
            "Epoch 429/500\n",
            "10/10 [==============================] - 0s 46ms/step - loss: 0.2149 - accuracy: 0.7359 - auc: 0.7060 - val_loss: 0.2151 - val_accuracy: 0.7500 - val_auc: 0.6867\n",
            "Epoch 430/500\n",
            "10/10 [==============================] - 0s 46ms/step - loss: 0.2244 - accuracy: 0.6835 - auc: 0.6775 - val_loss: 0.2151 - val_accuracy: 0.7500 - val_auc: 0.6841\n",
            "Epoch 431/500\n",
            "10/10 [==============================] - 0s 48ms/step - loss: 0.2219 - accuracy: 0.6972 - auc: 0.6831 - val_loss: 0.2151 - val_accuracy: 0.7500 - val_auc: 0.6854\n",
            "Epoch 432/500\n",
            "10/10 [==============================] - 0s 45ms/step - loss: 0.2319 - accuracy: 0.6508 - auc: 0.6385 - val_loss: 0.2151 - val_accuracy: 0.7500 - val_auc: 0.6880\n",
            "Epoch 433/500\n",
            "10/10 [==============================] - 0s 45ms/step - loss: 0.2226 - accuracy: 0.6861 - auc: 0.6707 - val_loss: 0.2151 - val_accuracy: 0.7500 - val_auc: 0.6854\n",
            "Epoch 434/500\n",
            "10/10 [==============================] - 0s 45ms/step - loss: 0.2192 - accuracy: 0.7005 - auc: 0.6916 - val_loss: 0.2151 - val_accuracy: 0.7500 - val_auc: 0.6841\n",
            "Epoch 435/500\n",
            "10/10 [==============================] - 0s 45ms/step - loss: 0.2279 - accuracy: 0.6552 - auc: 0.6541 - val_loss: 0.2150 - val_accuracy: 0.7500 - val_auc: 0.6841\n",
            "Epoch 436/500\n",
            "10/10 [==============================] - 0s 46ms/step - loss: 0.2225 - accuracy: 0.6870 - auc: 0.6839 - val_loss: 0.2150 - val_accuracy: 0.7500 - val_auc: 0.6841\n",
            "Epoch 437/500\n",
            "10/10 [==============================] - 0s 44ms/step - loss: 0.2213 - accuracy: 0.6958 - auc: 0.6840 - val_loss: 0.2150 - val_accuracy: 0.7500 - val_auc: 0.6841\n",
            "Epoch 438/500\n",
            "10/10 [==============================] - 0s 46ms/step - loss: 0.2305 - accuracy: 0.6563 - auc: 0.6448 - val_loss: 0.2150 - val_accuracy: 0.7500 - val_auc: 0.6867\n",
            "Epoch 439/500\n",
            "10/10 [==============================] - 0s 43ms/step - loss: 0.2230 - accuracy: 0.6949 - auc: 0.6767 - val_loss: 0.2150 - val_accuracy: 0.7500 - val_auc: 0.6841\n",
            "Epoch 440/500\n",
            "10/10 [==============================] - 0s 43ms/step - loss: 0.2223 - accuracy: 0.6918 - auc: 0.6639 - val_loss: 0.2150 - val_accuracy: 0.7500 - val_auc: 0.6841\n",
            "Epoch 441/500\n",
            "10/10 [==============================] - 0s 44ms/step - loss: 0.2232 - accuracy: 0.6772 - auc: 0.6673 - val_loss: 0.2150 - val_accuracy: 0.7500 - val_auc: 0.6854\n",
            "Epoch 442/500\n",
            "10/10 [==============================] - 0s 43ms/step - loss: 0.2225 - accuracy: 0.6846 - auc: 0.6800 - val_loss: 0.2150 - val_accuracy: 0.7500 - val_auc: 0.6867\n",
            "Epoch 443/500\n",
            "10/10 [==============================] - 0s 42ms/step - loss: 0.2277 - accuracy: 0.6634 - auc: 0.6573 - val_loss: 0.2150 - val_accuracy: 0.7500 - val_auc: 0.6841\n",
            "Epoch 444/500\n",
            "10/10 [==============================] - 0s 44ms/step - loss: 0.2271 - accuracy: 0.6754 - auc: 0.6566 - val_loss: 0.2149 - val_accuracy: 0.7500 - val_auc: 0.6816\n",
            "Epoch 445/500\n",
            "10/10 [==============================] - 0s 44ms/step - loss: 0.2245 - accuracy: 0.6942 - auc: 0.6519 - val_loss: 0.2150 - val_accuracy: 0.7500 - val_auc: 0.6816\n",
            "Epoch 446/500\n",
            "10/10 [==============================] - 0s 42ms/step - loss: 0.2324 - accuracy: 0.6608 - auc: 0.6138 - val_loss: 0.2150 - val_accuracy: 0.7500 - val_auc: 0.6841\n",
            "Epoch 447/500\n",
            "10/10 [==============================] - 0s 45ms/step - loss: 0.2162 - accuracy: 0.6913 - auc: 0.6831 - val_loss: 0.2149 - val_accuracy: 0.7500 - val_auc: 0.6829\n",
            "Epoch 448/500\n",
            "10/10 [==============================] - 0s 43ms/step - loss: 0.2224 - accuracy: 0.6806 - auc: 0.6480 - val_loss: 0.2149 - val_accuracy: 0.7500 - val_auc: 0.6829\n",
            "Epoch 449/500\n",
            "10/10 [==============================] - 0s 42ms/step - loss: 0.2287 - accuracy: 0.6617 - auc: 0.6516 - val_loss: 0.2149 - val_accuracy: 0.7500 - val_auc: 0.6816\n",
            "Epoch 450/500\n",
            "10/10 [==============================] - 0s 42ms/step - loss: 0.2226 - accuracy: 0.6865 - auc: 0.6661 - val_loss: 0.2149 - val_accuracy: 0.7500 - val_auc: 0.6816\n",
            "Epoch 451/500\n",
            "10/10 [==============================] - 0s 43ms/step - loss: 0.2179 - accuracy: 0.6975 - auc: 0.6999 - val_loss: 0.2149 - val_accuracy: 0.7500 - val_auc: 0.6790\n",
            "Epoch 452/500\n",
            "10/10 [==============================] - 0s 44ms/step - loss: 0.2297 - accuracy: 0.6693 - auc: 0.6537 - val_loss: 0.2150 - val_accuracy: 0.7500 - val_auc: 0.6790\n",
            "Epoch 453/500\n",
            "10/10 [==============================] - 0s 45ms/step - loss: 0.2326 - accuracy: 0.6489 - auc: 0.6289 - val_loss: 0.2150 - val_accuracy: 0.7500 - val_auc: 0.6841\n",
            "Epoch 454/500\n",
            "10/10 [==============================] - 0s 45ms/step - loss: 0.2303 - accuracy: 0.6555 - auc: 0.6474 - val_loss: 0.2149 - val_accuracy: 0.7500 - val_auc: 0.6829\n",
            "Epoch 455/500\n",
            "10/10 [==============================] - 0s 43ms/step - loss: 0.2250 - accuracy: 0.6878 - auc: 0.6655 - val_loss: 0.2149 - val_accuracy: 0.7500 - val_auc: 0.6803\n",
            "Epoch 456/500\n",
            "10/10 [==============================] - 0s 45ms/step - loss: 0.2190 - accuracy: 0.7088 - auc: 0.6905 - val_loss: 0.2148 - val_accuracy: 0.7500 - val_auc: 0.6829\n",
            "Epoch 457/500\n",
            "10/10 [==============================] - 0s 44ms/step - loss: 0.2224 - accuracy: 0.6875 - auc: 0.6784 - val_loss: 0.2149 - val_accuracy: 0.7500 - val_auc: 0.6803\n",
            "Epoch 458/500\n",
            "10/10 [==============================] - 0s 43ms/step - loss: 0.2277 - accuracy: 0.6774 - auc: 0.6462 - val_loss: 0.2149 - val_accuracy: 0.7500 - val_auc: 0.6790\n",
            "Epoch 459/500\n",
            "10/10 [==============================] - 0s 43ms/step - loss: 0.2339 - accuracy: 0.6501 - auc: 0.6265 - val_loss: 0.2149 - val_accuracy: 0.7500 - val_auc: 0.6790\n",
            "Epoch 460/500\n",
            "10/10 [==============================] - 0s 42ms/step - loss: 0.2397 - accuracy: 0.6478 - auc: 0.6035 - val_loss: 0.2149 - val_accuracy: 0.7500 - val_auc: 0.6777\n",
            "Epoch 461/500\n",
            "10/10 [==============================] - 0s 45ms/step - loss: 0.2213 - accuracy: 0.6900 - auc: 0.6799 - val_loss: 0.2149 - val_accuracy: 0.7500 - val_auc: 0.6790\n",
            "Epoch 462/500\n",
            "10/10 [==============================] - 0s 44ms/step - loss: 0.2253 - accuracy: 0.6952 - auc: 0.6581 - val_loss: 0.2148 - val_accuracy: 0.7500 - val_auc: 0.6803\n",
            "Epoch 463/500\n",
            "10/10 [==============================] - 0s 42ms/step - loss: 0.2187 - accuracy: 0.6991 - auc: 0.6947 - val_loss: 0.2148 - val_accuracy: 0.7500 - val_auc: 0.6777\n",
            "Epoch 464/500\n",
            "10/10 [==============================] - 0s 43ms/step - loss: 0.2435 - accuracy: 0.6274 - auc: 0.5722 - val_loss: 0.2149 - val_accuracy: 0.7500 - val_auc: 0.6777\n",
            "Epoch 465/500\n",
            "10/10 [==============================] - 0s 41ms/step - loss: 0.2149 - accuracy: 0.7137 - auc: 0.7159 - val_loss: 0.2149 - val_accuracy: 0.7500 - val_auc: 0.6777\n",
            "Epoch 466/500\n",
            "10/10 [==============================] - 0s 45ms/step - loss: 0.2245 - accuracy: 0.6953 - auc: 0.6583 - val_loss: 0.2148 - val_accuracy: 0.7500 - val_auc: 0.6790\n",
            "Epoch 467/500\n",
            "10/10 [==============================] - 0s 42ms/step - loss: 0.2202 - accuracy: 0.7199 - auc: 0.6891 - val_loss: 0.2148 - val_accuracy: 0.7500 - val_auc: 0.6765\n",
            "Epoch 468/500\n",
            "10/10 [==============================] - 0s 47ms/step - loss: 0.2355 - accuracy: 0.6328 - auc: 0.6236 - val_loss: 0.2148 - val_accuracy: 0.7500 - val_auc: 0.6829\n",
            "Epoch 469/500\n",
            "10/10 [==============================] - 0s 43ms/step - loss: 0.2210 - accuracy: 0.6988 - auc: 0.6761 - val_loss: 0.2148 - val_accuracy: 0.7500 - val_auc: 0.6803\n",
            "Epoch 470/500\n",
            "10/10 [==============================] - 0s 44ms/step - loss: 0.2265 - accuracy: 0.6856 - auc: 0.6450 - val_loss: 0.2148 - val_accuracy: 0.7500 - val_auc: 0.6816\n",
            "Epoch 471/500\n",
            "10/10 [==============================] - 0s 44ms/step - loss: 0.2259 - accuracy: 0.6811 - auc: 0.6524 - val_loss: 0.2147 - val_accuracy: 0.7500 - val_auc: 0.6816\n",
            "Epoch 472/500\n",
            "10/10 [==============================] - 0s 42ms/step - loss: 0.2241 - accuracy: 0.6800 - auc: 0.6653 - val_loss: 0.2147 - val_accuracy: 0.7500 - val_auc: 0.6803\n",
            "Epoch 473/500\n",
            "10/10 [==============================] - 0s 42ms/step - loss: 0.2252 - accuracy: 0.6718 - auc: 0.6634 - val_loss: 0.2148 - val_accuracy: 0.7500 - val_auc: 0.6790\n",
            "Epoch 474/500\n",
            "10/10 [==============================] - 0s 41ms/step - loss: 0.2288 - accuracy: 0.6753 - auc: 0.6493 - val_loss: 0.2148 - val_accuracy: 0.7500 - val_auc: 0.6777\n",
            "Epoch 475/500\n",
            "10/10 [==============================] - 0s 46ms/step - loss: 0.2274 - accuracy: 0.6514 - auc: 0.6493 - val_loss: 0.2148 - val_accuracy: 0.7500 - val_auc: 0.6829\n",
            "Epoch 476/500\n",
            "10/10 [==============================] - 0s 44ms/step - loss: 0.2308 - accuracy: 0.6722 - auc: 0.6433 - val_loss: 0.2148 - val_accuracy: 0.7500 - val_auc: 0.6803\n",
            "Epoch 477/500\n",
            "10/10 [==============================] - 0s 44ms/step - loss: 0.2194 - accuracy: 0.6901 - auc: 0.6781 - val_loss: 0.2148 - val_accuracy: 0.7500 - val_auc: 0.6790\n",
            "Epoch 478/500\n",
            "10/10 [==============================] - 0s 43ms/step - loss: 0.2168 - accuracy: 0.7098 - auc: 0.6994 - val_loss: 0.2147 - val_accuracy: 0.7500 - val_auc: 0.6765\n",
            "Epoch 479/500\n",
            "10/10 [==============================] - 0s 41ms/step - loss: 0.2265 - accuracy: 0.6721 - auc: 0.6609 - val_loss: 0.2148 - val_accuracy: 0.7500 - val_auc: 0.6752\n",
            "Epoch 480/500\n",
            "10/10 [==============================] - 0s 42ms/step - loss: 0.2268 - accuracy: 0.6654 - auc: 0.6566 - val_loss: 0.2147 - val_accuracy: 0.7500 - val_auc: 0.6752\n",
            "Epoch 481/500\n",
            "10/10 [==============================] - 0s 45ms/step - loss: 0.2252 - accuracy: 0.6744 - auc: 0.6535 - val_loss: 0.2147 - val_accuracy: 0.7500 - val_auc: 0.6765\n",
            "Epoch 482/500\n",
            "10/10 [==============================] - 0s 45ms/step - loss: 0.2335 - accuracy: 0.6448 - auc: 0.6263 - val_loss: 0.2147 - val_accuracy: 0.7500 - val_auc: 0.6790\n",
            "Epoch 483/500\n",
            "10/10 [==============================] - 0s 43ms/step - loss: 0.2208 - accuracy: 0.7013 - auc: 0.6881 - val_loss: 0.2147 - val_accuracy: 0.7500 - val_auc: 0.6765\n",
            "Epoch 484/500\n",
            "10/10 [==============================] - 0s 46ms/step - loss: 0.2306 - accuracy: 0.6428 - auc: 0.6376 - val_loss: 0.2147 - val_accuracy: 0.7500 - val_auc: 0.6765\n",
            "Epoch 485/500\n",
            "10/10 [==============================] - 0s 43ms/step - loss: 0.2203 - accuracy: 0.6922 - auc: 0.6989 - val_loss: 0.2147 - val_accuracy: 0.7500 - val_auc: 0.6752\n",
            "Epoch 486/500\n",
            "10/10 [==============================] - 0s 46ms/step - loss: 0.2256 - accuracy: 0.6794 - auc: 0.6791 - val_loss: 0.2147 - val_accuracy: 0.7500 - val_auc: 0.6765\n",
            "Epoch 487/500\n",
            "10/10 [==============================] - 0s 44ms/step - loss: 0.2321 - accuracy: 0.6444 - auc: 0.6258 - val_loss: 0.2147 - val_accuracy: 0.7500 - val_auc: 0.6765\n",
            "Epoch 488/500\n",
            "10/10 [==============================] - 0s 46ms/step - loss: 0.2251 - accuracy: 0.6774 - auc: 0.6575 - val_loss: 0.2147 - val_accuracy: 0.7500 - val_auc: 0.6765\n",
            "Epoch 489/500\n",
            "10/10 [==============================] - 0s 42ms/step - loss: 0.2200 - accuracy: 0.7101 - auc: 0.6915 - val_loss: 0.2147 - val_accuracy: 0.7500 - val_auc: 0.6777\n",
            "Epoch 490/500\n",
            "10/10 [==============================] - 0s 44ms/step - loss: 0.2268 - accuracy: 0.6794 - auc: 0.6674 - val_loss: 0.2147 - val_accuracy: 0.7500 - val_auc: 0.6765\n",
            "Epoch 491/500\n",
            "10/10 [==============================] - 0s 45ms/step - loss: 0.2240 - accuracy: 0.6832 - auc: 0.6706 - val_loss: 0.2146 - val_accuracy: 0.7500 - val_auc: 0.6790\n",
            "Epoch 492/500\n",
            "10/10 [==============================] - 0s 43ms/step - loss: 0.2161 - accuracy: 0.7195 - auc: 0.7022 - val_loss: 0.2146 - val_accuracy: 0.7500 - val_auc: 0.6765\n",
            "Epoch 493/500\n",
            "10/10 [==============================] - 0s 45ms/step - loss: 0.2298 - accuracy: 0.6731 - auc: 0.6410 - val_loss: 0.2147 - val_accuracy: 0.7500 - val_auc: 0.6765\n",
            "Epoch 494/500\n",
            "10/10 [==============================] - 0s 43ms/step - loss: 0.2280 - accuracy: 0.6578 - auc: 0.6534 - val_loss: 0.2147 - val_accuracy: 0.7500 - val_auc: 0.6777\n",
            "Epoch 495/500\n",
            "10/10 [==============================] - 0s 45ms/step - loss: 0.2195 - accuracy: 0.7010 - auc: 0.6912 - val_loss: 0.2146 - val_accuracy: 0.7500 - val_auc: 0.6790\n",
            "Epoch 496/500\n",
            "10/10 [==============================] - 0s 44ms/step - loss: 0.2297 - accuracy: 0.6696 - auc: 0.6527 - val_loss: 0.2146 - val_accuracy: 0.7500 - val_auc: 0.6777\n",
            "Epoch 497/500\n",
            "10/10 [==============================] - 0s 44ms/step - loss: 0.2256 - accuracy: 0.6918 - auc: 0.6531 - val_loss: 0.2146 - val_accuracy: 0.7500 - val_auc: 0.6777\n",
            "Epoch 498/500\n",
            "10/10 [==============================] - 0s 45ms/step - loss: 0.2237 - accuracy: 0.6826 - auc: 0.6597 - val_loss: 0.2146 - val_accuracy: 0.7500 - val_auc: 0.6752\n",
            "Epoch 499/500\n",
            "10/10 [==============================] - 0s 43ms/step - loss: 0.2311 - accuracy: 0.6593 - auc: 0.6253 - val_loss: 0.2146 - val_accuracy: 0.7500 - val_auc: 0.6803\n",
            "Epoch 500/500\n",
            "10/10 [==============================] - 0s 45ms/step - loss: 0.2236 - accuracy: 0.6790 - auc: 0.6583 - val_loss: 0.2146 - val_accuracy: 0.7500 - val_auc: 0.6752\n",
            "[array([2.2104104 , 1.2551587 , 3.0170596 , 3.6979468 , 2.8783135 ,\n",
            "       5.1436715 , 2.2024267 , 5.956215  , 4.004723  , 0.88966477,\n",
            "       4.5511937 , 3.9403415 , 3.3033247 , 2.2093222 , 2.8887265 ,\n",
            "       4.1102047 ], dtype=float32)]\n"
          ],
          "name": "stdout"
        }
      ]
    },
    {
      "cell_type": "code",
      "metadata": {
        "colab": {
          "base_uri": "https://localhost:8080/"
        },
        "id": "FMyTedtG_sKP",
        "outputId": "184dac37-9747-4e2e-c15a-d75a274c666b"
      },
      "source": [
        "print(\"Evaluate on test data\")\n",
        "results = model.evaluate(x_test, y_test)\n",
        "print(\"test loss, test acc, test AUC:\", results)"
      ],
      "execution_count": null,
      "outputs": [
        {
          "output_type": "stream",
          "text": [
            "Evaluate on test data\n",
            "2/2 [==============================] - 0s 13ms/step - loss: 0.2457 - accuracy: 0.6250 - auc: 0.5800\n",
            "test loss, test acc, test AUC: [0.24572376906871796, 0.625, 0.5800000429153442]\n"
          ],
          "name": "stdout"
        }
      ]
    },
    {
      "cell_type": "code",
      "metadata": {
        "colab": {
          "base_uri": "https://localhost:8080/"
        },
        "id": "ZAlwwOzu_sKQ",
        "outputId": "86f1f9b5-9d3c-4f40-f940-5e82a16df841"
      },
      "source": [
        "grid = 30\n",
        "x_cor = 0\n",
        "y_cor = 6\n",
        "x_axis = np.linspace(x_cor,y_cor,grid)\n",
        "y_axis = np.linspace(x_cor,y_cor,grid)\n",
        "tmp = np.zeros((grid**2,3))\n",
        "count = 0\n",
        "for i in x_axis:\n",
        "  for j in y_axis:\n",
        "    # z = (i**2+j**2)\n",
        "    label_z = int(model.predict(tfq.convert_to_tensor([cirq.Circuit(cirq.ry(i)(q0),cirq.ry(j)(q1))])) > 0.5)\n",
        "    tmp[count,:] = np.array([i,j,label_z])\n",
        "    count += 1\n",
        "    if count % 100 == 0:\n",
        "      print(count)"
      ],
      "execution_count": null,
      "outputs": [
        {
          "output_type": "stream",
          "text": [
            "100\n",
            "200\n",
            "300\n",
            "400\n",
            "500\n",
            "600\n",
            "700\n",
            "800\n",
            "900\n"
          ],
          "name": "stdout"
        }
      ]
    },
    {
      "cell_type": "code",
      "metadata": {
        "colab": {
          "base_uri": "https://localhost:8080/"
        },
        "id": "SL8W6KIN_sKQ",
        "outputId": "71cae052-029b-4f55-a9d6-bb943bebafdd"
      },
      "source": [
        "plt.figure(figsize = (10,5))\n",
        "plt.subplot(121)\n",
        "plt.scatter(data[data_label==0,0],data[data_label==0,1], marker='o')\n",
        "plt.scatter(data[data_label==1,0],data[data_label==1,1], marker='x')\n",
        "plt.gca().set_aspect('equal', adjustable='box')\n",
        "plt.xlim(x_cor, y_cor)\n",
        "plt.ylim(x_cor, y_cor)\n",
        "plt.subplot(122)\n",
        "plt.scatter(tmp[tmp[:,2]==0,0],tmp[tmp[:,2]==0,1], marker='o')\n",
        "plt.scatter(tmp[tmp[:,2]==1,0],tmp[tmp[:,2]==1,1], marker='x')\n",
        "plt.xlim(x_cor, y_cor)\n",
        "plt.ylim(x_cor, y_cor)\n",
        "plt.gca().set_aspect('equal', adjustable='box')"
      ],
      "execution_count": null,
      "outputs": [
        {
          "output_type": "display_data",
          "data": {
            "image/png": "[encoded data removed]",
            "text/plain": [
              "<Figure size 720x360 with 2 Axes>"
            ]
          },
          "metadata": {
            "tags": [],
            "needs_background": "light"
          }
        }
      ]
    },
    {
      "cell_type": "code",
      "metadata": {
        "colab": {
          "base_uri": "https://localhost:8080/"
        },
        "id": "YvNNB0Pj_sKQ",
        "outputId": "f86b6625-5341-4ad0-ba82-1023e459d5db"
      },
      "source": [
        "y_pred = (model.predict(x_test) > 0.5).astype(np.int)\n",
        "# print(y_pred)\n",
        "tf.math.confusion_matrix(y_pred,y_test)"
      ],
      "execution_count": null,
      "outputs": [
        {
          "output_type": "execute_result",
          "data": {
            "text/plain": [
              "<tf.Tensor: shape=(2, 2), dtype=int32, numpy=\n",
              "array([[13,  8],\n",
              "       [ 7, 12]], dtype=int32)>"
            ]
          },
          "metadata": {
            "tags": []
          },
          "execution_count": 30
        }
      ]
    }
  ]
}