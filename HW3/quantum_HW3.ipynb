{
  "nbformat": 4,
  "nbformat_minor": 0,
  "metadata": {
    "accelerator": "GPU",
    "colab": {
      "name": "quantum_HW3",
      "provenance": [],
      "collapsed_sections": [],
      "include_colab_link": true
    },
    "kernelspec": {
      "display_name": "Python 3",
      "name": "python3"
    },
    "language_info": {
      "name": "python"
    }
  },
  "cells": [
    {
      "cell_type": "markdown",
      "metadata": {
        "id": "view-in-github",
        "colab_type": "text"
      },
      "source": [
        "<a href=\"https://colab.research.google.com/github/yenjia/Homework-of-Quantum2021/blob/main/HW3/quantum_HW3.ipynb\" target=\"_parent\"><img src=\"https://colab.research.google.com/assets/colab-badge.svg\" alt=\"Open In Colab\"/></a>"
      ]
    },
    {
      "cell_type": "markdown",
      "metadata": {
        "id": "oC3JcCMSQ2TY"
      },
      "source": [
        "# More QNN Layer"
      ]
    },
    {
      "cell_type": "code",
      "metadata": {
        "colab": {
          "base_uri": "https://localhost:8080/",
          "height": 1000
        },
        "id": "lNEcJVOCQwss",
        "outputId": "6a0cbdbf-e68a-4750-b575-1026452a4169"
      },
      "source": [
        "!pip install tensorflow==2.4.1\n",
        "!pip install tensorflow-quantum "
      ],
      "execution_count": 1,
      "outputs": [
        {
          "output_type": "stream",
          "text": [
            "Collecting tensorflow==2.4.1\n",
            "\u001b[?25l  Downloading https://files.pythonhosted.org/packages/70/dc/e8c5e7983866fa4ef3fd619faa35f660b95b01a2ab62b3884f038ccab542/tensorflow-2.4.1-cp37-cp37m-manylinux2010_x86_64.whl (394.3MB)\n",
            "\u001b[K     |████████████████████████████████| 394.3MB 44kB/s \n",
            "\u001b[?25hRequirement already satisfied: wrapt~=1.12.1 in /usr/local/lib/python3.7/dist-packages (from tensorflow==2.4.1) (1.12.1)\n",
            "Requirement already satisfied: termcolor~=1.1.0 in /usr/local/lib/python3.7/dist-packages (from tensorflow==2.4.1) (1.1.0)\n",
            "Requirement already satisfied: protobuf>=3.9.2 in /usr/local/lib/python3.7/dist-packages (from tensorflow==2.4.1) (3.12.4)\n",
            "Requirement already satisfied: tensorboard~=2.4 in /usr/local/lib/python3.7/dist-packages (from tensorflow==2.4.1) (2.5.0)\n",
            "Collecting tensorflow-estimator<2.5.0,>=2.4.0\n",
            "\u001b[?25l  Downloading https://files.pythonhosted.org/packages/74/7e/622d9849abf3afb81e482ffc170758742e392ee129ce1540611199a59237/tensorflow_estimator-2.4.0-py2.py3-none-any.whl (462kB)\n",
            "\u001b[K     |████████████████████████████████| 471kB 39.6MB/s \n",
            "\u001b[?25hRequirement already satisfied: opt-einsum~=3.3.0 in /usr/local/lib/python3.7/dist-packages (from tensorflow==2.4.1) (3.3.0)\n",
            "Requirement already satisfied: absl-py~=0.10 in /usr/local/lib/python3.7/dist-packages (from tensorflow==2.4.1) (0.12.0)\n",
            "Requirement already satisfied: wheel~=0.35 in /usr/local/lib/python3.7/dist-packages (from tensorflow==2.4.1) (0.36.2)\n",
            "Requirement already satisfied: google-pasta~=0.2 in /usr/local/lib/python3.7/dist-packages (from tensorflow==2.4.1) (0.2.0)\n",
            "Requirement already satisfied: flatbuffers~=1.12.0 in /usr/local/lib/python3.7/dist-packages (from tensorflow==2.4.1) (1.12)\n",
            "Requirement already satisfied: astunparse~=1.6.3 in /usr/local/lib/python3.7/dist-packages (from tensorflow==2.4.1) (1.6.3)\n",
            "Requirement already satisfied: six~=1.15.0 in /usr/local/lib/python3.7/dist-packages (from tensorflow==2.4.1) (1.15.0)\n",
            "Requirement already satisfied: numpy~=1.19.2 in /usr/local/lib/python3.7/dist-packages (from tensorflow==2.4.1) (1.19.5)\n",
            "Requirement already satisfied: typing-extensions~=3.7.4 in /usr/local/lib/python3.7/dist-packages (from tensorflow==2.4.1) (3.7.4.3)\n",
            "Collecting gast==0.3.3\n",
            "  Downloading https://files.pythonhosted.org/packages/d6/84/759f5dd23fec8ba71952d97bcc7e2c9d7d63bdc582421f3cd4be845f0c98/gast-0.3.3-py2.py3-none-any.whl\n",
            "Requirement already satisfied: keras-preprocessing~=1.1.2 in /usr/local/lib/python3.7/dist-packages (from tensorflow==2.4.1) (1.1.2)\n",
            "Collecting grpcio~=1.32.0\n",
            "\u001b[?25l  Downloading https://files.pythonhosted.org/packages/06/54/1c8be62beafe7fb1548d2968e518ca040556b46b0275399d4f3186c56d79/grpcio-1.32.0-cp37-cp37m-manylinux2014_x86_64.whl (3.8MB)\n",
            "\u001b[K     |████████████████████████████████| 3.8MB 39.0MB/s \n",
            "\u001b[?25hCollecting h5py~=2.10.0\n",
            "\u001b[?25l  Downloading https://files.pythonhosted.org/packages/3f/c0/abde58b837e066bca19a3f7332d9d0493521d7dd6b48248451a9e3fe2214/h5py-2.10.0-cp37-cp37m-manylinux1_x86_64.whl (2.9MB)\n",
            "\u001b[K     |████████████████████████████████| 2.9MB 23.1MB/s \n",
            "\u001b[?25hRequirement already satisfied: setuptools in /usr/local/lib/python3.7/dist-packages (from protobuf>=3.9.2->tensorflow==2.4.1) (57.0.0)\n",
            "Requirement already satisfied: google-auth-oauthlib<0.5,>=0.4.1 in /usr/local/lib/python3.7/dist-packages (from tensorboard~=2.4->tensorflow==2.4.1) (0.4.4)\n",
            "Requirement already satisfied: werkzeug>=0.11.15 in /usr/local/lib/python3.7/dist-packages (from tensorboard~=2.4->tensorflow==2.4.1) (1.0.1)\n",
            "Requirement already satisfied: requests<3,>=2.21.0 in /usr/local/lib/python3.7/dist-packages (from tensorboard~=2.4->tensorflow==2.4.1) (2.23.0)\n",
            "Requirement already satisfied: tensorboard-data-server<0.7.0,>=0.6.0 in /usr/local/lib/python3.7/dist-packages (from tensorboard~=2.4->tensorflow==2.4.1) (0.6.1)\n",
            "Requirement already satisfied: tensorboard-plugin-wit>=1.6.0 in /usr/local/lib/python3.7/dist-packages (from tensorboard~=2.4->tensorflow==2.4.1) (1.8.0)\n",
            "Requirement already satisfied: google-auth<2,>=1.6.3 in /usr/local/lib/python3.7/dist-packages (from tensorboard~=2.4->tensorflow==2.4.1) (1.31.0)\n",
            "Requirement already satisfied: markdown>=2.6.8 in /usr/local/lib/python3.7/dist-packages (from tensorboard~=2.4->tensorflow==2.4.1) (3.3.4)\n",
            "Requirement already satisfied: requests-oauthlib>=0.7.0 in /usr/local/lib/python3.7/dist-packages (from google-auth-oauthlib<0.5,>=0.4.1->tensorboard~=2.4->tensorflow==2.4.1) (1.3.0)\n",
            "Requirement already satisfied: idna<3,>=2.5 in /usr/local/lib/python3.7/dist-packages (from requests<3,>=2.21.0->tensorboard~=2.4->tensorflow==2.4.1) (2.10)\n",
            "Requirement already satisfied: chardet<4,>=3.0.2 in /usr/local/lib/python3.7/dist-packages (from requests<3,>=2.21.0->tensorboard~=2.4->tensorflow==2.4.1) (3.0.4)\n",
            "Requirement already satisfied: urllib3!=1.25.0,!=1.25.1,<1.26,>=1.21.1 in /usr/local/lib/python3.7/dist-packages (from requests<3,>=2.21.0->tensorboard~=2.4->tensorflow==2.4.1) (1.24.3)\n",
            "Requirement already satisfied: certifi>=2017.4.17 in /usr/local/lib/python3.7/dist-packages (from requests<3,>=2.21.0->tensorboard~=2.4->tensorflow==2.4.1) (2021.5.30)\n",
            "Requirement already satisfied: pyasn1-modules>=0.2.1 in /usr/local/lib/python3.7/dist-packages (from google-auth<2,>=1.6.3->tensorboard~=2.4->tensorflow==2.4.1) (0.2.8)\n",
            "Requirement already satisfied: rsa<5,>=3.1.4; python_version >= \"3.6\" in /usr/local/lib/python3.7/dist-packages (from google-auth<2,>=1.6.3->tensorboard~=2.4->tensorflow==2.4.1) (4.7.2)\n",
            "Requirement already satisfied: cachetools<5.0,>=2.0.0 in /usr/local/lib/python3.7/dist-packages (from google-auth<2,>=1.6.3->tensorboard~=2.4->tensorflow==2.4.1) (4.2.2)\n",
            "Requirement already satisfied: importlib-metadata; python_version < \"3.8\" in /usr/local/lib/python3.7/dist-packages (from markdown>=2.6.8->tensorboard~=2.4->tensorflow==2.4.1) (4.5.0)\n",
            "Requirement already satisfied: oauthlib>=3.0.0 in /usr/local/lib/python3.7/dist-packages (from requests-oauthlib>=0.7.0->google-auth-oauthlib<0.5,>=0.4.1->tensorboard~=2.4->tensorflow==2.4.1) (3.1.1)\n",
            "Requirement already satisfied: pyasn1<0.5.0,>=0.4.6 in /usr/local/lib/python3.7/dist-packages (from pyasn1-modules>=0.2.1->google-auth<2,>=1.6.3->tensorboard~=2.4->tensorflow==2.4.1) (0.4.8)\n",
            "Requirement already satisfied: zipp>=0.5 in /usr/local/lib/python3.7/dist-packages (from importlib-metadata; python_version < \"3.8\"->markdown>=2.6.8->tensorboard~=2.4->tensorflow==2.4.1) (3.4.1)\n",
            "Installing collected packages: tensorflow-estimator, gast, grpcio, h5py, tensorflow\n",
            "  Found existing installation: tensorflow-estimator 2.5.0\n",
            "    Uninstalling tensorflow-estimator-2.5.0:\n",
            "      Successfully uninstalled tensorflow-estimator-2.5.0\n",
            "  Found existing installation: gast 0.4.0\n",
            "    Uninstalling gast-0.4.0:\n",
            "      Successfully uninstalled gast-0.4.0\n",
            "  Found existing installation: grpcio 1.34.1\n",
            "    Uninstalling grpcio-1.34.1:\n",
            "      Successfully uninstalled grpcio-1.34.1\n",
            "  Found existing installation: h5py 3.1.0\n",
            "    Uninstalling h5py-3.1.0:\n",
            "      Successfully uninstalled h5py-3.1.0\n",
            "  Found existing installation: tensorflow 2.5.0\n",
            "    Uninstalling tensorflow-2.5.0:\n",
            "      Successfully uninstalled tensorflow-2.5.0\n",
            "Successfully installed gast-0.3.3 grpcio-1.32.0 h5py-2.10.0 tensorflow-2.4.1 tensorflow-estimator-2.4.0\n",
            "Collecting tensorflow-quantum\n",
            "\u001b[?25l  Downloading https://files.pythonhosted.org/packages/67/24/43c21d3af4c68198fe1d9cdd3233b94210e384e4861c69aab24d89015336/tensorflow_quantum-0.5.1-cp37-cp37m-manylinux_2_12_x86_64.manylinux2010_x86_64.whl (7.8MB)\n",
            "\u001b[K     |████████████████████████████████| 7.8MB 6.7MB/s \n",
            "\u001b[?25hCollecting googleapis-common-protos==1.52.0\n",
            "\u001b[?25l  Downloading https://files.pythonhosted.org/packages/03/74/3956721ea1eb4bcf7502a311fdaa60b85bd751de4e57d1943afe9b334141/googleapis_common_protos-1.52.0-py2.py3-none-any.whl (100kB)\n",
            "\u001b[K     |████████████████████████████████| 102kB 14.1MB/s \n",
            "\u001b[?25hCollecting sympy==1.5\n",
            "\u001b[?25l  Downloading https://files.pythonhosted.org/packages/4d/a7/25d5d6b3295537ab90bdbcd21e464633fb4a0684dd9a065da404487625bb/sympy-1.5-py2.py3-none-any.whl (5.6MB)\n",
            "\u001b[K     |████████████████████████████████| 5.6MB 29.3MB/s \n",
            "\u001b[?25hCollecting protobuf==3.13.0\n",
            "\u001b[?25l  Downloading https://files.pythonhosted.org/packages/71/dc/5ba56eab7440c62c5f808b4267e2a1d6c136e90293b43fefb1b493c6d704/protobuf-3.13.0-cp37-cp37m-manylinux1_x86_64.whl (1.3MB)\n",
            "\u001b[K     |████████████████████████████████| 1.3MB 40.3MB/s \n",
            "\u001b[?25hCollecting google-api-core==1.21.0\n",
            "\u001b[?25l  Downloading https://files.pythonhosted.org/packages/48/76/bd5e3ebd571b9f688ae123a2bd84b2dc9f75e1214a83b8a759bc16e2fc35/google_api_core-1.21.0-py2.py3-none-any.whl (90kB)\n",
            "\u001b[K     |████████████████████████████████| 92kB 12.2MB/s \n",
            "\u001b[?25hCollecting cirq==0.11.0\n",
            "  Downloading https://files.pythonhosted.org/packages/eb/a1/3458cb4981e648e0167ea160f536d6a0f32d95e9340c7b1a081b9ef79189/cirq-0.11.0-py3-none-any.whl\n",
            "Collecting google-auth==1.18.0\n",
            "\u001b[?25l  Downloading https://files.pythonhosted.org/packages/21/57/d706964a7e4056f3f2244e16705388c11631fbb53d3e2d2a2d0fbc24d470/google_auth-1.18.0-py2.py3-none-any.whl (90kB)\n",
            "\u001b[K     |████████████████████████████████| 92kB 12.6MB/s \n",
            "\u001b[?25hRequirement already satisfied: mpmath>=0.19 in /usr/local/lib/python3.7/dist-packages (from sympy==1.5->tensorflow-quantum) (1.2.1)\n",
            "Requirement already satisfied: six>=1.9 in /usr/local/lib/python3.7/dist-packages (from protobuf==3.13.0->tensorflow-quantum) (1.15.0)\n",
            "Requirement already satisfied: setuptools in /usr/local/lib/python3.7/dist-packages (from protobuf==3.13.0->tensorflow-quantum) (57.0.0)\n",
            "Requirement already satisfied: pytz in /usr/local/lib/python3.7/dist-packages (from google-api-core==1.21.0->tensorflow-quantum) (2018.9)\n",
            "Requirement already satisfied: requests<3.0.0dev,>=2.18.0 in /usr/local/lib/python3.7/dist-packages (from google-api-core==1.21.0->tensorflow-quantum) (2.23.0)\n",
            "Collecting cirq-core==0.11.0\n",
            "\u001b[?25l  Downloading https://files.pythonhosted.org/packages/2f/e1/e1d174f037b3019979114155dcd9257883316bfc105a5fab360e3349d9e7/cirq_core-0.11.0-py3-none-any.whl (1.5MB)\n",
            "\u001b[K     |████████████████████████████████| 1.5MB 45.6MB/s \n",
            "\u001b[?25hCollecting cirq-google==0.11.0\n",
            "\u001b[?25l  Downloading https://files.pythonhosted.org/packages/1e/e5/72b14d2ab702184335884f05e0726f7d824483ebee2d9055b01d1f69841f/cirq_google-0.11.0-py3-none-any.whl (380kB)\n",
            "\u001b[K     |████████████████████████████████| 389kB 47.0MB/s \n",
            "\u001b[?25hRequirement already satisfied: pyasn1-modules>=0.2.1 in /usr/local/lib/python3.7/dist-packages (from google-auth==1.18.0->tensorflow-quantum) (0.2.8)\n",
            "Requirement already satisfied: rsa<5,>=3.1.4; python_version >= \"3\" in /usr/local/lib/python3.7/dist-packages (from google-auth==1.18.0->tensorflow-quantum) (4.7.2)\n",
            "Requirement already satisfied: cachetools<5.0,>=2.0.0 in /usr/local/lib/python3.7/dist-packages (from google-auth==1.18.0->tensorflow-quantum) (4.2.2)\n",
            "Requirement already satisfied: urllib3!=1.25.0,!=1.25.1,<1.26,>=1.21.1 in /usr/local/lib/python3.7/dist-packages (from requests<3.0.0dev,>=2.18.0->google-api-core==1.21.0->tensorflow-quantum) (1.24.3)\n",
            "Requirement already satisfied: idna<3,>=2.5 in /usr/local/lib/python3.7/dist-packages (from requests<3.0.0dev,>=2.18.0->google-api-core==1.21.0->tensorflow-quantum) (2.10)\n",
            "Requirement already satisfied: certifi>=2017.4.17 in /usr/local/lib/python3.7/dist-packages (from requests<3.0.0dev,>=2.18.0->google-api-core==1.21.0->tensorflow-quantum) (2021.5.30)\n",
            "Requirement already satisfied: chardet<4,>=3.0.2 in /usr/local/lib/python3.7/dist-packages (from requests<3.0.0dev,>=2.18.0->google-api-core==1.21.0->tensorflow-quantum) (3.0.4)\n",
            "Requirement already satisfied: scipy in /usr/local/lib/python3.7/dist-packages (from cirq-core==0.11.0->cirq==0.11.0->tensorflow-quantum) (1.4.1)\n",
            "Requirement already satisfied: numpy~=1.16 in /usr/local/lib/python3.7/dist-packages (from cirq-core==0.11.0->cirq==0.11.0->tensorflow-quantum) (1.19.5)\n",
            "Requirement already satisfied: pandas in /usr/local/lib/python3.7/dist-packages (from cirq-core==0.11.0->cirq==0.11.0->tensorflow-quantum) (1.1.5)\n",
            "Requirement already satisfied: networkx~=2.4 in /usr/local/lib/python3.7/dist-packages (from cirq-core==0.11.0->cirq==0.11.0->tensorflow-quantum) (2.5.1)\n",
            "Requirement already satisfied: typing-extensions in /usr/local/lib/python3.7/dist-packages (from cirq-core==0.11.0->cirq==0.11.0->tensorflow-quantum) (3.7.4.3)\n",
            "Requirement already satisfied: tqdm in /usr/local/lib/python3.7/dist-packages (from cirq-core==0.11.0->cirq==0.11.0->tensorflow-quantum) (4.41.1)\n",
            "Requirement already satisfied: matplotlib~=3.0 in /usr/local/lib/python3.7/dist-packages (from cirq-core==0.11.0->cirq==0.11.0->tensorflow-quantum) (3.2.2)\n",
            "Requirement already satisfied: sortedcontainers~=2.0 in /usr/local/lib/python3.7/dist-packages (from cirq-core==0.11.0->cirq==0.11.0->tensorflow-quantum) (2.4.0)\n",
            "Requirement already satisfied: pyasn1<0.5.0,>=0.4.6 in /usr/local/lib/python3.7/dist-packages (from pyasn1-modules>=0.2.1->google-auth==1.18.0->tensorflow-quantum) (0.4.8)\n",
            "Requirement already satisfied: python-dateutil>=2.7.3 in /usr/local/lib/python3.7/dist-packages (from pandas->cirq-core==0.11.0->cirq==0.11.0->tensorflow-quantum) (2.8.1)\n",
            "Requirement already satisfied: decorator<5,>=4.3 in /usr/local/lib/python3.7/dist-packages (from networkx~=2.4->cirq-core==0.11.0->cirq==0.11.0->tensorflow-quantum) (4.4.2)\n",
            "Requirement already satisfied: cycler>=0.10 in /usr/local/lib/python3.7/dist-packages (from matplotlib~=3.0->cirq-core==0.11.0->cirq==0.11.0->tensorflow-quantum) (0.10.0)\n",
            "Requirement already satisfied: kiwisolver>=1.0.1 in /usr/local/lib/python3.7/dist-packages (from matplotlib~=3.0->cirq-core==0.11.0->cirq==0.11.0->tensorflow-quantum) (1.3.1)\n",
            "Requirement already satisfied: pyparsing!=2.0.4,!=2.1.2,!=2.1.6,>=2.0.1 in /usr/local/lib/python3.7/dist-packages (from matplotlib~=3.0->cirq-core==0.11.0->cirq==0.11.0->tensorflow-quantum) (2.4.7)\n",
            "Installing collected packages: protobuf, googleapis-common-protos, sympy, google-auth, google-api-core, cirq-core, cirq-google, cirq, tensorflow-quantum\n",
            "  Found existing installation: protobuf 3.12.4\n",
            "    Uninstalling protobuf-3.12.4:\n",
            "      Successfully uninstalled protobuf-3.12.4\n",
            "  Found existing installation: googleapis-common-protos 1.53.0\n",
            "    Uninstalling googleapis-common-protos-1.53.0:\n",
            "      Successfully uninstalled googleapis-common-protos-1.53.0\n",
            "  Found existing installation: sympy 1.7.1\n",
            "    Uninstalling sympy-1.7.1:\n",
            "      Successfully uninstalled sympy-1.7.1\n",
            "  Found existing installation: google-auth 1.31.0\n",
            "    Uninstalling google-auth-1.31.0:\n",
            "      Successfully uninstalled google-auth-1.31.0\n",
            "  Found existing installation: google-api-core 1.26.3\n",
            "    Uninstalling google-api-core-1.26.3:\n",
            "      Successfully uninstalled google-api-core-1.26.3\n",
            "Successfully installed cirq-0.11.0 cirq-core-0.11.0 cirq-google-0.11.0 google-api-core-1.21.0 google-auth-1.18.0 googleapis-common-protos-1.52.0 protobuf-3.13.0 sympy-1.5 tensorflow-quantum-0.5.1\n"
          ],
          "name": "stdout"
        },
        {
          "output_type": "display_data",
          "data": {
            "application/vnd.colab-display-data+json": {
              "pip_warning": {
                "packages": [
                  "google"
                ]
              }
            }
          },
          "metadata": {
            "tags": []
          }
        }
      ]
    },
    {
      "cell_type": "code",
      "metadata": {
        "id": "1NNxVJ-ZQ8ol"
      },
      "source": [
        "import tensorflow as tf\n",
        "import tensorflow_quantum as tfq\n",
        "\n",
        "import cirq\n",
        "import sympy\n",
        "import numpy as np\n",
        "\n",
        "# visualization tools\n",
        "%matplotlib inline\n",
        "import matplotlib.pyplot as plt\n",
        "from cirq.contrib.svg import SVGCircuit"
      ],
      "execution_count": 2,
      "outputs": []
    },
    {
      "cell_type": "code",
      "metadata": {
        "id": "3bNTMvWoRAos"
      },
      "source": [
        "import pandas as pd"
      ],
      "execution_count": 3,
      "outputs": []
    },
    {
      "cell_type": "code",
      "metadata": {
        "id": "P9wqueHSfDLb"
      },
      "source": [
        "tf.random.set_seed(0)"
      ],
      "execution_count": 4,
      "outputs": []
    },
    {
      "cell_type": "markdown",
      "metadata": {
        "id": "Vao1hcZaU9Yu"
      },
      "source": [
        "## Paper Dataset"
      ]
    },
    {
      "cell_type": "code",
      "metadata": {
        "colab": {
          "base_uri": "https://localhost:8080/"
        },
        "id": "U1LSfarCXCNV",
        "outputId": "314b0055-dc9a-4193-baa1-b849cef78ef3"
      },
      "source": [
        "df_ori = pd.read_excel(\"quantum_data_0609.xlsx\")\n",
        "df_ori = df_ori.values\n",
        "df_ori[:5]"
      ],
      "execution_count": 12,
      "outputs": [
        {
          "output_type": "execute_result",
          "data": {
            "text/plain": [
              "array([[3.4980695 , 0.76083467, 0.        ],\n",
              "       [2.37451737, 0.77046549, 0.        ],\n",
              "       [2.04440154, 0.78009631, 0.        ],\n",
              "       [3.63127413, 0.78009631, 0.        ],\n",
              "       [3.77027027, 0.78009631, 0.        ]])"
            ]
          },
          "metadata": {
            "tags": []
          },
          "execution_count": 12
        }
      ]
    },
    {
      "cell_type": "code",
      "metadata": {
        "id": "VXbCxraYXKJM",
        "colab": {
          "base_uri": "https://localhost:8080/"
        },
        "outputId": "640e1711-d77c-41dd-b6ba-6eb2d5176b1b"
      },
      "source": [
        "data = df_ori[:,[0,1]]\n",
        "data_label = df_ori[:,2]\n",
        "print(data[:5])\n",
        "print(data_label[:5])"
      ],
      "execution_count": 13,
      "outputs": [
        {
          "output_type": "stream",
          "text": [
            "[[3.4980695  0.76083467]\n",
            " [2.37451737 0.77046549]\n",
            " [2.04440154 0.78009631]\n",
            " [3.63127413 0.78009631]\n",
            " [3.77027027 0.78009631]]\n",
            "[0. 0. 0. 0. 0.]\n"
          ],
          "name": "stdout"
        }
      ]
    },
    {
      "cell_type": "markdown",
      "metadata": {
        "id": "Egz8ROrXU0y_"
      },
      "source": [
        "## Dataset distribution"
      ]
    },
    {
      "cell_type": "code",
      "metadata": {
        "colab": {
          "base_uri": "https://localhost:8080/",
          "height": 282
        },
        "id": "Sh5yp631SnHT",
        "outputId": "08156712-523c-481a-ff85-61716da6e21a"
      },
      "source": [
        "plt.scatter(data[data_label==0,0],data[data_label==0,1], marker='o')\n",
        "plt.scatter(data[data_label==1,0],data[data_label==1,1], marker='x')"
      ],
      "execution_count": 14,
      "outputs": [
        {
          "output_type": "execute_result",
          "data": {
            "text/plain": [
              "<matplotlib.collections.PathCollection at 0x7fd9dadc3910>"
            ]
          },
          "metadata": {
            "tags": []
          },
          "execution_count": 14
        },
        {
          "output_type": "display_data",
          "data": {
            "image/png": "[encoded data removed]",
            "text/plain": [
              "<Figure size 432x288 with 1 Axes>"
            ]
          },
          "metadata": {
            "tags": [],
            "needs_background": "light"
          }
        }
      ]
    },
    {
      "cell_type": "code",
      "metadata": {
        "colab": {
          "base_uri": "https://localhost:8080/"
        },
        "id": "hL6fJ53zSicz",
        "outputId": "f0732264-63f0-417b-e87e-6f777eafcd80"
      },
      "source": [
        "input_data = (data[:,0]-data[:,1])**2\n",
        "input_data = input_data.flatten()\n",
        "label = data_label.flatten()\n",
        "\n",
        "idx = np.random.permutation(len(label))\n",
        "input_data,label = input_data[idx], label[idx]\n",
        "\n",
        "q0, q1 = cirq.GridQubit.rect(1, 2)\n",
        "q_data =[cirq.Circuit(\n",
        "        cirq.ry(i)(q0),\n",
        "        cirq.ry(i)(q1)) for i in input_data] \n",
        "print(q_data[:5])\n",
        "q_data = tfq.convert_to_tensor(q_data)\n",
        "\n",
        "n = label.shape[0]//5*4\n",
        "n1 = label.shape[0]//10*9\n",
        "print(n)\n",
        "\n",
        "x_train = q_data[:n]\n",
        "y_train = label[:n]\n",
        "x_val = q_data[n:n1]\n",
        "y_val = label[n:n1]\n",
        "x_test = q_data[n1:]\n",
        "y_test = label[n1:]"
      ],
      "execution_count": 15,
      "outputs": [
        {
          "output_type": "stream",
          "text": [
            "[cirq.Circuit([\n",
            "    cirq.Moment(\n",
            "        cirq.Ry(rads=5.4425888123631205).on(cirq.GridQubit(0, 0)),\n",
            "        cirq.Ry(rads=5.4425888123631205).on(cirq.GridQubit(0, 1)),\n",
            "    ),\n",
            "]), cirq.Circuit([\n",
            "    cirq.Moment(\n",
            "        cirq.Ry(rads=5.824649616524865).on(cirq.GridQubit(0, 0)),\n",
            "        cirq.Ry(rads=5.824649616524865).on(cirq.GridQubit(0, 1)),\n",
            "    ),\n",
            "]), cirq.Circuit([\n",
            "    cirq.Moment(\n",
            "        cirq.Ry(rads=5.205072703989642).on(cirq.GridQubit(0, 0)),\n",
            "        cirq.Ry(rads=5.205072703989642).on(cirq.GridQubit(0, 1)),\n",
            "    ),\n",
            "]), cirq.Circuit([\n",
            "    cirq.Moment(\n",
            "        cirq.Ry(rads=1.6748857935462682).on(cirq.GridQubit(0, 0)),\n",
            "        cirq.Ry(rads=1.6748857935462682).on(cirq.GridQubit(0, 1)),\n",
            "    ),\n",
            "]), cirq.Circuit([\n",
            "    cirq.Moment(\n",
            "        cirq.Ry(rads=10.304041513882995).on(cirq.GridQubit(0, 0)),\n",
            "        cirq.Ry(rads=10.304041513882995).on(cirq.GridQubit(0, 1)),\n",
            "    ),\n",
            "])]\n",
            "964\n"
          ],
          "name": "stdout"
        }
      ]
    },
    {
      "cell_type": "code",
      "metadata": {
        "colab": {
          "base_uri": "https://localhost:8080/",
          "height": 121
        },
        "id": "joYfniguSo6D",
        "outputId": "b0218fad-eefe-4026-f4ef-b96b9f37d3e4"
      },
      "source": [
        "theta1 = sympy.Symbol('theta1')\n",
        "theta2 = sympy.Symbol('theta2')\n",
        "theta3 = sympy.Symbol('theta3')\n",
        "theta4 = sympy.Symbol('theta4')\n",
        "circuit = cirq.Circuit(\n",
        "    cirq.ry(theta1).on(q0),\n",
        "    cirq.ry(theta2).on(q1), cirq.CZ(q0, q1),\n",
        "    cirq.ry(theta3).on(q0),\n",
        "    cirq.ry(theta4).on(q1), cirq.CZ(q0, q1))\n",
        "SVGCircuit(circuit)"
      ],
      "execution_count": 16,
      "outputs": [
        {
          "output_type": "execute_result",
          "data": {
            "text/plain": [
              "<cirq.contrib.svg.svg.SVGCircuit at 0x7fd9d820e210>"
            ],
            "image/svg+xml": "<svg xmlns=\"http://www.w3.org/2000/svg\" width=\"432.599921875\" height=\"100.0\"><line x1=\"34.7588671875\" x2=\"402.599921875\" y1=\"25.0\" y2=\"25.0\" stroke=\"#1967d2\" stroke-width=\"1\" /><line x1=\"34.7588671875\" x2=\"402.599921875\" y1=\"75.0\" y2=\"75.0\" stroke=\"#1967d2\" stroke-width=\"1\" /><line x1=\"201.058828125\" x2=\"201.058828125\" y1=\"25.0\" y2=\"75.0\" stroke=\"black\" stroke-width=\"3\" /><line x1=\"362.599921875\" x2=\"362.599921875\" y1=\"25.0\" y2=\"75.0\" stroke=\"black\" stroke-width=\"3\" /><rect x=\"10.0\" y=\"5.0\" width=\"49.517734375\" height=\"40\" stroke=\"black\" fill=\"white\" stroke-width=\"0\" /><text x=\"34.7588671875\" y=\"25.0\" dominant-baseline=\"middle\" text-anchor=\"middle\" font-size=\"14px\" font-family=\"Arial\">(0, 0): </text><rect x=\"10.0\" y=\"55.0\" width=\"49.517734375\" height=\"40\" stroke=\"black\" fill=\"white\" stroke-width=\"0\" /><text x=\"34.7588671875\" y=\"75.0\" dominant-baseline=\"middle\" text-anchor=\"middle\" font-size=\"14px\" font-family=\"Arial\">(0, 1): </text><rect x=\"79.517734375\" y=\"5.0\" width=\"81.54109375\" height=\"40\" stroke=\"black\" fill=\"white\" stroke-width=\"1\" /><text x=\"120.28828125000001\" y=\"25.0\" dominant-baseline=\"middle\" text-anchor=\"middle\" font-size=\"14px\" font-family=\"Arial\">Ry(theta1)</text><rect x=\"79.517734375\" y=\"55.0\" width=\"81.54109375\" height=\"40\" stroke=\"black\" fill=\"white\" stroke-width=\"1\" /><text x=\"120.28828125000001\" y=\"75.0\" dominant-baseline=\"middle\" text-anchor=\"middle\" font-size=\"14px\" font-family=\"Arial\">Ry(theta2)</text><circle cx=\"201.058828125\" cy=\"25.0\" r=\"10.0\" /><circle cx=\"201.058828125\" cy=\"75.0\" r=\"10.0\" /><rect x=\"241.05882812499996\" y=\"5.0\" width=\"81.54109375\" height=\"40\" stroke=\"black\" fill=\"white\" stroke-width=\"1\" /><text x=\"281.82937499999997\" y=\"25.0\" dominant-baseline=\"middle\" text-anchor=\"middle\" font-size=\"14px\" font-family=\"Arial\">Ry(theta3)</text><rect x=\"241.05882812499996\" y=\"55.0\" width=\"81.54109375\" height=\"40\" stroke=\"black\" fill=\"white\" stroke-width=\"1\" /><text x=\"281.82937499999997\" y=\"75.0\" dominant-baseline=\"middle\" text-anchor=\"middle\" font-size=\"14px\" font-family=\"Arial\">Ry(theta4)</text><circle cx=\"362.599921875\" cy=\"25.0\" r=\"10.0\" /><circle cx=\"362.599921875\" cy=\"75.0\" r=\"10.0\" /></svg>"
          },
          "metadata": {
            "tags": []
          },
          "execution_count": 16
        }
      ]
    },
    {
      "cell_type": "code",
      "metadata": {
        "colab": {
          "base_uri": "https://localhost:8080/"
        },
        "id": "335_l2DPS_CE",
        "outputId": "46467cb5-3fc5-4e5a-dd5f-d9851d230d3d"
      },
      "source": [
        "# 建立量子層和經典全連接層\n",
        "q_layer = tfq.layers.PQC(circuit, [cirq.Z(q0), cirq.Z(q1)])\n",
        "dense_layer = tf.keras.layers.Dense(1, activation=\"sigmoid\")\n",
        "# 使用Keras建立訓練流程。量子資料首先通過PQC，然後通過經典的全連接模型\n",
        "q_data_input = tf.keras.Input(shape=() ,dtype=tf.dtypes.string)\n",
        "expectation_output = q_layer(q_data_input)\n",
        "classifier_output = dense_layer(expectation_output)\n",
        "\n",
        "model = tf.keras.Model(inputs=q_data_input, outputs=classifier_output)\n",
        "print(model.summary())\n",
        "# 編譯模型，指定優化器、損失函數和評估指標，並進行訓練\n",
        "model.compile(\n",
        "    optimizer = \"adam\",\n",
        "    loss = \"mse\",\n",
        "    metrics=['accuracy','AUC']\n",
        ")"
      ],
      "execution_count": 17,
      "outputs": [
        {
          "output_type": "stream",
          "text": [
            "Model: \"model_1\"\n",
            "_________________________________________________________________\n",
            "Layer (type)                 Output Shape              Param #   \n",
            "=================================================================\n",
            "input_2 (InputLayer)         [(None,)]                 0         \n",
            "_________________________________________________________________\n",
            "pqc_1 (PQC)                  (None, 2)                 4         \n",
            "_________________________________________________________________\n",
            "dense_1 (Dense)              (None, 1)                 3         \n",
            "=================================================================\n",
            "Total params: 7\n",
            "Trainable params: 7\n",
            "Non-trainable params: 0\n",
            "_________________________________________________________________\n",
            "None\n"
          ],
          "name": "stdout"
        }
      ]
    },
    {
      "cell_type": "code",
      "metadata": {
        "colab": {
          "base_uri": "https://localhost:8080/"
        },
        "id": "ojTbMWXXTDrt",
        "outputId": "6faef5e2-e624-49cd-d4b6-48e4d20f25b4"
      },
      "source": [
        "model.fit(x=x_train, y=y_train, epochs=100,validation_data=(x_val,y_val))\n",
        "\n",
        "# 輸出量子層參數（即theta）的訓練結果\n",
        "print(q_layer.get_weights())"
      ],
      "execution_count": 18,
      "outputs": [
        {
          "output_type": "stream",
          "text": [
            "Epoch 1/100\n",
            "31/31 [==============================] - 1s 20ms/step - loss: 0.1429 - accuracy: 0.8310 - auc: 0.9559 - val_loss: 0.1283 - val_accuracy: 0.8621 - val_auc: 0.9626\n",
            "Epoch 2/100\n",
            "31/31 [==============================] - 0s 12ms/step - loss: 0.1314 - accuracy: 0.8445 - auc: 0.9655 - val_loss: 0.1199 - val_accuracy: 0.8621 - val_auc: 0.9683\n",
            "Epoch 3/100\n",
            "31/31 [==============================] - 0s 12ms/step - loss: 0.1259 - accuracy: 0.8366 - auc: 0.9716 - val_loss: 0.1122 - val_accuracy: 0.8793 - val_auc: 0.9755\n",
            "Epoch 4/100\n",
            "31/31 [==============================] - 0s 12ms/step - loss: 0.1199 - accuracy: 0.8422 - auc: 0.9764 - val_loss: 0.1049 - val_accuracy: 0.8966 - val_auc: 0.9846\n",
            "Epoch 5/100\n",
            "31/31 [==============================] - 0s 12ms/step - loss: 0.1117 - accuracy: 0.8604 - auc: 0.9843 - val_loss: 0.0982 - val_accuracy: 0.8966 - val_auc: 0.9889\n",
            "Epoch 6/100\n",
            "31/31 [==============================] - 0s 11ms/step - loss: 0.0984 - accuracy: 0.8930 - auc: 0.9924 - val_loss: 0.0918 - val_accuracy: 0.9052 - val_auc: 0.9932\n",
            "Epoch 7/100\n",
            "31/31 [==============================] - 0s 12ms/step - loss: 0.0996 - accuracy: 0.8868 - auc: 0.9946 - val_loss: 0.0859 - val_accuracy: 0.9052 - val_auc: 0.9977\n",
            "Epoch 8/100\n",
            "31/31 [==============================] - 0s 12ms/step - loss: 0.0918 - accuracy: 0.9078 - auc: 0.9950 - val_loss: 0.0805 - val_accuracy: 0.9138 - val_auc: 0.9993\n",
            "Epoch 9/100\n",
            "31/31 [==============================] - 0s 11ms/step - loss: 0.0897 - accuracy: 0.8952 - auc: 0.9981 - val_loss: 0.0754 - val_accuracy: 0.9138 - val_auc: 1.0000\n",
            "Epoch 10/100\n",
            "31/31 [==============================] - 0s 12ms/step - loss: 0.0801 - accuracy: 0.9168 - auc: 0.9993 - val_loss: 0.0708 - val_accuracy: 0.9138 - val_auc: 1.0000\n",
            "Epoch 11/100\n",
            "31/31 [==============================] - 0s 12ms/step - loss: 0.0739 - accuracy: 0.9351 - auc: 0.9998 - val_loss: 0.0665 - val_accuracy: 0.9138 - val_auc: 1.0000\n",
            "Epoch 12/100\n",
            "31/31 [==============================] - 0s 12ms/step - loss: 0.0675 - accuracy: 0.9350 - auc: 1.0000 - val_loss: 0.0624 - val_accuracy: 0.9310 - val_auc: 1.0000\n",
            "Epoch 13/100\n",
            "31/31 [==============================] - 0s 12ms/step - loss: 0.0664 - accuracy: 0.9403 - auc: 1.0000 - val_loss: 0.0587 - val_accuracy: 0.9397 - val_auc: 1.0000\n",
            "Epoch 14/100\n",
            "31/31 [==============================] - 0s 12ms/step - loss: 0.0652 - accuracy: 0.9431 - auc: 1.0000 - val_loss: 0.0554 - val_accuracy: 0.9397 - val_auc: 1.0000\n",
            "Epoch 15/100\n",
            "31/31 [==============================] - 0s 11ms/step - loss: 0.0575 - accuracy: 0.9668 - auc: 1.0000 - val_loss: 0.0523 - val_accuracy: 0.9569 - val_auc: 1.0000\n",
            "Epoch 16/100\n",
            "31/31 [==============================] - 0s 12ms/step - loss: 0.0593 - accuracy: 0.9572 - auc: 1.0000 - val_loss: 0.0494 - val_accuracy: 0.9655 - val_auc: 1.0000\n",
            "Epoch 17/100\n",
            "31/31 [==============================] - 0s 12ms/step - loss: 0.0533 - accuracy: 0.9653 - auc: 1.0000 - val_loss: 0.0468 - val_accuracy: 0.9741 - val_auc: 1.0000\n",
            "Epoch 18/100\n",
            "31/31 [==============================] - 0s 12ms/step - loss: 0.0479 - accuracy: 0.9682 - auc: 1.0000 - val_loss: 0.0444 - val_accuracy: 0.9741 - val_auc: 1.0000\n",
            "Epoch 19/100\n",
            "31/31 [==============================] - 0s 11ms/step - loss: 0.0473 - accuracy: 0.9780 - auc: 1.0000 - val_loss: 0.0422 - val_accuracy: 0.9741 - val_auc: 1.0000\n",
            "Epoch 20/100\n",
            "31/31 [==============================] - 0s 12ms/step - loss: 0.0447 - accuracy: 0.9795 - auc: 1.0000 - val_loss: 0.0402 - val_accuracy: 0.9741 - val_auc: 1.0000\n",
            "Epoch 21/100\n",
            "31/31 [==============================] - 0s 12ms/step - loss: 0.0422 - accuracy: 0.9800 - auc: 1.0000 - val_loss: 0.0383 - val_accuracy: 0.9741 - val_auc: 1.0000\n",
            "Epoch 22/100\n",
            "31/31 [==============================] - 0s 13ms/step - loss: 0.0402 - accuracy: 0.9842 - auc: 1.0000 - val_loss: 0.0366 - val_accuracy: 0.9828 - val_auc: 1.0000\n",
            "Epoch 23/100\n",
            "31/31 [==============================] - 0s 12ms/step - loss: 0.0371 - accuracy: 0.9899 - auc: 1.0000 - val_loss: 0.0350 - val_accuracy: 0.9828 - val_auc: 1.0000\n",
            "Epoch 24/100\n",
            "31/31 [==============================] - 0s 12ms/step - loss: 0.0349 - accuracy: 0.9885 - auc: 1.0000 - val_loss: 0.0334 - val_accuracy: 0.9828 - val_auc: 1.0000\n",
            "Epoch 25/100\n",
            "31/31 [==============================] - 0s 12ms/step - loss: 0.0369 - accuracy: 0.9832 - auc: 1.0000 - val_loss: 0.0320 - val_accuracy: 0.9828 - val_auc: 1.0000\n",
            "Epoch 26/100\n",
            "31/31 [==============================] - 0s 12ms/step - loss: 0.0342 - accuracy: 0.9861 - auc: 1.0000 - val_loss: 0.0308 - val_accuracy: 0.9914 - val_auc: 1.0000\n",
            "Epoch 27/100\n",
            "31/31 [==============================] - 0s 12ms/step - loss: 0.0326 - accuracy: 0.9939 - auc: 1.0000 - val_loss: 0.0296 - val_accuracy: 1.0000 - val_auc: 1.0000\n",
            "Epoch 28/100\n",
            "31/31 [==============================] - 0s 12ms/step - loss: 0.0324 - accuracy: 0.9922 - auc: 1.0000 - val_loss: 0.0285 - val_accuracy: 1.0000 - val_auc: 1.0000\n",
            "Epoch 29/100\n",
            "31/31 [==============================] - 0s 11ms/step - loss: 0.0290 - accuracy: 0.9935 - auc: 1.0000 - val_loss: 0.0275 - val_accuracy: 1.0000 - val_auc: 1.0000\n",
            "Epoch 30/100\n",
            "31/31 [==============================] - 0s 12ms/step - loss: 0.0275 - accuracy: 0.9915 - auc: 1.0000 - val_loss: 0.0265 - val_accuracy: 1.0000 - val_auc: 1.0000\n",
            "Epoch 31/100\n",
            "31/31 [==============================] - 0s 11ms/step - loss: 0.0284 - accuracy: 0.9940 - auc: 1.0000 - val_loss: 0.0256 - val_accuracy: 1.0000 - val_auc: 1.0000\n",
            "Epoch 32/100\n",
            "31/31 [==============================] - 0s 12ms/step - loss: 0.0262 - accuracy: 0.9951 - auc: 1.0000 - val_loss: 0.0248 - val_accuracy: 1.0000 - val_auc: 1.0000\n",
            "Epoch 33/100\n",
            "31/31 [==============================] - 0s 12ms/step - loss: 0.0254 - accuracy: 0.9922 - auc: 1.0000 - val_loss: 0.0240 - val_accuracy: 1.0000 - val_auc: 1.0000\n",
            "Epoch 34/100\n",
            "31/31 [==============================] - 0s 12ms/step - loss: 0.0238 - accuracy: 0.9961 - auc: 1.0000 - val_loss: 0.0233 - val_accuracy: 1.0000 - val_auc: 1.0000\n",
            "Epoch 35/100\n",
            "31/31 [==============================] - 0s 12ms/step - loss: 0.0217 - accuracy: 0.9972 - auc: 1.0000 - val_loss: 0.0226 - val_accuracy: 1.0000 - val_auc: 1.0000\n",
            "Epoch 36/100\n",
            "31/31 [==============================] - 0s 12ms/step - loss: 0.0237 - accuracy: 0.9975 - auc: 1.0000 - val_loss: 0.0219 - val_accuracy: 1.0000 - val_auc: 1.0000\n",
            "Epoch 37/100\n",
            "31/31 [==============================] - 0s 12ms/step - loss: 0.0226 - accuracy: 0.9992 - auc: 1.0000 - val_loss: 0.0213 - val_accuracy: 1.0000 - val_auc: 1.0000\n",
            "Epoch 38/100\n",
            "31/31 [==============================] - 0s 12ms/step - loss: 0.0212 - accuracy: 0.9984 - auc: 1.0000 - val_loss: 0.0207 - val_accuracy: 1.0000 - val_auc: 1.0000\n",
            "Epoch 39/100\n",
            "31/31 [==============================] - 0s 12ms/step - loss: 0.0213 - accuracy: 0.9954 - auc: 1.0000 - val_loss: 0.0201 - val_accuracy: 1.0000 - val_auc: 1.0000\n",
            "Epoch 40/100\n",
            "31/31 [==============================] - 0s 12ms/step - loss: 0.0209 - accuracy: 0.9995 - auc: 1.0000 - val_loss: 0.0196 - val_accuracy: 1.0000 - val_auc: 1.0000\n",
            "Epoch 41/100\n",
            "31/31 [==============================] - 0s 12ms/step - loss: 0.0196 - accuracy: 0.9991 - auc: 1.0000 - val_loss: 0.0191 - val_accuracy: 1.0000 - val_auc: 1.0000\n",
            "Epoch 42/100\n",
            "31/31 [==============================] - 0s 12ms/step - loss: 0.0175 - accuracy: 0.9996 - auc: 1.0000 - val_loss: 0.0186 - val_accuracy: 1.0000 - val_auc: 1.0000\n",
            "Epoch 43/100\n",
            "31/31 [==============================] - 0s 12ms/step - loss: 0.0195 - accuracy: 0.9987 - auc: 1.0000 - val_loss: 0.0181 - val_accuracy: 1.0000 - val_auc: 1.0000\n",
            "Epoch 44/100\n",
            "31/31 [==============================] - 0s 12ms/step - loss: 0.0191 - accuracy: 0.9991 - auc: 1.0000 - val_loss: 0.0177 - val_accuracy: 1.0000 - val_auc: 1.0000\n",
            "Epoch 45/100\n",
            "31/31 [==============================] - 0s 12ms/step - loss: 0.0185 - accuracy: 0.9978 - auc: 1.0000 - val_loss: 0.0173 - val_accuracy: 1.0000 - val_auc: 1.0000\n",
            "Epoch 46/100\n",
            "31/31 [==============================] - 0s 12ms/step - loss: 0.0170 - accuracy: 0.9989 - auc: 1.0000 - val_loss: 0.0169 - val_accuracy: 1.0000 - val_auc: 1.0000\n",
            "Epoch 47/100\n",
            "31/31 [==============================] - 0s 12ms/step - loss: 0.0155 - accuracy: 0.9993 - auc: 1.0000 - val_loss: 0.0165 - val_accuracy: 1.0000 - val_auc: 1.0000\n",
            "Epoch 48/100\n",
            "31/31 [==============================] - 0s 13ms/step - loss: 0.0157 - accuracy: 0.9987 - auc: 1.0000 - val_loss: 0.0161 - val_accuracy: 1.0000 - val_auc: 1.0000\n",
            "Epoch 49/100\n",
            "31/31 [==============================] - 0s 12ms/step - loss: 0.0149 - accuracy: 0.9998 - auc: 1.0000 - val_loss: 0.0157 - val_accuracy: 1.0000 - val_auc: 1.0000\n",
            "Epoch 50/100\n",
            "31/31 [==============================] - 0s 12ms/step - loss: 0.0154 - accuracy: 0.9996 - auc: 1.0000 - val_loss: 0.0154 - val_accuracy: 1.0000 - val_auc: 1.0000\n",
            "Epoch 51/100\n",
            "31/31 [==============================] - 0s 12ms/step - loss: 0.0147 - accuracy: 0.9998 - auc: 1.0000 - val_loss: 0.0150 - val_accuracy: 1.0000 - val_auc: 1.0000\n",
            "Epoch 52/100\n",
            "31/31 [==============================] - 0s 12ms/step - loss: 0.0153 - accuracy: 0.9994 - auc: 1.0000 - val_loss: 0.0147 - val_accuracy: 1.0000 - val_auc: 1.0000\n",
            "Epoch 53/100\n",
            "31/31 [==============================] - 0s 11ms/step - loss: 0.0145 - accuracy: 1.0000 - auc: 1.0000 - val_loss: 0.0144 - val_accuracy: 1.0000 - val_auc: 1.0000\n",
            "Epoch 54/100\n",
            "31/31 [==============================] - 0s 12ms/step - loss: 0.0150 - accuracy: 1.0000 - auc: 1.0000 - val_loss: 0.0141 - val_accuracy: 1.0000 - val_auc: 1.0000\n",
            "Epoch 55/100\n",
            "31/31 [==============================] - 0s 12ms/step - loss: 0.0155 - accuracy: 1.0000 - auc: 1.0000 - val_loss: 0.0138 - val_accuracy: 1.0000 - val_auc: 1.0000\n",
            "Epoch 56/100\n",
            "31/31 [==============================] - 0s 12ms/step - loss: 0.0148 - accuracy: 1.0000 - auc: 1.0000 - val_loss: 0.0135 - val_accuracy: 1.0000 - val_auc: 1.0000\n",
            "Epoch 57/100\n",
            "31/31 [==============================] - 0s 12ms/step - loss: 0.0137 - accuracy: 1.0000 - auc: 1.0000 - val_loss: 0.0133 - val_accuracy: 1.0000 - val_auc: 1.0000\n",
            "Epoch 58/100\n",
            "31/31 [==============================] - 0s 11ms/step - loss: 0.0132 - accuracy: 1.0000 - auc: 1.0000 - val_loss: 0.0130 - val_accuracy: 1.0000 - val_auc: 1.0000\n",
            "Epoch 59/100\n",
            "31/31 [==============================] - 0s 12ms/step - loss: 0.0123 - accuracy: 1.0000 - auc: 1.0000 - val_loss: 0.0128 - val_accuracy: 1.0000 - val_auc: 1.0000\n",
            "Epoch 60/100\n",
            "31/31 [==============================] - 0s 12ms/step - loss: 0.0123 - accuracy: 1.0000 - auc: 1.0000 - val_loss: 0.0125 - val_accuracy: 1.0000 - val_auc: 1.0000\n",
            "Epoch 61/100\n",
            "31/31 [==============================] - 0s 12ms/step - loss: 0.0117 - accuracy: 1.0000 - auc: 1.0000 - val_loss: 0.0123 - val_accuracy: 1.0000 - val_auc: 1.0000\n",
            "Epoch 62/100\n",
            "31/31 [==============================] - 0s 12ms/step - loss: 0.0122 - accuracy: 1.0000 - auc: 1.0000 - val_loss: 0.0121 - val_accuracy: 1.0000 - val_auc: 1.0000\n",
            "Epoch 63/100\n",
            "31/31 [==============================] - 0s 12ms/step - loss: 0.0121 - accuracy: 1.0000 - auc: 1.0000 - val_loss: 0.0118 - val_accuracy: 1.0000 - val_auc: 1.0000\n",
            "Epoch 64/100\n",
            "31/31 [==============================] - 0s 12ms/step - loss: 0.0113 - accuracy: 1.0000 - auc: 1.0000 - val_loss: 0.0116 - val_accuracy: 1.0000 - val_auc: 1.0000\n",
            "Epoch 65/100\n",
            "31/31 [==============================] - 0s 12ms/step - loss: 0.0122 - accuracy: 1.0000 - auc: 1.0000 - val_loss: 0.0114 - val_accuracy: 1.0000 - val_auc: 1.0000\n",
            "Epoch 66/100\n",
            "31/31 [==============================] - 0s 11ms/step - loss: 0.0121 - accuracy: 1.0000 - auc: 1.0000 - val_loss: 0.0112 - val_accuracy: 1.0000 - val_auc: 1.0000\n",
            "Epoch 67/100\n",
            "31/31 [==============================] - 0s 12ms/step - loss: 0.0120 - accuracy: 1.0000 - auc: 1.0000 - val_loss: 0.0110 - val_accuracy: 1.0000 - val_auc: 1.0000\n",
            "Epoch 68/100\n",
            "31/31 [==============================] - 0s 12ms/step - loss: 0.0113 - accuracy: 1.0000 - auc: 1.0000 - val_loss: 0.0108 - val_accuracy: 1.0000 - val_auc: 1.0000\n",
            "Epoch 69/100\n",
            "31/31 [==============================] - 0s 12ms/step - loss: 0.0102 - accuracy: 1.0000 - auc: 1.0000 - val_loss: 0.0106 - val_accuracy: 1.0000 - val_auc: 1.0000\n",
            "Epoch 70/100\n",
            "31/31 [==============================] - 0s 12ms/step - loss: 0.0095 - accuracy: 1.0000 - auc: 1.0000 - val_loss: 0.0104 - val_accuracy: 1.0000 - val_auc: 1.0000\n",
            "Epoch 71/100\n",
            "31/31 [==============================] - 0s 12ms/step - loss: 0.0101 - accuracy: 1.0000 - auc: 1.0000 - val_loss: 0.0103 - val_accuracy: 1.0000 - val_auc: 1.0000\n",
            "Epoch 72/100\n",
            "31/31 [==============================] - 0s 12ms/step - loss: 0.0096 - accuracy: 1.0000 - auc: 1.0000 - val_loss: 0.0101 - val_accuracy: 1.0000 - val_auc: 1.0000\n",
            "Epoch 73/100\n",
            "31/31 [==============================] - 0s 12ms/step - loss: 0.0115 - accuracy: 1.0000 - auc: 1.0000 - val_loss: 0.0099 - val_accuracy: 1.0000 - val_auc: 1.0000\n",
            "Epoch 74/100\n",
            "31/31 [==============================] - 0s 12ms/step - loss: 0.0107 - accuracy: 1.0000 - auc: 1.0000 - val_loss: 0.0097 - val_accuracy: 1.0000 - val_auc: 1.0000\n",
            "Epoch 75/100\n",
            "31/31 [==============================] - 0s 12ms/step - loss: 0.0103 - accuracy: 1.0000 - auc: 1.0000 - val_loss: 0.0096 - val_accuracy: 1.0000 - val_auc: 1.0000\n",
            "Epoch 76/100\n",
            "31/31 [==============================] - 0s 12ms/step - loss: 0.0097 - accuracy: 1.0000 - auc: 1.0000 - val_loss: 0.0094 - val_accuracy: 1.0000 - val_auc: 1.0000\n",
            "Epoch 77/100\n",
            "31/31 [==============================] - 0s 12ms/step - loss: 0.0094 - accuracy: 1.0000 - auc: 1.0000 - val_loss: 0.0093 - val_accuracy: 1.0000 - val_auc: 1.0000\n",
            "Epoch 78/100\n",
            "31/31 [==============================] - 0s 12ms/step - loss: 0.0090 - accuracy: 1.0000 - auc: 1.0000 - val_loss: 0.0091 - val_accuracy: 1.0000 - val_auc: 1.0000\n",
            "Epoch 79/100\n",
            "31/31 [==============================] - 0s 12ms/step - loss: 0.0094 - accuracy: 1.0000 - auc: 1.0000 - val_loss: 0.0090 - val_accuracy: 1.0000 - val_auc: 1.0000\n",
            "Epoch 80/100\n",
            "31/31 [==============================] - 0s 11ms/step - loss: 0.0100 - accuracy: 1.0000 - auc: 1.0000 - val_loss: 0.0088 - val_accuracy: 1.0000 - val_auc: 1.0000\n",
            "Epoch 81/100\n",
            "31/31 [==============================] - 0s 12ms/step - loss: 0.0092 - accuracy: 1.0000 - auc: 1.0000 - val_loss: 0.0087 - val_accuracy: 1.0000 - val_auc: 1.0000\n",
            "Epoch 82/100\n",
            "31/31 [==============================] - 0s 11ms/step - loss: 0.0091 - accuracy: 1.0000 - auc: 1.0000 - val_loss: 0.0086 - val_accuracy: 1.0000 - val_auc: 1.0000\n",
            "Epoch 83/100\n",
            "31/31 [==============================] - 0s 12ms/step - loss: 0.0078 - accuracy: 1.0000 - auc: 1.0000 - val_loss: 0.0084 - val_accuracy: 1.0000 - val_auc: 1.0000\n",
            "Epoch 84/100\n",
            "31/31 [==============================] - 0s 12ms/step - loss: 0.0084 - accuracy: 1.0000 - auc: 1.0000 - val_loss: 0.0083 - val_accuracy: 1.0000 - val_auc: 1.0000\n",
            "Epoch 85/100\n",
            "31/31 [==============================] - 0s 12ms/step - loss: 0.0075 - accuracy: 1.0000 - auc: 1.0000 - val_loss: 0.0082 - val_accuracy: 1.0000 - val_auc: 1.0000\n",
            "Epoch 86/100\n",
            "31/31 [==============================] - 0s 12ms/step - loss: 0.0096 - accuracy: 1.0000 - auc: 1.0000 - val_loss: 0.0080 - val_accuracy: 1.0000 - val_auc: 1.0000\n",
            "Epoch 87/100\n",
            "31/31 [==============================] - 0s 12ms/step - loss: 0.0077 - accuracy: 1.0000 - auc: 1.0000 - val_loss: 0.0079 - val_accuracy: 1.0000 - val_auc: 1.0000\n",
            "Epoch 88/100\n",
            "31/31 [==============================] - 0s 11ms/step - loss: 0.0086 - accuracy: 1.0000 - auc: 1.0000 - val_loss: 0.0078 - val_accuracy: 1.0000 - val_auc: 1.0000\n",
            "Epoch 89/100\n",
            "31/31 [==============================] - 0s 12ms/step - loss: 0.0089 - accuracy: 1.0000 - auc: 1.0000 - val_loss: 0.0077 - val_accuracy: 1.0000 - val_auc: 1.0000\n",
            "Epoch 90/100\n",
            "31/31 [==============================] - 0s 11ms/step - loss: 0.0071 - accuracy: 1.0000 - auc: 1.0000 - val_loss: 0.0076 - val_accuracy: 1.0000 - val_auc: 1.0000\n",
            "Epoch 91/100\n",
            "31/31 [==============================] - 0s 12ms/step - loss: 0.0069 - accuracy: 1.0000 - auc: 1.0000 - val_loss: 0.0074 - val_accuracy: 1.0000 - val_auc: 1.0000\n",
            "Epoch 92/100\n",
            "31/31 [==============================] - 0s 12ms/step - loss: 0.0081 - accuracy: 1.0000 - auc: 1.0000 - val_loss: 0.0073 - val_accuracy: 1.0000 - val_auc: 1.0000\n",
            "Epoch 93/100\n",
            "31/31 [==============================] - 0s 12ms/step - loss: 0.0068 - accuracy: 1.0000 - auc: 1.0000 - val_loss: 0.0072 - val_accuracy: 1.0000 - val_auc: 1.0000\n",
            "Epoch 94/100\n",
            "31/31 [==============================] - 0s 12ms/step - loss: 0.0087 - accuracy: 1.0000 - auc: 1.0000 - val_loss: 0.0071 - val_accuracy: 1.0000 - val_auc: 1.0000\n",
            "Epoch 95/100\n",
            "31/31 [==============================] - 0s 12ms/step - loss: 0.0068 - accuracy: 1.0000 - auc: 1.0000 - val_loss: 0.0070 - val_accuracy: 1.0000 - val_auc: 1.0000\n",
            "Epoch 96/100\n",
            "31/31 [==============================] - 0s 12ms/step - loss: 0.0076 - accuracy: 1.0000 - auc: 1.0000 - val_loss: 0.0069 - val_accuracy: 1.0000 - val_auc: 1.0000\n",
            "Epoch 97/100\n",
            "31/31 [==============================] - 0s 12ms/step - loss: 0.0073 - accuracy: 1.0000 - auc: 1.0000 - val_loss: 0.0068 - val_accuracy: 1.0000 - val_auc: 1.0000\n",
            "Epoch 98/100\n",
            "31/31 [==============================] - 0s 13ms/step - loss: 0.0073 - accuracy: 1.0000 - auc: 1.0000 - val_loss: 0.0067 - val_accuracy: 1.0000 - val_auc: 1.0000\n",
            "Epoch 99/100\n",
            "31/31 [==============================] - 0s 12ms/step - loss: 0.0073 - accuracy: 1.0000 - auc: 1.0000 - val_loss: 0.0066 - val_accuracy: 1.0000 - val_auc: 1.0000\n",
            "Epoch 100/100\n",
            "31/31 [==============================] - 0s 12ms/step - loss: 0.0075 - accuracy: 1.0000 - auc: 1.0000 - val_loss: 0.0065 - val_accuracy: 1.0000 - val_auc: 1.0000\n",
            "[array([0.25243932, 4.029131  , 3.6096628 , 6.4028854 ], dtype=float32)]\n"
          ],
          "name": "stdout"
        }
      ]
    },
    {
      "cell_type": "code",
      "metadata": {
        "colab": {
          "base_uri": "https://localhost:8080/"
        },
        "id": "K73dtMJ2THGE",
        "outputId": "9c8e955a-ccb8-4986-9394-aa035426b53e"
      },
      "source": [
        "print(\"Evaluate on test data\")\n",
        "results = model.evaluate(x_test, y_test)\n",
        "print(\"test loss, test acc, test AUC:\", results)"
      ],
      "execution_count": 19,
      "outputs": [
        {
          "output_type": "stream",
          "text": [
            "Evaluate on test data\n",
            "5/5 [==============================] - 0s 7ms/step - loss: 0.0069 - accuracy: 1.0000 - auc: 1.0000\n",
            "test loss, test acc, test AUC: [0.006902312859892845, 1.0, 1.0]\n"
          ],
          "name": "stdout"
        }
      ]
    },
    {
      "cell_type": "code",
      "metadata": {
        "id": "Wb7yP50CTQN1",
        "colab": {
          "base_uri": "https://localhost:8080/"
        },
        "outputId": "291433d5-8e29-4ebf-883e-b3408ac629a1"
      },
      "source": [
        "grid = 30\n",
        "x_cor = 0\n",
        "y_cor = 6\n",
        "x_axis = np.linspace(x_cor,y_cor,grid)\n",
        "y_axis = np.linspace(x_cor,y_cor,grid)\n",
        "tmp = np.zeros((grid**2,3))\n",
        "count = 0\n",
        "for i in x_axis:\n",
        "  for j in y_axis:\n",
        "    z = (i-j)**2\n",
        "    label_z = int(model.predict(tfq.convert_to_tensor([cirq.Circuit(cirq.ry(z)(q0),cirq.ry(z)(q1))])) > 0.5)\n",
        "    tmp[count,:] = np.array([i,j,label_z])\n",
        "    count += 1\n",
        "    if count % 100 == 0:\n",
        "      print(count)"
      ],
      "execution_count": 23,
      "outputs": [
        {
          "output_type": "stream",
          "text": [
            "100\n",
            "200\n",
            "300\n",
            "400\n",
            "500\n",
            "600\n",
            "700\n",
            "800\n",
            "900\n"
          ],
          "name": "stdout"
        }
      ]
    },
    {
      "cell_type": "code",
      "metadata": {
        "colab": {
          "base_uri": "https://localhost:8080/",
          "height": 305
        },
        "id": "966IM-hxD23W",
        "outputId": "710b8d43-8c1d-459f-b60c-e61bd87594c2"
      },
      "source": [
        "plt.figure(figsize = (10,5))\n",
        "plt.subplot(121)\n",
        "plt.scatter(data[data_label==0,0],data[data_label==0,1], marker='o')\n",
        "plt.scatter(data[data_label==1,0],data[data_label==1,1], marker='x')\n",
        "plt.gca().set_aspect('equal', adjustable='box')\n",
        "plt.xlim(x_cor, y_cor)\n",
        "plt.ylim(x_cor, y_cor)\n",
        "plt.subplot(122)\n",
        "plt.scatter(tmp[tmp[:,2]==0,0],tmp[tmp[:,2]==0,1], marker='o')\n",
        "plt.scatter(tmp[tmp[:,2]==1,0],tmp[tmp[:,2]==1,1], marker='x')\n",
        "plt.xlim(x_cor, y_cor)\n",
        "plt.ylim(x_cor, y_cor)\n",
        "plt.gca().set_aspect('equal', adjustable='box')"
      ],
      "execution_count": 24,
      "outputs": [
        {
          "output_type": "display_data",
          "data": {
            "image/png": "[encoded data removed]",
            "text/plain": [
              "<Figure size 720x360 with 2 Axes>"
            ]
          },
          "metadata": {
            "tags": [],
            "needs_background": "light"
          }
        }
      ]
    },
    {
      "cell_type": "code",
      "metadata": {
        "colab": {
          "base_uri": "https://localhost:8080/"
        },
        "id": "S1VFk2n_OOdy",
        "outputId": "5c4818cb-9882-4279-eed9-37212e442532"
      },
      "source": [
        "y_pred = (model.predict(x_test) > 0.5).astype(np.int)\n",
        "# print(y_pred)\n",
        "tf.math.confusion_matrix(y_pred,y_test)"
      ],
      "execution_count": 25,
      "outputs": [
        {
          "output_type": "execute_result",
          "data": {
            "text/plain": [
              "<tf.Tensor: shape=(2, 2), dtype=int32, numpy=\n",
              "array([[101,   0],\n",
              "       [  0,  28]], dtype=int32)>"
            ]
          },
          "metadata": {
            "tags": []
          },
          "execution_count": 25
        }
      ]
    }
  ]
}