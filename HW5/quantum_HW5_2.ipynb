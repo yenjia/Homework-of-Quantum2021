{
  "nbformat": 4,
  "nbformat_minor": 0,
  "metadata": {
    "accelerator": "GPU",
    "colab": {
      "name": "quantum_HW5_2",
      "provenance": [],
      "collapsed_sections": [],
      "include_colab_link": true
    },
    "kernelspec": {
      "display_name": "Python 3",
      "name": "python3"
    },
    "language_info": {
      "name": "python"
    }
  },
  "cells": [
    {
      "cell_type": "markdown",
      "metadata": {
        "id": "view-in-github",
        "colab_type": "text"
      },
      "source": [
        "<a href=\"https://colab.research.google.com/github/yenjia/Homework-of-Quantum2021/blob/main/HW5/quantum_HW5_2.ipynb\" target=\"_parent\"><img src=\"https://colab.research.google.com/assets/colab-badge.svg\" alt=\"Open In Colab\"/></a>"
      ]
    },
    {
      "cell_type": "markdown",
      "metadata": {
        "id": "oC3JcCMSQ2TY"
      },
      "source": [
        "# More QNN Layer"
      ]
    },
    {
      "cell_type": "code",
      "metadata": {
        "colab": {
          "base_uri": "https://localhost:8080/",
          "height": 1000
        },
        "id": "lNEcJVOCQwss",
        "outputId": "da48180c-1350-4152-c382-13711161c45f"
      },
      "source": [
        "!pip install tensorflow==2.4.1\n",
        "!pip install tensorflow-quantum "
      ],
      "execution_count": 1,
      "outputs": [
        {
          "output_type": "stream",
          "text": [
            "Collecting tensorflow==2.4.1\n",
            "\u001b[?25l  Downloading https://files.pythonhosted.org/packages/70/dc/e8c5e7983866fa4ef3fd619faa35f660b95b01a2ab62b3884f038ccab542/tensorflow-2.4.1-cp37-cp37m-manylinux2010_x86_64.whl (394.3MB)\n",
            "\u001b[K     |████████████████████████████████| 394.3MB 32kB/s \n",
            "\u001b[?25hRequirement already satisfied: typing-extensions~=3.7.4 in /usr/local/lib/python3.7/dist-packages (from tensorflow==2.4.1) (3.7.4.3)\n",
            "Requirement already satisfied: opt-einsum~=3.3.0 in /usr/local/lib/python3.7/dist-packages (from tensorflow==2.4.1) (3.3.0)\n",
            "Requirement already satisfied: wheel~=0.35 in /usr/local/lib/python3.7/dist-packages (from tensorflow==2.4.1) (0.36.2)\n",
            "Collecting gast==0.3.3\n",
            "  Downloading https://files.pythonhosted.org/packages/d6/84/759f5dd23fec8ba71952d97bcc7e2c9d7d63bdc582421f3cd4be845f0c98/gast-0.3.3-py2.py3-none-any.whl\n",
            "Collecting tensorflow-estimator<2.5.0,>=2.4.0\n",
            "\u001b[?25l  Downloading https://files.pythonhosted.org/packages/74/7e/622d9849abf3afb81e482ffc170758742e392ee129ce1540611199a59237/tensorflow_estimator-2.4.0-py2.py3-none-any.whl (462kB)\n",
            "\u001b[K     |████████████████████████████████| 471kB 22.6MB/s \n",
            "\u001b[?25hRequirement already satisfied: numpy~=1.19.2 in /usr/local/lib/python3.7/dist-packages (from tensorflow==2.4.1) (1.19.5)\n",
            "Requirement already satisfied: google-pasta~=0.2 in /usr/local/lib/python3.7/dist-packages (from tensorflow==2.4.1) (0.2.0)\n",
            "Requirement already satisfied: wrapt~=1.12.1 in /usr/local/lib/python3.7/dist-packages (from tensorflow==2.4.1) (1.12.1)\n",
            "Requirement already satisfied: six~=1.15.0 in /usr/local/lib/python3.7/dist-packages (from tensorflow==2.4.1) (1.15.0)\n",
            "Requirement already satisfied: protobuf>=3.9.2 in /usr/local/lib/python3.7/dist-packages (from tensorflow==2.4.1) (3.17.3)\n",
            "Requirement already satisfied: tensorboard~=2.4 in /usr/local/lib/python3.7/dist-packages (from tensorflow==2.4.1) (2.5.0)\n",
            "Requirement already satisfied: astunparse~=1.6.3 in /usr/local/lib/python3.7/dist-packages (from tensorflow==2.4.1) (1.6.3)\n",
            "Requirement already satisfied: termcolor~=1.1.0 in /usr/local/lib/python3.7/dist-packages (from tensorflow==2.4.1) (1.1.0)\n",
            "Requirement already satisfied: keras-preprocessing~=1.1.2 in /usr/local/lib/python3.7/dist-packages (from tensorflow==2.4.1) (1.1.2)\n",
            "Collecting h5py~=2.10.0\n",
            "\u001b[?25l  Downloading https://files.pythonhosted.org/packages/3f/c0/abde58b837e066bca19a3f7332d9d0493521d7dd6b48248451a9e3fe2214/h5py-2.10.0-cp37-cp37m-manylinux1_x86_64.whl (2.9MB)\n",
            "\u001b[K     |████████████████████████████████| 2.9MB 9.3MB/s \n",
            "\u001b[?25hCollecting grpcio~=1.32.0\n",
            "\u001b[?25l  Downloading https://files.pythonhosted.org/packages/06/54/1c8be62beafe7fb1548d2968e518ca040556b46b0275399d4f3186c56d79/grpcio-1.32.0-cp37-cp37m-manylinux2014_x86_64.whl (3.8MB)\n",
            "\u001b[K     |████████████████████████████████| 3.8MB 22.0MB/s \n",
            "\u001b[?25hRequirement already satisfied: flatbuffers~=1.12.0 in /usr/local/lib/python3.7/dist-packages (from tensorflow==2.4.1) (1.12)\n",
            "Requirement already satisfied: absl-py~=0.10 in /usr/local/lib/python3.7/dist-packages (from tensorflow==2.4.1) (0.12.0)\n",
            "Requirement already satisfied: tensorboard-plugin-wit>=1.6.0 in /usr/local/lib/python3.7/dist-packages (from tensorboard~=2.4->tensorflow==2.4.1) (1.8.0)\n",
            "Requirement already satisfied: setuptools>=41.0.0 in /usr/local/lib/python3.7/dist-packages (from tensorboard~=2.4->tensorflow==2.4.1) (57.0.0)\n",
            "Requirement already satisfied: werkzeug>=0.11.15 in /usr/local/lib/python3.7/dist-packages (from tensorboard~=2.4->tensorflow==2.4.1) (1.0.1)\n",
            "Requirement already satisfied: google-auth-oauthlib<0.5,>=0.4.1 in /usr/local/lib/python3.7/dist-packages (from tensorboard~=2.4->tensorflow==2.4.1) (0.4.4)\n",
            "Requirement already satisfied: google-auth<2,>=1.6.3 in /usr/local/lib/python3.7/dist-packages (from tensorboard~=2.4->tensorflow==2.4.1) (1.32.1)\n",
            "Requirement already satisfied: requests<3,>=2.21.0 in /usr/local/lib/python3.7/dist-packages (from tensorboard~=2.4->tensorflow==2.4.1) (2.23.0)\n",
            "Requirement already satisfied: markdown>=2.6.8 in /usr/local/lib/python3.7/dist-packages (from tensorboard~=2.4->tensorflow==2.4.1) (3.3.4)\n",
            "Requirement already satisfied: tensorboard-data-server<0.7.0,>=0.6.0 in /usr/local/lib/python3.7/dist-packages (from tensorboard~=2.4->tensorflow==2.4.1) (0.6.1)\n",
            "Requirement already satisfied: requests-oauthlib>=0.7.0 in /usr/local/lib/python3.7/dist-packages (from google-auth-oauthlib<0.5,>=0.4.1->tensorboard~=2.4->tensorflow==2.4.1) (1.3.0)\n",
            "Requirement already satisfied: cachetools<5.0,>=2.0.0 in /usr/local/lib/python3.7/dist-packages (from google-auth<2,>=1.6.3->tensorboard~=2.4->tensorflow==2.4.1) (4.2.2)\n",
            "Requirement already satisfied: rsa<5,>=3.1.4; python_version >= \"3.6\" in /usr/local/lib/python3.7/dist-packages (from google-auth<2,>=1.6.3->tensorboard~=2.4->tensorflow==2.4.1) (4.7.2)\n",
            "Requirement already satisfied: pyasn1-modules>=0.2.1 in /usr/local/lib/python3.7/dist-packages (from google-auth<2,>=1.6.3->tensorboard~=2.4->tensorflow==2.4.1) (0.2.8)\n",
            "Requirement already satisfied: idna<3,>=2.5 in /usr/local/lib/python3.7/dist-packages (from requests<3,>=2.21.0->tensorboard~=2.4->tensorflow==2.4.1) (2.10)\n",
            "Requirement already satisfied: urllib3!=1.25.0,!=1.25.1,<1.26,>=1.21.1 in /usr/local/lib/python3.7/dist-packages (from requests<3,>=2.21.0->tensorboard~=2.4->tensorflow==2.4.1) (1.24.3)\n",
            "Requirement already satisfied: certifi>=2017.4.17 in /usr/local/lib/python3.7/dist-packages (from requests<3,>=2.21.0->tensorboard~=2.4->tensorflow==2.4.1) (2021.5.30)\n",
            "Requirement already satisfied: chardet<4,>=3.0.2 in /usr/local/lib/python3.7/dist-packages (from requests<3,>=2.21.0->tensorboard~=2.4->tensorflow==2.4.1) (3.0.4)\n",
            "Requirement already satisfied: importlib-metadata; python_version < \"3.8\" in /usr/local/lib/python3.7/dist-packages (from markdown>=2.6.8->tensorboard~=2.4->tensorflow==2.4.1) (4.6.0)\n",
            "Requirement already satisfied: oauthlib>=3.0.0 in /usr/local/lib/python3.7/dist-packages (from requests-oauthlib>=0.7.0->google-auth-oauthlib<0.5,>=0.4.1->tensorboard~=2.4->tensorflow==2.4.1) (3.1.1)\n",
            "Requirement already satisfied: pyasn1>=0.1.3 in /usr/local/lib/python3.7/dist-packages (from rsa<5,>=3.1.4; python_version >= \"3.6\"->google-auth<2,>=1.6.3->tensorboard~=2.4->tensorflow==2.4.1) (0.4.8)\n",
            "Requirement already satisfied: zipp>=0.5 in /usr/local/lib/python3.7/dist-packages (from importlib-metadata; python_version < \"3.8\"->markdown>=2.6.8->tensorboard~=2.4->tensorflow==2.4.1) (3.4.1)\n",
            "Installing collected packages: gast, tensorflow-estimator, h5py, grpcio, tensorflow\n",
            "  Found existing installation: gast 0.4.0\n",
            "    Uninstalling gast-0.4.0:\n",
            "      Successfully uninstalled gast-0.4.0\n",
            "  Found existing installation: tensorflow-estimator 2.5.0\n",
            "    Uninstalling tensorflow-estimator-2.5.0:\n",
            "      Successfully uninstalled tensorflow-estimator-2.5.0\n",
            "  Found existing installation: h5py 3.1.0\n",
            "    Uninstalling h5py-3.1.0:\n",
            "      Successfully uninstalled h5py-3.1.0\n",
            "  Found existing installation: grpcio 1.34.1\n",
            "    Uninstalling grpcio-1.34.1:\n",
            "      Successfully uninstalled grpcio-1.34.1\n",
            "  Found existing installation: tensorflow 2.5.0\n",
            "    Uninstalling tensorflow-2.5.0:\n",
            "      Successfully uninstalled tensorflow-2.5.0\n",
            "Successfully installed gast-0.3.3 grpcio-1.32.0 h5py-2.10.0 tensorflow-2.4.1 tensorflow-estimator-2.4.0\n",
            "Collecting tensorflow-quantum\n",
            "\u001b[?25l  Downloading https://files.pythonhosted.org/packages/67/24/43c21d3af4c68198fe1d9cdd3233b94210e384e4861c69aab24d89015336/tensorflow_quantum-0.5.1-cp37-cp37m-manylinux_2_12_x86_64.manylinux2010_x86_64.whl (7.8MB)\n",
            "\u001b[K     |████████████████████████████████| 7.8MB 7.9MB/s \n",
            "\u001b[?25hCollecting sympy==1.5\n",
            "\u001b[?25l  Downloading https://files.pythonhosted.org/packages/4d/a7/25d5d6b3295537ab90bdbcd21e464633fb4a0684dd9a065da404487625bb/sympy-1.5-py2.py3-none-any.whl (5.6MB)\n",
            "\u001b[K     |████████████████████████████████| 5.6MB 25.1MB/s \n",
            "\u001b[?25hCollecting cirq==0.11.0\n",
            "  Downloading https://files.pythonhosted.org/packages/eb/a1/3458cb4981e648e0167ea160f536d6a0f32d95e9340c7b1a081b9ef79189/cirq-0.11.0-py3-none-any.whl\n",
            "Collecting protobuf==3.13.0\n",
            "\u001b[?25l  Downloading https://files.pythonhosted.org/packages/71/dc/5ba56eab7440c62c5f808b4267e2a1d6c136e90293b43fefb1b493c6d704/protobuf-3.13.0-cp37-cp37m-manylinux1_x86_64.whl (1.3MB)\n",
            "\u001b[K     |████████████████████████████████| 1.3MB 34.0MB/s \n",
            "\u001b[?25hCollecting google-api-core==1.21.0\n",
            "\u001b[?25l  Downloading https://files.pythonhosted.org/packages/48/76/bd5e3ebd571b9f688ae123a2bd84b2dc9f75e1214a83b8a759bc16e2fc35/google_api_core-1.21.0-py2.py3-none-any.whl (90kB)\n",
            "\u001b[K     |████████████████████████████████| 92kB 10.8MB/s \n",
            "\u001b[?25hCollecting google-auth==1.18.0\n",
            "\u001b[?25l  Downloading https://files.pythonhosted.org/packages/21/57/d706964a7e4056f3f2244e16705388c11631fbb53d3e2d2a2d0fbc24d470/google_auth-1.18.0-py2.py3-none-any.whl (90kB)\n",
            "\u001b[K     |████████████████████████████████| 92kB 10.3MB/s \n",
            "\u001b[?25hCollecting googleapis-common-protos==1.52.0\n",
            "\u001b[?25l  Downloading https://files.pythonhosted.org/packages/03/74/3956721ea1eb4bcf7502a311fdaa60b85bd751de4e57d1943afe9b334141/googleapis_common_protos-1.52.0-py2.py3-none-any.whl (100kB)\n",
            "\u001b[K     |████████████████████████████████| 102kB 11.4MB/s \n",
            "\u001b[?25hRequirement already satisfied: mpmath>=0.19 in /usr/local/lib/python3.7/dist-packages (from sympy==1.5->tensorflow-quantum) (1.2.1)\n",
            "Collecting cirq-google==0.11.0\n",
            "\u001b[?25l  Downloading https://files.pythonhosted.org/packages/1e/e5/72b14d2ab702184335884f05e0726f7d824483ebee2d9055b01d1f69841f/cirq_google-0.11.0-py3-none-any.whl (380kB)\n",
            "\u001b[K     |████████████████████████████████| 389kB 35.3MB/s \n",
            "\u001b[?25hCollecting cirq-core==0.11.0\n",
            "\u001b[?25l  Downloading https://files.pythonhosted.org/packages/2f/e1/e1d174f037b3019979114155dcd9257883316bfc105a5fab360e3349d9e7/cirq_core-0.11.0-py3-none-any.whl (1.5MB)\n",
            "\u001b[K     |████████████████████████████████| 1.5MB 31.8MB/s \n",
            "\u001b[?25hRequirement already satisfied: setuptools in /usr/local/lib/python3.7/dist-packages (from protobuf==3.13.0->tensorflow-quantum) (57.0.0)\n",
            "Requirement already satisfied: six>=1.9 in /usr/local/lib/python3.7/dist-packages (from protobuf==3.13.0->tensorflow-quantum) (1.15.0)\n",
            "Requirement already satisfied: requests<3.0.0dev,>=2.18.0 in /usr/local/lib/python3.7/dist-packages (from google-api-core==1.21.0->tensorflow-quantum) (2.23.0)\n",
            "Requirement already satisfied: pytz in /usr/local/lib/python3.7/dist-packages (from google-api-core==1.21.0->tensorflow-quantum) (2018.9)\n",
            "Requirement already satisfied: pyasn1-modules>=0.2.1 in /usr/local/lib/python3.7/dist-packages (from google-auth==1.18.0->tensorflow-quantum) (0.2.8)\n",
            "Requirement already satisfied: rsa<5,>=3.1.4; python_version >= \"3\" in /usr/local/lib/python3.7/dist-packages (from google-auth==1.18.0->tensorflow-quantum) (4.7.2)\n",
            "Requirement already satisfied: cachetools<5.0,>=2.0.0 in /usr/local/lib/python3.7/dist-packages (from google-auth==1.18.0->tensorflow-quantum) (4.2.2)\n",
            "Requirement already satisfied: pandas in /usr/local/lib/python3.7/dist-packages (from cirq-core==0.11.0->cirq==0.11.0->tensorflow-quantum) (1.1.5)\n",
            "Requirement already satisfied: numpy~=1.16 in /usr/local/lib/python3.7/dist-packages (from cirq-core==0.11.0->cirq==0.11.0->tensorflow-quantum) (1.19.5)\n",
            "Requirement already satisfied: scipy in /usr/local/lib/python3.7/dist-packages (from cirq-core==0.11.0->cirq==0.11.0->tensorflow-quantum) (1.4.1)\n",
            "Requirement already satisfied: sortedcontainers~=2.0 in /usr/local/lib/python3.7/dist-packages (from cirq-core==0.11.0->cirq==0.11.0->tensorflow-quantum) (2.4.0)\n",
            "Requirement already satisfied: typing-extensions in /usr/local/lib/python3.7/dist-packages (from cirq-core==0.11.0->cirq==0.11.0->tensorflow-quantum) (3.7.4.3)\n",
            "Requirement already satisfied: tqdm in /usr/local/lib/python3.7/dist-packages (from cirq-core==0.11.0->cirq==0.11.0->tensorflow-quantum) (4.41.1)\n",
            "Requirement already satisfied: networkx~=2.4 in /usr/local/lib/python3.7/dist-packages (from cirq-core==0.11.0->cirq==0.11.0->tensorflow-quantum) (2.5.1)\n",
            "Requirement already satisfied: matplotlib~=3.0 in /usr/local/lib/python3.7/dist-packages (from cirq-core==0.11.0->cirq==0.11.0->tensorflow-quantum) (3.2.2)\n",
            "Requirement already satisfied: idna<3,>=2.5 in /usr/local/lib/python3.7/dist-packages (from requests<3.0.0dev,>=2.18.0->google-api-core==1.21.0->tensorflow-quantum) (2.10)\n",
            "Requirement already satisfied: chardet<4,>=3.0.2 in /usr/local/lib/python3.7/dist-packages (from requests<3.0.0dev,>=2.18.0->google-api-core==1.21.0->tensorflow-quantum) (3.0.4)\n",
            "Requirement already satisfied: certifi>=2017.4.17 in /usr/local/lib/python3.7/dist-packages (from requests<3.0.0dev,>=2.18.0->google-api-core==1.21.0->tensorflow-quantum) (2021.5.30)\n",
            "Requirement already satisfied: urllib3!=1.25.0,!=1.25.1,<1.26,>=1.21.1 in /usr/local/lib/python3.7/dist-packages (from requests<3.0.0dev,>=2.18.0->google-api-core==1.21.0->tensorflow-quantum) (1.24.3)\n",
            "Requirement already satisfied: pyasn1<0.5.0,>=0.4.6 in /usr/local/lib/python3.7/dist-packages (from pyasn1-modules>=0.2.1->google-auth==1.18.0->tensorflow-quantum) (0.4.8)\n",
            "Requirement already satisfied: python-dateutil>=2.7.3 in /usr/local/lib/python3.7/dist-packages (from pandas->cirq-core==0.11.0->cirq==0.11.0->tensorflow-quantum) (2.8.1)\n",
            "Requirement already satisfied: decorator<5,>=4.3 in /usr/local/lib/python3.7/dist-packages (from networkx~=2.4->cirq-core==0.11.0->cirq==0.11.0->tensorflow-quantum) (4.4.2)\n",
            "Requirement already satisfied: cycler>=0.10 in /usr/local/lib/python3.7/dist-packages (from matplotlib~=3.0->cirq-core==0.11.0->cirq==0.11.0->tensorflow-quantum) (0.10.0)\n",
            "Requirement already satisfied: kiwisolver>=1.0.1 in /usr/local/lib/python3.7/dist-packages (from matplotlib~=3.0->cirq-core==0.11.0->cirq==0.11.0->tensorflow-quantum) (1.3.1)\n",
            "Requirement already satisfied: pyparsing!=2.0.4,!=2.1.2,!=2.1.6,>=2.0.1 in /usr/local/lib/python3.7/dist-packages (from matplotlib~=3.0->cirq-core==0.11.0->cirq==0.11.0->tensorflow-quantum) (2.4.7)\n",
            "Installing collected packages: sympy, google-auth, protobuf, googleapis-common-protos, google-api-core, cirq-core, cirq-google, cirq, tensorflow-quantum\n",
            "  Found existing installation: sympy 1.7.1\n",
            "    Uninstalling sympy-1.7.1:\n",
            "      Successfully uninstalled sympy-1.7.1\n",
            "  Found existing installation: google-auth 1.32.1\n",
            "    Uninstalling google-auth-1.32.1:\n",
            "      Successfully uninstalled google-auth-1.32.1\n",
            "  Found existing installation: protobuf 3.17.3\n",
            "    Uninstalling protobuf-3.17.3:\n",
            "      Successfully uninstalled protobuf-3.17.3\n",
            "  Found existing installation: googleapis-common-protos 1.53.0\n",
            "    Uninstalling googleapis-common-protos-1.53.0:\n",
            "      Successfully uninstalled googleapis-common-protos-1.53.0\n",
            "  Found existing installation: google-api-core 1.26.3\n",
            "    Uninstalling google-api-core-1.26.3:\n",
            "      Successfully uninstalled google-api-core-1.26.3\n",
            "Successfully installed cirq-0.11.0 cirq-core-0.11.0 cirq-google-0.11.0 google-api-core-1.21.0 google-auth-1.18.0 googleapis-common-protos-1.52.0 protobuf-3.13.0 sympy-1.5 tensorflow-quantum-0.5.1\n"
          ],
          "name": "stdout"
        },
        {
          "output_type": "display_data",
          "data": {
            "application/vnd.colab-display-data+json": {
              "pip_warning": {
                "packages": [
                  "google"
                ]
              }
            }
          },
          "metadata": {
            "tags": []
          }
        }
      ]
    },
    {
      "cell_type": "code",
      "metadata": {
        "id": "1NNxVJ-ZQ8ol"
      },
      "source": [
        "import tensorflow as tf\n",
        "import tensorflow_quantum as tfq\n",
        "\n",
        "import cirq\n",
        "import sympy\n",
        "import numpy as np\n",
        "\n",
        "# visualization tools\n",
        "%matplotlib inline\n",
        "import matplotlib.pyplot as plt\n",
        "from cirq.contrib.svg import SVGCircuit"
      ],
      "execution_count": 3,
      "outputs": []
    },
    {
      "cell_type": "code",
      "metadata": {
        "id": "3bNTMvWoRAos"
      },
      "source": [
        "import pandas as pd"
      ],
      "execution_count": 4,
      "outputs": []
    },
    {
      "cell_type": "code",
      "metadata": {
        "id": "P9wqueHSfDLb"
      },
      "source": [
        "tf.random.set_seed(0)"
      ],
      "execution_count": 5,
      "outputs": []
    },
    {
      "cell_type": "markdown",
      "metadata": {
        "id": "Vao1hcZaU9Yu"
      },
      "source": [
        "## Paper Dataset"
      ]
    },
    {
      "cell_type": "code",
      "metadata": {
        "colab": {
          "base_uri": "https://localhost:8080/"
        },
        "id": "U1LSfarCXCNV",
        "outputId": "a8a57a44-058f-4e9d-c94b-bd6057617fcd"
      },
      "source": [
        "# df_ori = pd.read_csv(\"Direct_Kernel_Set_II_Classifications.csv\")\n",
        "df_ori = pd.read_csv(\"Direct_Kernel_Set_I_Training.csv\")\n",
        "df_ori = df_ori.values\n",
        "df_ori[:5]"
      ],
      "execution_count": 6,
      "outputs": [
        {
          "output_type": "execute_result",
          "data": {
            "text/plain": [
              "array([[0.        , 5.34070751, 3.89557489, 1.        ],\n",
              "       [1.        , 5.34070751, 2.95309709, 1.        ],\n",
              "       [2.        , 6.09468975, 1.94778744, 1.        ],\n",
              "       [3.        , 3.01592895, 2.26194671, 1.        ],\n",
              "       [4.        , 5.15221195, 4.64955713, 1.        ]])"
            ]
          },
          "metadata": {
            "tags": []
          },
          "execution_count": 6
        }
      ]
    },
    {
      "cell_type": "code",
      "metadata": {
        "id": "VXbCxraYXKJM",
        "colab": {
          "base_uri": "https://localhost:8080/"
        },
        "outputId": "32db2b0e-7351-43ad-b376-44ff160142f0"
      },
      "source": [
        "data = df_ori[:,[1,2]]\n",
        "data_label = df_ori[:,3]\n",
        "data_label = (data_label == 1).astype(np.int)\n",
        "print(data[:10])\n",
        "print(data_label[:10])"
      ],
      "execution_count": 7,
      "outputs": [
        {
          "output_type": "stream",
          "text": [
            "[[5.34070751 3.89557489]\n",
            " [5.34070751 2.95309709]\n",
            " [6.09468975 1.94778744]\n",
            " [3.01592895 2.26194671]\n",
            " [5.15221195 4.64955713]\n",
            " [3.51858377 2.70176968]\n",
            " [1.44513262 0.56548668]\n",
            " [0.69115038 0.75398224]\n",
            " [1.75929189 5.71769863]\n",
            " [4.46106157 1.44513262]]\n",
            "[1 1 1 1 1 1 1 1 1 1]\n"
          ],
          "name": "stdout"
        }
      ]
    },
    {
      "cell_type": "markdown",
      "metadata": {
        "id": "Egz8ROrXU0y_"
      },
      "source": [
        "## Dataset distribution"
      ]
    },
    {
      "cell_type": "code",
      "metadata": {
        "colab": {
          "base_uri": "https://localhost:8080/",
          "height": 282
        },
        "id": "Sh5yp631SnHT",
        "outputId": "e2de0b45-87f9-4046-f77a-b466c7a583bf"
      },
      "source": [
        "plt.scatter(data[data_label==0,0],data[data_label==0,1], marker='o')\n",
        "plt.scatter(data[data_label==1,0],data[data_label==1,1], marker='x')"
      ],
      "execution_count": 8,
      "outputs": [
        {
          "output_type": "execute_result",
          "data": {
            "text/plain": [
              "<matplotlib.collections.PathCollection at 0x7f5a500af410>"
            ]
          },
          "metadata": {
            "tags": []
          },
          "execution_count": 8
        },
        {
          "output_type": "display_data",
          "data": {
            "image/png": "[encoded data removed]",
            "text/plain": [
              "<Figure size 432x288 with 1 Axes>"
            ]
          },
          "metadata": {
            "tags": [],
            "needs_background": "light"
          }
        }
      ]
    },
    {
      "cell_type": "code",
      "metadata": {
        "colab": {
          "base_uri": "https://localhost:8080/"
        },
        "id": "hL6fJ53zSicz",
        "outputId": "1fd67e98-9cf5-467d-9231-a5379035e145"
      },
      "source": [
        "input_data = (data[:,0]-data[:,1])**2\n",
        "input_data = input_data.flatten()\n",
        "label = data_label.flatten()\n",
        "\n",
        "idx = np.random.permutation(len(label))\n",
        "input_data,label = input_data[idx], label[idx]\n",
        "\n",
        "q0, q1 = cirq.GridQubit.rect(1, 2)\n",
        "q_data =[cirq.Circuit(\n",
        "        cirq.ry(i)(q0),\n",
        "        cirq.ry(i)(q1)) for i in input_data] \n",
        "print(q_data[:5])\n",
        "q_data = tfq.convert_to_tensor(q_data)\n",
        "\n",
        "n = label.shape[0]//5*4\n",
        "n1 = label.shape[0]//10*9\n",
        "print(n)\n",
        "\n",
        "x_train = q_data[:n]\n",
        "y_train = label[:n]\n",
        "x_val = q_data[n:n1]\n",
        "y_val = label[n:n1]\n",
        "x_test = q_data[n1:]\n",
        "y_test = label[n1:]"
      ],
      "execution_count": 9,
      "outputs": [
        {
          "output_type": "stream",
          "text": [
            "[cirq.Circuit([\n",
            "    cirq.Moment(\n",
            "        cirq.Ry(rads=9.47876806361664).on(cirq.GridQubit(0, 0)),\n",
            "        cirq.Ry(rads=9.47876806361664).on(cirq.GridQubit(0, 1)),\n",
            "    ),\n",
            "]), cirq.Circuit([\n",
            "    cirq.Moment(\n",
            "        cirq.Ry(rads=3.7938759308996257).on(cirq.GridQubit(0, 0)),\n",
            "        cirq.Ry(rads=3.7938759308996257).on(cirq.GridQubit(0, 1)),\n",
            "    ),\n",
            "]), cirq.Circuit([\n",
            "    cirq.Moment(\n",
            "        cirq.Ry(rads=15.668983950944684).on(cirq.GridQubit(0, 0)),\n",
            "        cirq.Ry(rads=15.668983950944684).on(cirq.GridQubit(0, 1)),\n",
            "    ),\n",
            "]), cirq.Circuit([\n",
            "    cirq.Moment(\n",
            "        cirq.Ry(rads=2.0884082893880644).on(cirq.GridQubit(0, 0)),\n",
            "        cirq.Ry(rads=2.0884082893880644).on(cirq.GridQubit(0, 1)),\n",
            "    ),\n",
            "]), cirq.Circuit([\n",
            "    cirq.Moment(\n",
            "        cirq.Ry(rads=1.2791007297199557).on(cirq.GridQubit(0, 0)),\n",
            "        cirq.Ry(rads=1.2791007297199557).on(cirq.GridQubit(0, 1)),\n",
            "    ),\n",
            "])]\n",
            "32\n"
          ],
          "name": "stdout"
        }
      ]
    },
    {
      "cell_type": "code",
      "metadata": {
        "colab": {
          "base_uri": "https://localhost:8080/",
          "height": 138
        },
        "id": "joYfniguSo6D",
        "outputId": "0d0a3e55-87b9-4c9c-ad8e-3b288cc127cc"
      },
      "source": [
        "theta1 = sympy.Symbol('theta1')\n",
        "theta2 = sympy.Symbol('theta2')\n",
        "theta3 = sympy.Symbol('theta3')\n",
        "theta4 = sympy.Symbol('theta4')\n",
        "circuit = cirq.Circuit(\n",
        "    cirq.rx(theta1).on(q0),\n",
        "    cirq.rx(theta2).on(q1), cirq.CZ(q0, q1),\n",
        "    cirq.rx(theta3).on(q0),\n",
        "    cirq.rx(theta4).on(q1), cirq.CZ(q0, q1))\n",
        "SVGCircuit(circuit)"
      ],
      "execution_count": 10,
      "outputs": [
        {
          "output_type": "stream",
          "text": [
            "findfont: Font family ['Arial'] not found. Falling back to DejaVu Sans.\n"
          ],
          "name": "stderr"
        },
        {
          "output_type": "execute_result",
          "data": {
            "text/plain": [
              "<cirq.contrib.svg.svg.SVGCircuit at 0x7f5a5001f510>"
            ],
            "image/svg+xml": "<svg xmlns=\"http://www.w3.org/2000/svg\" width=\"434.139921875\" height=\"100.0\"><line x1=\"34.7588671875\" x2=\"404.139921875\" y1=\"25.0\" y2=\"25.0\" stroke=\"#1967d2\" stroke-width=\"1\" /><line x1=\"34.7588671875\" x2=\"404.139921875\" y1=\"75.0\" y2=\"75.0\" stroke=\"#1967d2\" stroke-width=\"1\" /><line x1=\"201.82882812500003\" x2=\"201.82882812500003\" y1=\"25.0\" y2=\"75.0\" stroke=\"black\" stroke-width=\"3\" /><line x1=\"364.139921875\" x2=\"364.139921875\" y1=\"25.0\" y2=\"75.0\" stroke=\"black\" stroke-width=\"3\" /><rect x=\"10.0\" y=\"5.0\" width=\"49.517734375\" height=\"40\" stroke=\"black\" fill=\"white\" stroke-width=\"0\" /><text x=\"34.7588671875\" y=\"25.0\" dominant-baseline=\"middle\" text-anchor=\"middle\" font-size=\"14px\" font-family=\"Arial\">(0, 0): </text><rect x=\"10.0\" y=\"55.0\" width=\"49.517734375\" height=\"40\" stroke=\"black\" fill=\"white\" stroke-width=\"0\" /><text x=\"34.7588671875\" y=\"75.0\" dominant-baseline=\"middle\" text-anchor=\"middle\" font-size=\"14px\" font-family=\"Arial\">(0, 1): </text><rect x=\"79.517734375\" y=\"5.0\" width=\"82.31109375000001\" height=\"40\" stroke=\"black\" fill=\"white\" stroke-width=\"1\" /><text x=\"120.67328125\" y=\"25.0\" dominant-baseline=\"middle\" text-anchor=\"middle\" font-size=\"14px\" font-family=\"Arial\">Rx(theta1)</text><rect x=\"79.517734375\" y=\"55.0\" width=\"82.31109375000001\" height=\"40\" stroke=\"black\" fill=\"white\" stroke-width=\"1\" /><text x=\"120.67328125\" y=\"75.0\" dominant-baseline=\"middle\" text-anchor=\"middle\" font-size=\"14px\" font-family=\"Arial\">Rx(theta2)</text><circle cx=\"201.82882812500003\" cy=\"25.0\" r=\"10.0\" /><circle cx=\"201.82882812500003\" cy=\"75.0\" r=\"10.0\" /><rect x=\"241.82882812500006\" y=\"5.0\" width=\"82.31109375000001\" height=\"40\" stroke=\"black\" fill=\"white\" stroke-width=\"1\" /><text x=\"282.98437500000006\" y=\"25.0\" dominant-baseline=\"middle\" text-anchor=\"middle\" font-size=\"14px\" font-family=\"Arial\">Rx(theta3)</text><rect x=\"241.82882812500006\" y=\"55.0\" width=\"82.31109375000001\" height=\"40\" stroke=\"black\" fill=\"white\" stroke-width=\"1\" /><text x=\"282.98437500000006\" y=\"75.0\" dominant-baseline=\"middle\" text-anchor=\"middle\" font-size=\"14px\" font-family=\"Arial\">Rx(theta4)</text><circle cx=\"364.139921875\" cy=\"25.0\" r=\"10.0\" /><circle cx=\"364.139921875\" cy=\"75.0\" r=\"10.0\" /></svg>"
          },
          "metadata": {
            "tags": []
          },
          "execution_count": 10
        }
      ]
    },
    {
      "cell_type": "code",
      "metadata": {
        "colab": {
          "base_uri": "https://localhost:8080/"
        },
        "id": "335_l2DPS_CE",
        "outputId": "3e615e8c-ed60-4dba-f765-e0dd2813f748"
      },
      "source": [
        "# 建立量子層和經典全連接層\n",
        "q_layer = tfq.layers.PQC(circuit, [cirq.Z(q0), cirq.Z(q1)])\n",
        "dense_layer = tf.keras.layers.Dense(1, activation=\"sigmoid\")\n",
        "# 使用Keras建立訓練流程。量子資料首先通過PQC，然後通過經典的全連接模型\n",
        "q_data_input = tf.keras.Input(shape=() ,dtype=tf.dtypes.string)\n",
        "expectation_output = q_layer(q_data_input)\n",
        "classifier_output = dense_layer(expectation_output)\n",
        "\n",
        "model = tf.keras.Model(inputs=q_data_input, outputs=classifier_output)\n",
        "print(model.summary())\n",
        "# 編譯模型，指定優化器、損失函數和評估指標，並進行訓練\n",
        "model.compile(\n",
        "    optimizer = \"adam\",\n",
        "    loss = \"mse\",\n",
        "    metrics=['accuracy','AUC']\n",
        ")"
      ],
      "execution_count": 11,
      "outputs": [
        {
          "output_type": "stream",
          "text": [
            "Model: \"model\"\n",
            "_________________________________________________________________\n",
            "Layer (type)                 Output Shape              Param #   \n",
            "=================================================================\n",
            "input_1 (InputLayer)         [(None,)]                 0         \n",
            "_________________________________________________________________\n",
            "pqc (PQC)                    (None, 2)                 4         \n",
            "_________________________________________________________________\n",
            "dense (Dense)                (None, 1)                 3         \n",
            "=================================================================\n",
            "Total params: 7\n",
            "Trainable params: 7\n",
            "Non-trainable params: 0\n",
            "_________________________________________________________________\n",
            "None\n"
          ],
          "name": "stdout"
        }
      ]
    },
    {
      "cell_type": "code",
      "metadata": {
        "colab": {
          "base_uri": "https://localhost:8080/"
        },
        "id": "ojTbMWXXTDrt",
        "outputId": "b53ea93d-210f-4668-c7e6-8997096113ec"
      },
      "source": [
        "model.fit(x=x_train, y=y_train, epochs=100,validation_data=(x_val,y_val))\n",
        "\n",
        "# 輸出量子層參數（即theta）的訓練結果\n",
        "print(q_layer.get_weights())"
      ],
      "execution_count": 12,
      "outputs": [
        {
          "output_type": "stream",
          "text": [
            "Epoch 1/100\n",
            "1/1 [==============================] - 4s 4s/step - loss: 0.2537 - accuracy: 0.5312 - auc: 0.4882 - val_loss: 0.1956 - val_accuracy: 1.0000 - val_auc: 1.0000\n",
            "Epoch 2/100\n",
            "1/1 [==============================] - 0s 64ms/step - loss: 0.2536 - accuracy: 0.5312 - auc: 0.4882 - val_loss: 0.1960 - val_accuracy: 1.0000 - val_auc: 1.0000\n",
            "Epoch 3/100\n",
            "1/1 [==============================] - 0s 60ms/step - loss: 0.2535 - accuracy: 0.5312 - auc: 0.4902 - val_loss: 0.1963 - val_accuracy: 1.0000 - val_auc: 1.0000\n",
            "Epoch 4/100\n",
            "1/1 [==============================] - 0s 58ms/step - loss: 0.2535 - accuracy: 0.5312 - auc: 0.4843 - val_loss: 0.1967 - val_accuracy: 1.0000 - val_auc: 1.0000\n",
            "Epoch 5/100\n",
            "1/1 [==============================] - 0s 56ms/step - loss: 0.2534 - accuracy: 0.5312 - auc: 0.4843 - val_loss: 0.1971 - val_accuracy: 1.0000 - val_auc: 1.0000\n",
            "Epoch 6/100\n",
            "1/1 [==============================] - 0s 56ms/step - loss: 0.2534 - accuracy: 0.5312 - auc: 0.4804 - val_loss: 0.1975 - val_accuracy: 1.0000 - val_auc: 1.0000\n",
            "Epoch 7/100\n",
            "1/1 [==============================] - 0s 58ms/step - loss: 0.2533 - accuracy: 0.5312 - auc: 0.4824 - val_loss: 0.1979 - val_accuracy: 1.0000 - val_auc: 1.0000\n",
            "Epoch 8/100\n",
            "1/1 [==============================] - 0s 68ms/step - loss: 0.2532 - accuracy: 0.5312 - auc: 0.4824 - val_loss: 0.1983 - val_accuracy: 1.0000 - val_auc: 1.0000\n",
            "Epoch 9/100\n",
            "1/1 [==============================] - 0s 54ms/step - loss: 0.2532 - accuracy: 0.5312 - auc: 0.4824 - val_loss: 0.1987 - val_accuracy: 1.0000 - val_auc: 1.0000\n",
            "Epoch 10/100\n",
            "1/1 [==============================] - 0s 55ms/step - loss: 0.2531 - accuracy: 0.5312 - auc: 0.4882 - val_loss: 0.1991 - val_accuracy: 1.0000 - val_auc: 1.0000\n",
            "Epoch 11/100\n",
            "1/1 [==============================] - 0s 58ms/step - loss: 0.2531 - accuracy: 0.5312 - auc: 0.4824 - val_loss: 0.1995 - val_accuracy: 1.0000 - val_auc: 1.0000\n",
            "Epoch 12/100\n",
            "1/1 [==============================] - 0s 58ms/step - loss: 0.2530 - accuracy: 0.5312 - auc: 0.4804 - val_loss: 0.1999 - val_accuracy: 1.0000 - val_auc: 1.0000\n",
            "Epoch 13/100\n",
            "1/1 [==============================] - 0s 58ms/step - loss: 0.2530 - accuracy: 0.5312 - auc: 0.4784 - val_loss: 0.2003 - val_accuracy: 1.0000 - val_auc: 1.0000\n",
            "Epoch 14/100\n",
            "1/1 [==============================] - 0s 58ms/step - loss: 0.2529 - accuracy: 0.5312 - auc: 0.4784 - val_loss: 0.2006 - val_accuracy: 1.0000 - val_auc: 1.0000\n",
            "Epoch 15/100\n",
            "1/1 [==============================] - 0s 66ms/step - loss: 0.2529 - accuracy: 0.5312 - auc: 0.4784 - val_loss: 0.2010 - val_accuracy: 1.0000 - val_auc: 1.0000\n",
            "Epoch 16/100\n",
            "1/1 [==============================] - 0s 58ms/step - loss: 0.2528 - accuracy: 0.5312 - auc: 0.4784 - val_loss: 0.2014 - val_accuracy: 1.0000 - val_auc: 1.0000\n",
            "Epoch 17/100\n",
            "1/1 [==============================] - 0s 54ms/step - loss: 0.2528 - accuracy: 0.5312 - auc: 0.4804 - val_loss: 0.2018 - val_accuracy: 1.0000 - val_auc: 1.0000\n",
            "Epoch 18/100\n",
            "1/1 [==============================] - 0s 60ms/step - loss: 0.2527 - accuracy: 0.5312 - auc: 0.4882 - val_loss: 0.2022 - val_accuracy: 1.0000 - val_auc: 1.0000\n",
            "Epoch 19/100\n",
            "1/1 [==============================] - 0s 60ms/step - loss: 0.2527 - accuracy: 0.5312 - auc: 0.4843 - val_loss: 0.2026 - val_accuracy: 1.0000 - val_auc: 1.0000\n",
            "Epoch 20/100\n",
            "1/1 [==============================] - 0s 63ms/step - loss: 0.2526 - accuracy: 0.5312 - auc: 0.4843 - val_loss: 0.2029 - val_accuracy: 1.0000 - val_auc: 1.0000\n",
            "Epoch 21/100\n",
            "1/1 [==============================] - 0s 61ms/step - loss: 0.2526 - accuracy: 0.5312 - auc: 0.4882 - val_loss: 0.2033 - val_accuracy: 1.0000 - val_auc: 1.0000\n",
            "Epoch 22/100\n",
            "1/1 [==============================] - 0s 62ms/step - loss: 0.2525 - accuracy: 0.5000 - auc: 0.4843 - val_loss: 0.2037 - val_accuracy: 1.0000 - val_auc: 1.0000\n",
            "Epoch 23/100\n",
            "1/1 [==============================] - 0s 66ms/step - loss: 0.2525 - accuracy: 0.5000 - auc: 0.4843 - val_loss: 0.2041 - val_accuracy: 1.0000 - val_auc: 1.0000\n",
            "Epoch 24/100\n",
            "1/1 [==============================] - 0s 58ms/step - loss: 0.2524 - accuracy: 0.5000 - auc: 0.4804 - val_loss: 0.2045 - val_accuracy: 1.0000 - val_auc: 1.0000\n",
            "Epoch 25/100\n",
            "1/1 [==============================] - 0s 59ms/step - loss: 0.2524 - accuracy: 0.5000 - auc: 0.4804 - val_loss: 0.2048 - val_accuracy: 1.0000 - val_auc: 1.0000\n",
            "Epoch 26/100\n",
            "1/1 [==============================] - 0s 56ms/step - loss: 0.2523 - accuracy: 0.5000 - auc: 0.4804 - val_loss: 0.2052 - val_accuracy: 1.0000 - val_auc: 1.0000\n",
            "Epoch 27/100\n",
            "1/1 [==============================] - 0s 61ms/step - loss: 0.2523 - accuracy: 0.5000 - auc: 0.4824 - val_loss: 0.2056 - val_accuracy: 1.0000 - val_auc: 1.0000\n",
            "Epoch 28/100\n",
            "1/1 [==============================] - 0s 66ms/step - loss: 0.2522 - accuracy: 0.4688 - auc: 0.4804 - val_loss: 0.2060 - val_accuracy: 1.0000 - val_auc: 1.0000\n",
            "Epoch 29/100\n",
            "1/1 [==============================] - 0s 65ms/step - loss: 0.2522 - accuracy: 0.4688 - auc: 0.4784 - val_loss: 0.2063 - val_accuracy: 1.0000 - val_auc: 1.0000\n",
            "Epoch 30/100\n",
            "1/1 [==============================] - 0s 59ms/step - loss: 0.2521 - accuracy: 0.4688 - auc: 0.4843 - val_loss: 0.2067 - val_accuracy: 1.0000 - val_auc: 1.0000\n",
            "Epoch 31/100\n",
            "1/1 [==============================] - 0s 57ms/step - loss: 0.2521 - accuracy: 0.4688 - auc: 0.4843 - val_loss: 0.2071 - val_accuracy: 1.0000 - val_auc: 1.0000\n",
            "Epoch 32/100\n",
            "1/1 [==============================] - 0s 66ms/step - loss: 0.2520 - accuracy: 0.5000 - auc: 0.4784 - val_loss: 0.2074 - val_accuracy: 1.0000 - val_auc: 1.0000\n",
            "Epoch 33/100\n",
            "1/1 [==============================] - 0s 61ms/step - loss: 0.2520 - accuracy: 0.5000 - auc: 0.4784 - val_loss: 0.2078 - val_accuracy: 1.0000 - val_auc: 1.0000\n",
            "Epoch 34/100\n",
            "1/1 [==============================] - 0s 60ms/step - loss: 0.2520 - accuracy: 0.5000 - auc: 0.4784 - val_loss: 0.2082 - val_accuracy: 1.0000 - val_auc: 1.0000\n",
            "Epoch 35/100\n",
            "1/1 [==============================] - 0s 58ms/step - loss: 0.2519 - accuracy: 0.5000 - auc: 0.4784 - val_loss: 0.2085 - val_accuracy: 1.0000 - val_auc: 1.0000\n",
            "Epoch 36/100\n",
            "1/1 [==============================] - 0s 55ms/step - loss: 0.2519 - accuracy: 0.5000 - auc: 0.4784 - val_loss: 0.2089 - val_accuracy: 1.0000 - val_auc: 1.0000\n",
            "Epoch 37/100\n",
            "1/1 [==============================] - 0s 60ms/step - loss: 0.2518 - accuracy: 0.5000 - auc: 0.4745 - val_loss: 0.2092 - val_accuracy: 1.0000 - val_auc: 1.0000\n",
            "Epoch 38/100\n",
            "1/1 [==============================] - 0s 57ms/step - loss: 0.2518 - accuracy: 0.5000 - auc: 0.4745 - val_loss: 0.2096 - val_accuracy: 1.0000 - val_auc: 1.0000\n",
            "Epoch 39/100\n",
            "1/1 [==============================] - 0s 57ms/step - loss: 0.2518 - accuracy: 0.5000 - auc: 0.4745 - val_loss: 0.2100 - val_accuracy: 1.0000 - val_auc: 1.0000\n",
            "Epoch 40/100\n",
            "1/1 [==============================] - 0s 62ms/step - loss: 0.2517 - accuracy: 0.5000 - auc: 0.4804 - val_loss: 0.2103 - val_accuracy: 1.0000 - val_auc: 1.0000\n",
            "Epoch 41/100\n",
            "1/1 [==============================] - 0s 58ms/step - loss: 0.2517 - accuracy: 0.5000 - auc: 0.4725 - val_loss: 0.2107 - val_accuracy: 1.0000 - val_auc: 1.0000\n",
            "Epoch 42/100\n",
            "1/1 [==============================] - 0s 54ms/step - loss: 0.2516 - accuracy: 0.5000 - auc: 0.4765 - val_loss: 0.2110 - val_accuracy: 1.0000 - val_auc: 1.0000\n",
            "Epoch 43/100\n",
            "1/1 [==============================] - 0s 62ms/step - loss: 0.2516 - accuracy: 0.5000 - auc: 0.4725 - val_loss: 0.2114 - val_accuracy: 1.0000 - val_auc: 1.0000\n",
            "Epoch 44/100\n",
            "1/1 [==============================] - 0s 62ms/step - loss: 0.2516 - accuracy: 0.5000 - auc: 0.4725 - val_loss: 0.2117 - val_accuracy: 1.0000 - val_auc: 1.0000\n",
            "Epoch 45/100\n",
            "1/1 [==============================] - 0s 60ms/step - loss: 0.2515 - accuracy: 0.5000 - auc: 0.4725 - val_loss: 0.2121 - val_accuracy: 1.0000 - val_auc: 1.0000\n",
            "Epoch 46/100\n",
            "1/1 [==============================] - 0s 64ms/step - loss: 0.2515 - accuracy: 0.5000 - auc: 0.4725 - val_loss: 0.2124 - val_accuracy: 1.0000 - val_auc: 1.0000\n",
            "Epoch 47/100\n",
            "1/1 [==============================] - 0s 66ms/step - loss: 0.2515 - accuracy: 0.5000 - auc: 0.4706 - val_loss: 0.2127 - val_accuracy: 1.0000 - val_auc: 1.0000\n",
            "Epoch 48/100\n",
            "1/1 [==============================] - 0s 54ms/step - loss: 0.2514 - accuracy: 0.5000 - auc: 0.4686 - val_loss: 0.2131 - val_accuracy: 1.0000 - val_auc: 1.0000\n",
            "Epoch 49/100\n",
            "1/1 [==============================] - 0s 60ms/step - loss: 0.2514 - accuracy: 0.5000 - auc: 0.4824 - val_loss: 0.2134 - val_accuracy: 1.0000 - val_auc: 1.0000\n",
            "Epoch 50/100\n",
            "1/1 [==============================] - 0s 59ms/step - loss: 0.2514 - accuracy: 0.5000 - auc: 0.4843 - val_loss: 0.2138 - val_accuracy: 1.0000 - val_auc: 1.0000\n",
            "Epoch 51/100\n",
            "1/1 [==============================] - 0s 60ms/step - loss: 0.2513 - accuracy: 0.5000 - auc: 0.4902 - val_loss: 0.2141 - val_accuracy: 1.0000 - val_auc: 1.0000\n",
            "Epoch 52/100\n",
            "1/1 [==============================] - 0s 68ms/step - loss: 0.2513 - accuracy: 0.5000 - auc: 0.4902 - val_loss: 0.2144 - val_accuracy: 1.0000 - val_auc: 1.0000\n",
            "Epoch 53/100\n",
            "1/1 [==============================] - 0s 60ms/step - loss: 0.2513 - accuracy: 0.5000 - auc: 0.4902 - val_loss: 0.2148 - val_accuracy: 1.0000 - val_auc: 1.0000\n",
            "Epoch 54/100\n",
            "1/1 [==============================] - 0s 57ms/step - loss: 0.2512 - accuracy: 0.5000 - auc: 0.4902 - val_loss: 0.2151 - val_accuracy: 1.0000 - val_auc: 1.0000\n",
            "Epoch 55/100\n",
            "1/1 [==============================] - 0s 67ms/step - loss: 0.2512 - accuracy: 0.5000 - auc: 0.4863 - val_loss: 0.2154 - val_accuracy: 1.0000 - val_auc: 1.0000\n",
            "Epoch 56/100\n",
            "1/1 [==============================] - 0s 61ms/step - loss: 0.2512 - accuracy: 0.5000 - auc: 0.4863 - val_loss: 0.2158 - val_accuracy: 1.0000 - val_auc: 1.0000\n",
            "Epoch 57/100\n",
            "1/1 [==============================] - 0s 57ms/step - loss: 0.2511 - accuracy: 0.5000 - auc: 0.4824 - val_loss: 0.2161 - val_accuracy: 1.0000 - val_auc: 1.0000\n",
            "Epoch 58/100\n",
            "1/1 [==============================] - 0s 62ms/step - loss: 0.2511 - accuracy: 0.5000 - auc: 0.4863 - val_loss: 0.2164 - val_accuracy: 1.0000 - val_auc: 1.0000\n",
            "Epoch 59/100\n",
            "1/1 [==============================] - 0s 60ms/step - loss: 0.2511 - accuracy: 0.5312 - auc: 0.4804 - val_loss: 0.2167 - val_accuracy: 1.0000 - val_auc: 1.0000\n",
            "Epoch 60/100\n",
            "1/1 [==============================] - 0s 55ms/step - loss: 0.2510 - accuracy: 0.5312 - auc: 0.4804 - val_loss: 0.2170 - val_accuracy: 1.0000 - val_auc: 1.0000\n",
            "Epoch 61/100\n",
            "1/1 [==============================] - 0s 61ms/step - loss: 0.2510 - accuracy: 0.5312 - auc: 0.4902 - val_loss: 0.2174 - val_accuracy: 1.0000 - val_auc: 1.0000\n",
            "Epoch 62/100\n",
            "1/1 [==============================] - 0s 64ms/step - loss: 0.2510 - accuracy: 0.5312 - auc: 0.4922 - val_loss: 0.2177 - val_accuracy: 1.0000 - val_auc: 1.0000\n",
            "Epoch 63/100\n",
            "1/1 [==============================] - 0s 57ms/step - loss: 0.2509 - accuracy: 0.5312 - auc: 0.4843 - val_loss: 0.2180 - val_accuracy: 1.0000 - val_auc: 1.0000\n",
            "Epoch 64/100\n",
            "1/1 [==============================] - 0s 60ms/step - loss: 0.2509 - accuracy: 0.5312 - auc: 0.4843 - val_loss: 0.2183 - val_accuracy: 1.0000 - val_auc: 1.0000\n",
            "Epoch 65/100\n",
            "1/1 [==============================] - 0s 58ms/step - loss: 0.2509 - accuracy: 0.5312 - auc: 0.4843 - val_loss: 0.2186 - val_accuracy: 1.0000 - val_auc: 1.0000\n",
            "Epoch 66/100\n",
            "1/1 [==============================] - 0s 55ms/step - loss: 0.2509 - accuracy: 0.5312 - auc: 0.4843 - val_loss: 0.2189 - val_accuracy: 1.0000 - val_auc: 1.0000\n",
            "Epoch 67/100\n",
            "1/1 [==============================] - 0s 62ms/step - loss: 0.2508 - accuracy: 0.5312 - auc: 0.4784 - val_loss: 0.2192 - val_accuracy: 1.0000 - val_auc: 1.0000\n",
            "Epoch 68/100\n",
            "1/1 [==============================] - 0s 59ms/step - loss: 0.2508 - accuracy: 0.5312 - auc: 0.4765 - val_loss: 0.2195 - val_accuracy: 1.0000 - val_auc: 1.0000\n",
            "Epoch 69/100\n",
            "1/1 [==============================] - 0s 58ms/step - loss: 0.2508 - accuracy: 0.5312 - auc: 0.4765 - val_loss: 0.2198 - val_accuracy: 1.0000 - val_auc: 1.0000\n",
            "Epoch 70/100\n",
            "1/1 [==============================] - 0s 56ms/step - loss: 0.2508 - accuracy: 0.5312 - auc: 0.4765 - val_loss: 0.2201 - val_accuracy: 1.0000 - val_auc: 1.0000\n",
            "Epoch 71/100\n",
            "1/1 [==============================] - 0s 58ms/step - loss: 0.2507 - accuracy: 0.5312 - auc: 0.4765 - val_loss: 0.2204 - val_accuracy: 1.0000 - val_auc: 1.0000\n",
            "Epoch 72/100\n",
            "1/1 [==============================] - 0s 62ms/step - loss: 0.2507 - accuracy: 0.5312 - auc: 0.4824 - val_loss: 0.2207 - val_accuracy: 1.0000 - val_auc: 1.0000\n",
            "Epoch 73/100\n",
            "1/1 [==============================] - 0s 64ms/step - loss: 0.2507 - accuracy: 0.5312 - auc: 0.4824 - val_loss: 0.2210 - val_accuracy: 1.0000 - val_auc: 1.0000\n",
            "Epoch 74/100\n",
            "1/1 [==============================] - 0s 59ms/step - loss: 0.2507 - accuracy: 0.5312 - auc: 0.4804 - val_loss: 0.2213 - val_accuracy: 1.0000 - val_auc: 1.0000\n",
            "Epoch 75/100\n",
            "1/1 [==============================] - 0s 56ms/step - loss: 0.2506 - accuracy: 0.5312 - auc: 0.4804 - val_loss: 0.2216 - val_accuracy: 1.0000 - val_auc: 1.0000\n",
            "Epoch 76/100\n",
            "1/1 [==============================] - 0s 74ms/step - loss: 0.2506 - accuracy: 0.5312 - auc: 0.4824 - val_loss: 0.2219 - val_accuracy: 1.0000 - val_auc: 1.0000\n",
            "Epoch 77/100\n",
            "1/1 [==============================] - 0s 67ms/step - loss: 0.2506 - accuracy: 0.5000 - auc: 0.4824 - val_loss: 0.2222 - val_accuracy: 1.0000 - val_auc: 1.0000\n",
            "Epoch 78/100\n",
            "1/1 [==============================] - 0s 59ms/step - loss: 0.2506 - accuracy: 0.5000 - auc: 0.4902 - val_loss: 0.2225 - val_accuracy: 1.0000 - val_auc: 1.0000\n",
            "Epoch 79/100\n",
            "1/1 [==============================] - 0s 62ms/step - loss: 0.2505 - accuracy: 0.5000 - auc: 0.4863 - val_loss: 0.2228 - val_accuracy: 1.0000 - val_auc: 1.0000\n",
            "Epoch 80/100\n",
            "1/1 [==============================] - 0s 61ms/step - loss: 0.2505 - accuracy: 0.5000 - auc: 0.4843 - val_loss: 0.2231 - val_accuracy: 1.0000 - val_auc: 1.0000\n",
            "Epoch 81/100\n",
            "1/1 [==============================] - 0s 58ms/step - loss: 0.2505 - accuracy: 0.5000 - auc: 0.4804 - val_loss: 0.2233 - val_accuracy: 1.0000 - val_auc: 1.0000\n",
            "Epoch 82/100\n",
            "1/1 [==============================] - 0s 55ms/step - loss: 0.2505 - accuracy: 0.5000 - auc: 0.4804 - val_loss: 0.2236 - val_accuracy: 1.0000 - val_auc: 1.0000\n",
            "Epoch 83/100\n",
            "1/1 [==============================] - 0s 55ms/step - loss: 0.2505 - accuracy: 0.5000 - auc: 0.4804 - val_loss: 0.2239 - val_accuracy: 1.0000 - val_auc: 1.0000\n",
            "Epoch 84/100\n",
            "1/1 [==============================] - 0s 62ms/step - loss: 0.2504 - accuracy: 0.5000 - auc: 0.4843 - val_loss: 0.2242 - val_accuracy: 1.0000 - val_auc: 1.0000\n",
            "Epoch 85/100\n",
            "1/1 [==============================] - 0s 66ms/step - loss: 0.2504 - accuracy: 0.5000 - auc: 0.4824 - val_loss: 0.2245 - val_accuracy: 1.0000 - val_auc: 1.0000\n",
            "Epoch 86/100\n",
            "1/1 [==============================] - 0s 65ms/step - loss: 0.2504 - accuracy: 0.5000 - auc: 0.4784 - val_loss: 0.2247 - val_accuracy: 1.0000 - val_auc: 1.0000\n",
            "Epoch 87/100\n",
            "1/1 [==============================] - 0s 60ms/step - loss: 0.2504 - accuracy: 0.5000 - auc: 0.4784 - val_loss: 0.2250 - val_accuracy: 1.0000 - val_auc: 1.0000\n",
            "Epoch 88/100\n",
            "1/1 [==============================] - 0s 61ms/step - loss: 0.2504 - accuracy: 0.5000 - auc: 0.4824 - val_loss: 0.2253 - val_accuracy: 1.0000 - val_auc: 1.0000\n",
            "Epoch 89/100\n",
            "1/1 [==============================] - 0s 57ms/step - loss: 0.2503 - accuracy: 0.5000 - auc: 0.4824 - val_loss: 0.2255 - val_accuracy: 1.0000 - val_auc: 1.0000\n",
            "Epoch 90/100\n",
            "1/1 [==============================] - 0s 56ms/step - loss: 0.2503 - accuracy: 0.5000 - auc: 0.4824 - val_loss: 0.2258 - val_accuracy: 1.0000 - val_auc: 1.0000\n",
            "Epoch 91/100\n",
            "1/1 [==============================] - 0s 64ms/step - loss: 0.2503 - accuracy: 0.5000 - auc: 0.4843 - val_loss: 0.2261 - val_accuracy: 1.0000 - val_auc: 1.0000\n",
            "Epoch 92/100\n",
            "1/1 [==============================] - 0s 58ms/step - loss: 0.2503 - accuracy: 0.5000 - auc: 0.4824 - val_loss: 0.2263 - val_accuracy: 1.0000 - val_auc: 1.0000\n",
            "Epoch 93/100\n",
            "1/1 [==============================] - 0s 60ms/step - loss: 0.2503 - accuracy: 0.5000 - auc: 0.4804 - val_loss: 0.2266 - val_accuracy: 1.0000 - val_auc: 1.0000\n",
            "Epoch 94/100\n",
            "1/1 [==============================] - 0s 57ms/step - loss: 0.2502 - accuracy: 0.5000 - auc: 0.4804 - val_loss: 0.2269 - val_accuracy: 1.0000 - val_auc: 1.0000\n",
            "Epoch 95/100\n",
            "1/1 [==============================] - 0s 60ms/step - loss: 0.2502 - accuracy: 0.5000 - auc: 0.4804 - val_loss: 0.2271 - val_accuracy: 1.0000 - val_auc: 1.0000\n",
            "Epoch 96/100\n",
            "1/1 [==============================] - 0s 60ms/step - loss: 0.2502 - accuracy: 0.5000 - auc: 0.4765 - val_loss: 0.2274 - val_accuracy: 1.0000 - val_auc: 1.0000\n",
            "Epoch 97/100\n",
            "1/1 [==============================] - 0s 59ms/step - loss: 0.2502 - accuracy: 0.5000 - auc: 0.4765 - val_loss: 0.2276 - val_accuracy: 1.0000 - val_auc: 1.0000\n",
            "Epoch 98/100\n",
            "1/1 [==============================] - 0s 62ms/step - loss: 0.2502 - accuracy: 0.5000 - auc: 0.4765 - val_loss: 0.2279 - val_accuracy: 1.0000 - val_auc: 1.0000\n",
            "Epoch 99/100\n",
            "1/1 [==============================] - 0s 57ms/step - loss: 0.2502 - accuracy: 0.5000 - auc: 0.4804 - val_loss: 0.2281 - val_accuracy: 1.0000 - val_auc: 1.0000\n",
            "Epoch 100/100\n",
            "1/1 [==============================] - 0s 55ms/step - loss: 0.2501 - accuracy: 0.5000 - auc: 0.4804 - val_loss: 0.2284 - val_accuracy: 1.0000 - val_auc: 1.0000\n",
            "[array([1.7493014, 1.3854581, 3.2870157, 3.4384856], dtype=float32)]\n"
          ],
          "name": "stdout"
        }
      ]
    },
    {
      "cell_type": "code",
      "metadata": {
        "colab": {
          "base_uri": "https://localhost:8080/"
        },
        "id": "K73dtMJ2THGE",
        "outputId": "a9b7f72b-ec94-42c9-cc1b-642d72c67569"
      },
      "source": [
        "print(\"Evaluate on test data\")\n",
        "results = model.evaluate(x_test, y_test)\n",
        "print(\"test loss, test acc, test AUC:\", results)"
      ],
      "execution_count": 13,
      "outputs": [
        {
          "output_type": "stream",
          "text": [
            "Evaluate on test data\n",
            "1/1 [==============================] - 0s 25ms/step - loss: 0.2493 - accuracy: 0.7500 - auc: 0.5000\n",
            "test loss, test acc, test AUC: [0.24925795197486877, 0.75, 0.5]\n"
          ],
          "name": "stdout"
        }
      ]
    },
    {
      "cell_type": "code",
      "metadata": {
        "id": "Wb7yP50CTQN1",
        "colab": {
          "base_uri": "https://localhost:8080/"
        },
        "outputId": "926dfc17-47fe-4e8c-a99b-53b48b7c16a1"
      },
      "source": [
        "grid = 30\n",
        "x_cor = 0\n",
        "y_cor = 6\n",
        "x_axis = np.linspace(x_cor,y_cor,grid)\n",
        "y_axis = np.linspace(x_cor,y_cor,grid)\n",
        "tmp = np.zeros((grid**2,3))\n",
        "count = 0\n",
        "for i in x_axis:\n",
        "  for j in y_axis:\n",
        "    z = (i-j)**2\n",
        "    label_z = int(model.predict(tfq.convert_to_tensor([cirq.Circuit(cirq.ry(z)(q0),cirq.ry(z)(q1))])) > 0.5)\n",
        "    tmp[count,:] = np.array([i,j,label_z])\n",
        "    count += 1\n",
        "    if count % 100 == 0:\n",
        "      print(count)"
      ],
      "execution_count": 14,
      "outputs": [
        {
          "output_type": "stream",
          "text": [
            "100\n",
            "200\n",
            "300\n",
            "400\n",
            "500\n",
            "600\n",
            "700\n",
            "800\n",
            "900\n"
          ],
          "name": "stdout"
        }
      ]
    },
    {
      "cell_type": "code",
      "metadata": {
        "colab": {
          "base_uri": "https://localhost:8080/",
          "height": 305
        },
        "id": "966IM-hxD23W",
        "outputId": "0c856a5b-652d-4839-a700-878ff9cae0ae"
      },
      "source": [
        "plt.figure(figsize = (10,5))\n",
        "plt.subplot(121)\n",
        "plt.scatter(data[data_label==0,0],data[data_label==0,1], marker='o')\n",
        "plt.scatter(data[data_label==1,0],data[data_label==1,1], marker='x')\n",
        "plt.gca().set_aspect('equal', adjustable='box')\n",
        "plt.xlim(x_cor, y_cor)\n",
        "plt.ylim(x_cor, y_cor)\n",
        "plt.subplot(122)\n",
        "plt.scatter(tmp[tmp[:,2]==0,0],tmp[tmp[:,2]==0,1], marker='o')\n",
        "plt.scatter(tmp[tmp[:,2]==1,0],tmp[tmp[:,2]==1,1], marker='x')\n",
        "plt.xlim(x_cor, y_cor)\n",
        "plt.ylim(x_cor, y_cor)\n",
        "plt.gca().set_aspect('equal', adjustable='box')"
      ],
      "execution_count": 15,
      "outputs": [
        {
          "output_type": "display_data",
          "data": {
            "image/png": "[encoded data removed]",
            "text/plain": [
              "<Figure size 720x360 with 2 Axes>"
            ]
          },
          "metadata": {
            "tags": [],
            "needs_background": "light"
          }
        }
      ]
    },
    {
      "cell_type": "code",
      "metadata": {
        "colab": {
          "base_uri": "https://localhost:8080/"
        },
        "id": "S1VFk2n_OOdy",
        "outputId": "a1851f74-3440-474f-c475-bc8a90938540"
      },
      "source": [
        "y_pred = (model.predict(x_test) > 0.5).astype(np.int)\n",
        "# print(y_pred)\n",
        "tf.math.confusion_matrix(y_pred,y_test)"
      ],
      "execution_count": 16,
      "outputs": [
        {
          "output_type": "execute_result",
          "data": {
            "text/plain": [
              "<tf.Tensor: shape=(2, 2), dtype=int32, numpy=\n",
              "array([[2, 1],\n",
              "       [0, 1]], dtype=int32)>"
            ]
          },
          "metadata": {
            "tags": []
          },
          "execution_count": 16
        }
      ]
    }
  ]
}