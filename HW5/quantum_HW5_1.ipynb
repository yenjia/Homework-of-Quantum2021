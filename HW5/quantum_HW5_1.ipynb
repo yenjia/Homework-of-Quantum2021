{
  "nbformat": 4,
  "nbformat_minor": 0,
  "metadata": {
    "accelerator": "GPU",
    "colab": {
      "name": "quantum_HW5_1",
      "provenance": [],
      "collapsed_sections": [],
      "include_colab_link": true
    },
    "kernelspec": {
      "display_name": "Python 3",
      "name": "python3"
    },
    "language_info": {
      "name": "python"
    }
  },
  "cells": [
    {
      "cell_type": "markdown",
      "metadata": {
        "id": "view-in-github",
        "colab_type": "text"
      },
      "source": [
        "<a href=\"https://colab.research.google.com/github/yenjia/Homework-of-Quantum2021/blob/main/HW5/quantum_HW5_1.ipynb\" target=\"_parent\"><img src=\"https://colab.research.google.com/assets/colab-badge.svg\" alt=\"Open In Colab\"/></a>"
      ]
    },
    {
      "cell_type": "markdown",
      "metadata": {
        "id": "oC3JcCMSQ2TY"
      },
      "source": [
        "# More QNN Layer"
      ]
    },
    {
      "cell_type": "code",
      "metadata": {
        "colab": {
          "base_uri": "https://localhost:8080/",
          "height": 1000
        },
        "id": "lNEcJVOCQwss",
        "outputId": "f2e0db42-fea2-4e88-977a-c516033fc5ce"
      },
      "source": [
        "!pip install tensorflow==2.4.1\n",
        "!pip install tensorflow-quantum "
      ],
      "execution_count": 1,
      "outputs": [
        {
          "output_type": "stream",
          "text": [
            "Collecting tensorflow==2.4.1\n",
            "\u001b[?25l  Downloading https://files.pythonhosted.org/packages/70/dc/e8c5e7983866fa4ef3fd619faa35f660b95b01a2ab62b3884f038ccab542/tensorflow-2.4.1-cp37-cp37m-manylinux2010_x86_64.whl (394.3MB)\n",
            "\u001b[K     |████████████████████████████████| 394.3MB 33kB/s \n",
            "\u001b[?25hRequirement already satisfied: wrapt~=1.12.1 in /usr/local/lib/python3.7/dist-packages (from tensorflow==2.4.1) (1.12.1)\n",
            "Requirement already satisfied: numpy~=1.19.2 in /usr/local/lib/python3.7/dist-packages (from tensorflow==2.4.1) (1.19.5)\n",
            "Requirement already satisfied: protobuf>=3.9.2 in /usr/local/lib/python3.7/dist-packages (from tensorflow==2.4.1) (3.17.3)\n",
            "Requirement already satisfied: astunparse~=1.6.3 in /usr/local/lib/python3.7/dist-packages (from tensorflow==2.4.1) (1.6.3)\n",
            "Requirement already satisfied: wheel~=0.35 in /usr/local/lib/python3.7/dist-packages (from tensorflow==2.4.1) (0.36.2)\n",
            "Requirement already satisfied: google-pasta~=0.2 in /usr/local/lib/python3.7/dist-packages (from tensorflow==2.4.1) (0.2.0)\n",
            "Collecting gast==0.3.3\n",
            "  Downloading https://files.pythonhosted.org/packages/d6/84/759f5dd23fec8ba71952d97bcc7e2c9d7d63bdc582421f3cd4be845f0c98/gast-0.3.3-py2.py3-none-any.whl\n",
            "Requirement already satisfied: opt-einsum~=3.3.0 in /usr/local/lib/python3.7/dist-packages (from tensorflow==2.4.1) (3.3.0)\n",
            "Collecting tensorflow-estimator<2.5.0,>=2.4.0\n",
            "\u001b[?25l  Downloading https://files.pythonhosted.org/packages/74/7e/622d9849abf3afb81e482ffc170758742e392ee129ce1540611199a59237/tensorflow_estimator-2.4.0-py2.py3-none-any.whl (462kB)\n",
            "\u001b[K     |████████████████████████████████| 471kB 33.0MB/s \n",
            "\u001b[?25hRequirement already satisfied: typing-extensions~=3.7.4 in /usr/local/lib/python3.7/dist-packages (from tensorflow==2.4.1) (3.7.4.3)\n",
            "Requirement already satisfied: flatbuffers~=1.12.0 in /usr/local/lib/python3.7/dist-packages (from tensorflow==2.4.1) (1.12)\n",
            "Requirement already satisfied: six~=1.15.0 in /usr/local/lib/python3.7/dist-packages (from tensorflow==2.4.1) (1.15.0)\n",
            "Collecting h5py~=2.10.0\n",
            "\u001b[?25l  Downloading https://files.pythonhosted.org/packages/3f/c0/abde58b837e066bca19a3f7332d9d0493521d7dd6b48248451a9e3fe2214/h5py-2.10.0-cp37-cp37m-manylinux1_x86_64.whl (2.9MB)\n",
            "\u001b[K     |████████████████████████████████| 2.9MB 8.2MB/s \n",
            "\u001b[?25hRequirement already satisfied: absl-py~=0.10 in /usr/local/lib/python3.7/dist-packages (from tensorflow==2.4.1) (0.12.0)\n",
            "Requirement already satisfied: keras-preprocessing~=1.1.2 in /usr/local/lib/python3.7/dist-packages (from tensorflow==2.4.1) (1.1.2)\n",
            "Collecting grpcio~=1.32.0\n",
            "\u001b[?25l  Downloading https://files.pythonhosted.org/packages/06/54/1c8be62beafe7fb1548d2968e518ca040556b46b0275399d4f3186c56d79/grpcio-1.32.0-cp37-cp37m-manylinux2014_x86_64.whl (3.8MB)\n",
            "\u001b[K     |████████████████████████████████| 3.8MB 38.0MB/s \n",
            "\u001b[?25hRequirement already satisfied: termcolor~=1.1.0 in /usr/local/lib/python3.7/dist-packages (from tensorflow==2.4.1) (1.1.0)\n",
            "Requirement already satisfied: tensorboard~=2.4 in /usr/local/lib/python3.7/dist-packages (from tensorflow==2.4.1) (2.5.0)\n",
            "Requirement already satisfied: google-auth<2,>=1.6.3 in /usr/local/lib/python3.7/dist-packages (from tensorboard~=2.4->tensorflow==2.4.1) (1.32.1)\n",
            "Requirement already satisfied: tensorboard-plugin-wit>=1.6.0 in /usr/local/lib/python3.7/dist-packages (from tensorboard~=2.4->tensorflow==2.4.1) (1.8.0)\n",
            "Requirement already satisfied: setuptools>=41.0.0 in /usr/local/lib/python3.7/dist-packages (from tensorboard~=2.4->tensorflow==2.4.1) (57.0.0)\n",
            "Requirement already satisfied: tensorboard-data-server<0.7.0,>=0.6.0 in /usr/local/lib/python3.7/dist-packages (from tensorboard~=2.4->tensorflow==2.4.1) (0.6.1)\n",
            "Requirement already satisfied: requests<3,>=2.21.0 in /usr/local/lib/python3.7/dist-packages (from tensorboard~=2.4->tensorflow==2.4.1) (2.23.0)\n",
            "Requirement already satisfied: markdown>=2.6.8 in /usr/local/lib/python3.7/dist-packages (from tensorboard~=2.4->tensorflow==2.4.1) (3.3.4)\n",
            "Requirement already satisfied: google-auth-oauthlib<0.5,>=0.4.1 in /usr/local/lib/python3.7/dist-packages (from tensorboard~=2.4->tensorflow==2.4.1) (0.4.4)\n",
            "Requirement already satisfied: werkzeug>=0.11.15 in /usr/local/lib/python3.7/dist-packages (from tensorboard~=2.4->tensorflow==2.4.1) (1.0.1)\n",
            "Requirement already satisfied: rsa<5,>=3.1.4; python_version >= \"3.6\" in /usr/local/lib/python3.7/dist-packages (from google-auth<2,>=1.6.3->tensorboard~=2.4->tensorflow==2.4.1) (4.7.2)\n",
            "Requirement already satisfied: pyasn1-modules>=0.2.1 in /usr/local/lib/python3.7/dist-packages (from google-auth<2,>=1.6.3->tensorboard~=2.4->tensorflow==2.4.1) (0.2.8)\n",
            "Requirement already satisfied: cachetools<5.0,>=2.0.0 in /usr/local/lib/python3.7/dist-packages (from google-auth<2,>=1.6.3->tensorboard~=2.4->tensorflow==2.4.1) (4.2.2)\n",
            "Requirement already satisfied: chardet<4,>=3.0.2 in /usr/local/lib/python3.7/dist-packages (from requests<3,>=2.21.0->tensorboard~=2.4->tensorflow==2.4.1) (3.0.4)\n",
            "Requirement already satisfied: certifi>=2017.4.17 in /usr/local/lib/python3.7/dist-packages (from requests<3,>=2.21.0->tensorboard~=2.4->tensorflow==2.4.1) (2021.5.30)\n",
            "Requirement already satisfied: urllib3!=1.25.0,!=1.25.1,<1.26,>=1.21.1 in /usr/local/lib/python3.7/dist-packages (from requests<3,>=2.21.0->tensorboard~=2.4->tensorflow==2.4.1) (1.24.3)\n",
            "Requirement already satisfied: idna<3,>=2.5 in /usr/local/lib/python3.7/dist-packages (from requests<3,>=2.21.0->tensorboard~=2.4->tensorflow==2.4.1) (2.10)\n",
            "Requirement already satisfied: importlib-metadata; python_version < \"3.8\" in /usr/local/lib/python3.7/dist-packages (from markdown>=2.6.8->tensorboard~=2.4->tensorflow==2.4.1) (4.6.0)\n",
            "Requirement already satisfied: requests-oauthlib>=0.7.0 in /usr/local/lib/python3.7/dist-packages (from google-auth-oauthlib<0.5,>=0.4.1->tensorboard~=2.4->tensorflow==2.4.1) (1.3.0)\n",
            "Requirement already satisfied: pyasn1>=0.1.3 in /usr/local/lib/python3.7/dist-packages (from rsa<5,>=3.1.4; python_version >= \"3.6\"->google-auth<2,>=1.6.3->tensorboard~=2.4->tensorflow==2.4.1) (0.4.8)\n",
            "Requirement already satisfied: zipp>=0.5 in /usr/local/lib/python3.7/dist-packages (from importlib-metadata; python_version < \"3.8\"->markdown>=2.6.8->tensorboard~=2.4->tensorflow==2.4.1) (3.4.1)\n",
            "Requirement already satisfied: oauthlib>=3.0.0 in /usr/local/lib/python3.7/dist-packages (from requests-oauthlib>=0.7.0->google-auth-oauthlib<0.5,>=0.4.1->tensorboard~=2.4->tensorflow==2.4.1) (3.1.1)\n",
            "Installing collected packages: gast, tensorflow-estimator, h5py, grpcio, tensorflow\n",
            "  Found existing installation: gast 0.4.0\n",
            "    Uninstalling gast-0.4.0:\n",
            "      Successfully uninstalled gast-0.4.0\n",
            "  Found existing installation: tensorflow-estimator 2.5.0\n",
            "    Uninstalling tensorflow-estimator-2.5.0:\n",
            "      Successfully uninstalled tensorflow-estimator-2.5.0\n",
            "  Found existing installation: h5py 3.1.0\n",
            "    Uninstalling h5py-3.1.0:\n",
            "      Successfully uninstalled h5py-3.1.0\n",
            "  Found existing installation: grpcio 1.34.1\n",
            "    Uninstalling grpcio-1.34.1:\n",
            "      Successfully uninstalled grpcio-1.34.1\n",
            "  Found existing installation: tensorflow 2.5.0\n",
            "    Uninstalling tensorflow-2.5.0:\n",
            "      Successfully uninstalled tensorflow-2.5.0\n",
            "Successfully installed gast-0.3.3 grpcio-1.32.0 h5py-2.10.0 tensorflow-2.4.1 tensorflow-estimator-2.4.0\n",
            "Collecting tensorflow-quantum\n",
            "\u001b[?25l  Downloading https://files.pythonhosted.org/packages/67/24/43c21d3af4c68198fe1d9cdd3233b94210e384e4861c69aab24d89015336/tensorflow_quantum-0.5.1-cp37-cp37m-manylinux_2_12_x86_64.manylinux2010_x86_64.whl (7.8MB)\n",
            "\u001b[K     |████████████████████████████████| 7.8MB 6.9MB/s \n",
            "\u001b[?25hCollecting google-api-core==1.21.0\n",
            "\u001b[?25l  Downloading https://files.pythonhosted.org/packages/48/76/bd5e3ebd571b9f688ae123a2bd84b2dc9f75e1214a83b8a759bc16e2fc35/google_api_core-1.21.0-py2.py3-none-any.whl (90kB)\n",
            "\u001b[K     |████████████████████████████████| 92kB 13.0MB/s \n",
            "\u001b[?25hCollecting google-auth==1.18.0\n",
            "\u001b[?25l  Downloading https://files.pythonhosted.org/packages/21/57/d706964a7e4056f3f2244e16705388c11631fbb53d3e2d2a2d0fbc24d470/google_auth-1.18.0-py2.py3-none-any.whl (90kB)\n",
            "\u001b[K     |████████████████████████████████| 92kB 13.9MB/s \n",
            "\u001b[?25hCollecting protobuf==3.13.0\n",
            "\u001b[?25l  Downloading https://files.pythonhosted.org/packages/71/dc/5ba56eab7440c62c5f808b4267e2a1d6c136e90293b43fefb1b493c6d704/protobuf-3.13.0-cp37-cp37m-manylinux1_x86_64.whl (1.3MB)\n",
            "\u001b[K     |████████████████████████████████| 1.3MB 44.8MB/s \n",
            "\u001b[?25hCollecting googleapis-common-protos==1.52.0\n",
            "\u001b[?25l  Downloading https://files.pythonhosted.org/packages/03/74/3956721ea1eb4bcf7502a311fdaa60b85bd751de4e57d1943afe9b334141/googleapis_common_protos-1.52.0-py2.py3-none-any.whl (100kB)\n",
            "\u001b[K     |████████████████████████████████| 102kB 14.9MB/s \n",
            "\u001b[?25hCollecting sympy==1.5\n",
            "\u001b[?25l  Downloading https://files.pythonhosted.org/packages/4d/a7/25d5d6b3295537ab90bdbcd21e464633fb4a0684dd9a065da404487625bb/sympy-1.5-py2.py3-none-any.whl (5.6MB)\n",
            "\u001b[K     |████████████████████████████████| 5.6MB 2.2MB/s \n",
            "\u001b[?25hCollecting cirq==0.11.0\n",
            "  Downloading https://files.pythonhosted.org/packages/eb/a1/3458cb4981e648e0167ea160f536d6a0f32d95e9340c7b1a081b9ef79189/cirq-0.11.0-py3-none-any.whl\n",
            "Requirement already satisfied: setuptools>=34.0.0 in /usr/local/lib/python3.7/dist-packages (from google-api-core==1.21.0->tensorflow-quantum) (57.0.0)\n",
            "Requirement already satisfied: pytz in /usr/local/lib/python3.7/dist-packages (from google-api-core==1.21.0->tensorflow-quantum) (2018.9)\n",
            "Requirement already satisfied: six>=1.10.0 in /usr/local/lib/python3.7/dist-packages (from google-api-core==1.21.0->tensorflow-quantum) (1.15.0)\n",
            "Requirement already satisfied: requests<3.0.0dev,>=2.18.0 in /usr/local/lib/python3.7/dist-packages (from google-api-core==1.21.0->tensorflow-quantum) (2.23.0)\n",
            "Requirement already satisfied: rsa<5,>=3.1.4; python_version >= \"3\" in /usr/local/lib/python3.7/dist-packages (from google-auth==1.18.0->tensorflow-quantum) (4.7.2)\n",
            "Requirement already satisfied: cachetools<5.0,>=2.0.0 in /usr/local/lib/python3.7/dist-packages (from google-auth==1.18.0->tensorflow-quantum) (4.2.2)\n",
            "Requirement already satisfied: pyasn1-modules>=0.2.1 in /usr/local/lib/python3.7/dist-packages (from google-auth==1.18.0->tensorflow-quantum) (0.2.8)\n",
            "Requirement already satisfied: mpmath>=0.19 in /usr/local/lib/python3.7/dist-packages (from sympy==1.5->tensorflow-quantum) (1.2.1)\n",
            "Collecting cirq-google==0.11.0\n",
            "\u001b[?25l  Downloading https://files.pythonhosted.org/packages/1e/e5/72b14d2ab702184335884f05e0726f7d824483ebee2d9055b01d1f69841f/cirq_google-0.11.0-py3-none-any.whl (380kB)\n",
            "\u001b[K     |████████████████████████████████| 389kB 47.2MB/s \n",
            "\u001b[?25hCollecting cirq-core==0.11.0\n",
            "\u001b[?25l  Downloading https://files.pythonhosted.org/packages/2f/e1/e1d174f037b3019979114155dcd9257883316bfc105a5fab360e3349d9e7/cirq_core-0.11.0-py3-none-any.whl (1.5MB)\n",
            "\u001b[K     |████████████████████████████████| 1.5MB 40.1MB/s \n",
            "\u001b[?25hRequirement already satisfied: idna<3,>=2.5 in /usr/local/lib/python3.7/dist-packages (from requests<3.0.0dev,>=2.18.0->google-api-core==1.21.0->tensorflow-quantum) (2.10)\n",
            "Requirement already satisfied: urllib3!=1.25.0,!=1.25.1,<1.26,>=1.21.1 in /usr/local/lib/python3.7/dist-packages (from requests<3.0.0dev,>=2.18.0->google-api-core==1.21.0->tensorflow-quantum) (1.24.3)\n",
            "Requirement already satisfied: certifi>=2017.4.17 in /usr/local/lib/python3.7/dist-packages (from requests<3.0.0dev,>=2.18.0->google-api-core==1.21.0->tensorflow-quantum) (2021.5.30)\n",
            "Requirement already satisfied: chardet<4,>=3.0.2 in /usr/local/lib/python3.7/dist-packages (from requests<3.0.0dev,>=2.18.0->google-api-core==1.21.0->tensorflow-quantum) (3.0.4)\n",
            "Requirement already satisfied: pyasn1>=0.1.3 in /usr/local/lib/python3.7/dist-packages (from rsa<5,>=3.1.4; python_version >= \"3\"->google-auth==1.18.0->tensorflow-quantum) (0.4.8)\n",
            "Requirement already satisfied: sortedcontainers~=2.0 in /usr/local/lib/python3.7/dist-packages (from cirq-core==0.11.0->cirq==0.11.0->tensorflow-quantum) (2.4.0)\n",
            "Requirement already satisfied: scipy in /usr/local/lib/python3.7/dist-packages (from cirq-core==0.11.0->cirq==0.11.0->tensorflow-quantum) (1.4.1)\n",
            "Requirement already satisfied: tqdm in /usr/local/lib/python3.7/dist-packages (from cirq-core==0.11.0->cirq==0.11.0->tensorflow-quantum) (4.41.1)\n",
            "Requirement already satisfied: typing-extensions in /usr/local/lib/python3.7/dist-packages (from cirq-core==0.11.0->cirq==0.11.0->tensorflow-quantum) (3.7.4.3)\n",
            "Requirement already satisfied: matplotlib~=3.0 in /usr/local/lib/python3.7/dist-packages (from cirq-core==0.11.0->cirq==0.11.0->tensorflow-quantum) (3.2.2)\n",
            "Requirement already satisfied: pandas in /usr/local/lib/python3.7/dist-packages (from cirq-core==0.11.0->cirq==0.11.0->tensorflow-quantum) (1.1.5)\n",
            "Requirement already satisfied: networkx~=2.4 in /usr/local/lib/python3.7/dist-packages (from cirq-core==0.11.0->cirq==0.11.0->tensorflow-quantum) (2.5.1)\n",
            "Requirement already satisfied: numpy~=1.16 in /usr/local/lib/python3.7/dist-packages (from cirq-core==0.11.0->cirq==0.11.0->tensorflow-quantum) (1.19.5)\n",
            "Requirement already satisfied: kiwisolver>=1.0.1 in /usr/local/lib/python3.7/dist-packages (from matplotlib~=3.0->cirq-core==0.11.0->cirq==0.11.0->tensorflow-quantum) (1.3.1)\n",
            "Requirement already satisfied: pyparsing!=2.0.4,!=2.1.2,!=2.1.6,>=2.0.1 in /usr/local/lib/python3.7/dist-packages (from matplotlib~=3.0->cirq-core==0.11.0->cirq==0.11.0->tensorflow-quantum) (2.4.7)\n",
            "Requirement already satisfied: cycler>=0.10 in /usr/local/lib/python3.7/dist-packages (from matplotlib~=3.0->cirq-core==0.11.0->cirq==0.11.0->tensorflow-quantum) (0.10.0)\n",
            "Requirement already satisfied: python-dateutil>=2.1 in /usr/local/lib/python3.7/dist-packages (from matplotlib~=3.0->cirq-core==0.11.0->cirq==0.11.0->tensorflow-quantum) (2.8.1)\n",
            "Requirement already satisfied: decorator<5,>=4.3 in /usr/local/lib/python3.7/dist-packages (from networkx~=2.4->cirq-core==0.11.0->cirq==0.11.0->tensorflow-quantum) (4.4.2)\n",
            "Installing collected packages: protobuf, googleapis-common-protos, google-auth, google-api-core, sympy, cirq-core, cirq-google, cirq, tensorflow-quantum\n",
            "  Found existing installation: protobuf 3.17.3\n",
            "    Uninstalling protobuf-3.17.3:\n",
            "      Successfully uninstalled protobuf-3.17.3\n",
            "  Found existing installation: googleapis-common-protos 1.53.0\n",
            "    Uninstalling googleapis-common-protos-1.53.0:\n",
            "      Successfully uninstalled googleapis-common-protos-1.53.0\n",
            "  Found existing installation: google-auth 1.32.1\n",
            "    Uninstalling google-auth-1.32.1:\n",
            "      Successfully uninstalled google-auth-1.32.1\n",
            "  Found existing installation: google-api-core 1.26.3\n",
            "    Uninstalling google-api-core-1.26.3:\n",
            "      Successfully uninstalled google-api-core-1.26.3\n",
            "  Found existing installation: sympy 1.7.1\n",
            "    Uninstalling sympy-1.7.1:\n",
            "      Successfully uninstalled sympy-1.7.1\n",
            "Successfully installed cirq-0.11.0 cirq-core-0.11.0 cirq-google-0.11.0 google-api-core-1.21.0 google-auth-1.18.0 googleapis-common-protos-1.52.0 protobuf-3.13.0 sympy-1.5 tensorflow-quantum-0.5.1\n"
          ],
          "name": "stdout"
        },
        {
          "output_type": "display_data",
          "data": {
            "application/vnd.colab-display-data+json": {
              "pip_warning": {
                "packages": [
                  "google"
                ]
              }
            }
          },
          "metadata": {
            "tags": []
          }
        }
      ]
    },
    {
      "cell_type": "code",
      "metadata": {
        "id": "1NNxVJ-ZQ8ol"
      },
      "source": [
        "import tensorflow as tf\n",
        "import tensorflow_quantum as tfq\n",
        "\n",
        "import cirq\n",
        "import sympy\n",
        "import numpy as np\n",
        "\n",
        "# visualization tools\n",
        "%matplotlib inline\n",
        "import matplotlib.pyplot as plt\n",
        "from cirq.contrib.svg import SVGCircuit"
      ],
      "execution_count": 2,
      "outputs": []
    },
    {
      "cell_type": "code",
      "metadata": {
        "id": "3bNTMvWoRAos"
      },
      "source": [
        "import pandas as pd"
      ],
      "execution_count": 3,
      "outputs": []
    },
    {
      "cell_type": "code",
      "metadata": {
        "id": "P9wqueHSfDLb"
      },
      "source": [
        "tf.random.set_seed(0)"
      ],
      "execution_count": 4,
      "outputs": []
    },
    {
      "cell_type": "markdown",
      "metadata": {
        "id": "Vao1hcZaU9Yu"
      },
      "source": [
        "## Paper Dataset"
      ]
    },
    {
      "cell_type": "code",
      "metadata": {
        "colab": {
          "base_uri": "https://localhost:8080/"
        },
        "id": "U1LSfarCXCNV",
        "outputId": "dd563d6b-c1cf-4c81-e036-f9555dad32ec"
      },
      "source": [
        "# df_ori = pd.read_csv(\"Direct_Kernel_Set_I_Classifications.csv\")\n",
        "df_ori = pd.read_csv(\"Direct_Kernel_Set_I_Training.csv\")\n",
        "df_ori = df_ori.values\n",
        "df_ori[:5]"
      ],
      "execution_count": 8,
      "outputs": [
        {
          "output_type": "execute_result",
          "data": {
            "text/plain": [
              "array([[0.        , 5.34070751, 3.89557489, 1.        ],\n",
              "       [1.        , 5.34070751, 2.95309709, 1.        ],\n",
              "       [2.        , 6.09468975, 1.94778744, 1.        ],\n",
              "       [3.        , 3.01592895, 2.26194671, 1.        ],\n",
              "       [4.        , 5.15221195, 4.64955713, 1.        ]])"
            ]
          },
          "metadata": {
            "tags": []
          },
          "execution_count": 8
        }
      ]
    },
    {
      "cell_type": "code",
      "metadata": {
        "id": "VXbCxraYXKJM",
        "colab": {
          "base_uri": "https://localhost:8080/"
        },
        "outputId": "5d3cd071-e8d6-4135-f825-22232eb7699d"
      },
      "source": [
        "data = df_ori[:,[1,2]]\n",
        "data_label = df_ori[:,3]\n",
        "data_label = (data_label == 1).astype(np.int)\n",
        "print(data[:10])\n",
        "print(data_label[:10])"
      ],
      "execution_count": 9,
      "outputs": [
        {
          "output_type": "stream",
          "text": [
            "[[5.34070751 3.89557489]\n",
            " [5.34070751 2.95309709]\n",
            " [6.09468975 1.94778744]\n",
            " [3.01592895 2.26194671]\n",
            " [5.15221195 4.64955713]\n",
            " [3.51858377 2.70176968]\n",
            " [1.44513262 0.56548668]\n",
            " [0.69115038 0.75398224]\n",
            " [1.75929189 5.71769863]\n",
            " [4.46106157 1.44513262]]\n",
            "[1 1 1 1 1 1 1 1 1 1]\n"
          ],
          "name": "stdout"
        }
      ]
    },
    {
      "cell_type": "markdown",
      "metadata": {
        "id": "Egz8ROrXU0y_"
      },
      "source": [
        "## Dataset distribution"
      ]
    },
    {
      "cell_type": "code",
      "metadata": {
        "colab": {
          "base_uri": "https://localhost:8080/",
          "height": 282
        },
        "id": "Sh5yp631SnHT",
        "outputId": "7207661f-146c-4481-cd3c-6f6f379e5830"
      },
      "source": [
        "plt.scatter(data[data_label==0,0],data[data_label==0,1], marker='o')\n",
        "plt.scatter(data[data_label==1,0],data[data_label==1,1], marker='x')"
      ],
      "execution_count": 10,
      "outputs": [
        {
          "output_type": "execute_result",
          "data": {
            "text/plain": [
              "<matplotlib.collections.PathCollection at 0x7febee0f9390>"
            ]
          },
          "metadata": {
            "tags": []
          },
          "execution_count": 10
        },
        {
          "output_type": "display_data",
          "data": {
            "image/png": "[encoded data removed]",
            "text/plain": [
              "<Figure size 432x288 with 1 Axes>"
            ]
          },
          "metadata": {
            "tags": [],
            "needs_background": "light"
          }
        }
      ]
    },
    {
      "cell_type": "code",
      "metadata": {
        "colab": {
          "base_uri": "https://localhost:8080/"
        },
        "id": "hL6fJ53zSicz",
        "outputId": "30e79df8-ae29-46fa-f32e-3169acc97aa0"
      },
      "source": [
        "input_data = (data[:,0]-data[:,1])**2\n",
        "input_data = input_data.flatten()\n",
        "label = data_label.flatten()\n",
        "\n",
        "idx = np.random.permutation(len(label))\n",
        "input_data,label = input_data[idx], label[idx]\n",
        "\n",
        "q0, q1 = cirq.GridQubit.rect(1, 2)\n",
        "q_data =[cirq.Circuit(\n",
        "        cirq.ry(i)(q0),\n",
        "        cirq.ry(i)(q1)) for i in input_data] \n",
        "print(q_data[:5])\n",
        "q_data = tfq.convert_to_tensor(q_data)\n",
        "\n",
        "n = label.shape[0]//5*4\n",
        "n1 = label.shape[0]//10*9\n",
        "print(n)\n",
        "\n",
        "x_train = q_data[:n]\n",
        "y_train = label[:n]\n",
        "x_val = q_data[n:n1]\n",
        "y_val = label[n:n1]\n",
        "x_test = q_data[n1:]\n",
        "y_test = label[n1:]"
      ],
      "execution_count": 11,
      "outputs": [
        {
          "output_type": "stream",
          "text": [
            "[cirq.Circuit([\n",
            "    cirq.Moment(\n",
            "        cirq.Ry(rads=0.0631654680226174).on(cirq.GridQubit(0, 0)),\n",
            "        cirq.Ry(rads=0.0631654680226174).on(cirq.GridQubit(0, 1)),\n",
            "    ),\n",
            "]), cirq.Circuit([\n",
            "    cirq.Moment(\n",
            "        cirq.Ry(rads=4.836106158676361).on(cirq.GridQubit(0, 0)),\n",
            "        cirq.Ry(rads=4.836106158676361).on(cirq.GridQubit(0, 1)),\n",
            "    ),\n",
            "]), cirq.Circuit([\n",
            "    cirq.Moment(\n",
            "        cirq.Ry(rads=0.66718525762253).on(cirq.GridQubit(0, 0)),\n",
            "        cirq.Ry(rads=0.66718525762253).on(cirq.GridQubit(0, 1)),\n",
            "    ),\n",
            "]), cirq.Circuit([\n",
            "    cirq.Moment(\n",
            "        cirq.Ry(rads=9.095827413352529).on(cirq.GridQubit(0, 0)),\n",
            "        cirq.Ry(rads=9.095827413352529).on(cirq.GridQubit(0, 1)),\n",
            "    ),\n",
            "]), cirq.Circuit([\n",
            "    cirq.Moment(\n",
            "        cirq.Ry(rads=2.668741030490111).on(cirq.GridQubit(0, 0)),\n",
            "        cirq.Ry(rads=2.668741030490111).on(cirq.GridQubit(0, 1)),\n",
            "    ),\n",
            "])]\n",
            "32\n"
          ],
          "name": "stdout"
        }
      ]
    },
    {
      "cell_type": "code",
      "metadata": {
        "colab": {
          "base_uri": "https://localhost:8080/",
          "height": 138
        },
        "id": "joYfniguSo6D",
        "outputId": "c43ea439-0293-4acc-82e3-3510ce161bab"
      },
      "source": [
        "theta1 = sympy.Symbol('theta1')\n",
        "theta2 = sympy.Symbol('theta2')\n",
        "theta3 = sympy.Symbol('theta3')\n",
        "theta4 = sympy.Symbol('theta4')\n",
        "circuit = cirq.Circuit(\n",
        "    cirq.ry(theta1).on(q0),\n",
        "    cirq.ry(theta2).on(q1), cirq.CZ(q0, q1),\n",
        "    cirq.ry(theta3).on(q0),\n",
        "    cirq.ry(theta4).on(q1), cirq.CZ(q0, q1))\n",
        "SVGCircuit(circuit)"
      ],
      "execution_count": 12,
      "outputs": [
        {
          "output_type": "stream",
          "text": [
            "findfont: Font family ['Arial'] not found. Falling back to DejaVu Sans.\n"
          ],
          "name": "stderr"
        },
        {
          "output_type": "execute_result",
          "data": {
            "text/plain": [
              "<cirq.contrib.svg.svg.SVGCircuit at 0x7fec3008da50>"
            ],
            "image/svg+xml": "<svg xmlns=\"http://www.w3.org/2000/svg\" width=\"432.599921875\" height=\"100.0\"><line x1=\"34.7588671875\" x2=\"402.599921875\" y1=\"25.0\" y2=\"25.0\" stroke=\"#1967d2\" stroke-width=\"1\" /><line x1=\"34.7588671875\" x2=\"402.599921875\" y1=\"75.0\" y2=\"75.0\" stroke=\"#1967d2\" stroke-width=\"1\" /><line x1=\"201.058828125\" x2=\"201.058828125\" y1=\"25.0\" y2=\"75.0\" stroke=\"black\" stroke-width=\"3\" /><line x1=\"362.599921875\" x2=\"362.599921875\" y1=\"25.0\" y2=\"75.0\" stroke=\"black\" stroke-width=\"3\" /><rect x=\"10.0\" y=\"5.0\" width=\"49.517734375\" height=\"40\" stroke=\"black\" fill=\"white\" stroke-width=\"0\" /><text x=\"34.7588671875\" y=\"25.0\" dominant-baseline=\"middle\" text-anchor=\"middle\" font-size=\"14px\" font-family=\"Arial\">(0, 0): </text><rect x=\"10.0\" y=\"55.0\" width=\"49.517734375\" height=\"40\" stroke=\"black\" fill=\"white\" stroke-width=\"0\" /><text x=\"34.7588671875\" y=\"75.0\" dominant-baseline=\"middle\" text-anchor=\"middle\" font-size=\"14px\" font-family=\"Arial\">(0, 1): </text><rect x=\"79.517734375\" y=\"5.0\" width=\"81.54109375\" height=\"40\" stroke=\"black\" fill=\"white\" stroke-width=\"1\" /><text x=\"120.28828125000001\" y=\"25.0\" dominant-baseline=\"middle\" text-anchor=\"middle\" font-size=\"14px\" font-family=\"Arial\">Ry(theta1)</text><rect x=\"79.517734375\" y=\"55.0\" width=\"81.54109375\" height=\"40\" stroke=\"black\" fill=\"white\" stroke-width=\"1\" /><text x=\"120.28828125000001\" y=\"75.0\" dominant-baseline=\"middle\" text-anchor=\"middle\" font-size=\"14px\" font-family=\"Arial\">Ry(theta2)</text><circle cx=\"201.058828125\" cy=\"25.0\" r=\"10.0\" /><circle cx=\"201.058828125\" cy=\"75.0\" r=\"10.0\" /><rect x=\"241.05882812499996\" y=\"5.0\" width=\"81.54109375\" height=\"40\" stroke=\"black\" fill=\"white\" stroke-width=\"1\" /><text x=\"281.82937499999997\" y=\"25.0\" dominant-baseline=\"middle\" text-anchor=\"middle\" font-size=\"14px\" font-family=\"Arial\">Ry(theta3)</text><rect x=\"241.05882812499996\" y=\"55.0\" width=\"81.54109375\" height=\"40\" stroke=\"black\" fill=\"white\" stroke-width=\"1\" /><text x=\"281.82937499999997\" y=\"75.0\" dominant-baseline=\"middle\" text-anchor=\"middle\" font-size=\"14px\" font-family=\"Arial\">Ry(theta4)</text><circle cx=\"362.599921875\" cy=\"25.0\" r=\"10.0\" /><circle cx=\"362.599921875\" cy=\"75.0\" r=\"10.0\" /></svg>"
          },
          "metadata": {
            "tags": []
          },
          "execution_count": 12
        }
      ]
    },
    {
      "cell_type": "code",
      "metadata": {
        "colab": {
          "base_uri": "https://localhost:8080/"
        },
        "id": "335_l2DPS_CE",
        "outputId": "8675cdc5-1950-41d9-8443-7eb0d9179c4b"
      },
      "source": [
        "# 建立量子層和經典全連接層\n",
        "q_layer = tfq.layers.PQC(circuit, [cirq.Z(q0), cirq.Z(q1)])\n",
        "dense_layer = tf.keras.layers.Dense(1, activation=\"sigmoid\")\n",
        "# 使用Keras建立訓練流程。量子資料首先通過PQC，然後通過經典的全連接模型\n",
        "q_data_input = tf.keras.Input(shape=() ,dtype=tf.dtypes.string)\n",
        "expectation_output = q_layer(q_data_input)\n",
        "classifier_output = dense_layer(expectation_output)\n",
        "\n",
        "model = tf.keras.Model(inputs=q_data_input, outputs=classifier_output)\n",
        "print(model.summary())\n",
        "# 編譯模型，指定優化器、損失函數和評估指標，並進行訓練\n",
        "model.compile(\n",
        "    optimizer = \"adam\",\n",
        "    loss = \"mse\",\n",
        "    metrics=['accuracy','AUC']\n",
        ")"
      ],
      "execution_count": 13,
      "outputs": [
        {
          "output_type": "stream",
          "text": [
            "Model: \"model\"\n",
            "_________________________________________________________________\n",
            "Layer (type)                 Output Shape              Param #   \n",
            "=================================================================\n",
            "input_1 (InputLayer)         [(None,)]                 0         \n",
            "_________________________________________________________________\n",
            "pqc (PQC)                    (None, 2)                 4         \n",
            "_________________________________________________________________\n",
            "dense (Dense)                (None, 1)                 3         \n",
            "=================================================================\n",
            "Total params: 7\n",
            "Trainable params: 7\n",
            "Non-trainable params: 0\n",
            "_________________________________________________________________\n",
            "None\n"
          ],
          "name": "stdout"
        }
      ]
    },
    {
      "cell_type": "code",
      "metadata": {
        "colab": {
          "base_uri": "https://localhost:8080/"
        },
        "id": "ojTbMWXXTDrt",
        "outputId": "daca54cb-5add-445f-dee8-12bfde4ae58f"
      },
      "source": [
        "model.fit(x=x_train, y=y_train, epochs=100,validation_data=(x_val,y_val))\n",
        "\n",
        "# 輸出量子層參數（即theta）的訓練結果\n",
        "print(q_layer.get_weights())"
      ],
      "execution_count": 14,
      "outputs": [
        {
          "output_type": "stream",
          "text": [
            "Epoch 1/100\n",
            "1/1 [==============================] - 5s 5s/step - loss: 0.2527 - accuracy: 0.5312 - auc: 0.5734 - val_loss: 0.1505 - val_accuracy: 1.0000 - val_auc: 1.0000\n",
            "Epoch 2/100\n",
            "1/1 [==============================] - 0s 144ms/step - loss: 0.2526 - accuracy: 0.5312 - auc: 0.5734 - val_loss: 0.1506 - val_accuracy: 1.0000 - val_auc: 1.0000\n",
            "Epoch 3/100\n",
            "1/1 [==============================] - 0s 70ms/step - loss: 0.2525 - accuracy: 0.5312 - auc: 0.5734 - val_loss: 0.1508 - val_accuracy: 1.0000 - val_auc: 1.0000\n",
            "Epoch 4/100\n",
            "1/1 [==============================] - 0s 93ms/step - loss: 0.2524 - accuracy: 0.5312 - auc: 0.5734 - val_loss: 0.1509 - val_accuracy: 1.0000 - val_auc: 1.0000\n",
            "Epoch 5/100\n",
            "1/1 [==============================] - 0s 132ms/step - loss: 0.2523 - accuracy: 0.5312 - auc: 0.5714 - val_loss: 0.1511 - val_accuracy: 1.0000 - val_auc: 1.0000\n",
            "Epoch 6/100\n",
            "1/1 [==============================] - 0s 76ms/step - loss: 0.2522 - accuracy: 0.5312 - auc: 0.5714 - val_loss: 0.1512 - val_accuracy: 1.0000 - val_auc: 1.0000\n",
            "Epoch 7/100\n",
            "1/1 [==============================] - 0s 129ms/step - loss: 0.2521 - accuracy: 0.5312 - auc: 0.5714 - val_loss: 0.1514 - val_accuracy: 1.0000 - val_auc: 1.0000\n",
            "Epoch 8/100\n",
            "1/1 [==============================] - 0s 108ms/step - loss: 0.2520 - accuracy: 0.5312 - auc: 0.5714 - val_loss: 0.1516 - val_accuracy: 1.0000 - val_auc: 1.0000\n",
            "Epoch 9/100\n",
            "1/1 [==============================] - 0s 44ms/step - loss: 0.2519 - accuracy: 0.5312 - auc: 0.5754 - val_loss: 0.1517 - val_accuracy: 1.0000 - val_auc: 1.0000\n",
            "Epoch 10/100\n",
            "1/1 [==============================] - 0s 42ms/step - loss: 0.2518 - accuracy: 0.5312 - auc: 0.5754 - val_loss: 0.1519 - val_accuracy: 1.0000 - val_auc: 1.0000\n",
            "Epoch 11/100\n",
            "1/1 [==============================] - 0s 43ms/step - loss: 0.2517 - accuracy: 0.5312 - auc: 0.5754 - val_loss: 0.1521 - val_accuracy: 1.0000 - val_auc: 1.0000\n",
            "Epoch 12/100\n",
            "1/1 [==============================] - 0s 43ms/step - loss: 0.2517 - accuracy: 0.5312 - auc: 0.5754 - val_loss: 0.1523 - val_accuracy: 1.0000 - val_auc: 1.0000\n",
            "Epoch 13/100\n",
            "1/1 [==============================] - 0s 43ms/step - loss: 0.2516 - accuracy: 0.5312 - auc: 0.5754 - val_loss: 0.1525 - val_accuracy: 1.0000 - val_auc: 1.0000\n",
            "Epoch 14/100\n",
            "1/1 [==============================] - 0s 49ms/step - loss: 0.2515 - accuracy: 0.5312 - auc: 0.5754 - val_loss: 0.1527 - val_accuracy: 1.0000 - val_auc: 1.0000\n",
            "Epoch 15/100\n",
            "1/1 [==============================] - 0s 44ms/step - loss: 0.2514 - accuracy: 0.5312 - auc: 0.5734 - val_loss: 0.1529 - val_accuracy: 1.0000 - val_auc: 1.0000\n",
            "Epoch 16/100\n",
            "1/1 [==============================] - 0s 43ms/step - loss: 0.2513 - accuracy: 0.5312 - auc: 0.5734 - val_loss: 0.1532 - val_accuracy: 1.0000 - val_auc: 1.0000\n",
            "Epoch 17/100\n",
            "1/1 [==============================] - 0s 43ms/step - loss: 0.2512 - accuracy: 0.5312 - auc: 0.5734 - val_loss: 0.1534 - val_accuracy: 1.0000 - val_auc: 1.0000\n",
            "Epoch 18/100\n",
            "1/1 [==============================] - 0s 49ms/step - loss: 0.2511 - accuracy: 0.5312 - auc: 0.5714 - val_loss: 0.1537 - val_accuracy: 1.0000 - val_auc: 1.0000\n",
            "Epoch 19/100\n",
            "1/1 [==============================] - 0s 45ms/step - loss: 0.2511 - accuracy: 0.5312 - auc: 0.5694 - val_loss: 0.1539 - val_accuracy: 1.0000 - val_auc: 1.0000\n",
            "Epoch 20/100\n",
            "1/1 [==============================] - 0s 45ms/step - loss: 0.2510 - accuracy: 0.5312 - auc: 0.5675 - val_loss: 0.1542 - val_accuracy: 1.0000 - val_auc: 1.0000\n",
            "Epoch 21/100\n",
            "1/1 [==============================] - 0s 47ms/step - loss: 0.2509 - accuracy: 0.5312 - auc: 0.5714 - val_loss: 0.1545 - val_accuracy: 1.0000 - val_auc: 1.0000\n",
            "Epoch 22/100\n",
            "1/1 [==============================] - 0s 42ms/step - loss: 0.2508 - accuracy: 0.5312 - auc: 0.5714 - val_loss: 0.1547 - val_accuracy: 1.0000 - val_auc: 1.0000\n",
            "Epoch 23/100\n",
            "1/1 [==============================] - 0s 44ms/step - loss: 0.2507 - accuracy: 0.5312 - auc: 0.5714 - val_loss: 0.1550 - val_accuracy: 1.0000 - val_auc: 1.0000\n",
            "Epoch 24/100\n",
            "1/1 [==============================] - 0s 43ms/step - loss: 0.2506 - accuracy: 0.5312 - auc: 0.5714 - val_loss: 0.1553 - val_accuracy: 1.0000 - val_auc: 1.0000\n",
            "Epoch 25/100\n",
            "1/1 [==============================] - 0s 43ms/step - loss: 0.2506 - accuracy: 0.5312 - auc: 0.5694 - val_loss: 0.1556 - val_accuracy: 1.0000 - val_auc: 1.0000\n",
            "Epoch 26/100\n",
            "1/1 [==============================] - 0s 43ms/step - loss: 0.2505 - accuracy: 0.5312 - auc: 0.5694 - val_loss: 0.1559 - val_accuracy: 1.0000 - val_auc: 1.0000\n",
            "Epoch 27/100\n",
            "1/1 [==============================] - 0s 47ms/step - loss: 0.2504 - accuracy: 0.5312 - auc: 0.5675 - val_loss: 0.1562 - val_accuracy: 1.0000 - val_auc: 1.0000\n",
            "Epoch 28/100\n",
            "1/1 [==============================] - 0s 41ms/step - loss: 0.2503 - accuracy: 0.5312 - auc: 0.5675 - val_loss: 0.1565 - val_accuracy: 1.0000 - val_auc: 1.0000\n",
            "Epoch 29/100\n",
            "1/1 [==============================] - 0s 45ms/step - loss: 0.2502 - accuracy: 0.5312 - auc: 0.5675 - val_loss: 0.1568 - val_accuracy: 1.0000 - val_auc: 1.0000\n",
            "Epoch 30/100\n",
            "1/1 [==============================] - 0s 42ms/step - loss: 0.2502 - accuracy: 0.5312 - auc: 0.5714 - val_loss: 0.1571 - val_accuracy: 1.0000 - val_auc: 1.0000\n",
            "Epoch 31/100\n",
            "1/1 [==============================] - 0s 45ms/step - loss: 0.2501 - accuracy: 0.5312 - auc: 0.5694 - val_loss: 0.1575 - val_accuracy: 1.0000 - val_auc: 1.0000\n",
            "Epoch 32/100\n",
            "1/1 [==============================] - 0s 50ms/step - loss: 0.2500 - accuracy: 0.5312 - auc: 0.5694 - val_loss: 0.1578 - val_accuracy: 1.0000 - val_auc: 1.0000\n",
            "Epoch 33/100\n",
            "1/1 [==============================] - 0s 44ms/step - loss: 0.2499 - accuracy: 0.5312 - auc: 0.5694 - val_loss: 0.1581 - val_accuracy: 1.0000 - val_auc: 1.0000\n",
            "Epoch 34/100\n",
            "1/1 [==============================] - 0s 55ms/step - loss: 0.2498 - accuracy: 0.5312 - auc: 0.5694 - val_loss: 0.1584 - val_accuracy: 1.0000 - val_auc: 1.0000\n",
            "Epoch 35/100\n",
            "1/1 [==============================] - 0s 52ms/step - loss: 0.2498 - accuracy: 0.5312 - auc: 0.5694 - val_loss: 0.1587 - val_accuracy: 1.0000 - val_auc: 1.0000\n",
            "Epoch 36/100\n",
            "1/1 [==============================] - 0s 45ms/step - loss: 0.2497 - accuracy: 0.5312 - auc: 0.5655 - val_loss: 0.1590 - val_accuracy: 1.0000 - val_auc: 1.0000\n",
            "Epoch 37/100\n",
            "1/1 [==============================] - 0s 43ms/step - loss: 0.2496 - accuracy: 0.5312 - auc: 0.5694 - val_loss: 0.1594 - val_accuracy: 1.0000 - val_auc: 1.0000\n",
            "Epoch 38/100\n",
            "1/1 [==============================] - 0s 45ms/step - loss: 0.2495 - accuracy: 0.5312 - auc: 0.5714 - val_loss: 0.1597 - val_accuracy: 1.0000 - val_auc: 1.0000\n",
            "Epoch 39/100\n",
            "1/1 [==============================] - 0s 42ms/step - loss: 0.2495 - accuracy: 0.5312 - auc: 0.5694 - val_loss: 0.1600 - val_accuracy: 1.0000 - val_auc: 1.0000\n",
            "Epoch 40/100\n",
            "1/1 [==============================] - 0s 47ms/step - loss: 0.2494 - accuracy: 0.5312 - auc: 0.5694 - val_loss: 0.1603 - val_accuracy: 1.0000 - val_auc: 1.0000\n",
            "Epoch 41/100\n",
            "1/1 [==============================] - 0s 42ms/step - loss: 0.2493 - accuracy: 0.5312 - auc: 0.5694 - val_loss: 0.1606 - val_accuracy: 1.0000 - val_auc: 1.0000\n",
            "Epoch 42/100\n",
            "1/1 [==============================] - 0s 42ms/step - loss: 0.2492 - accuracy: 0.5312 - auc: 0.5694 - val_loss: 0.1610 - val_accuracy: 1.0000 - val_auc: 1.0000\n",
            "Epoch 43/100\n",
            "1/1 [==============================] - 0s 45ms/step - loss: 0.2492 - accuracy: 0.5312 - auc: 0.5694 - val_loss: 0.1613 - val_accuracy: 1.0000 - val_auc: 1.0000\n",
            "Epoch 44/100\n",
            "1/1 [==============================] - 0s 47ms/step - loss: 0.2491 - accuracy: 0.5312 - auc: 0.5655 - val_loss: 0.1616 - val_accuracy: 1.0000 - val_auc: 1.0000\n",
            "Epoch 45/100\n",
            "1/1 [==============================] - 0s 42ms/step - loss: 0.2490 - accuracy: 0.5312 - auc: 0.5694 - val_loss: 0.1619 - val_accuracy: 1.0000 - val_auc: 1.0000\n",
            "Epoch 46/100\n",
            "1/1 [==============================] - 0s 48ms/step - loss: 0.2490 - accuracy: 0.5312 - auc: 0.5694 - val_loss: 0.1622 - val_accuracy: 1.0000 - val_auc: 1.0000\n",
            "Epoch 47/100\n",
            "1/1 [==============================] - 0s 45ms/step - loss: 0.2489 - accuracy: 0.5312 - auc: 0.5694 - val_loss: 0.1625 - val_accuracy: 1.0000 - val_auc: 1.0000\n",
            "Epoch 48/100\n",
            "1/1 [==============================] - 0s 43ms/step - loss: 0.2488 - accuracy: 0.5312 - auc: 0.5694 - val_loss: 0.1629 - val_accuracy: 1.0000 - val_auc: 1.0000\n",
            "Epoch 49/100\n",
            "1/1 [==============================] - 0s 42ms/step - loss: 0.2487 - accuracy: 0.5312 - auc: 0.5694 - val_loss: 0.1632 - val_accuracy: 1.0000 - val_auc: 1.0000\n",
            "Epoch 50/100\n",
            "1/1 [==============================] - 0s 43ms/step - loss: 0.2487 - accuracy: 0.5312 - auc: 0.5694 - val_loss: 0.1635 - val_accuracy: 1.0000 - val_auc: 1.0000\n",
            "Epoch 51/100\n",
            "1/1 [==============================] - 0s 45ms/step - loss: 0.2486 - accuracy: 0.5312 - auc: 0.5694 - val_loss: 0.1638 - val_accuracy: 1.0000 - val_auc: 1.0000\n",
            "Epoch 52/100\n",
            "1/1 [==============================] - 0s 43ms/step - loss: 0.2485 - accuracy: 0.5312 - auc: 0.5694 - val_loss: 0.1641 - val_accuracy: 1.0000 - val_auc: 1.0000\n",
            "Epoch 53/100\n",
            "1/1 [==============================] - 0s 42ms/step - loss: 0.2485 - accuracy: 0.5312 - auc: 0.5734 - val_loss: 0.1644 - val_accuracy: 1.0000 - val_auc: 1.0000\n",
            "Epoch 54/100\n",
            "1/1 [==============================] - 0s 44ms/step - loss: 0.2484 - accuracy: 0.5312 - auc: 0.5734 - val_loss: 0.1647 - val_accuracy: 1.0000 - val_auc: 1.0000\n",
            "Epoch 55/100\n",
            "1/1 [==============================] - 0s 46ms/step - loss: 0.2483 - accuracy: 0.5312 - auc: 0.5734 - val_loss: 0.1651 - val_accuracy: 1.0000 - val_auc: 1.0000\n",
            "Epoch 56/100\n",
            "1/1 [==============================] - 0s 49ms/step - loss: 0.2483 - accuracy: 0.5312 - auc: 0.5734 - val_loss: 0.1654 - val_accuracy: 1.0000 - val_auc: 1.0000\n",
            "Epoch 57/100\n",
            "1/1 [==============================] - 0s 48ms/step - loss: 0.2482 - accuracy: 0.5312 - auc: 0.5734 - val_loss: 0.1657 - val_accuracy: 1.0000 - val_auc: 1.0000\n",
            "Epoch 58/100\n",
            "1/1 [==============================] - 0s 46ms/step - loss: 0.2481 - accuracy: 0.5312 - auc: 0.5734 - val_loss: 0.1660 - val_accuracy: 1.0000 - val_auc: 1.0000\n",
            "Epoch 59/100\n",
            "1/1 [==============================] - 0s 43ms/step - loss: 0.2481 - accuracy: 0.5312 - auc: 0.5734 - val_loss: 0.1663 - val_accuracy: 1.0000 - val_auc: 1.0000\n",
            "Epoch 60/100\n",
            "1/1 [==============================] - 0s 46ms/step - loss: 0.2480 - accuracy: 0.5312 - auc: 0.5694 - val_loss: 0.1666 - val_accuracy: 1.0000 - val_auc: 1.0000\n",
            "Epoch 61/100\n",
            "1/1 [==============================] - 0s 42ms/step - loss: 0.2479 - accuracy: 0.5312 - auc: 0.5714 - val_loss: 0.1669 - val_accuracy: 1.0000 - val_auc: 1.0000\n",
            "Epoch 62/100\n",
            "1/1 [==============================] - 0s 42ms/step - loss: 0.2479 - accuracy: 0.5312 - auc: 0.5714 - val_loss: 0.1672 - val_accuracy: 1.0000 - val_auc: 1.0000\n",
            "Epoch 63/100\n",
            "1/1 [==============================] - 0s 46ms/step - loss: 0.2478 - accuracy: 0.5312 - auc: 0.5714 - val_loss: 0.1675 - val_accuracy: 1.0000 - val_auc: 1.0000\n",
            "Epoch 64/100\n",
            "1/1 [==============================] - 0s 53ms/step - loss: 0.2477 - accuracy: 0.5312 - auc: 0.5694 - val_loss: 0.1678 - val_accuracy: 1.0000 - val_auc: 1.0000\n",
            "Epoch 65/100\n",
            "1/1 [==============================] - 0s 49ms/step - loss: 0.2477 - accuracy: 0.5312 - auc: 0.5675 - val_loss: 0.1681 - val_accuracy: 1.0000 - val_auc: 1.0000\n",
            "Epoch 66/100\n",
            "1/1 [==============================] - 0s 44ms/step - loss: 0.2476 - accuracy: 0.5312 - auc: 0.5694 - val_loss: 0.1684 - val_accuracy: 1.0000 - val_auc: 1.0000\n",
            "Epoch 67/100\n",
            "1/1 [==============================] - 0s 42ms/step - loss: 0.2476 - accuracy: 0.5312 - auc: 0.5714 - val_loss: 0.1687 - val_accuracy: 1.0000 - val_auc: 1.0000\n",
            "Epoch 68/100\n",
            "1/1 [==============================] - 0s 42ms/step - loss: 0.2475 - accuracy: 0.5312 - auc: 0.5714 - val_loss: 0.1690 - val_accuracy: 1.0000 - val_auc: 1.0000\n",
            "Epoch 69/100\n",
            "1/1 [==============================] - 0s 43ms/step - loss: 0.2474 - accuracy: 0.5312 - auc: 0.5714 - val_loss: 0.1693 - val_accuracy: 1.0000 - val_auc: 1.0000\n",
            "Epoch 70/100\n",
            "1/1 [==============================] - 0s 53ms/step - loss: 0.2474 - accuracy: 0.5312 - auc: 0.5714 - val_loss: 0.1696 - val_accuracy: 1.0000 - val_auc: 1.0000\n",
            "Epoch 71/100\n",
            "1/1 [==============================] - 0s 43ms/step - loss: 0.2473 - accuracy: 0.5312 - auc: 0.5714 - val_loss: 0.1699 - val_accuracy: 1.0000 - val_auc: 1.0000\n",
            "Epoch 72/100\n",
            "1/1 [==============================] - 0s 44ms/step - loss: 0.2473 - accuracy: 0.5312 - auc: 0.5714 - val_loss: 0.1702 - val_accuracy: 1.0000 - val_auc: 1.0000\n",
            "Epoch 73/100\n",
            "1/1 [==============================] - 0s 54ms/step - loss: 0.2472 - accuracy: 0.5312 - auc: 0.5714 - val_loss: 0.1705 - val_accuracy: 1.0000 - val_auc: 1.0000\n",
            "Epoch 74/100\n",
            "1/1 [==============================] - 0s 46ms/step - loss: 0.2471 - accuracy: 0.5312 - auc: 0.5714 - val_loss: 0.1708 - val_accuracy: 1.0000 - val_auc: 1.0000\n",
            "Epoch 75/100\n",
            "1/1 [==============================] - 0s 44ms/step - loss: 0.2471 - accuracy: 0.5312 - auc: 0.5714 - val_loss: 0.1711 - val_accuracy: 1.0000 - val_auc: 1.0000\n",
            "Epoch 76/100\n",
            "1/1 [==============================] - 0s 56ms/step - loss: 0.2470 - accuracy: 0.5312 - auc: 0.5734 - val_loss: 0.1714 - val_accuracy: 1.0000 - val_auc: 1.0000\n",
            "Epoch 77/100\n",
            "1/1 [==============================] - 0s 51ms/step - loss: 0.2470 - accuracy: 0.5312 - auc: 0.5774 - val_loss: 0.1717 - val_accuracy: 1.0000 - val_auc: 1.0000\n",
            "Epoch 78/100\n",
            "1/1 [==============================] - 0s 48ms/step - loss: 0.2469 - accuracy: 0.5312 - auc: 0.5714 - val_loss: 0.1719 - val_accuracy: 1.0000 - val_auc: 1.0000\n",
            "Epoch 79/100\n",
            "1/1 [==============================] - 0s 51ms/step - loss: 0.2469 - accuracy: 0.5312 - auc: 0.5714 - val_loss: 0.1722 - val_accuracy: 1.0000 - val_auc: 1.0000\n",
            "Epoch 80/100\n",
            "1/1 [==============================] - 0s 48ms/step - loss: 0.2468 - accuracy: 0.5312 - auc: 0.5714 - val_loss: 0.1725 - val_accuracy: 1.0000 - val_auc: 1.0000\n",
            "Epoch 81/100\n",
            "1/1 [==============================] - 0s 48ms/step - loss: 0.2468 - accuracy: 0.5312 - auc: 0.5714 - val_loss: 0.1728 - val_accuracy: 1.0000 - val_auc: 1.0000\n",
            "Epoch 82/100\n",
            "1/1 [==============================] - 0s 52ms/step - loss: 0.2467 - accuracy: 0.5312 - auc: 0.5714 - val_loss: 0.1731 - val_accuracy: 1.0000 - val_auc: 1.0000\n",
            "Epoch 83/100\n",
            "1/1 [==============================] - 0s 46ms/step - loss: 0.2466 - accuracy: 0.5312 - auc: 0.5714 - val_loss: 0.1734 - val_accuracy: 1.0000 - val_auc: 1.0000\n",
            "Epoch 84/100\n",
            "1/1 [==============================] - 0s 45ms/step - loss: 0.2466 - accuracy: 0.5312 - auc: 0.5694 - val_loss: 0.1737 - val_accuracy: 1.0000 - val_auc: 1.0000\n",
            "Epoch 85/100\n",
            "1/1 [==============================] - 0s 47ms/step - loss: 0.2465 - accuracy: 0.5312 - auc: 0.5694 - val_loss: 0.1739 - val_accuracy: 1.0000 - val_auc: 1.0000\n",
            "Epoch 86/100\n",
            "1/1 [==============================] - 0s 51ms/step - loss: 0.2465 - accuracy: 0.5312 - auc: 0.5734 - val_loss: 0.1742 - val_accuracy: 1.0000 - val_auc: 1.0000\n",
            "Epoch 87/100\n",
            "1/1 [==============================] - 0s 47ms/step - loss: 0.2464 - accuracy: 0.5312 - auc: 0.5734 - val_loss: 0.1745 - val_accuracy: 1.0000 - val_auc: 1.0000\n",
            "Epoch 88/100\n",
            "1/1 [==============================] - 0s 54ms/step - loss: 0.2464 - accuracy: 0.5312 - auc: 0.5694 - val_loss: 0.1748 - val_accuracy: 1.0000 - val_auc: 1.0000\n",
            "Epoch 89/100\n",
            "1/1 [==============================] - 0s 48ms/step - loss: 0.2463 - accuracy: 0.5312 - auc: 0.5694 - val_loss: 0.1750 - val_accuracy: 1.0000 - val_auc: 1.0000\n",
            "Epoch 90/100\n",
            "1/1 [==============================] - 0s 45ms/step - loss: 0.2463 - accuracy: 0.5312 - auc: 0.5694 - val_loss: 0.1753 - val_accuracy: 1.0000 - val_auc: 1.0000\n",
            "Epoch 91/100\n",
            "1/1 [==============================] - 0s 48ms/step - loss: 0.2462 - accuracy: 0.5312 - auc: 0.5694 - val_loss: 0.1756 - val_accuracy: 1.0000 - val_auc: 1.0000\n",
            "Epoch 92/100\n",
            "1/1 [==============================] - 0s 49ms/step - loss: 0.2462 - accuracy: 0.5312 - auc: 0.5675 - val_loss: 0.1759 - val_accuracy: 1.0000 - val_auc: 1.0000\n",
            "Epoch 93/100\n",
            "1/1 [==============================] - 0s 44ms/step - loss: 0.2461 - accuracy: 0.5312 - auc: 0.5655 - val_loss: 0.1761 - val_accuracy: 1.0000 - val_auc: 1.0000\n",
            "Epoch 94/100\n",
            "1/1 [==============================] - 0s 50ms/step - loss: 0.2461 - accuracy: 0.5312 - auc: 0.5655 - val_loss: 0.1764 - val_accuracy: 1.0000 - val_auc: 1.0000\n",
            "Epoch 95/100\n",
            "1/1 [==============================] - 0s 50ms/step - loss: 0.2460 - accuracy: 0.5312 - auc: 0.5655 - val_loss: 0.1767 - val_accuracy: 1.0000 - val_auc: 1.0000\n",
            "Epoch 96/100\n",
            "1/1 [==============================] - 0s 49ms/step - loss: 0.2460 - accuracy: 0.5312 - auc: 0.5675 - val_loss: 0.1770 - val_accuracy: 1.0000 - val_auc: 1.0000\n",
            "Epoch 97/100\n",
            "1/1 [==============================] - 0s 44ms/step - loss: 0.2459 - accuracy: 0.5312 - auc: 0.5694 - val_loss: 0.1772 - val_accuracy: 1.0000 - val_auc: 1.0000\n",
            "Epoch 98/100\n",
            "1/1 [==============================] - 0s 44ms/step - loss: 0.2459 - accuracy: 0.5312 - auc: 0.5655 - val_loss: 0.1775 - val_accuracy: 1.0000 - val_auc: 1.0000\n",
            "Epoch 99/100\n",
            "1/1 [==============================] - 0s 47ms/step - loss: 0.2458 - accuracy: 0.5312 - auc: 0.5635 - val_loss: 0.1778 - val_accuracy: 1.0000 - val_auc: 1.0000\n",
            "Epoch 100/100\n",
            "1/1 [==============================] - 0s 45ms/step - loss: 0.2458 - accuracy: 0.5312 - auc: 0.5655 - val_loss: 0.1780 - val_accuracy: 1.0000 - val_auc: 1.0000\n",
            "[array([1.7402207, 1.3900148, 3.4903636, 3.4343393], dtype=float32)]\n"
          ],
          "name": "stdout"
        }
      ]
    },
    {
      "cell_type": "code",
      "metadata": {
        "colab": {
          "base_uri": "https://localhost:8080/"
        },
        "id": "K73dtMJ2THGE",
        "outputId": "3cc0035c-aa3a-4fb8-bedc-c49a11734bd2"
      },
      "source": [
        "print(\"Evaluate on test data\")\n",
        "results = model.evaluate(x_test, y_test)\n",
        "print(\"test loss, test acc, test AUC:\", results)"
      ],
      "execution_count": 15,
      "outputs": [
        {
          "output_type": "stream",
          "text": [
            "Evaluate on test data\n",
            "1/1 [==============================] - 0s 19ms/step - loss: 0.2168 - accuracy: 0.7500 - auc: 1.0000\n",
            "test loss, test acc, test AUC: [0.21682271361351013, 0.75, 1.0]\n"
          ],
          "name": "stdout"
        }
      ]
    },
    {
      "cell_type": "code",
      "metadata": {
        "id": "Wb7yP50CTQN1",
        "colab": {
          "base_uri": "https://localhost:8080/"
        },
        "outputId": "2530192d-f372-4dde-8e1a-b17c87f5c5ed"
      },
      "source": [
        "grid = 30\n",
        "x_cor = 0\n",
        "y_cor = 6\n",
        "x_axis = np.linspace(x_cor,y_cor,grid)\n",
        "y_axis = np.linspace(x_cor,y_cor,grid)\n",
        "tmp = np.zeros((grid**2,3))\n",
        "count = 0\n",
        "for i in x_axis:\n",
        "  for j in y_axis:\n",
        "    z = (i-j)**2\n",
        "    label_z = int(model.predict(tfq.convert_to_tensor([cirq.Circuit(cirq.ry(z)(q0),cirq.ry(z)(q1))])) > 0.5)\n",
        "    tmp[count,:] = np.array([i,j,label_z])\n",
        "    count += 1\n",
        "    if count % 100 == 0:\n",
        "      print(count)"
      ],
      "execution_count": 16,
      "outputs": [
        {
          "output_type": "stream",
          "text": [
            "100\n",
            "200\n",
            "300\n",
            "400\n",
            "500\n",
            "600\n",
            "700\n",
            "800\n",
            "900\n"
          ],
          "name": "stdout"
        }
      ]
    },
    {
      "cell_type": "code",
      "metadata": {
        "colab": {
          "base_uri": "https://localhost:8080/",
          "height": 305
        },
        "id": "966IM-hxD23W",
        "outputId": "b767abcb-62df-40fb-a4f1-e2bd7d92d7d6"
      },
      "source": [
        "plt.figure(figsize = (10,5))\n",
        "plt.subplot(121)\n",
        "plt.scatter(data[data_label==0,0],data[data_label==0,1], marker='o')\n",
        "plt.scatter(data[data_label==1,0],data[data_label==1,1], marker='x')\n",
        "plt.gca().set_aspect('equal', adjustable='box')\n",
        "plt.xlim(x_cor, y_cor)\n",
        "plt.ylim(x_cor, y_cor)\n",
        "plt.subplot(122)\n",
        "plt.scatter(tmp[tmp[:,2]==0,0],tmp[tmp[:,2]==0,1], marker='o')\n",
        "plt.scatter(tmp[tmp[:,2]==1,0],tmp[tmp[:,2]==1,1], marker='x')\n",
        "plt.xlim(x_cor, y_cor)\n",
        "plt.ylim(x_cor, y_cor)\n",
        "plt.gca().set_aspect('equal', adjustable='box')"
      ],
      "execution_count": 17,
      "outputs": [
        {
          "output_type": "display_data",
          "data": {
            "image/png": "[encoded data removed]",
            "text/plain": [
              "<Figure size 720x360 with 2 Axes>"
            ]
          },
          "metadata": {
            "tags": [],
            "needs_background": "light"
          }
        }
      ]
    },
    {
      "cell_type": "code",
      "metadata": {
        "colab": {
          "base_uri": "https://localhost:8080/"
        },
        "id": "S1VFk2n_OOdy",
        "outputId": "b02d0d79-a962-4db0-a1e1-8ba5f07342aa"
      },
      "source": [
        "y_pred = (model.predict(x_test) > 0.5).astype(np.int)\n",
        "# print(y_pred)\n",
        "tf.math.confusion_matrix(y_pred,y_test)"
      ],
      "execution_count": 18,
      "outputs": [
        {
          "output_type": "execute_result",
          "data": {
            "text/plain": [
              "<tf.Tensor: shape=(2, 2), dtype=int32, numpy=\n",
              "array([[1, 1],\n",
              "       [0, 2]], dtype=int32)>"
            ]
          },
          "metadata": {
            "tags": []
          },
          "execution_count": 18
        }
      ]
    }
  ]
}